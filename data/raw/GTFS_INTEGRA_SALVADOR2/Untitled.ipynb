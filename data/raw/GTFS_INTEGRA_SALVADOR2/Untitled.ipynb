{
 "cells": [
  {
   "cell_type": "code",
   "execution_count": 1,
   "id": "065e8008-7da3-4692-bc89-67e30040eab2",
   "metadata": {},
   "outputs": [],
   "source": [
    "import pandas as pd"
   ]
  },
  {
   "cell_type": "code",
   "execution_count": 2,
   "id": "31559306-a582-4473-8f44-5d8ee4866445",
   "metadata": {},
   "outputs": [],
   "source": [
    "df = pd.read_csv('routes.txt')"
   ]
  },
  {
   "cell_type": "code",
   "execution_count": 3,
   "id": "95c066db-edb8-452d-8f67-3d4ed5f4c72b",
   "metadata": {},
   "outputs": [
    {
     "data": {
      "text/html": [
       "<div>\n",
       "<style scoped>\n",
       "    .dataframe tbody tr th:only-of-type {\n",
       "        vertical-align: middle;\n",
       "    }\n",
       "\n",
       "    .dataframe tbody tr th {\n",
       "        vertical-align: top;\n",
       "    }\n",
       "\n",
       "    .dataframe thead th {\n",
       "        text-align: right;\n",
       "    }\n",
       "</style>\n",
       "<table border=\"1\" class=\"dataframe\">\n",
       "  <thead>\n",
       "    <tr style=\"text-align: right;\">\n",
       "      <th></th>\n",
       "      <th>route_id</th>\n",
       "      <th>agency_id</th>\n",
       "      <th>route_short_name</th>\n",
       "      <th>route_long_name</th>\n",
       "      <th>route_desc</th>\n",
       "      <th>route_type</th>\n",
       "      <th>route_color</th>\n",
       "      <th>route_text_color</th>\n",
       "    </tr>\n",
       "  </thead>\n",
       "  <tbody>\n",
       "    <tr>\n",
       "      <th>0</th>\n",
       "      <td>4089</td>\n",
       "      <td>1</td>\n",
       "      <td>1230</td>\n",
       "      <td>Sussuarana x Barra R1.</td>\n",
       "      <td>NaN</td>\n",
       "      <td>3</td>\n",
       "      <td>NaN</td>\n",
       "      <td>NaN</td>\n",
       "    </tr>\n",
       "    <tr>\n",
       "      <th>1</th>\n",
       "      <td>4450</td>\n",
       "      <td>1</td>\n",
       "      <td>1321</td>\n",
       "      <td>São Marcos x Barroquinha</td>\n",
       "      <td>NaN</td>\n",
       "      <td>3</td>\n",
       "      <td>NaN</td>\n",
       "      <td>NaN</td>\n",
       "    </tr>\n",
       "    <tr>\n",
       "      <th>2</th>\n",
       "      <td>4518</td>\n",
       "      <td>1</td>\n",
       "      <td>1103</td>\n",
       "      <td>Alto do Cruzeiro/Pernambués x Shop.Bela Vista/...</td>\n",
       "      <td>NaN</td>\n",
       "      <td>3</td>\n",
       "      <td>NaN</td>\n",
       "      <td>NaN</td>\n",
       "    </tr>\n",
       "    <tr>\n",
       "      <th>3</th>\n",
       "      <td>4523</td>\n",
       "      <td>1</td>\n",
       "      <td>1405</td>\n",
       "      <td>Estação Pirajá x Cajazeiras 8</td>\n",
       "      <td>NaN</td>\n",
       "      <td>3</td>\n",
       "      <td>NaN</td>\n",
       "      <td>NaN</td>\n",
       "    </tr>\n",
       "    <tr>\n",
       "      <th>4</th>\n",
       "      <td>4524</td>\n",
       "      <td>1</td>\n",
       "      <td>1137</td>\n",
       "      <td>Pernambués x Barra</td>\n",
       "      <td>NaN</td>\n",
       "      <td>3</td>\n",
       "      <td>NaN</td>\n",
       "      <td>NaN</td>\n",
       "    </tr>\n",
       "  </tbody>\n",
       "</table>\n",
       "</div>"
      ],
      "text/plain": [
       "   route_id  agency_id route_short_name  \\\n",
       "0      4089          1             1230   \n",
       "1      4450          1             1321   \n",
       "2      4518          1             1103   \n",
       "3      4523          1             1405   \n",
       "4      4524          1             1137   \n",
       "\n",
       "                                     route_long_name  route_desc  route_type  \\\n",
       "0                             Sussuarana x Barra R1.         NaN           3   \n",
       "1                           São Marcos x Barroquinha         NaN           3   \n",
       "2  Alto do Cruzeiro/Pernambués x Shop.Bela Vista/...         NaN           3   \n",
       "3                      Estação Pirajá x Cajazeiras 8         NaN           3   \n",
       "4                                 Pernambués x Barra         NaN           3   \n",
       "\n",
       "   route_color  route_text_color  \n",
       "0          NaN               NaN  \n",
       "1          NaN               NaN  \n",
       "2          NaN               NaN  \n",
       "3          NaN               NaN  \n",
       "4          NaN               NaN  "
      ]
     },
     "execution_count": 3,
     "metadata": {},
     "output_type": "execute_result"
    }
   ],
   "source": [
    "df.head()"
   ]
  },
  {
   "cell_type": "code",
   "execution_count": 4,
   "id": "82f25513-4437-47ef-a999-d7327d2fc1e9",
   "metadata": {},
   "outputs": [
    {
     "data": {
      "text/plain": [
       "412"
      ]
     },
     "execution_count": 4,
     "metadata": {},
     "output_type": "execute_result"
    }
   ],
   "source": [
    "df.route_short_name.nunique()"
   ]
  },
  {
   "cell_type": "code",
   "execution_count": 5,
   "id": "95d4a526-9962-47bb-8e28-2a3432227a9a",
   "metadata": {},
   "outputs": [],
   "source": [
    "stops = pd.read_csv('stops.txt')"
   ]
  },
  {
   "cell_type": "code",
   "execution_count": 7,
   "id": "7870cdf8-6b69-4e29-93a5-e375660ec751",
   "metadata": {},
   "outputs": [
    {
     "data": {
      "text/html": [
       "<div>\n",
       "<style scoped>\n",
       "    .dataframe tbody tr th:only-of-type {\n",
       "        vertical-align: middle;\n",
       "    }\n",
       "\n",
       "    .dataframe tbody tr th {\n",
       "        vertical-align: top;\n",
       "    }\n",
       "\n",
       "    .dataframe thead th {\n",
       "        text-align: right;\n",
       "    }\n",
       "</style>\n",
       "<table border=\"1\" class=\"dataframe\">\n",
       "  <thead>\n",
       "    <tr style=\"text-align: right;\">\n",
       "      <th></th>\n",
       "      <th>stop_id</th>\n",
       "      <th>stop_name</th>\n",
       "      <th>stop_desc</th>\n",
       "      <th>stop_lat</th>\n",
       "      <th>stop_lon</th>\n",
       "      <th>zone_id</th>\n",
       "      <th>stop_url</th>\n",
       "      <th>location_type</th>\n",
       "      <th>parent_station</th>\n",
       "    </tr>\n",
       "  </thead>\n",
       "  <tbody>\n",
       "    <tr>\n",
       "      <th>0</th>\n",
       "      <td>43968810_S</td>\n",
       "      <td>R. São Cristóvão 2 - Sussuarana Salvador - BA ...</td>\n",
       "      <td>SUSSUARANA VELHA</td>\n",
       "      <td>-12.931565</td>\n",
       "      <td>-38.444393</td>\n",
       "      <td>NaN</td>\n",
       "      <td>NaN</td>\n",
       "      <td>1</td>\n",
       "      <td>NaN</td>\n",
       "    </tr>\n",
       "    <tr>\n",
       "      <th>1</th>\n",
       "      <td>43968810</td>\n",
       "      <td>R. São Cristóvão 2 - Sussuarana Salvador - BA ...</td>\n",
       "      <td>SUSSUARANA VELHA</td>\n",
       "      <td>-12.931565</td>\n",
       "      <td>-38.444393</td>\n",
       "      <td>NaN</td>\n",
       "      <td>NaN</td>\n",
       "      <td>0</td>\n",
       "      <td>43968810_S</td>\n",
       "    </tr>\n",
       "    <tr>\n",
       "      <th>2</th>\n",
       "      <td>47566106_S</td>\n",
       "      <td>Av. Ulysses Guimarães 4067 - Sussuarana Salvad...</td>\n",
       "      <td>NaN</td>\n",
       "      <td>-12.933859</td>\n",
       "      <td>-38.446774</td>\n",
       "      <td>NaN</td>\n",
       "      <td>NaN</td>\n",
       "      <td>1</td>\n",
       "      <td>NaN</td>\n",
       "    </tr>\n",
       "    <tr>\n",
       "      <th>3</th>\n",
       "      <td>47566106</td>\n",
       "      <td>Av. Ulysses Guimarães 4067 - Sussuarana Salvad...</td>\n",
       "      <td>NaN</td>\n",
       "      <td>-12.933859</td>\n",
       "      <td>-38.446774</td>\n",
       "      <td>NaN</td>\n",
       "      <td>NaN</td>\n",
       "      <td>0</td>\n",
       "      <td>47566106_S</td>\n",
       "    </tr>\n",
       "    <tr>\n",
       "      <th>4</th>\n",
       "      <td>44782337</td>\n",
       "      <td>Av. Ulysses Guimarães 4314-4322 - Novo Horizon...</td>\n",
       "      <td>NaN</td>\n",
       "      <td>-12.935150</td>\n",
       "      <td>-38.440578</td>\n",
       "      <td>NaN</td>\n",
       "      <td>NaN</td>\n",
       "      <td>0</td>\n",
       "      <td>NaN</td>\n",
       "    </tr>\n",
       "  </tbody>\n",
       "</table>\n",
       "</div>"
      ],
      "text/plain": [
       "      stop_id                                          stop_name  \\\n",
       "0  43968810_S  R. São Cristóvão 2 - Sussuarana Salvador - BA ...   \n",
       "1    43968810  R. São Cristóvão 2 - Sussuarana Salvador - BA ...   \n",
       "2  47566106_S  Av. Ulysses Guimarães 4067 - Sussuarana Salvad...   \n",
       "3    47566106  Av. Ulysses Guimarães 4067 - Sussuarana Salvad...   \n",
       "4    44782337  Av. Ulysses Guimarães 4314-4322 - Novo Horizon...   \n",
       "\n",
       "          stop_desc   stop_lat   stop_lon  zone_id  stop_url  location_type  \\\n",
       "0  SUSSUARANA VELHA -12.931565 -38.444393      NaN       NaN              1   \n",
       "1  SUSSUARANA VELHA -12.931565 -38.444393      NaN       NaN              0   \n",
       "2               NaN -12.933859 -38.446774      NaN       NaN              1   \n",
       "3               NaN -12.933859 -38.446774      NaN       NaN              0   \n",
       "4               NaN -12.935150 -38.440578      NaN       NaN              0   \n",
       "\n",
       "  parent_station  \n",
       "0            NaN  \n",
       "1     43968810_S  \n",
       "2            NaN  \n",
       "3     47566106_S  \n",
       "4            NaN  "
      ]
     },
     "execution_count": 7,
     "metadata": {},
     "output_type": "execute_result"
    }
   ],
   "source": [
    "stops.head()"
   ]
  },
  {
   "cell_type": "code",
   "execution_count": 8,
   "id": "10e4598c-5877-441b-98ab-4b4386d751cc",
   "metadata": {},
   "outputs": [
    {
     "data": {
      "text/plain": [
       "108"
      ]
     },
     "execution_count": 8,
     "metadata": {},
     "output_type": "execute_result"
    }
   ],
   "source": [
    "stops.parent_station.nunique()"
   ]
  },
  {
   "cell_type": "code",
   "execution_count": 24,
   "id": "dfedf054-5062-4161-84ba-dca2a9c300ef",
   "metadata": {},
   "outputs": [],
   "source": [
    "raw = pd.concat([pd.read_parquet('/mnt/data/sobe_desce/04_2024/2024-04-01/validador/uso-ottrans-ccr.parquet'),\n",
    "                 pd.read_parquet('/mnt/data/sobe_desce/04_2024/2024-04-01/validador/uso-plataforma-ccr.parquet')], ignore_index=True)"
   ]
  },
  {
   "cell_type": "code",
   "execution_count": 25,
   "id": "12f9c5ff-48d0-4d9d-91f0-9952e6862299",
   "metadata": {},
   "outputs": [
    {
     "data": {
      "text/plain": [
       "433397"
      ]
     },
     "execution_count": 25,
     "metadata": {},
     "output_type": "execute_result"
    }
   ],
   "source": [
    "raw.codcartao.nunique()"
   ]
  },
  {
   "cell_type": "code",
   "execution_count": 26,
   "id": "05a6e403-ea01-4e3e-925e-c118992eefa7",
   "metadata": {},
   "outputs": [],
   "source": [
    "\n",
    "raw_metro = pd.read_parquet('/mnt/data/sobe_desce/04_2024/2024-04-04/validador/uso-metro-ccr.parquet')"
   ]
  },
  {
   "cell_type": "code",
   "execution_count": 27,
   "id": "d9016ce5-8b7a-4a87-bbc4-0383071b23e4",
   "metadata": {},
   "outputs": [
    {
     "data": {
      "text/plain": [
       "226667"
      ]
     },
     "execution_count": 27,
     "metadata": {},
     "output_type": "execute_result"
    }
   ],
   "source": [
    "raw_metro.codcartao.nunique()"
   ]
  },
  {
   "cell_type": "code",
   "execution_count": 28,
   "id": "b263280c-77ce-45b5-88b4-f31de016afd1",
   "metadata": {},
   "outputs": [
    {
     "data": {
      "text/plain": [
       "(348737, 12)"
      ]
     },
     "execution_count": 28,
     "metadata": {},
     "output_type": "execute_result"
    }
   ],
   "source": [
    "raw_metro.shape"
   ]
  },
  {
   "cell_type": "code",
   "execution_count": 29,
   "id": "1846896f-ba5c-4548-9e0d-fb1cda3591c0",
   "metadata": {},
   "outputs": [],
   "source": [
    "raw_metro = pd.read_parquet('/mnt/data/sobe_desce/03_2024/2024-03-04/validador/uso-brt-ccr.parquet')"
   ]
  },
  {
   "cell_type": "code",
   "execution_count": 19,
   "id": "e306b1f8-5384-4f93-ac7d-d4dc61f51a64",
   "metadata": {},
   "outputs": [
    {
     "data": {
      "text/plain": [
       "32464"
      ]
     },
     "execution_count": 19,
     "metadata": {},
     "output_type": "execute_result"
    }
   ],
   "source": [
    "raw_metro.codcartao.nunique()"
   ]
  },
  {
   "cell_type": "code",
   "execution_count": 21,
   "id": "0ef30396-b02d-4f0b-b1bc-fe574ef08f1b",
   "metadata": {},
   "outputs": [
    {
     "data": {
      "text/plain": [
       "(50004, 12)"
      ]
     },
     "execution_count": 21,
     "metadata": {},
     "output_type": "execute_result"
    }
   ],
   "source": [
    "raw_metro.shape"
   ]
  },
  {
   "cell_type": "code",
   "execution_count": null,
   "id": "ce311051-cbf0-445d-be0a-3fca02854101",
   "metadata": {},
   "outputs": [],
   "source": []
  }
 ],
 "metadata": {
  "kernelspec": {
   "display_name": "Python 3 (ipykernel)",
   "language": "python",
   "name": "python3"
  },
  "language_info": {
   "codemirror_mode": {
    "name": "ipython",
    "version": 3
   },
   "file_extension": ".py",
   "mimetype": "text/x-python",
   "name": "python",
   "nbconvert_exporter": "python",
   "pygments_lexer": "ipython3",
   "version": "3.7.13"
  }
 },
 "nbformat": 4,
 "nbformat_minor": 5
}
