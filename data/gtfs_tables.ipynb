{
 "cells": [
  {
   "cell_type": "code",
   "execution_count": 2,
   "id": "fda309e9-4128-4b9a-ba66-b789f8f12be2",
   "metadata": {},
   "outputs": [],
   "source": [
    "import os\n",
    "import pandas as pd"
   ]
  },
  {
   "cell_type": "code",
   "execution_count": 3,
   "id": "312824d8-fc3d-463a-98c2-c9456c36a794",
   "metadata": {},
   "outputs": [],
   "source": [
    "pd.set_option('display.max_columns', None)"
   ]
  },
  {
   "cell_type": "code",
   "execution_count": 5,
   "id": "d97277b8-f8a9-4ddb-9bdc-d4fc7cb16171",
   "metadata": {},
   "outputs": [
    {
     "data": {
      "text/plain": [
       "['calendar_dates.txt',\n",
       " 'trips.txt',\n",
       " 'frequencies.txt',\n",
       " 'shapes.txt',\n",
       " 'feed_info.txt',\n",
       " 'stops.txt',\n",
       " 'fare_attributes.txt',\n",
       " 'calendar.txt',\n",
       " 'Untitled.ipynb',\n",
       " '.ipynb_checkpoints',\n",
       " 'fare_rules.txt',\n",
       " 'routes.txt',\n",
       " 'agency.txt',\n",
       " 'stop_times.txt']"
      ]
     },
     "execution_count": 5,
     "metadata": {},
     "output_type": "execute_result"
    }
   ],
   "source": [
    "inputp = 'raw/GTFS_INTEGRA_SALVADOR2/'\n",
    "files = os.listdir(inputp)\n",
    "files"
   ]
  },
  {
   "cell_type": "code",
   "execution_count": 10,
   "id": "3ff6987d-7801-4065-8445-dfe18dca5305",
   "metadata": {},
   "outputs": [
    {
     "data": {
      "text/html": [
       "<div>\n",
       "<style scoped>\n",
       "    .dataframe tbody tr th:only-of-type {\n",
       "        vertical-align: middle;\n",
       "    }\n",
       "\n",
       "    .dataframe tbody tr th {\n",
       "        vertical-align: top;\n",
       "    }\n",
       "\n",
       "    .dataframe thead th {\n",
       "        text-align: right;\n",
       "    }\n",
       "</style>\n",
       "<table border=\"1\" class=\"dataframe\">\n",
       "  <thead>\n",
       "    <tr style=\"text-align: right;\">\n",
       "      <th></th>\n",
       "      <th>agency_id</th>\n",
       "      <th>agency_name</th>\n",
       "      <th>agency_url</th>\n",
       "      <th>agency_timezone</th>\n",
       "      <th>agency_lang</th>\n",
       "      <th>agency_phone</th>\n",
       "    </tr>\n",
       "  </thead>\n",
       "  <tbody>\n",
       "    <tr>\n",
       "      <th>0</th>\n",
       "      <td>1</td>\n",
       "      <td>company_I</td>\n",
       "      <td>www.</td>\n",
       "      <td>America/Sao_Paulo</td>\n",
       "      <td>pt</td>\n",
       "      <td>NaN</td>\n",
       "    </tr>\n",
       "    <tr>\n",
       "      <th>1</th>\n",
       "      <td>2</td>\n",
       "      <td>company_II</td>\n",
       "      <td>www.</td>\n",
       "      <td>America/Sao_Paulo</td>\n",
       "      <td>pt</td>\n",
       "      <td>NaN</td>\n",
       "    </tr>\n",
       "  </tbody>\n",
       "</table>\n",
       "</div>"
      ],
      "text/plain": [
       "   agency_id agency_name agency_url    agency_timezone agency_lang  \\\n",
       "0          1   company_I       www.  America/Sao_Paulo          pt   \n",
       "1          2  company_II       www.  America/Sao_Paulo          pt   \n",
       "\n",
       "   agency_phone  \n",
       "0           NaN  \n",
       "1           NaN  "
      ]
     },
     "execution_count": 10,
     "metadata": {},
     "output_type": "execute_result"
    }
   ],
   "source": [
    "agency = pd.read_csv(f'{inputp}agency.txt')\n",
    "agency['agency_name'] = ['company_I', 'company_II']\n",
    "agency['agency_url'] = ['www.', 'www.']\n",
    "agency.head()"
   ]
  },
  {
   "cell_type": "code",
   "execution_count": 11,
   "id": "1a58ab2f-0e60-4c73-9b03-0d1e0debbb5e",
   "metadata": {},
   "outputs": [],
   "source": [
    "agency.to_csv('agenci.csv')"
   ]
  },
  {
   "cell_type": "code",
   "execution_count": 12,
   "id": "d2d06f24-e3d7-4ecb-bf51-55aa574d1721",
   "metadata": {},
   "outputs": [
    {
     "data": {
      "text/html": [
       "<div>\n",
       "<style scoped>\n",
       "    .dataframe tbody tr th:only-of-type {\n",
       "        vertical-align: middle;\n",
       "    }\n",
       "\n",
       "    .dataframe tbody tr th {\n",
       "        vertical-align: top;\n",
       "    }\n",
       "\n",
       "    .dataframe thead th {\n",
       "        text-align: right;\n",
       "    }\n",
       "</style>\n",
       "<table border=\"1\" class=\"dataframe\">\n",
       "  <thead>\n",
       "    <tr style=\"text-align: right;\">\n",
       "      <th></th>\n",
       "      <th>route_id</th>\n",
       "      <th>agency_id</th>\n",
       "      <th>route_short_name</th>\n",
       "      <th>route_long_name</th>\n",
       "      <th>route_desc</th>\n",
       "      <th>route_type</th>\n",
       "      <th>route_color</th>\n",
       "      <th>route_text_color</th>\n",
       "    </tr>\n",
       "  </thead>\n",
       "  <tbody>\n",
       "    <tr>\n",
       "      <th>0</th>\n",
       "      <td>4089</td>\n",
       "      <td>1</td>\n",
       "      <td>1230</td>\n",
       "      <td>Sussuarana x Barra R1.</td>\n",
       "      <td>NaN</td>\n",
       "      <td>3</td>\n",
       "      <td>NaN</td>\n",
       "      <td>NaN</td>\n",
       "    </tr>\n",
       "    <tr>\n",
       "      <th>1</th>\n",
       "      <td>4450</td>\n",
       "      <td>1</td>\n",
       "      <td>1321</td>\n",
       "      <td>São Marcos x Barroquinha</td>\n",
       "      <td>NaN</td>\n",
       "      <td>3</td>\n",
       "      <td>NaN</td>\n",
       "      <td>NaN</td>\n",
       "    </tr>\n",
       "    <tr>\n",
       "      <th>2</th>\n",
       "      <td>4518</td>\n",
       "      <td>1</td>\n",
       "      <td>1103</td>\n",
       "      <td>Alto do Cruzeiro/Pernambués x Shop.Bela Vista/...</td>\n",
       "      <td>NaN</td>\n",
       "      <td>3</td>\n",
       "      <td>NaN</td>\n",
       "      <td>NaN</td>\n",
       "    </tr>\n",
       "    <tr>\n",
       "      <th>3</th>\n",
       "      <td>4523</td>\n",
       "      <td>1</td>\n",
       "      <td>1405</td>\n",
       "      <td>Estação Pirajá x Cajazeiras 8</td>\n",
       "      <td>NaN</td>\n",
       "      <td>3</td>\n",
       "      <td>NaN</td>\n",
       "      <td>NaN</td>\n",
       "    </tr>\n",
       "    <tr>\n",
       "      <th>4</th>\n",
       "      <td>4524</td>\n",
       "      <td>1</td>\n",
       "      <td>1137</td>\n",
       "      <td>Pernambués x Barra</td>\n",
       "      <td>NaN</td>\n",
       "      <td>3</td>\n",
       "      <td>NaN</td>\n",
       "      <td>NaN</td>\n",
       "    </tr>\n",
       "  </tbody>\n",
       "</table>\n",
       "</div>"
      ],
      "text/plain": [
       "   route_id  agency_id route_short_name  \\\n",
       "0      4089          1             1230   \n",
       "1      4450          1             1321   \n",
       "2      4518          1             1103   \n",
       "3      4523          1             1405   \n",
       "4      4524          1             1137   \n",
       "\n",
       "                                     route_long_name  route_desc  route_type  \\\n",
       "0                             Sussuarana x Barra R1.         NaN           3   \n",
       "1                           São Marcos x Barroquinha         NaN           3   \n",
       "2  Alto do Cruzeiro/Pernambués x Shop.Bela Vista/...         NaN           3   \n",
       "3                      Estação Pirajá x Cajazeiras 8         NaN           3   \n",
       "4                                 Pernambués x Barra         NaN           3   \n",
       "\n",
       "   route_color  route_text_color  \n",
       "0          NaN               NaN  \n",
       "1          NaN               NaN  \n",
       "2          NaN               NaN  \n",
       "3          NaN               NaN  \n",
       "4          NaN               NaN  "
      ]
     },
     "execution_count": 12,
     "metadata": {},
     "output_type": "execute_result"
    }
   ],
   "source": [
    "routes = pd.read_csv(f'{inputp}routes.txt')\n",
    "routes.head()"
   ]
  },
  {
   "cell_type": "code",
   "execution_count": 35,
   "id": "58ddc488-103b-49c6-844e-f83de6de0e24",
   "metadata": {},
   "outputs": [
    {
     "data": {
      "text/plain": [
       "(412, 8)"
      ]
     },
     "execution_count": 35,
     "metadata": {},
     "output_type": "execute_result"
    }
   ],
   "source": [
    "routes.shape"
   ]
  },
  {
   "cell_type": "code",
   "execution_count": 14,
   "id": "493e9fe7-72c9-4a12-b5a8-58d761f22e3e",
   "metadata": {},
   "outputs": [
    {
     "name": "stdout",
     "output_type": "stream",
     "text": [
      "<class 'pandas.core.frame.DataFrame'>\n",
      "RangeIndex: 412 entries, 0 to 411\n",
      "Data columns (total 8 columns):\n",
      " #   Column            Non-Null Count  Dtype  \n",
      "---  ------            --------------  -----  \n",
      " 0   route_id          412 non-null    int64  \n",
      " 1   agency_id         412 non-null    int64  \n",
      " 2   route_short_name  412 non-null    object \n",
      " 3   route_long_name   412 non-null    object \n",
      " 4   route_desc        0 non-null      float64\n",
      " 5   route_type        412 non-null    int64  \n",
      " 6   route_color       0 non-null      float64\n",
      " 7   route_text_color  0 non-null      float64\n",
      "dtypes: float64(3), int64(3), object(2)\n",
      "memory usage: 25.9+ KB\n"
     ]
    }
   ],
   "source": [
    "routes.info()"
   ]
  },
  {
   "cell_type": "code",
   "execution_count": 16,
   "id": "f0ab09c0-17a0-4f97-b9ba-bb3f3bd2dcb0",
   "metadata": {},
   "outputs": [],
   "source": [
    "cols = ['route_id', 'agency_id', 'route_short_name', 'route_long_name',\n",
    "        'route_type']"
   ]
  },
  {
   "cell_type": "code",
   "execution_count": 17,
   "id": "836f72c6-10ec-4c9d-916c-e6ead9b55c47",
   "metadata": {},
   "outputs": [],
   "source": [
    "routes[cols][:5].to_csv('route.csv', index=False)"
   ]
  },
  {
   "cell_type": "markdown",
   "id": "c69e76e0-7aab-448e-a39b-d9a8f6ef6969",
   "metadata": {},
   "source": [
    "## Trips"
   ]
  },
  {
   "cell_type": "code",
   "execution_count": 18,
   "id": "82ea586e-1153-44ef-a728-f9431e712a08",
   "metadata": {},
   "outputs": [
    {
     "data": {
      "text/html": [
       "<div>\n",
       "<style scoped>\n",
       "    .dataframe tbody tr th:only-of-type {\n",
       "        vertical-align: middle;\n",
       "    }\n",
       "\n",
       "    .dataframe tbody tr th {\n",
       "        vertical-align: top;\n",
       "    }\n",
       "\n",
       "    .dataframe thead th {\n",
       "        text-align: right;\n",
       "    }\n",
       "</style>\n",
       "<table border=\"1\" class=\"dataframe\">\n",
       "  <thead>\n",
       "    <tr style=\"text-align: right;\">\n",
       "      <th></th>\n",
       "      <th>route_id</th>\n",
       "      <th>service_id</th>\n",
       "      <th>trip_id</th>\n",
       "      <th>trip_headsign</th>\n",
       "      <th>direction_id</th>\n",
       "      <th>block_id</th>\n",
       "      <th>shape_id</th>\n",
       "    </tr>\n",
       "  </thead>\n",
       "  <tbody>\n",
       "    <tr>\n",
       "      <th>0</th>\n",
       "      <td>4089</td>\n",
       "      <td>26082_D_1046761</td>\n",
       "      <td>1046761_D_1_0</td>\n",
       "      <td>*SUSSUARANA X BARRA R1 VIA COMÉRCIO/C.GRANDE</td>\n",
       "      <td>0</td>\n",
       "      <td>4089_001M</td>\n",
       "      <td>26082_I</td>\n",
       "    </tr>\n",
       "    <tr>\n",
       "      <th>1</th>\n",
       "      <td>4089</td>\n",
       "      <td>26082_D_1046761</td>\n",
       "      <td>1046761_D_1_1</td>\n",
       "      <td>*BARRA R1 X SUSSUARANA VIA GARIBALDI/ITAIGARA</td>\n",
       "      <td>1</td>\n",
       "      <td>4089_001M</td>\n",
       "      <td>26082_V</td>\n",
       "    </tr>\n",
       "    <tr>\n",
       "      <th>2</th>\n",
       "      <td>4089</td>\n",
       "      <td>26082_D_1046761</td>\n",
       "      <td>1046761_D_2_0</td>\n",
       "      <td>*SUSSUARANA X BARRA R1 VIA COMÉRCIO/C.GRANDE</td>\n",
       "      <td>0</td>\n",
       "      <td>4089_002M</td>\n",
       "      <td>26082_I</td>\n",
       "    </tr>\n",
       "    <tr>\n",
       "      <th>3</th>\n",
       "      <td>4089</td>\n",
       "      <td>26082_D_1046761</td>\n",
       "      <td>1046761_D_2_1</td>\n",
       "      <td>*BARRA R1 X SUSSUARANA VIA GARIBALDI/ITAIGARA</td>\n",
       "      <td>1</td>\n",
       "      <td>4089_002M</td>\n",
       "      <td>26082_V</td>\n",
       "    </tr>\n",
       "    <tr>\n",
       "      <th>4</th>\n",
       "      <td>4089</td>\n",
       "      <td>26082_D_1046761</td>\n",
       "      <td>1046761_D_3_0</td>\n",
       "      <td>*SUSSUARANA X BARRA R1 VIA COMÉRCIO/C.GRANDE</td>\n",
       "      <td>0</td>\n",
       "      <td>4089_002T</td>\n",
       "      <td>26082_I</td>\n",
       "    </tr>\n",
       "  </tbody>\n",
       "</table>\n",
       "</div>"
      ],
      "text/plain": [
       "   route_id       service_id        trip_id  \\\n",
       "0      4089  26082_D_1046761  1046761_D_1_0   \n",
       "1      4089  26082_D_1046761  1046761_D_1_1   \n",
       "2      4089  26082_D_1046761  1046761_D_2_0   \n",
       "3      4089  26082_D_1046761  1046761_D_2_1   \n",
       "4      4089  26082_D_1046761  1046761_D_3_0   \n",
       "\n",
       "                                   trip_headsign  direction_id   block_id  \\\n",
       "0   *SUSSUARANA X BARRA R1 VIA COMÉRCIO/C.GRANDE             0  4089_001M   \n",
       "1  *BARRA R1 X SUSSUARANA VIA GARIBALDI/ITAIGARA             1  4089_001M   \n",
       "2   *SUSSUARANA X BARRA R1 VIA COMÉRCIO/C.GRANDE             0  4089_002M   \n",
       "3  *BARRA R1 X SUSSUARANA VIA GARIBALDI/ITAIGARA             1  4089_002M   \n",
       "4   *SUSSUARANA X BARRA R1 VIA COMÉRCIO/C.GRANDE             0  4089_002T   \n",
       "\n",
       "  shape_id  \n",
       "0  26082_I  \n",
       "1  26082_V  \n",
       "2  26082_I  \n",
       "3  26082_V  \n",
       "4  26082_I  "
      ]
     },
     "execution_count": 18,
     "metadata": {},
     "output_type": "execute_result"
    }
   ],
   "source": [
    "trips = pd.read_csv(f'{inputp}trips.txt')\n",
    "trips.head()"
   ]
  },
  {
   "cell_type": "code",
   "execution_count": 36,
   "id": "75aab14e-820b-45ae-9f45-f2e517cf787b",
   "metadata": {},
   "outputs": [
    {
     "data": {
      "text/plain": [
       "(51615, 7)"
      ]
     },
     "execution_count": 36,
     "metadata": {},
     "output_type": "execute_result"
    }
   ],
   "source": [
    "trips.shape"
   ]
  },
  {
   "cell_type": "code",
   "execution_count": 20,
   "id": "e7917331-8703-48a7-bbb3-556dba76303c",
   "metadata": {},
   "outputs": [],
   "source": [
    "cols = ['route_id', 'service_id', 'trip_id', 'direction_id', 'block_id', 'shape_id']"
   ]
  },
  {
   "cell_type": "code",
   "execution_count": 21,
   "id": "c6c321fc-d374-49e0-ab55-27281a796ab4",
   "metadata": {},
   "outputs": [],
   "source": [
    "trips[cols][:5].to_csv('trips.csv', index=False)"
   ]
  },
  {
   "cell_type": "markdown",
   "id": "0dd33a3d-b3f8-40e9-a191-4efe64074d86",
   "metadata": {},
   "source": [
    "# Stops"
   ]
  },
  {
   "cell_type": "code",
   "execution_count": 22,
   "id": "0b16cf2e-5ce9-4c90-9cd2-efb8ccc2a3bf",
   "metadata": {},
   "outputs": [
    {
     "data": {
      "text/html": [
       "<div>\n",
       "<style scoped>\n",
       "    .dataframe tbody tr th:only-of-type {\n",
       "        vertical-align: middle;\n",
       "    }\n",
       "\n",
       "    .dataframe tbody tr th {\n",
       "        vertical-align: top;\n",
       "    }\n",
       "\n",
       "    .dataframe thead th {\n",
       "        text-align: right;\n",
       "    }\n",
       "</style>\n",
       "<table border=\"1\" class=\"dataframe\">\n",
       "  <thead>\n",
       "    <tr style=\"text-align: right;\">\n",
       "      <th></th>\n",
       "      <th>stop_id</th>\n",
       "      <th>stop_name</th>\n",
       "      <th>stop_desc</th>\n",
       "      <th>stop_lat</th>\n",
       "      <th>stop_lon</th>\n",
       "      <th>zone_id</th>\n",
       "      <th>stop_url</th>\n",
       "      <th>location_type</th>\n",
       "      <th>parent_station</th>\n",
       "    </tr>\n",
       "  </thead>\n",
       "  <tbody>\n",
       "    <tr>\n",
       "      <th>0</th>\n",
       "      <td>43968810_S</td>\n",
       "      <td>R. São Cristóvão 2 - Sussuarana Salvador - BA ...</td>\n",
       "      <td>SUSSUARANA VELHA</td>\n",
       "      <td>-12.931565</td>\n",
       "      <td>-38.444393</td>\n",
       "      <td>NaN</td>\n",
       "      <td>NaN</td>\n",
       "      <td>1</td>\n",
       "      <td>NaN</td>\n",
       "    </tr>\n",
       "    <tr>\n",
       "      <th>1</th>\n",
       "      <td>43968810</td>\n",
       "      <td>R. São Cristóvão 2 - Sussuarana Salvador - BA ...</td>\n",
       "      <td>SUSSUARANA VELHA</td>\n",
       "      <td>-12.931565</td>\n",
       "      <td>-38.444393</td>\n",
       "      <td>NaN</td>\n",
       "      <td>NaN</td>\n",
       "      <td>0</td>\n",
       "      <td>43968810_S</td>\n",
       "    </tr>\n",
       "    <tr>\n",
       "      <th>2</th>\n",
       "      <td>47566106_S</td>\n",
       "      <td>Av. Ulysses Guimarães 4067 - Sussuarana Salvad...</td>\n",
       "      <td>NaN</td>\n",
       "      <td>-12.933859</td>\n",
       "      <td>-38.446774</td>\n",
       "      <td>NaN</td>\n",
       "      <td>NaN</td>\n",
       "      <td>1</td>\n",
       "      <td>NaN</td>\n",
       "    </tr>\n",
       "    <tr>\n",
       "      <th>3</th>\n",
       "      <td>47566106</td>\n",
       "      <td>Av. Ulysses Guimarães 4067 - Sussuarana Salvad...</td>\n",
       "      <td>NaN</td>\n",
       "      <td>-12.933859</td>\n",
       "      <td>-38.446774</td>\n",
       "      <td>NaN</td>\n",
       "      <td>NaN</td>\n",
       "      <td>0</td>\n",
       "      <td>47566106_S</td>\n",
       "    </tr>\n",
       "    <tr>\n",
       "      <th>4</th>\n",
       "      <td>44782337</td>\n",
       "      <td>Av. Ulysses Guimarães 4314-4322 - Novo Horizon...</td>\n",
       "      <td>NaN</td>\n",
       "      <td>-12.935150</td>\n",
       "      <td>-38.440578</td>\n",
       "      <td>NaN</td>\n",
       "      <td>NaN</td>\n",
       "      <td>0</td>\n",
       "      <td>NaN</td>\n",
       "    </tr>\n",
       "  </tbody>\n",
       "</table>\n",
       "</div>"
      ],
      "text/plain": [
       "      stop_id                                          stop_name  \\\n",
       "0  43968810_S  R. São Cristóvão 2 - Sussuarana Salvador - BA ...   \n",
       "1    43968810  R. São Cristóvão 2 - Sussuarana Salvador - BA ...   \n",
       "2  47566106_S  Av. Ulysses Guimarães 4067 - Sussuarana Salvad...   \n",
       "3    47566106  Av. Ulysses Guimarães 4067 - Sussuarana Salvad...   \n",
       "4    44782337  Av. Ulysses Guimarães 4314-4322 - Novo Horizon...   \n",
       "\n",
       "          stop_desc   stop_lat   stop_lon  zone_id  stop_url  location_type  \\\n",
       "0  SUSSUARANA VELHA -12.931565 -38.444393      NaN       NaN              1   \n",
       "1  SUSSUARANA VELHA -12.931565 -38.444393      NaN       NaN              0   \n",
       "2               NaN -12.933859 -38.446774      NaN       NaN              1   \n",
       "3               NaN -12.933859 -38.446774      NaN       NaN              0   \n",
       "4               NaN -12.935150 -38.440578      NaN       NaN              0   \n",
       "\n",
       "  parent_station  \n",
       "0            NaN  \n",
       "1     43968810_S  \n",
       "2            NaN  \n",
       "3     47566106_S  \n",
       "4            NaN  "
      ]
     },
     "execution_count": 22,
     "metadata": {},
     "output_type": "execute_result"
    }
   ],
   "source": [
    "stops = pd.read_csv(f'{inputp}stops.txt')\n",
    "stops.head()"
   ]
  },
  {
   "cell_type": "code",
   "execution_count": 37,
   "id": "1316bb91-2a8b-42ea-8f15-90ccf0991cd5",
   "metadata": {},
   "outputs": [
    {
     "data": {
      "text/plain": [
       "(2975, 9)"
      ]
     },
     "execution_count": 37,
     "metadata": {},
     "output_type": "execute_result"
    }
   ],
   "source": [
    "stops.shape"
   ]
  },
  {
   "cell_type": "code",
   "execution_count": 24,
   "id": "e4cd32e6-2399-4d37-aa9e-ae2127035487",
   "metadata": {},
   "outputs": [],
   "source": [
    "cols = ['stop_id', 'stop_name',  'stop_lat', 'stop_lon', 'location_type', 'parent_station']"
   ]
  },
  {
   "cell_type": "code",
   "execution_count": 25,
   "id": "da7b5c32-ea4a-4a72-acf9-1476649f1378",
   "metadata": {},
   "outputs": [],
   "source": [
    "stops[cols][:5].to_csv('stops.csv', index=False)"
   ]
  },
  {
   "cell_type": "code",
   "execution_count": 31,
   "id": "f42e38ce-513b-4da6-8a66-1382b0d9ea09",
   "metadata": {},
   "outputs": [
    {
     "data": {
      "text/html": [
       "<div>\n",
       "<style scoped>\n",
       "    .dataframe tbody tr th:only-of-type {\n",
       "        vertical-align: middle;\n",
       "    }\n",
       "\n",
       "    .dataframe tbody tr th {\n",
       "        vertical-align: top;\n",
       "    }\n",
       "\n",
       "    .dataframe thead th {\n",
       "        text-align: right;\n",
       "    }\n",
       "</style>\n",
       "<table border=\"1\" class=\"dataframe\">\n",
       "  <thead>\n",
       "    <tr style=\"text-align: right;\">\n",
       "      <th></th>\n",
       "      <th>trip_id</th>\n",
       "      <th>arrival_time</th>\n",
       "      <th>departure_time</th>\n",
       "      <th>stop_id</th>\n",
       "      <th>stop_sequence</th>\n",
       "      <th>stop_headsign</th>\n",
       "      <th>pickup_type</th>\n",
       "      <th>drop_off_type</th>\n",
       "    </tr>\n",
       "  </thead>\n",
       "  <tbody>\n",
       "    <tr>\n",
       "      <th>0</th>\n",
       "      <td>1046761_D_1_0</td>\n",
       "      <td>08:30:00</td>\n",
       "      <td>08:30:00</td>\n",
       "      <td>43968810</td>\n",
       "      <td>1</td>\n",
       "      <td>NaN</td>\n",
       "      <td>0</td>\n",
       "      <td>0</td>\n",
       "    </tr>\n",
       "    <tr>\n",
       "      <th>1</th>\n",
       "      <td>1046761_D_1_0</td>\n",
       "      <td>08:31:41</td>\n",
       "      <td>08:31:41</td>\n",
       "      <td>47566106</td>\n",
       "      <td>2</td>\n",
       "      <td>NaN</td>\n",
       "      <td>0</td>\n",
       "      <td>0</td>\n",
       "    </tr>\n",
       "    <tr>\n",
       "      <th>2</th>\n",
       "      <td>1046761_D_1_0</td>\n",
       "      <td>08:33:49</td>\n",
       "      <td>08:33:49</td>\n",
       "      <td>44782337</td>\n",
       "      <td>3</td>\n",
       "      <td>NaN</td>\n",
       "      <td>0</td>\n",
       "      <td>0</td>\n",
       "    </tr>\n",
       "    <tr>\n",
       "      <th>3</th>\n",
       "      <td>1046761_D_1_0</td>\n",
       "      <td>08:34:55</td>\n",
       "      <td>08:34:55</td>\n",
       "      <td>44784470</td>\n",
       "      <td>4</td>\n",
       "      <td>NaN</td>\n",
       "      <td>0</td>\n",
       "      <td>0</td>\n",
       "    </tr>\n",
       "    <tr>\n",
       "      <th>4</th>\n",
       "      <td>1046761_D_1_0</td>\n",
       "      <td>08:35:44</td>\n",
       "      <td>08:35:44</td>\n",
       "      <td>44784471</td>\n",
       "      <td>5</td>\n",
       "      <td>NaN</td>\n",
       "      <td>0</td>\n",
       "      <td>0</td>\n",
       "    </tr>\n",
       "  </tbody>\n",
       "</table>\n",
       "</div>"
      ],
      "text/plain": [
       "         trip_id arrival_time departure_time   stop_id  stop_sequence  \\\n",
       "0  1046761_D_1_0     08:30:00       08:30:00  43968810              1   \n",
       "1  1046761_D_1_0     08:31:41       08:31:41  47566106              2   \n",
       "2  1046761_D_1_0     08:33:49       08:33:49  44782337              3   \n",
       "3  1046761_D_1_0     08:34:55       08:34:55  44784470              4   \n",
       "4  1046761_D_1_0     08:35:44       08:35:44  44784471              5   \n",
       "\n",
       "   stop_headsign  pickup_type  drop_off_type  \n",
       "0            NaN            0              0  \n",
       "1            NaN            0              0  \n",
       "2            NaN            0              0  \n",
       "3            NaN            0              0  \n",
       "4            NaN            0              0  "
      ]
     },
     "execution_count": 31,
     "metadata": {},
     "output_type": "execute_result"
    }
   ],
   "source": [
    "stops_times = pd.read_csv(f'{inputp}stop_times.txt')\n",
    "stops_times.head()"
   ]
  },
  {
   "cell_type": "code",
   "execution_count": 32,
   "id": "692b58d0-08cc-4eb7-99d3-2205f9f0b4df",
   "metadata": {},
   "outputs": [
    {
     "name": "stdout",
     "output_type": "stream",
     "text": [
      "<class 'pandas.core.frame.DataFrame'>\n",
      "RangeIndex: 1679961 entries, 0 to 1679960\n",
      "Data columns (total 8 columns):\n",
      " #   Column          Non-Null Count    Dtype  \n",
      "---  ------          --------------    -----  \n",
      " 0   trip_id         1679961 non-null  object \n",
      " 1   arrival_time    1679961 non-null  object \n",
      " 2   departure_time  1679961 non-null  object \n",
      " 3   stop_id         1679961 non-null  int64  \n",
      " 4   stop_sequence   1679961 non-null  int64  \n",
      " 5   stop_headsign   0 non-null        float64\n",
      " 6   pickup_type     1679961 non-null  int64  \n",
      " 7   drop_off_type   1679961 non-null  int64  \n",
      "dtypes: float64(1), int64(4), object(3)\n",
      "memory usage: 102.5+ MB\n"
     ]
    }
   ],
   "source": [
    "stops_times.info()"
   ]
  },
  {
   "cell_type": "code",
   "execution_count": 33,
   "id": "c0f7cf60-8210-4908-a790-f48b6c5bab47",
   "metadata": {},
   "outputs": [],
   "source": [
    "cols = ['trip_id', 'arrival_time', 'departure_time', 'stop_id', 'stop_sequence',  'pickup_type', 'drop_off_type']"
   ]
  },
  {
   "cell_type": "code",
   "execution_count": 34,
   "id": "d0c1e80f-3423-42e7-a3f0-fec8d64c389a",
   "metadata": {},
   "outputs": [],
   "source": [
    "stops_times[cols][:5].to_csv('stop_times.csv', index=False)"
   ]
  },
  {
   "cell_type": "code",
   "execution_count": 38,
   "id": "cb173c99-e546-4e8f-b310-470c58ef22a1",
   "metadata": {},
   "outputs": [
    {
     "data": {
      "text/plain": [
       "(1679961, 8)"
      ]
     },
     "execution_count": 38,
     "metadata": {},
     "output_type": "execute_result"
    }
   ],
   "source": [
    "stops_times.shape"
   ]
  },
  {
   "cell_type": "code",
   "execution_count": null,
   "id": "ebafe9f6-18be-4e96-8beb-5772159b0632",
   "metadata": {},
   "outputs": [],
   "source": []
  }
 ],
 "metadata": {
  "kernelspec": {
   "display_name": "Python 3 (ipykernel)",
   "language": "python",
   "name": "python3"
  },
  "language_info": {
   "codemirror_mode": {
    "name": "ipython",
    "version": 3
   },
   "file_extension": ".py",
   "mimetype": "text/x-python",
   "name": "python",
   "nbconvert_exporter": "python",
   "pygments_lexer": "ipython3",
   "version": "3.7.13"
  }
 },
 "nbformat": 4,
 "nbformat_minor": 5
}
