{
 "cells": [
  {
   "cell_type": "code",
   "execution_count": 1,
   "id": "2c0d5fc0-723c-4362-8953-f54301eb3093",
   "metadata": {},
   "outputs": [],
   "source": [
    "import os\n",
    "import warnings\n",
    "import numpy as np\n",
    "import pandas as pd\n",
    "import networkx as nx\n",
    "from datetime import datetime\n",
    "from datetime import timedelta\n",
    "from tqdm import tqdm\n",
    "import matplotlib.pyplot as plt\n",
    "import seaborn as sns"
   ]
  },
  {
   "cell_type": "code",
   "execution_count": 2,
   "id": "719366f7-5dbe-41db-8d34-aca9d23ce345",
   "metadata": {
    "tags": []
   },
   "outputs": [],
   "source": [
    "sns.set_theme(style=\"darkgrid\")\n",
    "warnings.filterwarnings('ignore')\n",
    "pd.set_option('display.max_columns', None)"
   ]
  },
  {
   "cell_type": "markdown",
   "id": "c280cb97-8386-4c34-800e-6a05980cf2dc",
   "metadata": {},
   "source": [
    "## Graph"
   ]
  },
  {
   "cell_type": "code",
   "execution_count": 3,
   "id": "6c6ee6f8-11b8-47bb-b79d-0c4e7eab9341",
   "metadata": {
    "tags": []
   },
   "outputs": [
    {
     "name": "stdout",
     "output_type": "stream",
     "text": [
      "Direcionado ..........: True\n",
      "Numero de nós  .......: 2871\n",
      "Numero de arestas ....: 4526\n"
     ]
    }
   ],
   "source": [
    "G = nx.read_gpickle('../data/graph_designer/graph_gtfs_fev_2024.gpickle')\n",
    "num_nodes = G.number_of_nodes()\n",
    "num_edges = G.number_of_edges()\n",
    "\n",
    "print(f\"Direcionado ..........: {G.is_directed()}\")\n",
    "print(f\"Numero de nós  .......: {num_nodes}\")\n",
    "print(f\"Numero de arestas ....: {num_edges}\")"
   ]
  },
  {
   "cell_type": "code",
   "execution_count": 27,
   "id": "077e8ae5-5db7-447c-8f25-9a2680942519",
   "metadata": {},
   "outputs": [
    {
     "data": {
      "text/html": [
       "<div>\n",
       "<style scoped>\n",
       "    .dataframe tbody tr th:only-of-type {\n",
       "        vertical-align: middle;\n",
       "    }\n",
       "\n",
       "    .dataframe tbody tr th {\n",
       "        vertical-align: top;\n",
       "    }\n",
       "\n",
       "    .dataframe thead th {\n",
       "        text-align: right;\n",
       "    }\n",
       "</style>\n",
       "<table border=\"1\" class=\"dataframe\">\n",
       "  <thead>\n",
       "    <tr style=\"text-align: right;\">\n",
       "      <th></th>\n",
       "      <th>src</th>\n",
       "      <th>dst</th>\n",
       "      <th>distance</th>\n",
       "      <th>src_lat</th>\n",
       "      <th>dst_lat</th>\n",
       "      <th>src_lon</th>\n",
       "      <th>dst_lon</th>\n",
       "    </tr>\n",
       "  </thead>\n",
       "  <tbody>\n",
       "    <tr>\n",
       "      <th>0</th>\n",
       "      <td>100009577</td>\n",
       "      <td>345936831</td>\n",
       "      <td>0.254</td>\n",
       "      <td>-12.901954</td>\n",
       "      <td>-12.902051</td>\n",
       "      <td>-38.419582</td>\n",
       "      <td>-38.417114</td>\n",
       "    </tr>\n",
       "    <tr>\n",
       "      <th>1</th>\n",
       "      <td>100722777</td>\n",
       "      <td>100722778</td>\n",
       "      <td>0.362</td>\n",
       "      <td>-12.899299</td>\n",
       "      <td>-12.896647</td>\n",
       "      <td>-38.407673</td>\n",
       "      <td>-38.408215</td>\n",
       "    </tr>\n",
       "    <tr>\n",
       "      <th>2</th>\n",
       "      <td>100722777</td>\n",
       "      <td>44782645</td>\n",
       "      <td>1.062</td>\n",
       "      <td>-12.899299</td>\n",
       "      <td>-12.899458</td>\n",
       "      <td>-38.407673</td>\n",
       "      <td>-38.412964</td>\n",
       "    </tr>\n",
       "    <tr>\n",
       "      <th>3</th>\n",
       "      <td>100722777</td>\n",
       "      <td>45833440</td>\n",
       "      <td>0.417</td>\n",
       "      <td>-12.899299</td>\n",
       "      <td>-12.896741</td>\n",
       "      <td>-38.407673</td>\n",
       "      <td>-38.408672</td>\n",
       "    </tr>\n",
       "    <tr>\n",
       "      <th>4</th>\n",
       "      <td>100722777</td>\n",
       "      <td>66771046</td>\n",
       "      <td>0.934</td>\n",
       "      <td>-12.899299</td>\n",
       "      <td>-12.896790</td>\n",
       "      <td>-38.407673</td>\n",
       "      <td>-38.412540</td>\n",
       "    </tr>\n",
       "  </tbody>\n",
       "</table>\n",
       "</div>"
      ],
      "text/plain": [
       "         src        dst  distance    src_lat    dst_lat    src_lon    dst_lon\n",
       "0  100009577  345936831     0.254 -12.901954 -12.902051 -38.419582 -38.417114\n",
       "1  100722777  100722778     0.362 -12.899299 -12.896647 -38.407673 -38.408215\n",
       "2  100722777   44782645     1.062 -12.899299 -12.899458 -38.407673 -38.412964\n",
       "3  100722777   45833440     0.417 -12.899299 -12.896741 -38.407673 -38.408672\n",
       "4  100722777   66771046     0.934 -12.899299 -12.896790 -38.407673 -38.412540"
      ]
     },
     "execution_count": 27,
     "metadata": {},
     "output_type": "execute_result"
    }
   ],
   "source": [
    "df_edges = pd.read_parquet('../data/graph_designer/graph_gtfs_fev_2024.parquet')\n",
    "df_edges.head()"
   ]
  },
  {
   "cell_type": "code",
   "execution_count": 31,
   "id": "4ea20cc1-a72d-4d24-9873-d7a7ef5aa9cc",
   "metadata": {},
   "outputs": [],
   "source": [
    "df_edges_sample = df_edges[:5].copy()"
   ]
  },
  {
   "cell_type": "code",
   "execution_count": 32,
   "id": "a7cfdebd-16bc-4c11-bed8-52f30f26c22b",
   "metadata": {},
   "outputs": [],
   "source": [
    "df_edges_sample['averange_speed'] = [25.6, 11.3, 40.2, 50.5, 26.2]"
   ]
  },
  {
   "cell_type": "code",
   "execution_count": 33,
   "id": "47c4a478-c44a-4c76-9a98-8589b30cc634",
   "metadata": {},
   "outputs": [],
   "source": [
    "df_edges_sample['trip_time'] = [4, 8, 5, 10, 6]"
   ]
  },
  {
   "cell_type": "code",
   "execution_count": 35,
   "id": "933ef3a4-9b93-458d-a410-1e980c25fbaa",
   "metadata": {},
   "outputs": [],
   "source": [
    "df_edges_sample['loading'] = [78, 20, 45, 90, 30]"
   ]
  },
  {
   "cell_type": "code",
   "execution_count": 38,
   "id": "385277bf-2c5d-41e0-b0b3-2985e1691b82",
   "metadata": {},
   "outputs": [],
   "source": [
    "df_edges_sample.round(3).to_csv('sample_edge_features.csv', index=False)"
   ]
  },
  {
   "cell_type": "code",
   "execution_count": null,
   "id": "fea07249-3ade-4252-8c40-6de1d1d8c6cc",
   "metadata": {},
   "outputs": [],
   "source": [
    "df_edges.to_csv('edge_features')"
   ]
  },
  {
   "cell_type": "code",
   "execution_count": 30,
   "id": "6acb7cbe-8f4a-4234-a053-51027a4710e9",
   "metadata": {},
   "outputs": [
    {
     "data": {
      "text/plain": [
       "(2869, 2870)"
      ]
     },
     "execution_count": 30,
     "metadata": {},
     "output_type": "execute_result"
    }
   ],
   "source": [
    "df_edges.src.nunique(), df_edges.dst.nunique()"
   ]
  },
  {
   "cell_type": "code",
   "execution_count": 28,
   "id": "608e1ee2-00bb-491d-b85c-a9854776102f",
   "metadata": {
    "tags": []
   },
   "outputs": [
    {
     "data": {
      "text/plain": [
       "count    4526.000000\n",
       "mean        0.469940\n",
       "std         0.521761\n",
       "min         0.000000\n",
       "25%         0.198000\n",
       "50%         0.337000\n",
       "75%         0.567000\n",
       "max         7.076000\n",
       "Name: distance, dtype: float64"
      ]
     },
     "execution_count": 28,
     "metadata": {},
     "output_type": "execute_result"
    }
   ],
   "source": [
    "df_edges.distance.describe()"
   ]
  },
  {
   "cell_type": "markdown",
   "id": "20021a7b-309b-4d18-8c86-5ad168ca5506",
   "metadata": {},
   "source": [
    "## Intervals (granularity)"
   ]
  },
  {
   "cell_type": "code",
   "execution_count": 5,
   "id": "62b7a5ab-fd47-4019-a83f-f148e65a3ca5",
   "metadata": {
    "tags": []
   },
   "outputs": [],
   "source": [
    "def add_intervals(\n",
    "    df: pd.DataFrame, \n",
    "    date: str, \n",
    "    freq=5,\n",
    "    min_time='05:00:00', \n",
    "    max_time='00:59:59'\n",
    "    ) -> tuple:\n",
    "    '''\n",
    "     Add intervalos in to sobe e desce dataset\n",
    "    '''\n",
    "    \n",
    "    #df = pd.read_csv(fpath)\n",
    "    # convert to datetime\n",
    "    df.hora_ponto = pd.to_datetime(df.hora_ponto, format='%Y-%m-%d %H:%M:%S')\n",
    "    # \n",
    "    min_time_str = f\"{date} {min_time}\"\n",
    "    max_time_str = f\"{date} {max_time}\"\n",
    "    # convert to datetime instance\n",
    "    min_datetime = datetime.strptime(min_time_str, '%Y-%m-%d %H:%M:%S')\n",
    "    max_datetime = datetime.strptime(max_time_str, '%Y-%m-%d %H:%M:%S')\n",
    "    max_datetime = max_datetime + timedelta(days=1)\n",
    "        \n",
    "    # create intervals by frequency\n",
    "    interval = freq\n",
    "    intervals = []\n",
    "    generation = True\n",
    "    intervals.append(min_datetime)\n",
    "    count = 0\n",
    "    while generation:\n",
    "        lag = intervals[-1]\n",
    "        new = lag + timedelta(minutes=interval)\n",
    "        if new <= max_datetime:\n",
    "            intervals.append(new)\n",
    "        else:\n",
    "            generation = False\n",
    "            print(f\"End generation: {new}\")\n",
    "        count +=1\n",
    "    print(f\"Intervals: {count}\")\n",
    "    intervals_pairs = [[intervals[i], intervals[i+1]] for i in range(len(intervals)-1)]\n",
    "    df['interval'] = pd.NaT\n",
    "    for inter in tqdm(intervals_pairs):\n",
    "        i, j = inter\n",
    "        df['interval'][(df.hora_ponto >= i) & (df.hora_ponto < j)] = i\n",
    "    # drop na\n",
    "    df = df[~df.interval.isna()]\n",
    "        \n",
    "    return df, intervals"
   ]
  },
  {
   "cell_type": "markdown",
   "id": "9ade22aa-e818-4182-b948-826038cbdb38",
   "metadata": {},
   "source": [
    "## Data day"
   ]
  },
  {
   "cell_type": "code",
   "execution_count": 6,
   "id": "413cdac8-afd7-41a2-b76a-ea2ead1375cf",
   "metadata": {
    "tags": []
   },
   "outputs": [
    {
     "data": {
      "text/plain": [
       "'/mnt/data/sobe_desce/03_2024/2024-03-08/output/'"
      ]
     },
     "execution_count": 6,
     "metadata": {},
     "output_type": "execute_result"
    }
   ],
   "source": [
    "year, month, day = '2024', '03', '08'\n",
    "date=f'{day}-{month}-{year}'\n",
    "date_folder = f'2024-03-{day}'\n",
    "path = f'/mnt/data/sobe_desce/03_2024/{date_folder}/output/'\n",
    "path"
   ]
  },
  {
   "cell_type": "markdown",
   "id": "afd1978f-f9e8-438c-b733-055f37d298f5",
   "metadata": {},
   "source": [
    "### Trip Time Series"
   ]
  },
  {
   "cell_type": "code",
   "execution_count": 7,
   "id": "2df5cec1-d673-41ef-9030-655ec2f2acbb",
   "metadata": {},
   "outputs": [
    {
     "data": {
      "text/html": [
       "<div>\n",
       "<style scoped>\n",
       "    .dataframe tbody tr th:only-of-type {\n",
       "        vertical-align: middle;\n",
       "    }\n",
       "\n",
       "    .dataframe tbody tr th {\n",
       "        vertical-align: top;\n",
       "    }\n",
       "\n",
       "    .dataframe thead th {\n",
       "        text-align: right;\n",
       "    }\n",
       "</style>\n",
       "<table border=\"1\" class=\"dataframe\">\n",
       "  <thead>\n",
       "    <tr style=\"text-align: right;\">\n",
       "      <th></th>\n",
       "      <th>linha_atend</th>\n",
       "      <th>linha</th>\n",
       "      <th>cod_ate</th>\n",
       "      <th>sentido</th>\n",
       "      <th>shape</th>\n",
       "      <th>ordem</th>\n",
       "      <th>ponto</th>\n",
       "      <th>lat</th>\n",
       "      <th>lon</th>\n",
       "      <th>distancias</th>\n",
       "      <th>acumulado</th>\n",
       "      <th>posicao</th>\n",
       "      <th>veiculo</th>\n",
       "      <th>trip</th>\n",
       "      <th>trip_id</th>\n",
       "      <th>inicio_viagem</th>\n",
       "      <th>fim_viagem</th>\n",
       "      <th>set</th>\n",
       "      <th>hora_ponto</th>\n",
       "      <th>saida</th>\n",
       "      <th>fill</th>\n",
       "      <th>tempo_parada</th>\n",
       "      <th>duracao</th>\n",
       "      <th>tempo_total</th>\n",
       "      <th>tempo_parada_acum</th>\n",
       "      <th>duracao_acum</th>\n",
       "      <th>distancia</th>\n",
       "      <th>dis_acum</th>\n",
       "      <th>vm</th>\n",
       "      <th>vm_acum</th>\n",
       "      <th>type</th>\n",
       "    </tr>\n",
       "  </thead>\n",
       "  <tbody>\n",
       "    <tr>\n",
       "      <th>0</th>\n",
       "      <td>1374_30966</td>\n",
       "      <td>1374</td>\n",
       "      <td>30966</td>\n",
       "      <td>I</td>\n",
       "      <td>30966_I</td>\n",
       "      <td>1</td>\n",
       "      <td>110438500</td>\n",
       "      <td>-12.942272</td>\n",
       "      <td>-38.421867</td>\n",
       "      <td>0.000</td>\n",
       "      <td>0.000</td>\n",
       "      <td>inicial</td>\n",
       "      <td>20771</td>\n",
       "      <td>1.0</td>\n",
       "      <td>20771_1374_1</td>\n",
       "      <td>2024-03-08 06:25:17</td>\n",
       "      <td>2024-03-08 06:44:25</td>\n",
       "      <td>ottrans</td>\n",
       "      <td>2024-03-08 06:25:17</td>\n",
       "      <td>2024-03-08 06:26:05</td>\n",
       "      <td>False</td>\n",
       "      <td>48.0</td>\n",
       "      <td>0.0</td>\n",
       "      <td>48.0</td>\n",
       "      <td>48.0</td>\n",
       "      <td>0.0</td>\n",
       "      <td>0.000000</td>\n",
       "      <td>0.000000</td>\n",
       "      <td>0.000000</td>\n",
       "      <td>0.000000</td>\n",
       "      <td>bus</td>\n",
       "    </tr>\n",
       "    <tr>\n",
       "      <th>1</th>\n",
       "      <td>1374_30966</td>\n",
       "      <td>1374</td>\n",
       "      <td>30966</td>\n",
       "      <td>I</td>\n",
       "      <td>30966_I</td>\n",
       "      <td>2</td>\n",
       "      <td>110952763</td>\n",
       "      <td>-12.940207</td>\n",
       "      <td>-38.427055</td>\n",
       "      <td>0.922</td>\n",
       "      <td>0.922</td>\n",
       "      <td>intermediario</td>\n",
       "      <td>20771</td>\n",
       "      <td>1.0</td>\n",
       "      <td>20771_1374_1</td>\n",
       "      <td>2024-03-08 06:25:17</td>\n",
       "      <td>2024-03-08 06:44:25</td>\n",
       "      <td>ottrans</td>\n",
       "      <td>2024-03-08 06:27:01</td>\n",
       "      <td>2024-03-08 06:27:05</td>\n",
       "      <td>False</td>\n",
       "      <td>4.0</td>\n",
       "      <td>56.0</td>\n",
       "      <td>60.0</td>\n",
       "      <td>52.0</td>\n",
       "      <td>56.0</td>\n",
       "      <td>0.607295</td>\n",
       "      <td>0.000000</td>\n",
       "      <td>39.040412</td>\n",
       "      <td>0.000000</td>\n",
       "      <td>bus</td>\n",
       "    </tr>\n",
       "    <tr>\n",
       "      <th>2</th>\n",
       "      <td>1374_30966</td>\n",
       "      <td>1374</td>\n",
       "      <td>30966</td>\n",
       "      <td>I</td>\n",
       "      <td>30966_I</td>\n",
       "      <td>3</td>\n",
       "      <td>110952766</td>\n",
       "      <td>-12.937143</td>\n",
       "      <td>-38.425938</td>\n",
       "      <td>0.391</td>\n",
       "      <td>1.313</td>\n",
       "      <td>intermediario</td>\n",
       "      <td>20771</td>\n",
       "      <td>1.0</td>\n",
       "      <td>20771_1374_1</td>\n",
       "      <td>2024-03-08 06:25:17</td>\n",
       "      <td>2024-03-08 06:44:25</td>\n",
       "      <td>ottrans</td>\n",
       "      <td>2024-03-08 06:28:03</td>\n",
       "      <td>2024-03-08 06:28:10</td>\n",
       "      <td>False</td>\n",
       "      <td>7.0</td>\n",
       "      <td>58.0</td>\n",
       "      <td>65.0</td>\n",
       "      <td>59.0</td>\n",
       "      <td>114.0</td>\n",
       "      <td>0.361609</td>\n",
       "      <td>0.607295</td>\n",
       "      <td>22.444727</td>\n",
       "      <td>19.177746</td>\n",
       "      <td>bus</td>\n",
       "    </tr>\n",
       "  </tbody>\n",
       "</table>\n",
       "</div>"
      ],
      "text/plain": [
       "  linha_atend linha cod_ate sentido    shape  ordem      ponto        lat  \\\n",
       "0  1374_30966  1374   30966       I  30966_I      1  110438500 -12.942272   \n",
       "1  1374_30966  1374   30966       I  30966_I      2  110952763 -12.940207   \n",
       "2  1374_30966  1374   30966       I  30966_I      3  110952766 -12.937143   \n",
       "\n",
       "         lon  distancias  acumulado        posicao veiculo  trip  \\\n",
       "0 -38.421867       0.000      0.000        inicial   20771   1.0   \n",
       "1 -38.427055       0.922      0.922  intermediario   20771   1.0   \n",
       "2 -38.425938       0.391      1.313  intermediario   20771   1.0   \n",
       "\n",
       "        trip_id       inicio_viagem          fim_viagem      set  \\\n",
       "0  20771_1374_1 2024-03-08 06:25:17 2024-03-08 06:44:25  ottrans   \n",
       "1  20771_1374_1 2024-03-08 06:25:17 2024-03-08 06:44:25  ottrans   \n",
       "2  20771_1374_1 2024-03-08 06:25:17 2024-03-08 06:44:25  ottrans   \n",
       "\n",
       "           hora_ponto               saida   fill  tempo_parada  duracao  \\\n",
       "0 2024-03-08 06:25:17 2024-03-08 06:26:05  False          48.0      0.0   \n",
       "1 2024-03-08 06:27:01 2024-03-08 06:27:05  False           4.0     56.0   \n",
       "2 2024-03-08 06:28:03 2024-03-08 06:28:10  False           7.0     58.0   \n",
       "\n",
       "   tempo_total  tempo_parada_acum  duracao_acum  distancia  dis_acum  \\\n",
       "0         48.0               48.0           0.0   0.000000  0.000000   \n",
       "1         60.0               52.0          56.0   0.607295  0.000000   \n",
       "2         65.0               59.0         114.0   0.361609  0.607295   \n",
       "\n",
       "          vm    vm_acum type  \n",
       "0   0.000000   0.000000  bus  \n",
       "1  39.040412   0.000000  bus  \n",
       "2  22.444727  19.177746  bus  "
      ]
     },
     "execution_count": 7,
     "metadata": {},
     "output_type": "execute_result"
    }
   ],
   "source": [
    "tts = pd.read_parquet(f'{path}trips_time-series_{date}_{date}.parquet')\n",
    "tts = tts.rename({'stop_id': 'ponto'}, axis=1)\n",
    "tts = tts.astype({'ponto': str})\n",
    "tts.head(3)"
   ]
  },
  {
   "cell_type": "code",
   "execution_count": 8,
   "id": "5945b340-2b12-45af-9641-82bd15993929",
   "metadata": {
    "tags": []
   },
   "outputs": [
    {
     "data": {
      "text/plain": [
       "2860"
      ]
     },
     "execution_count": 8,
     "metadata": {},
     "output_type": "execute_result"
    }
   ],
   "source": [
    "tts.ponto.nunique()"
   ]
  },
  {
   "cell_type": "code",
   "execution_count": 9,
   "id": "65f4cec2-0615-41ab-ad32-0ed79266b8cf",
   "metadata": {
    "tags": []
   },
   "outputs": [],
   "source": [
    "# cols_unpack_tts = ['trip_id', 'sentido', 'ponto', 'tempo_parada']\n",
    "# tts_stop_id_coord  = tts.pivot_table(index=cols_unpack_tts, \n",
    "#                                      aggfunc=set).reset_index()[cols_unpack_tts]\n",
    "# tts_stop_id_coord.head()"
   ]
  },
  {
   "cell_type": "markdown",
   "id": "21ae455e-63ef-47da-a214-e5bff6c04261",
   "metadata": {},
   "source": [
    "### Sobe e Desce"
   ]
  },
  {
   "cell_type": "code",
   "execution_count": 10,
   "id": "856df24d-76e7-463f-a57a-679eb09029b3",
   "metadata": {
    "tags": []
   },
   "outputs": [
    {
     "data": {
      "text/html": [
       "<div>\n",
       "<style scoped>\n",
       "    .dataframe tbody tr th:only-of-type {\n",
       "        vertical-align: middle;\n",
       "    }\n",
       "\n",
       "    .dataframe tbody tr th {\n",
       "        vertical-align: top;\n",
       "    }\n",
       "\n",
       "    .dataframe thead th {\n",
       "        text-align: right;\n",
       "    }\n",
       "</style>\n",
       "<table border=\"1\" class=\"dataframe\">\n",
       "  <thead>\n",
       "    <tr style=\"text-align: right;\">\n",
       "      <th></th>\n",
       "      <th>index</th>\n",
       "      <th>linha</th>\n",
       "      <th>cod_ate</th>\n",
       "      <th>sentido</th>\n",
       "      <th>ordem</th>\n",
       "      <th>ponto</th>\n",
       "      <th>veiculo</th>\n",
       "      <th>trip</th>\n",
       "      <th>trip_id</th>\n",
       "      <th>inicio_viagem</th>\n",
       "      <th>fim_viagem</th>\n",
       "      <th>set</th>\n",
       "      <th>hora_ponto</th>\n",
       "      <th>sobe</th>\n",
       "      <th>desce</th>\n",
       "      <th>lag_carregamento</th>\n",
       "      <th>saldo</th>\n",
       "      <th>carregamento</th>\n",
       "      <th>sobe_fit</th>\n",
       "      <th>lag_carregamento_fit</th>\n",
       "      <th>desce_fit</th>\n",
       "      <th>saldo_fit</th>\n",
       "      <th>carregamento_fit</th>\n",
       "      <th>percent_desce</th>\n",
       "      <th>percent_sobe_esp</th>\n",
       "      <th>sobe_especie</th>\n",
       "      <th>sobe_total_especie</th>\n",
       "      <th>lag_carregamento_especie</th>\n",
       "      <th>desce_total_especie</th>\n",
       "      <th>saldo_especie</th>\n",
       "      <th>carregamento_especie</th>\n",
       "      <th>percent_desce_fit</th>\n",
       "    </tr>\n",
       "  </thead>\n",
       "  <tbody>\n",
       "    <tr>\n",
       "      <th>0</th>\n",
       "      <td>11353</td>\n",
       "      <td>1137</td>\n",
       "      <td>33228</td>\n",
       "      <td>I</td>\n",
       "      <td>1</td>\n",
       "      <td>45833577</td>\n",
       "      <td>20937</td>\n",
       "      <td>1</td>\n",
       "      <td>20937_1137_1</td>\n",
       "      <td>2024-03-08 05:10:32</td>\n",
       "      <td>2024-03-08 05:37:51</td>\n",
       "      <td>ottrans</td>\n",
       "      <td>2024-03-08 05:10:32</td>\n",
       "      <td>11.0</td>\n",
       "      <td>0.0</td>\n",
       "      <td>0</td>\n",
       "      <td>0</td>\n",
       "      <td>11</td>\n",
       "      <td>11.0</td>\n",
       "      <td>0.0</td>\n",
       "      <td>0.0</td>\n",
       "      <td>0.0</td>\n",
       "      <td>11.0</td>\n",
       "      <td>0.0</td>\n",
       "      <td>1.270208</td>\n",
       "      <td>1.765589</td>\n",
       "      <td>12.765589</td>\n",
       "      <td>0.000000</td>\n",
       "      <td>0.0</td>\n",
       "      <td>0.000000</td>\n",
       "      <td>12.765589</td>\n",
       "      <td>0.0</td>\n",
       "    </tr>\n",
       "    <tr>\n",
       "      <th>1</th>\n",
       "      <td>11354</td>\n",
       "      <td>1137</td>\n",
       "      <td>33228</td>\n",
       "      <td>I</td>\n",
       "      <td>2</td>\n",
       "      <td>45833578</td>\n",
       "      <td>20937</td>\n",
       "      <td>1</td>\n",
       "      <td>20937_1137_1</td>\n",
       "      <td>2024-03-08 05:10:32</td>\n",
       "      <td>2024-03-08 05:37:51</td>\n",
       "      <td>ottrans</td>\n",
       "      <td>2024-03-08 05:10:59</td>\n",
       "      <td>9.0</td>\n",
       "      <td>0.0</td>\n",
       "      <td>11</td>\n",
       "      <td>11</td>\n",
       "      <td>20</td>\n",
       "      <td>9.0</td>\n",
       "      <td>11.0</td>\n",
       "      <td>0.0</td>\n",
       "      <td>11.0</td>\n",
       "      <td>20.0</td>\n",
       "      <td>0.0</td>\n",
       "      <td>1.039261</td>\n",
       "      <td>1.444573</td>\n",
       "      <td>10.444573</td>\n",
       "      <td>12.765589</td>\n",
       "      <td>0.0</td>\n",
       "      <td>12.765589</td>\n",
       "      <td>23.210162</td>\n",
       "      <td>0.0</td>\n",
       "    </tr>\n",
       "    <tr>\n",
       "      <th>2</th>\n",
       "      <td>11355</td>\n",
       "      <td>1137</td>\n",
       "      <td>33228</td>\n",
       "      <td>I</td>\n",
       "      <td>3</td>\n",
       "      <td>45832840</td>\n",
       "      <td>20937</td>\n",
       "      <td>1</td>\n",
       "      <td>20937_1137_1</td>\n",
       "      <td>2024-03-08 05:10:32</td>\n",
       "      <td>2024-03-08 05:37:51</td>\n",
       "      <td>ottrans</td>\n",
       "      <td>2024-03-08 05:13:13</td>\n",
       "      <td>1.0</td>\n",
       "      <td>0.0</td>\n",
       "      <td>20</td>\n",
       "      <td>20</td>\n",
       "      <td>21</td>\n",
       "      <td>1.0</td>\n",
       "      <td>20.0</td>\n",
       "      <td>0.0</td>\n",
       "      <td>20.0</td>\n",
       "      <td>21.0</td>\n",
       "      <td>0.0</td>\n",
       "      <td>0.115473</td>\n",
       "      <td>0.160508</td>\n",
       "      <td>1.160508</td>\n",
       "      <td>23.210162</td>\n",
       "      <td>0.0</td>\n",
       "      <td>23.210162</td>\n",
       "      <td>24.370670</td>\n",
       "      <td>0.0</td>\n",
       "    </tr>\n",
       "  </tbody>\n",
       "</table>\n",
       "</div>"
      ],
      "text/plain": [
       "   index linha  cod_ate sentido  ordem     ponto  veiculo  trip       trip_id  \\\n",
       "0  11353  1137    33228       I      1  45833577    20937     1  20937_1137_1   \n",
       "1  11354  1137    33228       I      2  45833578    20937     1  20937_1137_1   \n",
       "2  11355  1137    33228       I      3  45832840    20937     1  20937_1137_1   \n",
       "\n",
       "         inicio_viagem           fim_viagem      set           hora_ponto  \\\n",
       "0  2024-03-08 05:10:32  2024-03-08 05:37:51  ottrans  2024-03-08 05:10:32   \n",
       "1  2024-03-08 05:10:32  2024-03-08 05:37:51  ottrans  2024-03-08 05:10:59   \n",
       "2  2024-03-08 05:10:32  2024-03-08 05:37:51  ottrans  2024-03-08 05:13:13   \n",
       "\n",
       "   sobe  desce  lag_carregamento  saldo  carregamento  sobe_fit  \\\n",
       "0  11.0    0.0                 0      0            11      11.0   \n",
       "1   9.0    0.0                11     11            20       9.0   \n",
       "2   1.0    0.0                20     20            21       1.0   \n",
       "\n",
       "   lag_carregamento_fit  desce_fit  saldo_fit  carregamento_fit  \\\n",
       "0                   0.0        0.0        0.0              11.0   \n",
       "1                  11.0        0.0       11.0              20.0   \n",
       "2                  20.0        0.0       20.0              21.0   \n",
       "\n",
       "   percent_desce  percent_sobe_esp  sobe_especie  sobe_total_especie  \\\n",
       "0            0.0          1.270208      1.765589           12.765589   \n",
       "1            0.0          1.039261      1.444573           10.444573   \n",
       "2            0.0          0.115473      0.160508            1.160508   \n",
       "\n",
       "   lag_carregamento_especie  desce_total_especie  saldo_especie  \\\n",
       "0                  0.000000                  0.0       0.000000   \n",
       "1                 12.765589                  0.0      12.765589   \n",
       "2                 23.210162                  0.0      23.210162   \n",
       "\n",
       "   carregamento_especie  percent_desce_fit  \n",
       "0             12.765589                0.0  \n",
       "1             23.210162                0.0  \n",
       "2             24.370670                0.0  "
      ]
     },
     "execution_count": 10,
     "metadata": {},
     "output_type": "execute_result"
    }
   ],
   "source": [
    "sb = pd.read_csv(f'{path}sobe_desce_{date}_esp.csv')\n",
    "sb = sb.astype({'ponto': str})\n",
    "sb.head(3)"
   ]
  },
  {
   "cell_type": "code",
   "execution_count": 11,
   "id": "521e25d9-26d1-462b-aa0a-9e62e31d93ed",
   "metadata": {},
   "outputs": [
    {
     "data": {
      "text/plain": [
       "(735127, 32)"
      ]
     },
     "execution_count": 11,
     "metadata": {},
     "output_type": "execute_result"
    }
   ],
   "source": [
    "sb.shape"
   ]
  },
  {
   "cell_type": "code",
   "execution_count": 12,
   "id": "9fcd3b7f-d269-4430-95f5-24f3e868b61e",
   "metadata": {},
   "outputs": [
    {
     "data": {
      "text/plain": [
       "(735127, 33)"
      ]
     },
     "execution_count": 12,
     "metadata": {},
     "output_type": "execute_result"
    }
   ],
   "source": [
    "cols_on_tts =  ['trip_id', 'sentido', 'ordem', 'ponto', 'tempo_parada']\n",
    "sb = sb.merge(tts[cols_on_tts], \n",
    "              on=cols_on_tts[:-1], \n",
    "              how='left')\n",
    "sb.shape"
   ]
  },
  {
   "cell_type": "code",
   "execution_count": 13,
   "id": "64ee8067-1437-464b-99a5-7fdec2d8fe40",
   "metadata": {},
   "outputs": [
    {
     "data": {
      "text/plain": [
       "(735127, 33)"
      ]
     },
     "execution_count": 13,
     "metadata": {},
     "output_type": "execute_result"
    }
   ],
   "source": [
    "sb.shape"
   ]
  },
  {
   "cell_type": "markdown",
   "id": "2a900c06-7c3a-4e0a-bea0-87d1a982868d",
   "metadata": {},
   "source": [
    "## Temporal node Features"
   ]
  },
  {
   "cell_type": "code",
   "execution_count": 14,
   "id": "53a58e73-bf1b-4160-91f2-675351257dce",
   "metadata": {
    "tags": []
   },
   "outputs": [
    {
     "name": "stdout",
     "output_type": "stream",
     "text": [
      "End generation: 2024-03-09 01:00:00\n",
      "Intervals: 240\n"
     ]
    },
    {
     "name": "stderr",
     "output_type": "stream",
     "text": [
      "100% 239/239 [00:01<00:00, 235.41it/s]\n"
     ]
    }
   ],
   "source": [
    "df_day, inter = add_intervals(sb, \n",
    "                             date=f'{year}-{month}-{day}', \n",
    "                             freq=5)"
   ]
  },
  {
   "cell_type": "markdown",
   "id": "32fa214a-a332-4ea3-8f46-27a4e674d5f6",
   "metadata": {},
   "source": [
    "### Create intervals for each node"
   ]
  },
  {
   "cell_type": "code",
   "execution_count": 15,
   "id": "572a6889-013b-4a67-b83d-d0ec357da113",
   "metadata": {
    "tags": []
   },
   "outputs": [],
   "source": [
    "def create_nodes_intervals(gnx, intervals):\n",
    "    # Get the nodes of the graph\n",
    "    nodes = list(gnx.nodes())\n",
    "\n",
    "    dfs = []\n",
    "    for node in tqdm(nodes):\n",
    "        df_node =  pd.DataFrame()\n",
    "        df_node['time'] = intervals\n",
    "        df_node['node'] =  node\n",
    "        df_node['lat'] =  G.nodes[node]['lat']\n",
    "        df_node['lon'] =  G.nodes[node]['lon']\n",
    "        dfs.append(df_node)\n",
    "    df_nodes_src = pd.concat(dfs, ignore_index=True)\n",
    "    \n",
    "    return df_nodes_src"
   ]
  },
  {
   "cell_type": "code",
   "execution_count": 16,
   "id": "12a6539a-edf3-495a-a036-afedc31b0492",
   "metadata": {
    "tags": []
   },
   "outputs": [
    {
     "name": "stderr",
     "output_type": "stream",
     "text": [
      "100% 2871/2871 [00:05<00:00, 541.12it/s]\n"
     ]
    },
    {
     "name": "stdout",
     "output_type": "stream",
     "text": [
      "num nodes in A ...: 2871\n"
     ]
    }
   ],
   "source": [
    "df_nodes = create_nodes_intervals(G, inter)\n",
    "print(f\"num nodes in A ...: {df_nodes.node.nunique()}\")"
   ]
  },
  {
   "cell_type": "code",
   "execution_count": 17,
   "id": "1779d91c-eaa1-49d8-bcbf-e1b283c7e13c",
   "metadata": {
    "tags": []
   },
   "outputs": [
    {
     "data": {
      "text/plain": [
       "(689040, 4)"
      ]
     },
     "execution_count": 17,
     "metadata": {},
     "output_type": "execute_result"
    }
   ],
   "source": [
    "df_nodes.shape"
   ]
  },
  {
   "cell_type": "markdown",
   "id": "f19479b8-c791-4efa-9516-3af705910966",
   "metadata": {},
   "source": [
    "### Join features for each node in each time"
   ]
  },
  {
   "cell_type": "code",
   "execution_count": 18,
   "id": "bf9d9964-beb7-45ce-a679-847b9987e323",
   "metadata": {
    "tags": []
   },
   "outputs": [],
   "source": [
    "def join_features(df_nds, df_sb, atts, aggs, index_cols=['time', 'node'],):\n",
    "\n",
    "    for i, att in enumerate(atts):\n",
    "        print(i, att, aggs[i])\n",
    "        # get node features to attribute att\n",
    "        nf_att = df_sb.pivot_table(index=index_cols,\n",
    "                                   values=att, \n",
    "                                   aggfunc=aggs[i]).reset_index()\n",
    "        # join\n",
    "        df_nds = df_nds.merge(nf_att, on=index_cols, how='left')\n",
    "        \n",
    "    return df_nds"
   ]
  },
  {
   "cell_type": "code",
   "execution_count": 19,
   "id": "6a7f9c47-6f61-4eb5-bdae-24ad52f6d78e",
   "metadata": {
    "tags": []
   },
   "outputs": [],
   "source": [
    "df_nodes_src =  df_nodes.copy()\n",
    "df_day_new = df_day.rename({'interval': 'time', 'ponto': 'node'}, axis=1)\n",
    "dtypes = {'node': str}\n",
    "df_day_new = df_day_new.astype(dtypes)\n",
    "df_nodes_src = df_nodes_src.astype(dtypes)"
   ]
  },
  {
   "cell_type": "code",
   "execution_count": 20,
   "id": "0f5144c6-8d60-4dd0-bc4e-f04d65bea64c",
   "metadata": {
    "tags": []
   },
   "outputs": [],
   "source": [
    "atributos = ['sobe', 'desce', 'carregamento', 'linha', 'trip_id', 'tempo_parada']\n",
    "funcoes   = ['sum', 'sum', 'sum', pd.Series.nunique, pd.Series.nunique, 'mean']"
   ]
  },
  {
   "cell_type": "code",
   "execution_count": 21,
   "id": "66287bf3-a242-4fca-aa87-53806eb0e007",
   "metadata": {
    "tags": []
   },
   "outputs": [
    {
     "name": "stdout",
     "output_type": "stream",
     "text": [
      "0 sobe sum\n",
      "1 desce sum\n",
      "2 carregamento sum\n",
      "3 linha <function IndexOpsMixin.nunique at 0x7f27062ec9e0>\n",
      "4 trip_id <function IndexOpsMixin.nunique at 0x7f27062ec9e0>\n",
      "5 tempo_parada mean\n"
     ]
    }
   ],
   "source": [
    "df_nodes_f = join_features(df_nodes_src, df_day_new, atributos, funcoes)"
   ]
  },
  {
   "cell_type": "code",
   "execution_count": 22,
   "id": "d91c0341-8aad-4939-ba9b-9dcb5c5a53e8",
   "metadata": {
    "tags": []
   },
   "outputs": [
    {
     "data": {
      "text/html": [
       "<div>\n",
       "<style scoped>\n",
       "    .dataframe tbody tr th:only-of-type {\n",
       "        vertical-align: middle;\n",
       "    }\n",
       "\n",
       "    .dataframe tbody tr th {\n",
       "        vertical-align: top;\n",
       "    }\n",
       "\n",
       "    .dataframe thead th {\n",
       "        text-align: right;\n",
       "    }\n",
       "</style>\n",
       "<table border=\"1\" class=\"dataframe\">\n",
       "  <thead>\n",
       "    <tr style=\"text-align: right;\">\n",
       "      <th></th>\n",
       "      <th>time</th>\n",
       "      <th>node</th>\n",
       "      <th>lat</th>\n",
       "      <th>lon</th>\n",
       "      <th>sobe</th>\n",
       "      <th>desce</th>\n",
       "      <th>carregamento</th>\n",
       "      <th>linha</th>\n",
       "      <th>trip_id</th>\n",
       "      <th>tempo_parada</th>\n",
       "    </tr>\n",
       "  </thead>\n",
       "  <tbody>\n",
       "    <tr>\n",
       "      <th>0</th>\n",
       "      <td>2024-03-08 05:00:00</td>\n",
       "      <td>100009577</td>\n",
       "      <td>-12.901954</td>\n",
       "      <td>-38.419582</td>\n",
       "      <td>NaN</td>\n",
       "      <td>NaN</td>\n",
       "      <td>NaN</td>\n",
       "      <td>NaN</td>\n",
       "      <td>NaN</td>\n",
       "      <td>NaN</td>\n",
       "    </tr>\n",
       "    <tr>\n",
       "      <th>1</th>\n",
       "      <td>2024-03-08 05:05:00</td>\n",
       "      <td>100009577</td>\n",
       "      <td>-12.901954</td>\n",
       "      <td>-38.419582</td>\n",
       "      <td>3.0</td>\n",
       "      <td>0.0</td>\n",
       "      <td>17.0</td>\n",
       "      <td>1.0</td>\n",
       "      <td>1.0</td>\n",
       "      <td>27.0</td>\n",
       "    </tr>\n",
       "    <tr>\n",
       "      <th>2</th>\n",
       "      <td>2024-03-08 05:10:00</td>\n",
       "      <td>100009577</td>\n",
       "      <td>-12.901954</td>\n",
       "      <td>-38.419582</td>\n",
       "      <td>1.0</td>\n",
       "      <td>0.0</td>\n",
       "      <td>1.0</td>\n",
       "      <td>1.0</td>\n",
       "      <td>1.0</td>\n",
       "      <td>0.0</td>\n",
       "    </tr>\n",
       "    <tr>\n",
       "      <th>3</th>\n",
       "      <td>2024-03-08 05:15:00</td>\n",
       "      <td>100009577</td>\n",
       "      <td>-12.901954</td>\n",
       "      <td>-38.419582</td>\n",
       "      <td>NaN</td>\n",
       "      <td>NaN</td>\n",
       "      <td>NaN</td>\n",
       "      <td>NaN</td>\n",
       "      <td>NaN</td>\n",
       "      <td>NaN</td>\n",
       "    </tr>\n",
       "    <tr>\n",
       "      <th>4</th>\n",
       "      <td>2024-03-08 05:20:00</td>\n",
       "      <td>100009577</td>\n",
       "      <td>-12.901954</td>\n",
       "      <td>-38.419582</td>\n",
       "      <td>2.0</td>\n",
       "      <td>0.0</td>\n",
       "      <td>2.0</td>\n",
       "      <td>1.0</td>\n",
       "      <td>1.0</td>\n",
       "      <td>0.0</td>\n",
       "    </tr>\n",
       "  </tbody>\n",
       "</table>\n",
       "</div>"
      ],
      "text/plain": [
       "                 time       node        lat        lon  sobe  desce  \\\n",
       "0 2024-03-08 05:00:00  100009577 -12.901954 -38.419582   NaN    NaN   \n",
       "1 2024-03-08 05:05:00  100009577 -12.901954 -38.419582   3.0    0.0   \n",
       "2 2024-03-08 05:10:00  100009577 -12.901954 -38.419582   1.0    0.0   \n",
       "3 2024-03-08 05:15:00  100009577 -12.901954 -38.419582   NaN    NaN   \n",
       "4 2024-03-08 05:20:00  100009577 -12.901954 -38.419582   2.0    0.0   \n",
       "\n",
       "   carregamento  linha  trip_id  tempo_parada  \n",
       "0           NaN    NaN      NaN           NaN  \n",
       "1          17.0    1.0      1.0          27.0  \n",
       "2           1.0    1.0      1.0           0.0  \n",
       "3           NaN    NaN      NaN           NaN  \n",
       "4           2.0    1.0      1.0           0.0  "
      ]
     },
     "execution_count": 22,
     "metadata": {},
     "output_type": "execute_result"
    }
   ],
   "source": [
    "df_nodes_f.head()"
   ]
  },
  {
   "cell_type": "code",
   "execution_count": 23,
   "id": "7a14b3d1-1aaa-478f-bbd1-df05d7848d20",
   "metadata": {
    "tags": []
   },
   "outputs": [
    {
     "data": {
      "text/html": [
       "<div>\n",
       "<style scoped>\n",
       "    .dataframe tbody tr th:only-of-type {\n",
       "        vertical-align: middle;\n",
       "    }\n",
       "\n",
       "    .dataframe tbody tr th {\n",
       "        vertical-align: top;\n",
       "    }\n",
       "\n",
       "    .dataframe thead th {\n",
       "        text-align: right;\n",
       "    }\n",
       "</style>\n",
       "<table border=\"1\" class=\"dataframe\">\n",
       "  <thead>\n",
       "    <tr style=\"text-align: right;\">\n",
       "      <th></th>\n",
       "      <th>time</th>\n",
       "      <th>node</th>\n",
       "      <th>lat</th>\n",
       "      <th>lon</th>\n",
       "      <th>sobe</th>\n",
       "      <th>desce</th>\n",
       "      <th>carregamento</th>\n",
       "      <th>linha</th>\n",
       "      <th>trip_id</th>\n",
       "      <th>tempo_parada</th>\n",
       "    </tr>\n",
       "  </thead>\n",
       "  <tbody>\n",
       "    <tr>\n",
       "      <th>0</th>\n",
       "      <td>2024-03-08 05:00:00</td>\n",
       "      <td>100009577</td>\n",
       "      <td>-12.901954</td>\n",
       "      <td>-38.419582</td>\n",
       "      <td>0.0</td>\n",
       "      <td>0.0</td>\n",
       "      <td>0.0</td>\n",
       "      <td>0.0</td>\n",
       "      <td>0.0</td>\n",
       "      <td>0.0</td>\n",
       "    </tr>\n",
       "    <tr>\n",
       "      <th>1</th>\n",
       "      <td>2024-03-08 05:05:00</td>\n",
       "      <td>100009577</td>\n",
       "      <td>-12.901954</td>\n",
       "      <td>-38.419582</td>\n",
       "      <td>3.0</td>\n",
       "      <td>0.0</td>\n",
       "      <td>17.0</td>\n",
       "      <td>1.0</td>\n",
       "      <td>1.0</td>\n",
       "      <td>27.0</td>\n",
       "    </tr>\n",
       "    <tr>\n",
       "      <th>2</th>\n",
       "      <td>2024-03-08 05:10:00</td>\n",
       "      <td>100009577</td>\n",
       "      <td>-12.901954</td>\n",
       "      <td>-38.419582</td>\n",
       "      <td>1.0</td>\n",
       "      <td>0.0</td>\n",
       "      <td>1.0</td>\n",
       "      <td>1.0</td>\n",
       "      <td>1.0</td>\n",
       "      <td>0.0</td>\n",
       "    </tr>\n",
       "    <tr>\n",
       "      <th>3</th>\n",
       "      <td>2024-03-08 05:15:00</td>\n",
       "      <td>100009577</td>\n",
       "      <td>-12.901954</td>\n",
       "      <td>-38.419582</td>\n",
       "      <td>0.0</td>\n",
       "      <td>0.0</td>\n",
       "      <td>0.0</td>\n",
       "      <td>0.0</td>\n",
       "      <td>0.0</td>\n",
       "      <td>0.0</td>\n",
       "    </tr>\n",
       "    <tr>\n",
       "      <th>4</th>\n",
       "      <td>2024-03-08 05:20:00</td>\n",
       "      <td>100009577</td>\n",
       "      <td>-12.901954</td>\n",
       "      <td>-38.419582</td>\n",
       "      <td>2.0</td>\n",
       "      <td>0.0</td>\n",
       "      <td>2.0</td>\n",
       "      <td>1.0</td>\n",
       "      <td>1.0</td>\n",
       "      <td>0.0</td>\n",
       "    </tr>\n",
       "  </tbody>\n",
       "</table>\n",
       "</div>"
      ],
      "text/plain": [
       "                 time       node        lat        lon  sobe  desce  \\\n",
       "0 2024-03-08 05:00:00  100009577 -12.901954 -38.419582   0.0    0.0   \n",
       "1 2024-03-08 05:05:00  100009577 -12.901954 -38.419582   3.0    0.0   \n",
       "2 2024-03-08 05:10:00  100009577 -12.901954 -38.419582   1.0    0.0   \n",
       "3 2024-03-08 05:15:00  100009577 -12.901954 -38.419582   0.0    0.0   \n",
       "4 2024-03-08 05:20:00  100009577 -12.901954 -38.419582   2.0    0.0   \n",
       "\n",
       "   carregamento  linha  trip_id  tempo_parada  \n",
       "0           0.0    0.0      0.0           0.0  \n",
       "1          17.0    1.0      1.0          27.0  \n",
       "2           1.0    1.0      1.0           0.0  \n",
       "3           0.0    0.0      0.0           0.0  \n",
       "4           2.0    1.0      1.0           0.0  "
      ]
     },
     "execution_count": 23,
     "metadata": {},
     "output_type": "execute_result"
    }
   ],
   "source": [
    "df_nodes_f = df_nodes_f.fillna(0)\n",
    "df_nodes_f.head()"
   ]
  },
  {
   "cell_type": "code",
   "execution_count": null,
   "id": "7a0ecaf3-0e33-4b0a-a1b3-3da51dc3246f",
   "metadata": {
    "tags": []
   },
   "outputs": [],
   "source": []
  },
  {
   "cell_type": "code",
   "execution_count": 24,
   "id": "d3299447-3995-4a56-9a90-bd5b59f98ae3",
   "metadata": {
    "tags": []
   },
   "outputs": [],
   "source": [
    "# Função para remover outliers\n",
    "def remove_outliers(df, column):\n",
    "    Q1 = df[column].quantile(0.25)\n",
    "    Q3 = df[column].quantile(0.75)\n",
    "    IQR = Q3 - Q1\n",
    "    lower_bound = Q1 - 1.5 * IQR\n",
    "    upper_bound = Q3 + 1.5 * IQR\n",
    "    filtered_df = df[(df[column] >= lower_bound) & (df[column] <= upper_bound)]\n",
    "    return filtered_df\n",
    "\n",
    "# Removendo outliers\n",
    "cleaned_data = remove_outliers(df_nodes_f, 'tempo_parada')"
   ]
  },
  {
   "cell_type": "markdown",
   "id": "aa98e67b-2604-4fa6-9536-ce4c8f09d2b9",
   "metadata": {},
   "source": [
    "## Create Tensor\n",
    " - shape: intervals x nodes x features)"
   ]
  },
  {
   "cell_type": "code",
   "execution_count": 25,
   "id": "d8657974-a7a0-4767-b362-a193af60a495",
   "metadata": {
    "tags": []
   },
   "outputs": [
    {
     "data": {
      "text/plain": [
       "(6, 240, 2871)"
      ]
     },
     "execution_count": 25,
     "metadata": {},
     "output_type": "execute_result"
    }
   ],
   "source": [
    "dfs = []\n",
    "df_columns_order = pd.DataFrame()\n",
    "for att in atributos:\n",
    "    df_att = df_nodes_f.pivot_table(index='time', columns='node', values=att).reset_index()\n",
    "    \n",
    "    df_att = df_att.drop(['time'], axis=1)\n",
    "    dfs.append(df_att.to_numpy())\n",
    "    df_columns_order[att] = df_att.columns\n",
    "    \n",
    "node_features = np.array(dfs)\n",
    "node_features.shape"
   ]
  },
  {
   "cell_type": "code",
   "execution_count": 26,
   "id": "60cbe641-5fee-462b-8398-02277d443b46",
   "metadata": {},
   "outputs": [
    {
     "ename": "NameError",
     "evalue": "name 'stop' is not defined",
     "output_type": "error",
     "traceback": [
      "\u001b[0;31m---------------------------------------------------------------------------\u001b[0m",
      "\u001b[0;31mNameError\u001b[0m                                 Traceback (most recent call last)",
      "\u001b[0;32m/tmp/ipykernel_292914/3957423419.py\u001b[0m in \u001b[0;36m<module>\u001b[0;34m\u001b[0m\n\u001b[0;32m----> 1\u001b[0;31m \u001b[0mstop\u001b[0m\u001b[0;34m\u001b[0m\u001b[0;34m\u001b[0m\u001b[0m\n\u001b[0m",
      "\u001b[0;31mNameError\u001b[0m: name 'stop' is not defined"
     ]
    }
   ],
   "source": [
    "stop"
   ]
  },
  {
   "cell_type": "code",
   "execution_count": null,
   "id": "6dca04a9-09f2-4ff4-aef1-e910c330c40b",
   "metadata": {
    "tags": []
   },
   "outputs": [],
   "source": [
    "df_columns_order['tensor_idx'] = np.arange(0, df_columns_order.shape[0])\n",
    "df_columns_order.to_parquet('../data/graph_designer/tensor_node_idx.parquet', index=False)\n",
    "df_columns_order.head()"
   ]
  },
  {
   "cell_type": "code",
   "execution_count": null,
   "id": "400816dd-a78b-4034-911b-67c2150af3ee",
   "metadata": {
    "tags": []
   },
   "outputs": [],
   "source": [
    "# save dataframe with a temporal node features\n",
    "df_nodes_f.to_parquet(f'../data/graph_designer/node_temporal_features_{date}.parquet', index=False)\n",
    "# numpy array with all features\n",
    "np.save(f'../data/graph_designer/tensor_node_temporal_features_{date}.npy', node_features)"
   ]
  },
  {
   "cell_type": "code",
   "execution_count": null,
   "id": "de32ac74-c3fd-4630-bd35-3571ab7680d4",
   "metadata": {
    "tags": []
   },
   "outputs": [],
   "source": [
    "node_features.shape"
   ]
  },
  {
   "cell_type": "code",
   "execution_count": null,
   "id": "6095e636-6681-4187-a154-1f3f2c912de2",
   "metadata": {
    "tags": []
   },
   "outputs": [],
   "source": [
    "date"
   ]
  },
  {
   "cell_type": "code",
   "execution_count": null,
   "id": "2d80fe87-a442-430e-b8a9-5b896a3ec60a",
   "metadata": {},
   "outputs": [],
   "source": []
  }
 ],
 "metadata": {
  "kernelspec": {
   "display_name": "Python 3 (ipykernel)",
   "language": "python",
   "name": "python3"
  },
  "language_info": {
   "codemirror_mode": {
    "name": "ipython",
    "version": 3
   },
   "file_extension": ".py",
   "mimetype": "text/x-python",
   "name": "python",
   "nbconvert_exporter": "python",
   "pygments_lexer": "ipython3",
   "version": "3.7.13"
  }
 },
 "nbformat": 4,
 "nbformat_minor": 5
}
