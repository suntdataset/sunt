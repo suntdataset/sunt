{
 "cells": [
  {
   "cell_type": "code",
   "execution_count": 1,
   "id": "3815782e-b8c7-4122-9d08-1bdb3b6fe98a",
   "metadata": {
    "tags": []
   },
   "outputs": [],
   "source": [
    "import os\n",
    "import warnings\n",
    "import numpy as np\n",
    "import pandas as pd\n",
    "import networkx as nx\n",
    "from datetime import datetime\n",
    "from datetime import timedelta\n",
    "from tqdm import tqdm\n",
    "import matplotlib.pyplot as plt\n",
    "import seaborn as sns"
   ]
  },
  {
   "cell_type": "code",
   "execution_count": 2,
   "id": "3fa71728-ab4a-42f6-b47c-d77ab0bfd503",
   "metadata": {},
   "outputs": [],
   "source": [
    "sns.set_theme(style=\"darkgrid\")\n",
    "warnings.filterwarnings('ignore')\n",
    "pd.set_option('display.max_columns', None)"
   ]
  },
  {
   "cell_type": "code",
   "execution_count": 5,
   "id": "4fca566a-bbd7-4828-9675-8a06238dd153",
   "metadata": {
    "tags": []
   },
   "outputs": [],
   "source": [
    "date = '01-03-2024'\n",
    "d, m, a = date.split('-')\n",
    "folder = f\"{a}-{m}-{d}\"\n",
    "fname_sb = f'/mnt/data/sobe_desce/03_2024/{folder}/output/sobe_desce_{date}_esp.csv'"
   ]
  },
  {
   "cell_type": "code",
   "execution_count": 6,
   "id": "3ee356c3-3a26-42a0-8c4c-61d8af4993a3",
   "metadata": {
    "tags": []
   },
   "outputs": [],
   "source": [
    "path_out = '/mnt/data/origin_destination/new_nf/'"
   ]
  },
  {
   "cell_type": "markdown",
   "id": "a4fdff0e-1bc3-4fa9-bb1d-2fa3e5f4a8ef",
   "metadata": {},
   "source": [
    "## Grafo"
   ]
  },
  {
   "cell_type": "code",
   "execution_count": 11,
   "id": "f47067df-5487-4a35-9fc6-936ce82e6568",
   "metadata": {
    "tags": []
   },
   "outputs": [],
   "source": [
    "# load grph\n",
    "#G = nx.read_gpickle('/mnt/data/origin_destination/gtfs_bus_add_lines_09_2023.gpickle')\n",
    "G = nx.read_gpickle('../data/graph_designer/graph_gtfs_fev_2024.gpickle')"
   ]
  },
  {
   "cell_type": "code",
   "execution_count": 12,
   "id": "e5eccea7-d28a-4566-a26f-4378a86fbe96",
   "metadata": {
    "tags": []
   },
   "outputs": [
    {
     "data": {
      "text/plain": [
       "True"
      ]
     },
     "execution_count": 12,
     "metadata": {},
     "output_type": "execute_result"
    }
   ],
   "source": [
    "G.is_directed()"
   ]
  },
  {
   "cell_type": "code",
   "execution_count": 13,
   "id": "c128128b-5587-485d-a9b3-2e551bef7f85",
   "metadata": {
    "tags": []
   },
   "outputs": [
    {
     "data": {
      "text/plain": [
       "((2871, 2871), (2871, 2871), numpy.matrix)"
      ]
     },
     "execution_count": 13,
     "metadata": {},
     "output_type": "execute_result"
    }
   ],
   "source": [
    "# create adjacency matrix\n",
    "A = nx.adjacency_matrix(G, weight='distance')\n",
    "a_sparse = A.todense()\n",
    "A.shape, a_sparse.shape, type(a_sparse)"
   ]
  },
  {
   "cell_type": "code",
   "execution_count": 14,
   "id": "1f9f869a-5363-4fa4-8d2d-243a3a1b6e73",
   "metadata": {
    "tags": []
   },
   "outputs": [
    {
     "name": "stdout",
     "output_type": "stream",
     "text": [
      "Node 100009577 is at index 0 in the adjacency matrix\n",
      "Node 345936831 is at index 1 in the adjacency matrix\n",
      "Node 100722777 is at index 2 in the adjacency matrix\n"
     ]
    }
   ],
   "source": [
    "# Get the nodes of the graph\n",
    "nodes = list(G.nodes())\n",
    "\n",
    "# Print the nodes and their corresponding indices in the adjacency matrix\n",
    "for i, node in enumerate(nodes[:3]):\n",
    "    print(f\"Node {node} is at index {i} in the adjacency matrix\")"
   ]
  },
  {
   "cell_type": "markdown",
   "id": "374e81b5-7c7d-429e-81b3-bfc2d452cfcc",
   "metadata": {},
   "source": [
    "## Trip Time Series"
   ]
  },
  {
   "cell_type": "code",
   "execution_count": 16,
   "id": "7b1e6c1c-fc88-42ee-bae4-3fd33a3c2a74",
   "metadata": {
    "tags": []
   },
   "outputs": [
    {
     "data": {
      "text/html": [
       "<div>\n",
       "<style scoped>\n",
       "    .dataframe tbody tr th:only-of-type {\n",
       "        vertical-align: middle;\n",
       "    }\n",
       "\n",
       "    .dataframe tbody tr th {\n",
       "        vertical-align: top;\n",
       "    }\n",
       "\n",
       "    .dataframe thead th {\n",
       "        text-align: right;\n",
       "    }\n",
       "</style>\n",
       "<table border=\"1\" class=\"dataframe\">\n",
       "  <thead>\n",
       "    <tr style=\"text-align: right;\">\n",
       "      <th></th>\n",
       "      <th>linha_atend</th>\n",
       "      <th>linha</th>\n",
       "      <th>cod_ate</th>\n",
       "      <th>sentido</th>\n",
       "      <th>shape</th>\n",
       "      <th>ordem</th>\n",
       "      <th>stop_id</th>\n",
       "      <th>lat</th>\n",
       "      <th>lon</th>\n",
       "      <th>distancias</th>\n",
       "      <th>acumulado</th>\n",
       "      <th>posicao</th>\n",
       "      <th>veiculo</th>\n",
       "      <th>trip</th>\n",
       "      <th>trip_id</th>\n",
       "      <th>inicio_viagem</th>\n",
       "      <th>fim_viagem</th>\n",
       "      <th>set</th>\n",
       "      <th>hora_ponto</th>\n",
       "      <th>saida</th>\n",
       "      <th>fill</th>\n",
       "      <th>tempo_parada</th>\n",
       "      <th>duracao</th>\n",
       "      <th>tempo_total</th>\n",
       "      <th>tempo_parada_acum</th>\n",
       "      <th>duracao_acum</th>\n",
       "      <th>distancia</th>\n",
       "      <th>dis_acum</th>\n",
       "      <th>vm</th>\n",
       "      <th>vm_acum</th>\n",
       "      <th>type</th>\n",
       "    </tr>\n",
       "  </thead>\n",
       "  <tbody>\n",
       "    <tr>\n",
       "      <th>0</th>\n",
       "      <td>123101_57892</td>\n",
       "      <td>123101</td>\n",
       "      <td>57892</td>\n",
       "      <td>I</td>\n",
       "      <td>57892_I</td>\n",
       "      <td>1</td>\n",
       "      <td>44782944</td>\n",
       "      <td>-12.942813</td>\n",
       "      <td>-38.438602</td>\n",
       "      <td>0.000</td>\n",
       "      <td>0.000</td>\n",
       "      <td>inicial</td>\n",
       "      <td>21224</td>\n",
       "      <td>1.0</td>\n",
       "      <td>21224_123101_1</td>\n",
       "      <td>2024-03-01 05:30:58</td>\n",
       "      <td>2024-03-01 06:51:28</td>\n",
       "      <td>ottrans</td>\n",
       "      <td>2024-03-01 05:30:58</td>\n",
       "      <td>2024-03-01 05:30:58</td>\n",
       "      <td>False</td>\n",
       "      <td>0.0</td>\n",
       "      <td>0.0</td>\n",
       "      <td>0.0</td>\n",
       "      <td>0.0</td>\n",
       "      <td>0.0</td>\n",
       "      <td>0.000000</td>\n",
       "      <td>0.000000</td>\n",
       "      <td>0.000000</td>\n",
       "      <td>0.000000</td>\n",
       "      <td>bus</td>\n",
       "    </tr>\n",
       "    <tr>\n",
       "      <th>1</th>\n",
       "      <td>123101_57892</td>\n",
       "      <td>123101</td>\n",
       "      <td>57892</td>\n",
       "      <td>I</td>\n",
       "      <td>57892_I</td>\n",
       "      <td>2</td>\n",
       "      <td>44784618</td>\n",
       "      <td>-12.939712</td>\n",
       "      <td>-38.438862</td>\n",
       "      <td>0.449</td>\n",
       "      <td>0.449</td>\n",
       "      <td>intermediario</td>\n",
       "      <td>21224</td>\n",
       "      <td>1.0</td>\n",
       "      <td>21224_123101_1</td>\n",
       "      <td>2024-03-01 05:30:58</td>\n",
       "      <td>2024-03-01 06:51:28</td>\n",
       "      <td>ottrans</td>\n",
       "      <td>2024-03-01 05:32:18</td>\n",
       "      <td>2024-03-01 05:32:25</td>\n",
       "      <td>False</td>\n",
       "      <td>7.0</td>\n",
       "      <td>80.0</td>\n",
       "      <td>87.0</td>\n",
       "      <td>7.0</td>\n",
       "      <td>80.0</td>\n",
       "      <td>0.345999</td>\n",
       "      <td>0.000000</td>\n",
       "      <td>15.569937</td>\n",
       "      <td>0.000000</td>\n",
       "      <td>bus</td>\n",
       "    </tr>\n",
       "    <tr>\n",
       "      <th>2</th>\n",
       "      <td>123101_57892</td>\n",
       "      <td>123101</td>\n",
       "      <td>57892</td>\n",
       "      <td>I</td>\n",
       "      <td>57892_I</td>\n",
       "      <td>3</td>\n",
       "      <td>44784340</td>\n",
       "      <td>-12.938302</td>\n",
       "      <td>-38.439884</td>\n",
       "      <td>0.126</td>\n",
       "      <td>0.575</td>\n",
       "      <td>intermediario</td>\n",
       "      <td>21224</td>\n",
       "      <td>1.0</td>\n",
       "      <td>21224_123101_1</td>\n",
       "      <td>2024-03-01 05:30:58</td>\n",
       "      <td>2024-03-01 06:51:28</td>\n",
       "      <td>ottrans</td>\n",
       "      <td>2024-03-01 05:32:46</td>\n",
       "      <td>2024-03-01 05:33:22</td>\n",
       "      <td>False</td>\n",
       "      <td>36.0</td>\n",
       "      <td>21.0</td>\n",
       "      <td>57.0</td>\n",
       "      <td>43.0</td>\n",
       "      <td>101.0</td>\n",
       "      <td>0.191938</td>\n",
       "      <td>0.345999</td>\n",
       "      <td>32.903659</td>\n",
       "      <td>12.332624</td>\n",
       "      <td>bus</td>\n",
       "    </tr>\n",
       "    <tr>\n",
       "      <th>3</th>\n",
       "      <td>123101_57892</td>\n",
       "      <td>123101</td>\n",
       "      <td>57892</td>\n",
       "      <td>I</td>\n",
       "      <td>57892_I</td>\n",
       "      <td>4</td>\n",
       "      <td>44782337</td>\n",
       "      <td>-12.935150</td>\n",
       "      <td>-38.440578</td>\n",
       "      <td>0.523</td>\n",
       "      <td>1.098</td>\n",
       "      <td>intermediario</td>\n",
       "      <td>21224</td>\n",
       "      <td>1.0</td>\n",
       "      <td>21224_123101_1</td>\n",
       "      <td>2024-03-01 05:30:58</td>\n",
       "      <td>2024-03-01 06:51:28</td>\n",
       "      <td>ottrans</td>\n",
       "      <td>2024-03-01 05:35:31</td>\n",
       "      <td>2024-03-01 05:36:03</td>\n",
       "      <td>False</td>\n",
       "      <td>32.0</td>\n",
       "      <td>129.0</td>\n",
       "      <td>161.0</td>\n",
       "      <td>75.0</td>\n",
       "      <td>230.0</td>\n",
       "      <td>0.358460</td>\n",
       "      <td>0.537937</td>\n",
       "      <td>10.003548</td>\n",
       "      <td>8.419877</td>\n",
       "      <td>bus</td>\n",
       "    </tr>\n",
       "    <tr>\n",
       "      <th>4</th>\n",
       "      <td>123101_57892</td>\n",
       "      <td>123101</td>\n",
       "      <td>57892</td>\n",
       "      <td>I</td>\n",
       "      <td>57892_I</td>\n",
       "      <td>5</td>\n",
       "      <td>44784470</td>\n",
       "      <td>-12.937017</td>\n",
       "      <td>-38.437576</td>\n",
       "      <td>0.417</td>\n",
       "      <td>1.515</td>\n",
       "      <td>intermediario</td>\n",
       "      <td>21224</td>\n",
       "      <td>1.0</td>\n",
       "      <td>21224_123101_1</td>\n",
       "      <td>2024-03-01 05:30:58</td>\n",
       "      <td>2024-03-01 06:51:28</td>\n",
       "      <td>ottrans</td>\n",
       "      <td>2024-03-01 05:36:50</td>\n",
       "      <td>2024-03-01 05:37:07</td>\n",
       "      <td>False</td>\n",
       "      <td>17.0</td>\n",
       "      <td>47.0</td>\n",
       "      <td>64.0</td>\n",
       "      <td>92.0</td>\n",
       "      <td>277.0</td>\n",
       "      <td>0.385962</td>\n",
       "      <td>0.896397</td>\n",
       "      <td>29.563075</td>\n",
       "      <td>11.649926</td>\n",
       "      <td>bus</td>\n",
       "    </tr>\n",
       "  </tbody>\n",
       "</table>\n",
       "</div>"
      ],
      "text/plain": [
       "    linha_atend   linha cod_ate sentido    shape  ordem   stop_id        lat  \\\n",
       "0  123101_57892  123101   57892       I  57892_I      1  44782944 -12.942813   \n",
       "1  123101_57892  123101   57892       I  57892_I      2  44784618 -12.939712   \n",
       "2  123101_57892  123101   57892       I  57892_I      3  44784340 -12.938302   \n",
       "3  123101_57892  123101   57892       I  57892_I      4  44782337 -12.935150   \n",
       "4  123101_57892  123101   57892       I  57892_I      5  44784470 -12.937017   \n",
       "\n",
       "         lon  distancias  acumulado        posicao veiculo  trip  \\\n",
       "0 -38.438602       0.000      0.000        inicial   21224   1.0   \n",
       "1 -38.438862       0.449      0.449  intermediario   21224   1.0   \n",
       "2 -38.439884       0.126      0.575  intermediario   21224   1.0   \n",
       "3 -38.440578       0.523      1.098  intermediario   21224   1.0   \n",
       "4 -38.437576       0.417      1.515  intermediario   21224   1.0   \n",
       "\n",
       "          trip_id       inicio_viagem          fim_viagem      set  \\\n",
       "0  21224_123101_1 2024-03-01 05:30:58 2024-03-01 06:51:28  ottrans   \n",
       "1  21224_123101_1 2024-03-01 05:30:58 2024-03-01 06:51:28  ottrans   \n",
       "2  21224_123101_1 2024-03-01 05:30:58 2024-03-01 06:51:28  ottrans   \n",
       "3  21224_123101_1 2024-03-01 05:30:58 2024-03-01 06:51:28  ottrans   \n",
       "4  21224_123101_1 2024-03-01 05:30:58 2024-03-01 06:51:28  ottrans   \n",
       "\n",
       "           hora_ponto               saida   fill  tempo_parada  duracao  \\\n",
       "0 2024-03-01 05:30:58 2024-03-01 05:30:58  False           0.0      0.0   \n",
       "1 2024-03-01 05:32:18 2024-03-01 05:32:25  False           7.0     80.0   \n",
       "2 2024-03-01 05:32:46 2024-03-01 05:33:22  False          36.0     21.0   \n",
       "3 2024-03-01 05:35:31 2024-03-01 05:36:03  False          32.0    129.0   \n",
       "4 2024-03-01 05:36:50 2024-03-01 05:37:07  False          17.0     47.0   \n",
       "\n",
       "   tempo_total  tempo_parada_acum  duracao_acum  distancia  dis_acum  \\\n",
       "0          0.0                0.0           0.0   0.000000  0.000000   \n",
       "1         87.0                7.0          80.0   0.345999  0.000000   \n",
       "2         57.0               43.0         101.0   0.191938  0.345999   \n",
       "3        161.0               75.0         230.0   0.358460  0.537937   \n",
       "4         64.0               92.0         277.0   0.385962  0.896397   \n",
       "\n",
       "          vm    vm_acum type  \n",
       "0   0.000000   0.000000  bus  \n",
       "1  15.569937   0.000000  bus  \n",
       "2  32.903659  12.332624  bus  \n",
       "3  10.003548   8.419877  bus  \n",
       "4  29.563075  11.649926  bus  "
      ]
     },
     "execution_count": 16,
     "metadata": {},
     "output_type": "execute_result"
    }
   ],
   "source": [
    "tts = pd.read_parquet(f'/mnt/data/sobe_desce/03_2024/{folder}/output/trips_time-series_{date}_{date}.parquet')\n",
    "tts.head()"
   ]
  },
  {
   "cell_type": "code",
   "execution_count": 17,
   "id": "dda9642f-61f2-4794-a47a-9ec4826f3213",
   "metadata": {},
   "outputs": [
    {
     "name": "stdout",
     "output_type": "stream",
     "text": [
      "<class 'pandas.core.frame.DataFrame'>\n",
      "RangeIndex: 739370 entries, 0 to 739369\n",
      "Data columns (total 31 columns):\n",
      " #   Column             Non-Null Count   Dtype         \n",
      "---  ------             --------------   -----         \n",
      " 0   linha_atend        739370 non-null  object        \n",
      " 1   linha              739370 non-null  object        \n",
      " 2   cod_ate            739370 non-null  object        \n",
      " 3   sentido            739370 non-null  object        \n",
      " 4   shape              739370 non-null  object        \n",
      " 5   ordem              739370 non-null  int64         \n",
      " 6   stop_id            739370 non-null  object        \n",
      " 7   lat                739370 non-null  float64       \n",
      " 8   lon                739370 non-null  float64       \n",
      " 9   distancias         739370 non-null  float64       \n",
      " 10  acumulado          739370 non-null  float64       \n",
      " 11  posicao            739370 non-null  object        \n",
      " 12  veiculo            739266 non-null  object        \n",
      " 13  trip               739266 non-null  float64       \n",
      " 14  trip_id            739266 non-null  object        \n",
      " 15  inicio_viagem      739266 non-null  datetime64[ns]\n",
      " 16  fim_viagem         739266 non-null  datetime64[ns]\n",
      " 17  set                739266 non-null  object        \n",
      " 18  hora_ponto         739370 non-null  datetime64[ns]\n",
      " 19  saida              739370 non-null  datetime64[ns]\n",
      " 20  fill               739370 non-null  bool          \n",
      " 21  tempo_parada       739370 non-null  float64       \n",
      " 22  duracao            739370 non-null  float64       \n",
      " 23  tempo_total        739370 non-null  float64       \n",
      " 24  tempo_parada_acum  739370 non-null  float64       \n",
      " 25  duracao_acum       739370 non-null  float64       \n",
      " 26  distancia          739370 non-null  float64       \n",
      " 27  dis_acum           739370 non-null  float64       \n",
      " 28  vm                 739282 non-null  float64       \n",
      " 29  vm_acum            739045 non-null  float64       \n",
      " 30  type               739370 non-null  object        \n",
      "dtypes: bool(1), datetime64[ns](4), float64(14), int64(1), object(11)\n",
      "memory usage: 169.9+ MB\n"
     ]
    }
   ],
   "source": [
    "tts.info()"
   ]
  },
  {
   "cell_type": "code",
   "execution_count": 18,
   "id": "eee4d231-3753-4193-a9f2-564d5c19bbaa",
   "metadata": {},
   "outputs": [
    {
     "data": {
      "text/plain": [
       "count    7.392820e+05\n",
       "mean              inf\n",
       "std               NaN\n",
       "min     -7.389536e+03\n",
       "25%      1.639009e+01\n",
       "50%      2.607927e+01\n",
       "75%      3.885914e+01\n",
       "max               inf\n",
       "Name: vm, dtype: float64"
      ]
     },
     "execution_count": 18,
     "metadata": {},
     "output_type": "execute_result"
    }
   ],
   "source": [
    "tts['vm'].describe()"
   ]
  },
  {
   "cell_type": "code",
   "execution_count": 19,
   "id": "64b8ecff-6273-45bc-b99c-d07bd6e04105",
   "metadata": {
    "tags": []
   },
   "outputs": [],
   "source": [
    "tts['vm'][tts['vm'] < 0] = pd.NA\n",
    "tts['vm'][tts['vm'] > 80] = pd.NA"
   ]
  },
  {
   "cell_type": "code",
   "execution_count": 20,
   "id": "8736ec79-7c65-43e4-98f3-b454baef905c",
   "metadata": {
    "tags": []
   },
   "outputs": [
    {
     "data": {
      "text/plain": [
       "(19505, 31)"
      ]
     },
     "execution_count": 20,
     "metadata": {},
     "output_type": "execute_result"
    }
   ],
   "source": [
    "tts[tts['vm'].isna()].shape"
   ]
  },
  {
   "cell_type": "code",
   "execution_count": 21,
   "id": "3d6e19f4-6a8b-4dab-9672-9c6fbde812a4",
   "metadata": {
    "tags": []
   },
   "outputs": [],
   "source": [
    "tts['vm'] = tts['vm'].fillna(method='ffill')"
   ]
  },
  {
   "cell_type": "code",
   "execution_count": 22,
   "id": "9e139b2e-25d1-4e99-99f7-c5042493261c",
   "metadata": {
    "tags": []
   },
   "outputs": [
    {
     "data": {
      "text/plain": [
       "(0, 31)"
      ]
     },
     "execution_count": 22,
     "metadata": {},
     "output_type": "execute_result"
    }
   ],
   "source": [
    "tts[tts['vm'].isna()].shape"
   ]
  },
  {
   "cell_type": "code",
   "execution_count": 23,
   "id": "988c64d4-0ccc-4f70-965f-4e8527ae4fe1",
   "metadata": {
    "tags": []
   },
   "outputs": [
    {
     "data": {
      "text/plain": [
       "<AxesSubplot:>"
      ]
     },
     "execution_count": 23,
     "metadata": {},
     "output_type": "execute_result"
    },
    {
     "data": {
      "image/png": "[encoded data removed]",
      "text/plain": [
       "<Figure size 432x288 with 1 Axes>"
      ]
     },
     "metadata": {
      "needs_background": "light"
     },
     "output_type": "display_data"
    }
   ],
   "source": [
    "sns.boxplot(tts['vm'].values)"
   ]
  },
  {
   "cell_type": "code",
   "execution_count": 24,
   "id": "4296752b-e668-43c4-97fe-97de921fadae",
   "metadata": {},
   "outputs": [
    {
     "data": {
      "text/plain": [
       "count    739370.000000\n",
       "mean         27.401336\n",
       "std          15.526595\n",
       "min           0.000000\n",
       "25%          16.048815\n",
       "50%          25.521551\n",
       "75%          37.737479\n",
       "max          79.997615\n",
       "Name: vm, dtype: float64"
      ]
     },
     "execution_count": 24,
     "metadata": {},
     "output_type": "execute_result"
    }
   ],
   "source": [
    "tts['vm'].describe()"
   ]
  },
  {
   "cell_type": "code",
   "execution_count": 25,
   "id": "b5ab6bd7-203b-452a-b27d-ca74b79c98e0",
   "metadata": {
    "tags": []
   },
   "outputs": [
    {
     "data": {
      "text/plain": [
       "(0, 31)"
      ]
     },
     "execution_count": 25,
     "metadata": {},
     "output_type": "execute_result"
    }
   ],
   "source": [
    "tts[tts['vm'].isna()].shape"
   ]
  },
  {
   "cell_type": "code",
   "execution_count": 28,
   "id": "caeb5684-d037-4a24-899e-956bfd49a345",
   "metadata": {
    "tags": []
   },
   "outputs": [
    {
     "data": {
      "text/plain": [
       "<AxesSubplot:>"
      ]
     },
     "execution_count": 28,
     "metadata": {},
     "output_type": "execute_result"
    },
    {
     "data": {
      "image/png": "[encoded data removed]",
      "text/plain": [
       "<Figure size 432x288 with 1 Axes>"
      ]
     },
     "metadata": {
      "needs_background": "light"
     },
     "output_type": "display_data"
    }
   ],
   "source": [
    "sns.violinplot(tts['vm'].values)"
   ]
  },
  {
   "cell_type": "code",
   "execution_count": 29,
   "id": "c3107f3f-3d7b-4491-a1a1-1c57434a2ae9",
   "metadata": {
    "tags": []
   },
   "outputs": [
    {
     "data": {
      "text/plain": [
       "<AxesSubplot:ylabel='Count'>"
      ]
     },
     "execution_count": 29,
     "metadata": {},
     "output_type": "execute_result"
    },
    {
     "data": {
      "image/png": "[encoded data removed]",
      "text/plain": [
       "<Figure size 432x288 with 1 Axes>"
      ]
     },
     "metadata": {
      "needs_background": "light"
     },
     "output_type": "display_data"
    }
   ],
   "source": [
    "sns.histplot(tts['vm'].values)"
   ]
  },
  {
   "cell_type": "code",
   "execution_count": 30,
   "id": "c881024f-ac70-4ff5-9949-b5e85dc31d3f",
   "metadata": {
    "tags": []
   },
   "outputs": [
    {
     "data": {
      "text/plain": [
       "count    739370.000000\n",
       "mean          7.942860\n",
       "std           6.938332\n",
       "min           0.000000\n",
       "25%           2.309278\n",
       "50%           6.046421\n",
       "75%          12.036990\n",
       "max          32.343860\n",
       "Name: dis_acum, dtype: float64"
      ]
     },
     "execution_count": 30,
     "metadata": {},
     "output_type": "execute_result"
    }
   ],
   "source": [
    "tts.dis_acum.describe()"
   ]
  },
  {
   "cell_type": "code",
   "execution_count": 31,
   "id": "f80527ae-ba46-41f5-a476-5907323f85bc",
   "metadata": {
    "tags": []
   },
   "outputs": [
    {
     "data": {
      "text/plain": [
       "((739370, 31), (0, 31), (712022, 31))"
      ]
     },
     "execution_count": 31,
     "metadata": {},
     "output_type": "execute_result"
    }
   ],
   "source": [
    "tts.shape, tts.query(\" vm < 0  \").shape, tts.query(\" vm > 0 and vm < 80 \").shape"
   ]
  },
  {
   "cell_type": "code",
   "execution_count": 32,
   "id": "2db46dfe-0b04-4bff-b0d5-19077c03d321",
   "metadata": {
    "tags": []
   },
   "outputs": [
    {
     "data": {
      "text/plain": [
       "count    712022.000000\n",
       "mean         28.453792\n",
       "std          14.845477\n",
       "min           0.057502\n",
       "25%          17.168200\n",
       "50%          26.258123\n",
       "75%          38.273506\n",
       "max          79.997615\n",
       "Name: vm, dtype: float64"
      ]
     },
     "execution_count": 32,
     "metadata": {},
     "output_type": "execute_result"
    }
   ],
   "source": [
    "tts.query(\" vm > 0  \").vm.describe()"
   ]
  },
  {
   "cell_type": "code",
   "execution_count": 33,
   "id": "82bc87bf-70b3-4a38-b1a3-e5150b8a8ca4",
   "metadata": {
    "tags": []
   },
   "outputs": [
    {
     "data": {
      "text/plain": [
       "count    712022.000000\n",
       "mean         28.453792\n",
       "std          14.845477\n",
       "min           0.057502\n",
       "25%          17.168200\n",
       "50%          26.258123\n",
       "75%          38.273506\n",
       "max          79.997615\n",
       "Name: vm, dtype: float64"
      ]
     },
     "execution_count": 33,
     "metadata": {},
     "output_type": "execute_result"
    }
   ],
   "source": [
    "tts.query(\" vm > 0 and vm < 80 \").vm.describe()"
   ]
  },
  {
   "cell_type": "code",
   "execution_count": 34,
   "id": "bbe3c057-3c79-4442-89d1-aa64fddd364c",
   "metadata": {
    "tags": []
   },
   "outputs": [],
   "source": [
    "#sns.boxplot(tts.query(\" tempo_total > 0 and tempo_total < 240 \").vm.values)\n",
    "#sns.boxplot(tts.query(\" vm > 0 and vm < 80 and tempo_total > 0  \").tempo_total.values)"
   ]
  },
  {
   "cell_type": "code",
   "execution_count": 35,
   "id": "d389b0b4-e1fd-4fc0-8557-066626125eb3",
   "metadata": {
    "tags": []
   },
   "outputs": [],
   "source": [
    "def insert_faixa(\n",
    "    fpath: str, \n",
    "    date: str, \n",
    "    freq=5\n",
    "    ) -> tuple:\n",
    "    \n",
    "    df = pd.read_csv(fpath)\n",
    "    # convert to datetime\n",
    "    df.hora_ponto = pd.to_datetime(df.hora_ponto, format='%Y-%m-%d %H:%M:%S')\n",
    "    # \n",
    "    min_time_str = f\"{date} 05:00:00\"\n",
    "    max_time_str = f\"{date} 00:59:59\"\n",
    "    # convert to datetime instance\n",
    "    min_datetime = datetime.strptime(min_time_str, '%Y-%m-%d %H:%M:%S')\n",
    "    max_datetime = datetime.strptime(max_time_str, '%Y-%m-%d %H:%M:%S')\n",
    "    max_datetime = max_datetime + timedelta(days=1)\n",
    "    \n",
    "    print(f\"[{min_datetime}, {max_datetime}]\")\n",
    "    \n",
    "    # create intervals by frequency\n",
    "    interval = freq\n",
    "    intervals = []\n",
    "    generation = True\n",
    "    intervals.append(min_datetime)\n",
    "    count = 0\n",
    "    while generation:\n",
    "        lag = intervals[-1]\n",
    "        new = lag + timedelta(minutes=interval)\n",
    "        if new <= max_datetime:\n",
    "            intervals.append(new)\n",
    "        else:\n",
    "            generation = False\n",
    "            print(f\"End generation: {new}\")\n",
    "        count +=1\n",
    "    print(f\"Intervals: {count}\")\n",
    "    intervals_pairs = [[intervals[i], intervals[i+1]] for i in range(len(intervals)-1)]\n",
    "    df['interval'] = pd.NaT\n",
    "    for inter in tqdm(intervals_pairs):\n",
    "        i, j = inter\n",
    "        df['interval'][(df.hora_ponto >= i) & (df.hora_ponto < j)] = i\n",
    "    # drop na\n",
    "    df = df[~df.interval.isna()]\n",
    "    \n",
    "    #df_loader_faixa = df.pivot_table(index=['interval', 'ponto'], values='carregamento', aggfunc='sum', dropna=False).reset_index()\n",
    "    #df_loader_faixa = df.pivot_table(index=['interval', 'ponto'], values='carregamento_fit', aggfunc='sum', dropna=False).reset_index()\n",
    "    \n",
    "    return df, intervals"
   ]
  },
  {
   "cell_type": "code",
   "execution_count": 36,
   "id": "9d159234-50a4-41d2-a14d-b7b0703a3617",
   "metadata": {
    "tags": []
   },
   "outputs": [
    {
     "name": "stdout",
     "output_type": "stream",
     "text": [
      "[2024-03-01 05:00:00, 2024-03-02 00:59:59]\n",
      "End generation: 2024-03-02 01:00:00\n",
      "Intervals: 240\n"
     ]
    },
    {
     "name": "stderr",
     "output_type": "stream",
     "text": [
      "100% 239/239 [00:01<00:00, 238.15it/s]\n"
     ]
    }
   ],
   "source": [
    "df_day, inter = insert_faixa(fpath=fname_sb, \n",
    "                      date=f'{a}-{m}-{d}', \n",
    "                      freq=5)"
   ]
  },
  {
   "cell_type": "code",
   "execution_count": 37,
   "id": "d3383375-843d-48fa-8525-bf00b40d6e49",
   "metadata": {
    "tags": []
   },
   "outputs": [],
   "source": [
    "df_day = df_day.astype({'ponto': str})\n",
    "#nf = df_day.pivot_table(index='interval', columns='ponto', values='carregamento_fit', aggfunc='sum').reset_index()"
   ]
  },
  {
   "cell_type": "code",
   "execution_count": 38,
   "id": "f4e66503-9a20-42bb-b16a-05bae1a4db95",
   "metadata": {
    "tags": []
   },
   "outputs": [
    {
     "data": {
      "text/html": [
       "<div>\n",
       "<style scoped>\n",
       "    .dataframe tbody tr th:only-of-type {\n",
       "        vertical-align: middle;\n",
       "    }\n",
       "\n",
       "    .dataframe tbody tr th {\n",
       "        vertical-align: top;\n",
       "    }\n",
       "\n",
       "    .dataframe thead th {\n",
       "        text-align: right;\n",
       "    }\n",
       "</style>\n",
       "<table border=\"1\" class=\"dataframe\">\n",
       "  <thead>\n",
       "    <tr style=\"text-align: right;\">\n",
       "      <th></th>\n",
       "      <th>index</th>\n",
       "      <th>linha</th>\n",
       "      <th>cod_ate</th>\n",
       "      <th>sentido</th>\n",
       "      <th>ordem</th>\n",
       "      <th>ponto</th>\n",
       "      <th>veiculo</th>\n",
       "      <th>trip</th>\n",
       "      <th>trip_id</th>\n",
       "      <th>inicio_viagem</th>\n",
       "      <th>fim_viagem</th>\n",
       "      <th>set</th>\n",
       "      <th>hora_ponto</th>\n",
       "      <th>sobe</th>\n",
       "      <th>desce</th>\n",
       "      <th>lag_carregamento</th>\n",
       "      <th>saldo</th>\n",
       "      <th>carregamento</th>\n",
       "      <th>sobe_fit</th>\n",
       "      <th>lag_carregamento_fit</th>\n",
       "      <th>desce_fit</th>\n",
       "      <th>saldo_fit</th>\n",
       "      <th>carregamento_fit</th>\n",
       "      <th>percent_desce</th>\n",
       "      <th>percent_sobe_esp</th>\n",
       "      <th>sobe_especie</th>\n",
       "      <th>sobe_total_especie</th>\n",
       "      <th>lag_carregamento_especie</th>\n",
       "      <th>desce_total_especie</th>\n",
       "      <th>saldo_especie</th>\n",
       "      <th>carregamento_especie</th>\n",
       "      <th>percent_desce_fit</th>\n",
       "      <th>interval</th>\n",
       "    </tr>\n",
       "  </thead>\n",
       "  <tbody>\n",
       "    <tr>\n",
       "      <th>50</th>\n",
       "      <td>569</td>\n",
       "      <td>1035</td>\n",
       "      <td>53299</td>\n",
       "      <td>I</td>\n",
       "      <td>1</td>\n",
       "      <td>43787620</td>\n",
       "      <td>21225</td>\n",
       "      <td>2</td>\n",
       "      <td>21225_1035_2</td>\n",
       "      <td>2024-03-01 05:16:38</td>\n",
       "      <td>2024-03-01 07:05:11</td>\n",
       "      <td>ottrans</td>\n",
       "      <td>2024-03-01 05:16:38</td>\n",
       "      <td>3.0</td>\n",
       "      <td>0.0</td>\n",
       "      <td>0</td>\n",
       "      <td>0</td>\n",
       "      <td>3</td>\n",
       "      <td>3.0</td>\n",
       "      <td>0.000000</td>\n",
       "      <td>0.0</td>\n",
       "      <td>0.000000</td>\n",
       "      <td>3.000000</td>\n",
       "      <td>0.0</td>\n",
       "      <td>0.154004</td>\n",
       "      <td>0.608316</td>\n",
       "      <td>3.608316</td>\n",
       "      <td>0.000000</td>\n",
       "      <td>0.0</td>\n",
       "      <td>0.000000</td>\n",
       "      <td>3.608316</td>\n",
       "      <td>0.0</td>\n",
       "      <td>2024-03-01 05:15:00</td>\n",
       "    </tr>\n",
       "    <tr>\n",
       "      <th>51</th>\n",
       "      <td>570</td>\n",
       "      <td>1035</td>\n",
       "      <td>53299</td>\n",
       "      <td>I</td>\n",
       "      <td>2</td>\n",
       "      <td>215205049</td>\n",
       "      <td>21225</td>\n",
       "      <td>2</td>\n",
       "      <td>21225_1035_2</td>\n",
       "      <td>2024-03-01 05:16:38</td>\n",
       "      <td>2024-03-01 07:05:11</td>\n",
       "      <td>ottrans</td>\n",
       "      <td>2024-03-01 05:19:23</td>\n",
       "      <td>0.0</td>\n",
       "      <td>0.0</td>\n",
       "      <td>3</td>\n",
       "      <td>3</td>\n",
       "      <td>3</td>\n",
       "      <td>0.0</td>\n",
       "      <td>3.000000</td>\n",
       "      <td>0.0</td>\n",
       "      <td>3.000000</td>\n",
       "      <td>3.000000</td>\n",
       "      <td>0.0</td>\n",
       "      <td>0.000000</td>\n",
       "      <td>0.000000</td>\n",
       "      <td>0.000000</td>\n",
       "      <td>3.608316</td>\n",
       "      <td>0.0</td>\n",
       "      <td>3.608316</td>\n",
       "      <td>3.608316</td>\n",
       "      <td>0.0</td>\n",
       "      <td>2024-03-01 05:15:00</td>\n",
       "    </tr>\n",
       "    <tr>\n",
       "      <th>52</th>\n",
       "      <td>571</td>\n",
       "      <td>1035</td>\n",
       "      <td>53299</td>\n",
       "      <td>I</td>\n",
       "      <td>3</td>\n",
       "      <td>45833922</td>\n",
       "      <td>21225</td>\n",
       "      <td>2</td>\n",
       "      <td>21225_1035_2</td>\n",
       "      <td>2024-03-01 05:16:38</td>\n",
       "      <td>2024-03-01 07:05:11</td>\n",
       "      <td>ottrans</td>\n",
       "      <td>2024-03-01 05:20:52</td>\n",
       "      <td>2.0</td>\n",
       "      <td>0.0</td>\n",
       "      <td>3</td>\n",
       "      <td>3</td>\n",
       "      <td>5</td>\n",
       "      <td>3.0</td>\n",
       "      <td>3.000000</td>\n",
       "      <td>0.0</td>\n",
       "      <td>3.000000</td>\n",
       "      <td>6.000000</td>\n",
       "      <td>0.0</td>\n",
       "      <td>0.154004</td>\n",
       "      <td>0.608316</td>\n",
       "      <td>3.608316</td>\n",
       "      <td>3.608316</td>\n",
       "      <td>0.0</td>\n",
       "      <td>3.608316</td>\n",
       "      <td>7.216632</td>\n",
       "      <td>0.0</td>\n",
       "      <td>2024-03-01 05:20:00</td>\n",
       "    </tr>\n",
       "    <tr>\n",
       "      <th>53</th>\n",
       "      <td>572</td>\n",
       "      <td>1035</td>\n",
       "      <td>53299</td>\n",
       "      <td>I</td>\n",
       "      <td>4</td>\n",
       "      <td>120548519</td>\n",
       "      <td>21225</td>\n",
       "      <td>2</td>\n",
       "      <td>21225_1035_2</td>\n",
       "      <td>2024-03-01 05:16:38</td>\n",
       "      <td>2024-03-01 07:05:11</td>\n",
       "      <td>ottrans</td>\n",
       "      <td>2024-03-01 05:21:45</td>\n",
       "      <td>0.0</td>\n",
       "      <td>0.0</td>\n",
       "      <td>5</td>\n",
       "      <td>5</td>\n",
       "      <td>5</td>\n",
       "      <td>1.0</td>\n",
       "      <td>6.000000</td>\n",
       "      <td>0.0</td>\n",
       "      <td>6.000000</td>\n",
       "      <td>7.000000</td>\n",
       "      <td>0.0</td>\n",
       "      <td>0.051335</td>\n",
       "      <td>0.202772</td>\n",
       "      <td>1.202772</td>\n",
       "      <td>7.216632</td>\n",
       "      <td>0.0</td>\n",
       "      <td>7.216632</td>\n",
       "      <td>8.419405</td>\n",
       "      <td>0.0</td>\n",
       "      <td>2024-03-01 05:20:00</td>\n",
       "    </tr>\n",
       "    <tr>\n",
       "      <th>54</th>\n",
       "      <td>573</td>\n",
       "      <td>1035</td>\n",
       "      <td>53299</td>\n",
       "      <td>I</td>\n",
       "      <td>5</td>\n",
       "      <td>44782596</td>\n",
       "      <td>21225</td>\n",
       "      <td>2</td>\n",
       "      <td>21225_1035_2</td>\n",
       "      <td>2024-03-01 05:16:38</td>\n",
       "      <td>2024-03-01 07:05:11</td>\n",
       "      <td>ottrans</td>\n",
       "      <td>2024-03-01 05:23:59</td>\n",
       "      <td>3.0</td>\n",
       "      <td>0.0</td>\n",
       "      <td>5</td>\n",
       "      <td>5</td>\n",
       "      <td>8</td>\n",
       "      <td>5.0</td>\n",
       "      <td>7.000000</td>\n",
       "      <td>0.0</td>\n",
       "      <td>7.000000</td>\n",
       "      <td>12.000000</td>\n",
       "      <td>0.0</td>\n",
       "      <td>0.256674</td>\n",
       "      <td>1.013860</td>\n",
       "      <td>6.013860</td>\n",
       "      <td>8.419405</td>\n",
       "      <td>0.0</td>\n",
       "      <td>8.419405</td>\n",
       "      <td>14.433265</td>\n",
       "      <td>0.0</td>\n",
       "      <td>2024-03-01 05:20:00</td>\n",
       "    </tr>\n",
       "    <tr>\n",
       "      <th>...</th>\n",
       "      <td>...</td>\n",
       "      <td>...</td>\n",
       "      <td>...</td>\n",
       "      <td>...</td>\n",
       "      <td>...</td>\n",
       "      <td>...</td>\n",
       "      <td>...</td>\n",
       "      <td>...</td>\n",
       "      <td>...</td>\n",
       "      <td>...</td>\n",
       "      <td>...</td>\n",
       "      <td>...</td>\n",
       "      <td>...</td>\n",
       "      <td>...</td>\n",
       "      <td>...</td>\n",
       "      <td>...</td>\n",
       "      <td>...</td>\n",
       "      <td>...</td>\n",
       "      <td>...</td>\n",
       "      <td>...</td>\n",
       "      <td>...</td>\n",
       "      <td>...</td>\n",
       "      <td>...</td>\n",
       "      <td>...</td>\n",
       "      <td>...</td>\n",
       "      <td>...</td>\n",
       "      <td>...</td>\n",
       "      <td>...</td>\n",
       "      <td>...</td>\n",
       "      <td>...</td>\n",
       "      <td>...</td>\n",
       "      <td>...</td>\n",
       "      <td>...</td>\n",
       "    </tr>\n",
       "    <tr>\n",
       "      <th>739261</th>\n",
       "      <td>599911</td>\n",
       "      <td>933</td>\n",
       "      <td>53413</td>\n",
       "      <td>V</td>\n",
       "      <td>72</td>\n",
       "      <td>45833241</td>\n",
       "      <td>20030</td>\n",
       "      <td>6</td>\n",
       "      <td>20030_0933_6</td>\n",
       "      <td>2024-03-01 19:33:20</td>\n",
       "      <td>2024-03-01 20:50:57</td>\n",
       "      <td>ottrans</td>\n",
       "      <td>2024-03-01 20:47:29</td>\n",
       "      <td>0.0</td>\n",
       "      <td>0.0</td>\n",
       "      <td>7</td>\n",
       "      <td>7</td>\n",
       "      <td>7</td>\n",
       "      <td>0.0</td>\n",
       "      <td>8.689476</td>\n",
       "      <td>0.0</td>\n",
       "      <td>8.689476</td>\n",
       "      <td>8.689476</td>\n",
       "      <td>0.0</td>\n",
       "      <td>0.000000</td>\n",
       "      <td>0.000000</td>\n",
       "      <td>0.000000</td>\n",
       "      <td>9.427301</td>\n",
       "      <td>0.0</td>\n",
       "      <td>9.427301</td>\n",
       "      <td>9.427301</td>\n",
       "      <td>0.0</td>\n",
       "      <td>2024-03-01 20:45:00</td>\n",
       "    </tr>\n",
       "    <tr>\n",
       "      <th>739262</th>\n",
       "      <td>599912</td>\n",
       "      <td>933</td>\n",
       "      <td>53413</td>\n",
       "      <td>V</td>\n",
       "      <td>73</td>\n",
       "      <td>44784172</td>\n",
       "      <td>20030</td>\n",
       "      <td>6</td>\n",
       "      <td>20030_0933_6</td>\n",
       "      <td>2024-03-01 19:33:20</td>\n",
       "      <td>2024-03-01 20:50:57</td>\n",
       "      <td>ottrans</td>\n",
       "      <td>2024-03-01 20:49:43</td>\n",
       "      <td>0.0</td>\n",
       "      <td>0.0</td>\n",
       "      <td>7</td>\n",
       "      <td>7</td>\n",
       "      <td>7</td>\n",
       "      <td>0.0</td>\n",
       "      <td>8.689476</td>\n",
       "      <td>0.0</td>\n",
       "      <td>8.689476</td>\n",
       "      <td>8.689476</td>\n",
       "      <td>0.0</td>\n",
       "      <td>0.000000</td>\n",
       "      <td>0.000000</td>\n",
       "      <td>0.000000</td>\n",
       "      <td>9.427301</td>\n",
       "      <td>0.0</td>\n",
       "      <td>9.427301</td>\n",
       "      <td>9.427301</td>\n",
       "      <td>0.0</td>\n",
       "      <td>2024-03-01 20:45:00</td>\n",
       "    </tr>\n",
       "    <tr>\n",
       "      <th>739263</th>\n",
       "      <td>599913</td>\n",
       "      <td>933</td>\n",
       "      <td>53413</td>\n",
       "      <td>V</td>\n",
       "      <td>74</td>\n",
       "      <td>44784207</td>\n",
       "      <td>20030</td>\n",
       "      <td>6</td>\n",
       "      <td>20030_0933_6</td>\n",
       "      <td>2024-03-01 19:33:20</td>\n",
       "      <td>2024-03-01 20:50:57</td>\n",
       "      <td>ottrans</td>\n",
       "      <td>2024-03-01 20:50:08</td>\n",
       "      <td>0.0</td>\n",
       "      <td>0.0</td>\n",
       "      <td>7</td>\n",
       "      <td>7</td>\n",
       "      <td>7</td>\n",
       "      <td>0.0</td>\n",
       "      <td>8.689476</td>\n",
       "      <td>0.0</td>\n",
       "      <td>8.689476</td>\n",
       "      <td>8.689476</td>\n",
       "      <td>0.0</td>\n",
       "      <td>0.000000</td>\n",
       "      <td>0.000000</td>\n",
       "      <td>0.000000</td>\n",
       "      <td>9.427301</td>\n",
       "      <td>0.0</td>\n",
       "      <td>9.427301</td>\n",
       "      <td>9.427301</td>\n",
       "      <td>0.0</td>\n",
       "      <td>2024-03-01 20:50:00</td>\n",
       "    </tr>\n",
       "    <tr>\n",
       "      <th>739264</th>\n",
       "      <td>599914</td>\n",
       "      <td>933</td>\n",
       "      <td>53413</td>\n",
       "      <td>V</td>\n",
       "      <td>75</td>\n",
       "      <td>44783418</td>\n",
       "      <td>20030</td>\n",
       "      <td>6</td>\n",
       "      <td>20030_0933_6</td>\n",
       "      <td>2024-03-01 19:33:20</td>\n",
       "      <td>2024-03-01 20:50:57</td>\n",
       "      <td>ottrans</td>\n",
       "      <td>2024-03-01 20:50:39</td>\n",
       "      <td>0.0</td>\n",
       "      <td>0.0</td>\n",
       "      <td>7</td>\n",
       "      <td>7</td>\n",
       "      <td>7</td>\n",
       "      <td>0.0</td>\n",
       "      <td>8.689476</td>\n",
       "      <td>0.0</td>\n",
       "      <td>8.689476</td>\n",
       "      <td>8.689476</td>\n",
       "      <td>0.0</td>\n",
       "      <td>0.000000</td>\n",
       "      <td>0.000000</td>\n",
       "      <td>0.000000</td>\n",
       "      <td>9.427301</td>\n",
       "      <td>0.0</td>\n",
       "      <td>9.427301</td>\n",
       "      <td>9.427301</td>\n",
       "      <td>0.0</td>\n",
       "      <td>2024-03-01 20:50:00</td>\n",
       "    </tr>\n",
       "    <tr>\n",
       "      <th>739265</th>\n",
       "      <td>599915</td>\n",
       "      <td>933</td>\n",
       "      <td>53413</td>\n",
       "      <td>V</td>\n",
       "      <td>76</td>\n",
       "      <td>44782579</td>\n",
       "      <td>20030</td>\n",
       "      <td>6</td>\n",
       "      <td>20030_0933_6</td>\n",
       "      <td>2024-03-01 19:33:20</td>\n",
       "      <td>2024-03-01 20:50:57</td>\n",
       "      <td>ottrans</td>\n",
       "      <td>2024-03-01 20:50:57</td>\n",
       "      <td>0.0</td>\n",
       "      <td>0.0</td>\n",
       "      <td>7</td>\n",
       "      <td>7</td>\n",
       "      <td>7</td>\n",
       "      <td>0.0</td>\n",
       "      <td>8.689476</td>\n",
       "      <td>0.0</td>\n",
       "      <td>8.689476</td>\n",
       "      <td>8.689476</td>\n",
       "      <td>0.0</td>\n",
       "      <td>0.000000</td>\n",
       "      <td>0.000000</td>\n",
       "      <td>0.000000</td>\n",
       "      <td>9.427301</td>\n",
       "      <td>0.0</td>\n",
       "      <td>9.427301</td>\n",
       "      <td>9.427301</td>\n",
       "      <td>0.0</td>\n",
       "      <td>2024-03-01 20:50:00</td>\n",
       "    </tr>\n",
       "  </tbody>\n",
       "</table>\n",
       "<p>731913 rows × 33 columns</p>\n",
       "</div>"
      ],
      "text/plain": [
       "         index linha  cod_ate sentido  ordem      ponto  veiculo  trip  \\\n",
       "50         569  1035    53299       I      1   43787620    21225     2   \n",
       "51         570  1035    53299       I      2  215205049    21225     2   \n",
       "52         571  1035    53299       I      3   45833922    21225     2   \n",
       "53         572  1035    53299       I      4  120548519    21225     2   \n",
       "54         573  1035    53299       I      5   44782596    21225     2   \n",
       "...        ...   ...      ...     ...    ...        ...      ...   ...   \n",
       "739261  599911   933    53413       V     72   45833241    20030     6   \n",
       "739262  599912   933    53413       V     73   44784172    20030     6   \n",
       "739263  599913   933    53413       V     74   44784207    20030     6   \n",
       "739264  599914   933    53413       V     75   44783418    20030     6   \n",
       "739265  599915   933    53413       V     76   44782579    20030     6   \n",
       "\n",
       "             trip_id        inicio_viagem           fim_viagem      set  \\\n",
       "50      21225_1035_2  2024-03-01 05:16:38  2024-03-01 07:05:11  ottrans   \n",
       "51      21225_1035_2  2024-03-01 05:16:38  2024-03-01 07:05:11  ottrans   \n",
       "52      21225_1035_2  2024-03-01 05:16:38  2024-03-01 07:05:11  ottrans   \n",
       "53      21225_1035_2  2024-03-01 05:16:38  2024-03-01 07:05:11  ottrans   \n",
       "54      21225_1035_2  2024-03-01 05:16:38  2024-03-01 07:05:11  ottrans   \n",
       "...              ...                  ...                  ...      ...   \n",
       "739261  20030_0933_6  2024-03-01 19:33:20  2024-03-01 20:50:57  ottrans   \n",
       "739262  20030_0933_6  2024-03-01 19:33:20  2024-03-01 20:50:57  ottrans   \n",
       "739263  20030_0933_6  2024-03-01 19:33:20  2024-03-01 20:50:57  ottrans   \n",
       "739264  20030_0933_6  2024-03-01 19:33:20  2024-03-01 20:50:57  ottrans   \n",
       "739265  20030_0933_6  2024-03-01 19:33:20  2024-03-01 20:50:57  ottrans   \n",
       "\n",
       "                hora_ponto  sobe  desce  lag_carregamento  saldo  \\\n",
       "50     2024-03-01 05:16:38   3.0    0.0                 0      0   \n",
       "51     2024-03-01 05:19:23   0.0    0.0                 3      3   \n",
       "52     2024-03-01 05:20:52   2.0    0.0                 3      3   \n",
       "53     2024-03-01 05:21:45   0.0    0.0                 5      5   \n",
       "54     2024-03-01 05:23:59   3.0    0.0                 5      5   \n",
       "...                    ...   ...    ...               ...    ...   \n",
       "739261 2024-03-01 20:47:29   0.0    0.0                 7      7   \n",
       "739262 2024-03-01 20:49:43   0.0    0.0                 7      7   \n",
       "739263 2024-03-01 20:50:08   0.0    0.0                 7      7   \n",
       "739264 2024-03-01 20:50:39   0.0    0.0                 7      7   \n",
       "739265 2024-03-01 20:50:57   0.0    0.0                 7      7   \n",
       "\n",
       "        carregamento  sobe_fit  lag_carregamento_fit  desce_fit  saldo_fit  \\\n",
       "50                 3       3.0              0.000000        0.0   0.000000   \n",
       "51                 3       0.0              3.000000        0.0   3.000000   \n",
       "52                 5       3.0              3.000000        0.0   3.000000   \n",
       "53                 5       1.0              6.000000        0.0   6.000000   \n",
       "54                 8       5.0              7.000000        0.0   7.000000   \n",
       "...              ...       ...                   ...        ...        ...   \n",
       "739261             7       0.0              8.689476        0.0   8.689476   \n",
       "739262             7       0.0              8.689476        0.0   8.689476   \n",
       "739263             7       0.0              8.689476        0.0   8.689476   \n",
       "739264             7       0.0              8.689476        0.0   8.689476   \n",
       "739265             7       0.0              8.689476        0.0   8.689476   \n",
       "\n",
       "        carregamento_fit  percent_desce  percent_sobe_esp  sobe_especie  \\\n",
       "50              3.000000            0.0          0.154004      0.608316   \n",
       "51              3.000000            0.0          0.000000      0.000000   \n",
       "52              6.000000            0.0          0.154004      0.608316   \n",
       "53              7.000000            0.0          0.051335      0.202772   \n",
       "54             12.000000            0.0          0.256674      1.013860   \n",
       "...                  ...            ...               ...           ...   \n",
       "739261          8.689476            0.0          0.000000      0.000000   \n",
       "739262          8.689476            0.0          0.000000      0.000000   \n",
       "739263          8.689476            0.0          0.000000      0.000000   \n",
       "739264          8.689476            0.0          0.000000      0.000000   \n",
       "739265          8.689476            0.0          0.000000      0.000000   \n",
       "\n",
       "        sobe_total_especie  lag_carregamento_especie  desce_total_especie  \\\n",
       "50                3.608316                  0.000000                  0.0   \n",
       "51                0.000000                  3.608316                  0.0   \n",
       "52                3.608316                  3.608316                  0.0   \n",
       "53                1.202772                  7.216632                  0.0   \n",
       "54                6.013860                  8.419405                  0.0   \n",
       "...                    ...                       ...                  ...   \n",
       "739261            0.000000                  9.427301                  0.0   \n",
       "739262            0.000000                  9.427301                  0.0   \n",
       "739263            0.000000                  9.427301                  0.0   \n",
       "739264            0.000000                  9.427301                  0.0   \n",
       "739265            0.000000                  9.427301                  0.0   \n",
       "\n",
       "        saldo_especie  carregamento_especie  percent_desce_fit  \\\n",
       "50           0.000000              3.608316                0.0   \n",
       "51           3.608316              3.608316                0.0   \n",
       "52           3.608316              7.216632                0.0   \n",
       "53           7.216632              8.419405                0.0   \n",
       "54           8.419405             14.433265                0.0   \n",
       "...               ...                   ...                ...   \n",
       "739261       9.427301              9.427301                0.0   \n",
       "739262       9.427301              9.427301                0.0   \n",
       "739263       9.427301              9.427301                0.0   \n",
       "739264       9.427301              9.427301                0.0   \n",
       "739265       9.427301              9.427301                0.0   \n",
       "\n",
       "                  interval  \n",
       "50     2024-03-01 05:15:00  \n",
       "51     2024-03-01 05:15:00  \n",
       "52     2024-03-01 05:20:00  \n",
       "53     2024-03-01 05:20:00  \n",
       "54     2024-03-01 05:20:00  \n",
       "...                    ...  \n",
       "739261 2024-03-01 20:45:00  \n",
       "739262 2024-03-01 20:45:00  \n",
       "739263 2024-03-01 20:50:00  \n",
       "739264 2024-03-01 20:50:00  \n",
       "739265 2024-03-01 20:50:00  \n",
       "\n",
       "[731913 rows x 33 columns]"
      ]
     },
     "execution_count": 38,
     "metadata": {},
     "output_type": "execute_result"
    }
   ],
   "source": [
    "df_day"
   ]
  },
  {
   "cell_type": "code",
   "execution_count": 39,
   "id": "dd4435aa-9dae-42ab-8f29-bd05ed294863",
   "metadata": {
    "tags": []
   },
   "outputs": [
    {
     "name": "stdout",
     "output_type": "stream",
     "text": [
      "<class 'pandas.core.frame.DataFrame'>\n",
      "Int64Index: 731913 entries, 50 to 739265\n",
      "Data columns (total 33 columns):\n",
      " #   Column                    Non-Null Count   Dtype         \n",
      "---  ------                    --------------   -----         \n",
      " 0   index                     731913 non-null  int64         \n",
      " 1   linha                     731913 non-null  object        \n",
      " 2   cod_ate                   731913 non-null  int64         \n",
      " 3   sentido                   731913 non-null  object        \n",
      " 4   ordem                     731913 non-null  int64         \n",
      " 5   ponto                     731913 non-null  object        \n",
      " 6   veiculo                   731913 non-null  int64         \n",
      " 7   trip                      731913 non-null  int64         \n",
      " 8   trip_id                   731913 non-null  object        \n",
      " 9   inicio_viagem             731913 non-null  object        \n",
      " 10  fim_viagem                731913 non-null  object        \n",
      " 11  set                       731913 non-null  object        \n",
      " 12  hora_ponto                731913 non-null  datetime64[ns]\n",
      " 13  sobe                      731913 non-null  float64       \n",
      " 14  desce                     731913 non-null  float64       \n",
      " 15  lag_carregamento          731913 non-null  int64         \n",
      " 16  saldo                     731913 non-null  int64         \n",
      " 17  carregamento              731913 non-null  int64         \n",
      " 18  sobe_fit                  731913 non-null  float64       \n",
      " 19  lag_carregamento_fit      731913 non-null  float64       \n",
      " 20  desce_fit                 731913 non-null  float64       \n",
      " 21  saldo_fit                 731913 non-null  float64       \n",
      " 22  carregamento_fit          731913 non-null  float64       \n",
      " 23  percent_desce             731913 non-null  float64       \n",
      " 24  percent_sobe_esp          731706 non-null  float64       \n",
      " 25  sobe_especie              731706 non-null  float64       \n",
      " 26  sobe_total_especie        731706 non-null  float64       \n",
      " 27  lag_carregamento_especie  731714 non-null  float64       \n",
      " 28  desce_total_especie       731714 non-null  float64       \n",
      " 29  saldo_especie             731714 non-null  float64       \n",
      " 30  carregamento_especie      731706 non-null  float64       \n",
      " 31  percent_desce_fit         731913 non-null  float64       \n",
      " 32  interval                  731913 non-null  datetime64[ns]\n",
      "dtypes: datetime64[ns](2), float64(16), int64(8), object(7)\n",
      "memory usage: 189.9+ MB\n"
     ]
    }
   ],
   "source": [
    "df_day.info()"
   ]
  },
  {
   "cell_type": "code",
   "execution_count": 40,
   "id": "074d8da1-621e-4e0f-85b3-bff75768f3a3",
   "metadata": {
    "tags": []
   },
   "outputs": [],
   "source": [
    "dfs = []\n",
    "for node in nodes:\n",
    "    df_node =  pd.DataFrame()\n",
    "    df_node['time'] = inter\n",
    "    df_node['node'] = node\n",
    "    dfs.append(df_node)"
   ]
  },
  {
   "cell_type": "code",
   "execution_count": 41,
   "id": "af0b9e63-5130-457d-9313-ebffec466d43",
   "metadata": {
    "tags": []
   },
   "outputs": [
    {
     "data": {
      "text/html": [
       "<div>\n",
       "<style scoped>\n",
       "    .dataframe tbody tr th:only-of-type {\n",
       "        vertical-align: middle;\n",
       "    }\n",
       "\n",
       "    .dataframe tbody tr th {\n",
       "        vertical-align: top;\n",
       "    }\n",
       "\n",
       "    .dataframe thead th {\n",
       "        text-align: right;\n",
       "    }\n",
       "</style>\n",
       "<table border=\"1\" class=\"dataframe\">\n",
       "  <thead>\n",
       "    <tr style=\"text-align: right;\">\n",
       "      <th></th>\n",
       "      <th>time</th>\n",
       "      <th>node</th>\n",
       "    </tr>\n",
       "  </thead>\n",
       "  <tbody>\n",
       "    <tr>\n",
       "      <th>0</th>\n",
       "      <td>2024-03-01 05:00:00</td>\n",
       "      <td>100009577</td>\n",
       "    </tr>\n",
       "    <tr>\n",
       "      <th>1</th>\n",
       "      <td>2024-03-01 05:05:00</td>\n",
       "      <td>100009577</td>\n",
       "    </tr>\n",
       "    <tr>\n",
       "      <th>2</th>\n",
       "      <td>2024-03-01 05:10:00</td>\n",
       "      <td>100009577</td>\n",
       "    </tr>\n",
       "    <tr>\n",
       "      <th>3</th>\n",
       "      <td>2024-03-01 05:15:00</td>\n",
       "      <td>100009577</td>\n",
       "    </tr>\n",
       "    <tr>\n",
       "      <th>4</th>\n",
       "      <td>2024-03-01 05:20:00</td>\n",
       "      <td>100009577</td>\n",
       "    </tr>\n",
       "  </tbody>\n",
       "</table>\n",
       "</div>"
      ],
      "text/plain": [
       "                 time       node\n",
       "0 2024-03-01 05:00:00  100009577\n",
       "1 2024-03-01 05:05:00  100009577\n",
       "2 2024-03-01 05:10:00  100009577\n",
       "3 2024-03-01 05:15:00  100009577\n",
       "4 2024-03-01 05:20:00  100009577"
      ]
     },
     "execution_count": 41,
     "metadata": {},
     "output_type": "execute_result"
    }
   ],
   "source": [
    "df_nodes_src = pd.concat(dfs, ignore_index=True)\n",
    "df_nodes_src.head()"
   ]
  },
  {
   "cell_type": "code",
   "execution_count": 42,
   "id": "74bd8d39-8e15-4048-9a7b-5ed64558dccd",
   "metadata": {
    "tags": []
   },
   "outputs": [
    {
     "name": "stdout",
     "output_type": "stream",
     "text": [
      "num nodes in df ..: (2871, 2871)\n",
      "num nodes in A ...: 2871\n"
     ]
    }
   ],
   "source": [
    "print(f\"num nodes in df ..: {A.shape}\")\n",
    "print(f\"num nodes in A ...: {df_nodes_src.node.nunique()}\")"
   ]
  },
  {
   "cell_type": "markdown",
   "id": "04daadc5-bd95-4cb8-a1ca-790bd656133f",
   "metadata": {},
   "source": [
    "## fill with values"
   ]
  },
  {
   "cell_type": "code",
   "execution_count": 43,
   "id": "c1f7355d-c90c-481b-a73f-15b1fe7828d2",
   "metadata": {
    "tags": []
   },
   "outputs": [
    {
     "data": {
      "text/plain": [
       "((731913, 33), (739370, 31))"
      ]
     },
     "execution_count": 43,
     "metadata": {},
     "output_type": "execute_result"
    }
   ],
   "source": [
    "df_dasb_trainy.shape, tts.shape"
   ]
  },
  {
   "cell_type": "code",
   "execution_count": 44,
   "id": "6c07ceec-e93e-4f3a-9e64-8f12b6e20c47",
   "metadata": {
    "tags": []
   },
   "outputs": [],
   "source": [
    "tts = tts.rename({'stop_id': 'ponto'}, axis=1)"
   ]
  },
  {
   "cell_type": "code",
   "execution_count": 45,
   "id": "fd658147-7f9b-4bc3-89e0-34bb15b884fa",
   "metadata": {},
   "outputs": [],
   "source": [
    "df_day_vm = df_day.merge(tts[['trip_id', 'sentido', 'ordem', 'ponto', 'vm']], \n",
    "                         on=['trip_id', 'sentido', 'ordem', 'ponto'], how='left')"
   ]
  },
  {
   "cell_type": "code",
   "execution_count": 46,
   "id": "f7cf40d1-0afb-4f1f-a1fe-fe9a43813292",
   "metadata": {
    "tags": []
   },
   "outputs": [
    {
     "data": {
      "text/plain": [
       "(731913, 34)"
      ]
     },
     "execution_count": 46,
     "metadata": {},
     "output_type": "execute_result"
    }
   ],
   "source": [
    "df_day_vm.shape"
   ]
  },
  {
   "cell_type": "code",
   "execution_count": 47,
   "id": "d0222c12-4291-4984-9eea-d2602d4ce067",
   "metadata": {
    "tags": []
   },
   "outputs": [
    {
     "data": {
      "text/html": [
       "<div>\n",
       "<style scoped>\n",
       "    .dataframe tbody tr th:only-of-type {\n",
       "        vertical-align: middle;\n",
       "    }\n",
       "\n",
       "    .dataframe tbody tr th {\n",
       "        vertical-align: top;\n",
       "    }\n",
       "\n",
       "    .dataframe thead th {\n",
       "        text-align: right;\n",
       "    }\n",
       "</style>\n",
       "<table border=\"1\" class=\"dataframe\">\n",
       "  <thead>\n",
       "    <tr style=\"text-align: right;\">\n",
       "      <th></th>\n",
       "      <th>index</th>\n",
       "      <th>linha</th>\n",
       "      <th>cod_ate</th>\n",
       "      <th>sentido</th>\n",
       "      <th>ordem</th>\n",
       "      <th>ponto</th>\n",
       "      <th>veiculo</th>\n",
       "      <th>trip</th>\n",
       "      <th>trip_id</th>\n",
       "      <th>inicio_viagem</th>\n",
       "      <th>fim_viagem</th>\n",
       "      <th>set</th>\n",
       "      <th>hora_ponto</th>\n",
       "      <th>sobe</th>\n",
       "      <th>desce</th>\n",
       "      <th>lag_carregamento</th>\n",
       "      <th>saldo</th>\n",
       "      <th>carregamento</th>\n",
       "      <th>sobe_fit</th>\n",
       "      <th>lag_carregamento_fit</th>\n",
       "      <th>desce_fit</th>\n",
       "      <th>saldo_fit</th>\n",
       "      <th>carregamento_fit</th>\n",
       "      <th>percent_desce</th>\n",
       "      <th>percent_sobe_esp</th>\n",
       "      <th>sobe_especie</th>\n",
       "      <th>sobe_total_especie</th>\n",
       "      <th>lag_carregamento_especie</th>\n",
       "      <th>desce_total_especie</th>\n",
       "      <th>saldo_especie</th>\n",
       "      <th>carregamento_especie</th>\n",
       "      <th>percent_desce_fit</th>\n",
       "      <th>interval</th>\n",
       "      <th>vm</th>\n",
       "    </tr>\n",
       "  </thead>\n",
       "  <tbody>\n",
       "    <tr>\n",
       "      <th>0</th>\n",
       "      <td>569</td>\n",
       "      <td>1035</td>\n",
       "      <td>53299</td>\n",
       "      <td>I</td>\n",
       "      <td>1</td>\n",
       "      <td>43787620</td>\n",
       "      <td>21225</td>\n",
       "      <td>2</td>\n",
       "      <td>21225_1035_2</td>\n",
       "      <td>2024-03-01 05:16:38</td>\n",
       "      <td>2024-03-01 07:05:11</td>\n",
       "      <td>ottrans</td>\n",
       "      <td>2024-03-01 05:16:38</td>\n",
       "      <td>3.0</td>\n",
       "      <td>0.0</td>\n",
       "      <td>0</td>\n",
       "      <td>0</td>\n",
       "      <td>3</td>\n",
       "      <td>3.0</td>\n",
       "      <td>0.0</td>\n",
       "      <td>0.0</td>\n",
       "      <td>0.0</td>\n",
       "      <td>3.0</td>\n",
       "      <td>0.0</td>\n",
       "      <td>0.154004</td>\n",
       "      <td>0.608316</td>\n",
       "      <td>3.608316</td>\n",
       "      <td>0.000000</td>\n",
       "      <td>0.0</td>\n",
       "      <td>0.000000</td>\n",
       "      <td>3.608316</td>\n",
       "      <td>0.0</td>\n",
       "      <td>2024-03-01 05:15:00</td>\n",
       "      <td>0.000000</td>\n",
       "    </tr>\n",
       "    <tr>\n",
       "      <th>1</th>\n",
       "      <td>570</td>\n",
       "      <td>1035</td>\n",
       "      <td>53299</td>\n",
       "      <td>I</td>\n",
       "      <td>2</td>\n",
       "      <td>215205049</td>\n",
       "      <td>21225</td>\n",
       "      <td>2</td>\n",
       "      <td>21225_1035_2</td>\n",
       "      <td>2024-03-01 05:16:38</td>\n",
       "      <td>2024-03-01 07:05:11</td>\n",
       "      <td>ottrans</td>\n",
       "      <td>2024-03-01 05:19:23</td>\n",
       "      <td>0.0</td>\n",
       "      <td>0.0</td>\n",
       "      <td>3</td>\n",
       "      <td>3</td>\n",
       "      <td>3</td>\n",
       "      <td>0.0</td>\n",
       "      <td>3.0</td>\n",
       "      <td>0.0</td>\n",
       "      <td>3.0</td>\n",
       "      <td>3.0</td>\n",
       "      <td>0.0</td>\n",
       "      <td>0.000000</td>\n",
       "      <td>0.000000</td>\n",
       "      <td>0.000000</td>\n",
       "      <td>3.608316</td>\n",
       "      <td>0.0</td>\n",
       "      <td>3.608316</td>\n",
       "      <td>3.608316</td>\n",
       "      <td>0.0</td>\n",
       "      <td>2024-03-01 05:15:00</td>\n",
       "      <td>24.186356</td>\n",
       "    </tr>\n",
       "    <tr>\n",
       "      <th>2</th>\n",
       "      <td>571</td>\n",
       "      <td>1035</td>\n",
       "      <td>53299</td>\n",
       "      <td>I</td>\n",
       "      <td>3</td>\n",
       "      <td>45833922</td>\n",
       "      <td>21225</td>\n",
       "      <td>2</td>\n",
       "      <td>21225_1035_2</td>\n",
       "      <td>2024-03-01 05:16:38</td>\n",
       "      <td>2024-03-01 07:05:11</td>\n",
       "      <td>ottrans</td>\n",
       "      <td>2024-03-01 05:20:52</td>\n",
       "      <td>2.0</td>\n",
       "      <td>0.0</td>\n",
       "      <td>3</td>\n",
       "      <td>3</td>\n",
       "      <td>5</td>\n",
       "      <td>3.0</td>\n",
       "      <td>3.0</td>\n",
       "      <td>0.0</td>\n",
       "      <td>3.0</td>\n",
       "      <td>6.0</td>\n",
       "      <td>0.0</td>\n",
       "      <td>0.154004</td>\n",
       "      <td>0.608316</td>\n",
       "      <td>3.608316</td>\n",
       "      <td>3.608316</td>\n",
       "      <td>0.0</td>\n",
       "      <td>3.608316</td>\n",
       "      <td>7.216632</td>\n",
       "      <td>0.0</td>\n",
       "      <td>2024-03-01 05:20:00</td>\n",
       "      <td>69.046729</td>\n",
       "    </tr>\n",
       "    <tr>\n",
       "      <th>3</th>\n",
       "      <td>572</td>\n",
       "      <td>1035</td>\n",
       "      <td>53299</td>\n",
       "      <td>I</td>\n",
       "      <td>4</td>\n",
       "      <td>120548519</td>\n",
       "      <td>21225</td>\n",
       "      <td>2</td>\n",
       "      <td>21225_1035_2</td>\n",
       "      <td>2024-03-01 05:16:38</td>\n",
       "      <td>2024-03-01 07:05:11</td>\n",
       "      <td>ottrans</td>\n",
       "      <td>2024-03-01 05:21:45</td>\n",
       "      <td>0.0</td>\n",
       "      <td>0.0</td>\n",
       "      <td>5</td>\n",
       "      <td>5</td>\n",
       "      <td>5</td>\n",
       "      <td>1.0</td>\n",
       "      <td>6.0</td>\n",
       "      <td>0.0</td>\n",
       "      <td>6.0</td>\n",
       "      <td>7.0</td>\n",
       "      <td>0.0</td>\n",
       "      <td>0.051335</td>\n",
       "      <td>0.202772</td>\n",
       "      <td>1.202772</td>\n",
       "      <td>7.216632</td>\n",
       "      <td>0.0</td>\n",
       "      <td>7.216632</td>\n",
       "      <td>8.419405</td>\n",
       "      <td>0.0</td>\n",
       "      <td>2024-03-01 05:20:00</td>\n",
       "      <td>25.422257</td>\n",
       "    </tr>\n",
       "    <tr>\n",
       "      <th>4</th>\n",
       "      <td>573</td>\n",
       "      <td>1035</td>\n",
       "      <td>53299</td>\n",
       "      <td>I</td>\n",
       "      <td>5</td>\n",
       "      <td>44782596</td>\n",
       "      <td>21225</td>\n",
       "      <td>2</td>\n",
       "      <td>21225_1035_2</td>\n",
       "      <td>2024-03-01 05:16:38</td>\n",
       "      <td>2024-03-01 07:05:11</td>\n",
       "      <td>ottrans</td>\n",
       "      <td>2024-03-01 05:23:59</td>\n",
       "      <td>3.0</td>\n",
       "      <td>0.0</td>\n",
       "      <td>5</td>\n",
       "      <td>5</td>\n",
       "      <td>8</td>\n",
       "      <td>5.0</td>\n",
       "      <td>7.0</td>\n",
       "      <td>0.0</td>\n",
       "      <td>7.0</td>\n",
       "      <td>12.0</td>\n",
       "      <td>0.0</td>\n",
       "      <td>0.256674</td>\n",
       "      <td>1.013860</td>\n",
       "      <td>6.013860</td>\n",
       "      <td>8.419405</td>\n",
       "      <td>0.0</td>\n",
       "      <td>8.419405</td>\n",
       "      <td>14.433265</td>\n",
       "      <td>0.0</td>\n",
       "      <td>2024-03-01 05:20:00</td>\n",
       "      <td>45.512501</td>\n",
       "    </tr>\n",
       "  </tbody>\n",
       "</table>\n",
       "</div>"
      ],
      "text/plain": [
       "   index linha  cod_ate sentido  ordem      ponto  veiculo  trip  \\\n",
       "0    569  1035    53299       I      1   43787620    21225     2   \n",
       "1    570  1035    53299       I      2  215205049    21225     2   \n",
       "2    571  1035    53299       I      3   45833922    21225     2   \n",
       "3    572  1035    53299       I      4  120548519    21225     2   \n",
       "4    573  1035    53299       I      5   44782596    21225     2   \n",
       "\n",
       "        trip_id        inicio_viagem           fim_viagem      set  \\\n",
       "0  21225_1035_2  2024-03-01 05:16:38  2024-03-01 07:05:11  ottrans   \n",
       "1  21225_1035_2  2024-03-01 05:16:38  2024-03-01 07:05:11  ottrans   \n",
       "2  21225_1035_2  2024-03-01 05:16:38  2024-03-01 07:05:11  ottrans   \n",
       "3  21225_1035_2  2024-03-01 05:16:38  2024-03-01 07:05:11  ottrans   \n",
       "4  21225_1035_2  2024-03-01 05:16:38  2024-03-01 07:05:11  ottrans   \n",
       "\n",
       "           hora_ponto  sobe  desce  lag_carregamento  saldo  carregamento  \\\n",
       "0 2024-03-01 05:16:38   3.0    0.0                 0      0             3   \n",
       "1 2024-03-01 05:19:23   0.0    0.0                 3      3             3   \n",
       "2 2024-03-01 05:20:52   2.0    0.0                 3      3             5   \n",
       "3 2024-03-01 05:21:45   0.0    0.0                 5      5             5   \n",
       "4 2024-03-01 05:23:59   3.0    0.0                 5      5             8   \n",
       "\n",
       "   sobe_fit  lag_carregamento_fit  desce_fit  saldo_fit  carregamento_fit  \\\n",
       "0       3.0                   0.0        0.0        0.0               3.0   \n",
       "1       0.0                   3.0        0.0        3.0               3.0   \n",
       "2       3.0                   3.0        0.0        3.0               6.0   \n",
       "3       1.0                   6.0        0.0        6.0               7.0   \n",
       "4       5.0                   7.0        0.0        7.0              12.0   \n",
       "\n",
       "   percent_desce  percent_sobe_esp  sobe_especie  sobe_total_especie  \\\n",
       "0            0.0          0.154004      0.608316            3.608316   \n",
       "1            0.0          0.000000      0.000000            0.000000   \n",
       "2            0.0          0.154004      0.608316            3.608316   \n",
       "3            0.0          0.051335      0.202772            1.202772   \n",
       "4            0.0          0.256674      1.013860            6.013860   \n",
       "\n",
       "   lag_carregamento_especie  desce_total_especie  saldo_especie  \\\n",
       "0                  0.000000                  0.0       0.000000   \n",
       "1                  3.608316                  0.0       3.608316   \n",
       "2                  3.608316                  0.0       3.608316   \n",
       "3                  7.216632                  0.0       7.216632   \n",
       "4                  8.419405                  0.0       8.419405   \n",
       "\n",
       "   carregamento_especie  percent_desce_fit            interval         vm  \n",
       "0              3.608316                0.0 2024-03-01 05:15:00   0.000000  \n",
       "1              3.608316                0.0 2024-03-01 05:15:00  24.186356  \n",
       "2              7.216632                0.0 2024-03-01 05:20:00  69.046729  \n",
       "3              8.419405                0.0 2024-03-01 05:20:00  25.422257  \n",
       "4             14.433265                0.0 2024-03-01 05:20:00  45.512501  "
      ]
     },
     "execution_count": 47,
     "metadata": {},
     "output_type": "execute_result"
    }
   ],
   "source": [
    "df_day_vm.head()"
   ]
  },
  {
   "cell_type": "code",
   "execution_count": 48,
   "id": "1e8af526-0e5d-41ea-983e-1463975347a2",
   "metadata": {
    "tags": []
   },
   "outputs": [],
   "source": [
    "nf_loader = df_day.pivot_table(index=['interval', 'ponto'], \n",
    "                        values='carregamento', \n",
    "                        aggfunc='sum').reset_index()"
   ]
  },
  {
   "cell_type": "code",
   "execution_count": 49,
   "id": "c717380b-9c11-45b0-9005-013f186e547a",
   "metadata": {
    "tags": []
   },
   "outputs": [],
   "source": [
    "# sobe\n",
    "nf_sobe = df_day.pivot_table(index=['interval', 'ponto'], \n",
    "                        values='sobe', \n",
    "                        aggfunc='sum').reset_index()\n",
    "# desce\n",
    "nf_desce = df_day.pivot_table(index=['interval', 'ponto'], \n",
    "                        values='desce', \n",
    "                        aggfunc='sum').reset_index()\n",
    "# veiculos\n",
    "nf_veic = df_day.pivot_table(index=['interval', 'ponto'], \n",
    "                        values='veiculo', \n",
    "                        aggfunc=pd.Series.nunique).reset_index()\n",
    "# linhas\n",
    "nf_lines = df_day.pivot_table(index=['interval', 'ponto'], \n",
    "                        values='linha', \n",
    "                        aggfunc=pd.Series.nunique).reset_index()\n",
    "# viagens\n",
    "nf_trips = df_day.pivot_table(index=['interval', 'ponto'], \n",
    "                        values='trip_id', \n",
    "                        aggfunc=pd.Series.nunique).reset_index()\n"
   ]
  },
  {
   "cell_type": "code",
   "execution_count": 50,
   "id": "458fd060-f9d4-4639-a415-a57c2bcc9bc4",
   "metadata": {
    "tags": []
   },
   "outputs": [],
   "source": [
    "# vm\n",
    "nf_vm = df_day_vm.pivot_table(index=['interval', 'ponto'], \n",
    "                        values='vm', \n",
    "                        aggfunc='mean').reset_index()"
   ]
  },
  {
   "cell_type": "code",
   "execution_count": 51,
   "id": "3bac61a7-4ffd-4126-b3a2-a8ba28c824e4",
   "metadata": {
    "tags": []
   },
   "outputs": [],
   "source": [
    "df_nodes_src_add =  df_nodes_src.copy()\n",
    "df_nodes_src_add = df_nodes_src_add.rename({'time': 'interval', 'node': 'ponto'}, axis=1)"
   ]
  },
  {
   "cell_type": "code",
   "execution_count": 52,
   "id": "752e2444-6907-4adb-9e10-fc8121918c36",
   "metadata": {
    "tags": []
   },
   "outputs": [],
   "source": [
    "# carregamento\n",
    "df_nodes_src_add = df_nodes_src_add.merge(nf_loader, on=['interval', 'ponto'], how='left')\n",
    "# sobe\n",
    "df_nodes_src_add = df_nodes_src_add.merge(nf_sobe, on=['interval', 'ponto'], how='left')\n",
    "\n",
    "# desce\n",
    "df_nodes_src_add = df_nodes_src_add.merge(nf_desce, on=['interval', 'ponto'], how='left')\n",
    "\n",
    "# veiculos\n",
    "df_nodes_src_add = df_nodes_src_add.merge(nf_veic, on=['interval', 'ponto'], how='left')\n",
    "#linhas\n",
    "df_nodes_src_add = df_nodes_src_add.merge(nf_lines, on=['interval', 'ponto'], how='left')\n",
    "# viagens\n",
    "df_nodes_src_add = df_nodes_src_add.merge(nf_trips, on=['interval', 'ponto'], how='left')"
   ]
  },
  {
   "cell_type": "code",
   "execution_count": 53,
   "id": "1137ac8a-9330-4f0b-95aa-afe77da5260b",
   "metadata": {
    "tags": []
   },
   "outputs": [],
   "source": [
    "df_nodes_src_add = df_nodes_src_add.merge(nf_vm, on=['interval', 'ponto'], how='left')"
   ]
  },
  {
   "cell_type": "code",
   "execution_count": null,
   "id": "aa5e393f-ccee-48eb-ab8d-763672194d9e",
   "metadata": {},
   "outputs": [],
   "source": []
  },
  {
   "cell_type": "code",
   "execution_count": 56,
   "id": "8496538c-8b29-4091-959e-1307650bfca5",
   "metadata": {
    "tags": []
   },
   "outputs": [
    {
     "data": {
      "text/html": [
       "<div>\n",
       "<style scoped>\n",
       "    .dataframe tbody tr th:only-of-type {\n",
       "        vertical-align: middle;\n",
       "    }\n",
       "\n",
       "    .dataframe tbody tr th {\n",
       "        vertical-align: top;\n",
       "    }\n",
       "\n",
       "    .dataframe thead th {\n",
       "        text-align: right;\n",
       "    }\n",
       "</style>\n",
       "<table border=\"1\" class=\"dataframe\">\n",
       "  <thead>\n",
       "    <tr style=\"text-align: right;\">\n",
       "      <th></th>\n",
       "      <th>interval</th>\n",
       "      <th>ponto</th>\n",
       "      <th>carregamento</th>\n",
       "      <th>sobe</th>\n",
       "      <th>desce</th>\n",
       "      <th>veiculo</th>\n",
       "      <th>linha</th>\n",
       "      <th>trip_id</th>\n",
       "      <th>vm</th>\n",
       "    </tr>\n",
       "  </thead>\n",
       "  <tbody>\n",
       "    <tr>\n",
       "      <th>0</th>\n",
       "      <td>2024-03-01 05:00:00</td>\n",
       "      <td>100009577</td>\n",
       "      <td>NaN</td>\n",
       "      <td>NaN</td>\n",
       "      <td>NaN</td>\n",
       "      <td>NaN</td>\n",
       "      <td>NaN</td>\n",
       "      <td>NaN</td>\n",
       "      <td>NaN</td>\n",
       "    </tr>\n",
       "    <tr>\n",
       "      <th>1</th>\n",
       "      <td>2024-03-01 05:05:00</td>\n",
       "      <td>100009577</td>\n",
       "      <td>14.0</td>\n",
       "      <td>1.0</td>\n",
       "      <td>0.0</td>\n",
       "      <td>2.0</td>\n",
       "      <td>2.0</td>\n",
       "      <td>2.0</td>\n",
       "      <td>0.0</td>\n",
       "    </tr>\n",
       "    <tr>\n",
       "      <th>2</th>\n",
       "      <td>2024-03-01 05:10:00</td>\n",
       "      <td>100009577</td>\n",
       "      <td>NaN</td>\n",
       "      <td>NaN</td>\n",
       "      <td>NaN</td>\n",
       "      <td>NaN</td>\n",
       "      <td>NaN</td>\n",
       "      <td>NaN</td>\n",
       "      <td>NaN</td>\n",
       "    </tr>\n",
       "    <tr>\n",
       "      <th>3</th>\n",
       "      <td>2024-03-01 05:15:00</td>\n",
       "      <td>100009577</td>\n",
       "      <td>NaN</td>\n",
       "      <td>NaN</td>\n",
       "      <td>NaN</td>\n",
       "      <td>NaN</td>\n",
       "      <td>NaN</td>\n",
       "      <td>NaN</td>\n",
       "      <td>NaN</td>\n",
       "    </tr>\n",
       "    <tr>\n",
       "      <th>4</th>\n",
       "      <td>2024-03-01 05:20:00</td>\n",
       "      <td>100009577</td>\n",
       "      <td>2.0</td>\n",
       "      <td>2.0</td>\n",
       "      <td>0.0</td>\n",
       "      <td>1.0</td>\n",
       "      <td>1.0</td>\n",
       "      <td>1.0</td>\n",
       "      <td>0.0</td>\n",
       "    </tr>\n",
       "    <tr>\n",
       "      <th>...</th>\n",
       "      <td>...</td>\n",
       "      <td>...</td>\n",
       "      <td>...</td>\n",
       "      <td>...</td>\n",
       "      <td>...</td>\n",
       "      <td>...</td>\n",
       "      <td>...</td>\n",
       "      <td>...</td>\n",
       "      <td>...</td>\n",
       "    </tr>\n",
       "    <tr>\n",
       "      <th>689035</th>\n",
       "      <td>2024-03-02 00:35:00</td>\n",
       "      <td>99834783</td>\n",
       "      <td>NaN</td>\n",
       "      <td>NaN</td>\n",
       "      <td>NaN</td>\n",
       "      <td>NaN</td>\n",
       "      <td>NaN</td>\n",
       "      <td>NaN</td>\n",
       "      <td>NaN</td>\n",
       "    </tr>\n",
       "    <tr>\n",
       "      <th>689036</th>\n",
       "      <td>2024-03-02 00:40:00</td>\n",
       "      <td>99834783</td>\n",
       "      <td>NaN</td>\n",
       "      <td>NaN</td>\n",
       "      <td>NaN</td>\n",
       "      <td>NaN</td>\n",
       "      <td>NaN</td>\n",
       "      <td>NaN</td>\n",
       "      <td>NaN</td>\n",
       "    </tr>\n",
       "    <tr>\n",
       "      <th>689037</th>\n",
       "      <td>2024-03-02 00:45:00</td>\n",
       "      <td>99834783</td>\n",
       "      <td>NaN</td>\n",
       "      <td>NaN</td>\n",
       "      <td>NaN</td>\n",
       "      <td>NaN</td>\n",
       "      <td>NaN</td>\n",
       "      <td>NaN</td>\n",
       "      <td>NaN</td>\n",
       "    </tr>\n",
       "    <tr>\n",
       "      <th>689038</th>\n",
       "      <td>2024-03-02 00:50:00</td>\n",
       "      <td>99834783</td>\n",
       "      <td>NaN</td>\n",
       "      <td>NaN</td>\n",
       "      <td>NaN</td>\n",
       "      <td>NaN</td>\n",
       "      <td>NaN</td>\n",
       "      <td>NaN</td>\n",
       "      <td>NaN</td>\n",
       "    </tr>\n",
       "    <tr>\n",
       "      <th>689039</th>\n",
       "      <td>2024-03-02 00:55:00</td>\n",
       "      <td>99834783</td>\n",
       "      <td>NaN</td>\n",
       "      <td>NaN</td>\n",
       "      <td>NaN</td>\n",
       "      <td>NaN</td>\n",
       "      <td>NaN</td>\n",
       "      <td>NaN</td>\n",
       "      <td>NaN</td>\n",
       "    </tr>\n",
       "  </tbody>\n",
       "</table>\n",
       "<p>689040 rows × 9 columns</p>\n",
       "</div>"
      ],
      "text/plain": [
       "                  interval      ponto  carregamento  sobe  desce  veiculo  \\\n",
       "0      2024-03-01 05:00:00  100009577           NaN   NaN    NaN      NaN   \n",
       "1      2024-03-01 05:05:00  100009577          14.0   1.0    0.0      2.0   \n",
       "2      2024-03-01 05:10:00  100009577           NaN   NaN    NaN      NaN   \n",
       "3      2024-03-01 05:15:00  100009577           NaN   NaN    NaN      NaN   \n",
       "4      2024-03-01 05:20:00  100009577           2.0   2.0    0.0      1.0   \n",
       "...                    ...        ...           ...   ...    ...      ...   \n",
       "689035 2024-03-02 00:35:00   99834783           NaN   NaN    NaN      NaN   \n",
       "689036 2024-03-02 00:40:00   99834783           NaN   NaN    NaN      NaN   \n",
       "689037 2024-03-02 00:45:00   99834783           NaN   NaN    NaN      NaN   \n",
       "689038 2024-03-02 00:50:00   99834783           NaN   NaN    NaN      NaN   \n",
       "689039 2024-03-02 00:55:00   99834783           NaN   NaN    NaN      NaN   \n",
       "\n",
       "        linha  trip_id   vm  \n",
       "0         NaN      NaN  NaN  \n",
       "1         2.0      2.0  0.0  \n",
       "2         NaN      NaN  NaN  \n",
       "3         NaN      NaN  NaN  \n",
       "4         1.0      1.0  0.0  \n",
       "...       ...      ...  ...  \n",
       "689035    NaN      NaN  NaN  \n",
       "689036    NaN      NaN  NaN  \n",
       "689037    NaN      NaN  NaN  \n",
       "689038    NaN      NaN  NaN  \n",
       "689039    NaN      NaN  NaN  \n",
       "\n",
       "[689040 rows x 9 columns]"
      ]
     },
     "execution_count": 56,
     "metadata": {},
     "output_type": "execute_result"
    }
   ],
   "source": [
    "df_nodes_src_add"
   ]
  },
  {
   "cell_type": "code",
   "execution_count": 111,
   "id": "29a5a871-4422-441d-a54a-63f3a9dde4ad",
   "metadata": {},
   "outputs": [],
   "source": [
    "df_nf_time = df_nodes_src_add.fillna(0)[200:210]"
   ]
  },
  {
   "cell_type": "code",
   "execution_count": 112,
   "id": "7dbcde30-cb70-4e13-84ae-e0e0639bea2a",
   "metadata": {},
   "outputs": [
    {
     "data": {
      "text/html": [
       "<div>\n",
       "<style scoped>\n",
       "    .dataframe tbody tr th:only-of-type {\n",
       "        vertical-align: middle;\n",
       "    }\n",
       "\n",
       "    .dataframe tbody tr th {\n",
       "        vertical-align: top;\n",
       "    }\n",
       "\n",
       "    .dataframe thead th {\n",
       "        text-align: right;\n",
       "    }\n",
       "</style>\n",
       "<table border=\"1\" class=\"dataframe\">\n",
       "  <thead>\n",
       "    <tr style=\"text-align: right;\">\n",
       "      <th></th>\n",
       "      <th>interval</th>\n",
       "      <th>ponto</th>\n",
       "      <th>carregamento</th>\n",
       "      <th>sobe</th>\n",
       "      <th>desce</th>\n",
       "      <th>veiculo</th>\n",
       "      <th>linha</th>\n",
       "      <th>trip_id</th>\n",
       "      <th>vm</th>\n",
       "    </tr>\n",
       "  </thead>\n",
       "  <tbody>\n",
       "    <tr>\n",
       "      <th>200</th>\n",
       "      <td>2024-03-01 21:40:00</td>\n",
       "      <td>100009577</td>\n",
       "      <td>0.0</td>\n",
       "      <td>0.0</td>\n",
       "      <td>0.0</td>\n",
       "      <td>0.0</td>\n",
       "      <td>0.0</td>\n",
       "      <td>0.0</td>\n",
       "      <td>0.0</td>\n",
       "    </tr>\n",
       "    <tr>\n",
       "      <th>201</th>\n",
       "      <td>2024-03-01 21:45:00</td>\n",
       "      <td>100009577</td>\n",
       "      <td>0.0</td>\n",
       "      <td>0.0</td>\n",
       "      <td>0.0</td>\n",
       "      <td>1.0</td>\n",
       "      <td>1.0</td>\n",
       "      <td>1.0</td>\n",
       "      <td>0.0</td>\n",
       "    </tr>\n",
       "    <tr>\n",
       "      <th>202</th>\n",
       "      <td>2024-03-01 21:50:00</td>\n",
       "      <td>100009577</td>\n",
       "      <td>1.0</td>\n",
       "      <td>0.0</td>\n",
       "      <td>0.0</td>\n",
       "      <td>1.0</td>\n",
       "      <td>1.0</td>\n",
       "      <td>1.0</td>\n",
       "      <td>0.0</td>\n",
       "    </tr>\n",
       "    <tr>\n",
       "      <th>203</th>\n",
       "      <td>2024-03-01 21:55:00</td>\n",
       "      <td>100009577</td>\n",
       "      <td>0.0</td>\n",
       "      <td>0.0</td>\n",
       "      <td>0.0</td>\n",
       "      <td>0.0</td>\n",
       "      <td>0.0</td>\n",
       "      <td>0.0</td>\n",
       "      <td>0.0</td>\n",
       "    </tr>\n",
       "    <tr>\n",
       "      <th>204</th>\n",
       "      <td>2024-03-01 22:00:00</td>\n",
       "      <td>100009577</td>\n",
       "      <td>0.0</td>\n",
       "      <td>0.0</td>\n",
       "      <td>0.0</td>\n",
       "      <td>0.0</td>\n",
       "      <td>0.0</td>\n",
       "      <td>0.0</td>\n",
       "      <td>0.0</td>\n",
       "    </tr>\n",
       "    <tr>\n",
       "      <th>205</th>\n",
       "      <td>2024-03-01 22:05:00</td>\n",
       "      <td>100009577</td>\n",
       "      <td>0.0</td>\n",
       "      <td>0.0</td>\n",
       "      <td>0.0</td>\n",
       "      <td>1.0</td>\n",
       "      <td>1.0</td>\n",
       "      <td>1.0</td>\n",
       "      <td>0.0</td>\n",
       "    </tr>\n",
       "    <tr>\n",
       "      <th>206</th>\n",
       "      <td>2024-03-01 22:10:00</td>\n",
       "      <td>100009577</td>\n",
       "      <td>0.0</td>\n",
       "      <td>0.0</td>\n",
       "      <td>0.0</td>\n",
       "      <td>0.0</td>\n",
       "      <td>0.0</td>\n",
       "      <td>0.0</td>\n",
       "      <td>0.0</td>\n",
       "    </tr>\n",
       "    <tr>\n",
       "      <th>207</th>\n",
       "      <td>2024-03-01 22:15:00</td>\n",
       "      <td>100009577</td>\n",
       "      <td>0.0</td>\n",
       "      <td>0.0</td>\n",
       "      <td>0.0</td>\n",
       "      <td>0.0</td>\n",
       "      <td>0.0</td>\n",
       "      <td>0.0</td>\n",
       "      <td>0.0</td>\n",
       "    </tr>\n",
       "    <tr>\n",
       "      <th>208</th>\n",
       "      <td>2024-03-01 22:20:00</td>\n",
       "      <td>100009577</td>\n",
       "      <td>0.0</td>\n",
       "      <td>0.0</td>\n",
       "      <td>0.0</td>\n",
       "      <td>0.0</td>\n",
       "      <td>0.0</td>\n",
       "      <td>0.0</td>\n",
       "      <td>0.0</td>\n",
       "    </tr>\n",
       "    <tr>\n",
       "      <th>209</th>\n",
       "      <td>2024-03-01 22:25:00</td>\n",
       "      <td>100009577</td>\n",
       "      <td>0.0</td>\n",
       "      <td>0.0</td>\n",
       "      <td>0.0</td>\n",
       "      <td>0.0</td>\n",
       "      <td>0.0</td>\n",
       "      <td>0.0</td>\n",
       "      <td>0.0</td>\n",
       "    </tr>\n",
       "  </tbody>\n",
       "</table>\n",
       "</div>"
      ],
      "text/plain": [
       "               interval      ponto  carregamento  sobe  desce  veiculo  linha  \\\n",
       "200 2024-03-01 21:40:00  100009577           0.0   0.0    0.0      0.0    0.0   \n",
       "201 2024-03-01 21:45:00  100009577           0.0   0.0    0.0      1.0    1.0   \n",
       "202 2024-03-01 21:50:00  100009577           1.0   0.0    0.0      1.0    1.0   \n",
       "203 2024-03-01 21:55:00  100009577           0.0   0.0    0.0      0.0    0.0   \n",
       "204 2024-03-01 22:00:00  100009577           0.0   0.0    0.0      0.0    0.0   \n",
       "205 2024-03-01 22:05:00  100009577           0.0   0.0    0.0      1.0    1.0   \n",
       "206 2024-03-01 22:10:00  100009577           0.0   0.0    0.0      0.0    0.0   \n",
       "207 2024-03-01 22:15:00  100009577           0.0   0.0    0.0      0.0    0.0   \n",
       "208 2024-03-01 22:20:00  100009577           0.0   0.0    0.0      0.0    0.0   \n",
       "209 2024-03-01 22:25:00  100009577           0.0   0.0    0.0      0.0    0.0   \n",
       "\n",
       "     trip_id   vm  \n",
       "200      0.0  0.0  \n",
       "201      1.0  0.0  \n",
       "202      1.0  0.0  \n",
       "203      0.0  0.0  \n",
       "204      0.0  0.0  \n",
       "205      1.0  0.0  \n",
       "206      0.0  0.0  \n",
       "207      0.0  0.0  \n",
       "208      0.0  0.0  \n",
       "209      0.0  0.0  "
      ]
     },
     "execution_count": 112,
     "metadata": {},
     "output_type": "execute_result"
    }
   ],
   "source": [
    "df_nf_time"
   ]
  },
  {
   "cell_type": "code",
   "execution_count": 106,
   "id": "6eafdef1-f693-45fb-9c79-5ddacc1844d0",
   "metadata": {},
   "outputs": [],
   "source": [
    "df_nf_time = df_nf_time.rename(re_nf, axis=1)"
   ]
  },
  {
   "cell_type": "code",
   "execution_count": 108,
   "id": "48d18e98-2f89-43e5-b419-3781f36be54a",
   "metadata": {},
   "outputs": [],
   "source": [
    "df_nf_time.to_csv('nf_time.csv', index=False)"
   ]
  },
  {
   "cell_type": "code",
   "execution_count": 59,
   "id": "f896d2c4-c9a0-4441-aea3-17916c756944",
   "metadata": {
    "tags": []
   },
   "outputs": [
    {
     "data": {
      "text/plain": [
       "((689040, 9), (689040, 9))"
      ]
     },
     "execution_count": 59,
     "metadata": {},
     "output_type": "execute_result"
    }
   ],
   "source": [
    "df_nodes_src_add_sub = df_nodes_src_add.copy()#.query(\" interval < '2023-11-01 22:00:00' \")\n",
    "df_nodes_src_add_sub.shape, df_nodes_src_add.shape"
   ]
  },
  {
   "cell_type": "code",
   "execution_count": 60,
   "id": "a454779a-955e-496d-ad07-7c4684a40e50",
   "metadata": {
    "tags": []
   },
   "outputs": [],
   "source": [
    "df_features = df_nodes_src_add_sub.pivot_table(index='ponto', \n",
    "                                               values=['carregamento','sobe','desce','veiculo','linha','trip_id','vm'], \n",
    "                                               aggfunc='mean').reset_index()"
   ]
  },
  {
   "cell_type": "code",
   "execution_count": 61,
   "id": "9715cfd2-0d57-45e9-afbc-bdfcc62d5450",
   "metadata": {
    "tags": []
   },
   "outputs": [
    {
     "data": {
      "text/html": [
       "<div>\n",
       "<style scoped>\n",
       "    .dataframe tbody tr th:only-of-type {\n",
       "        vertical-align: middle;\n",
       "    }\n",
       "\n",
       "    .dataframe tbody tr th {\n",
       "        vertical-align: top;\n",
       "    }\n",
       "\n",
       "    .dataframe thead th {\n",
       "        text-align: right;\n",
       "    }\n",
       "</style>\n",
       "<table border=\"1\" class=\"dataframe\">\n",
       "  <thead>\n",
       "    <tr style=\"text-align: right;\">\n",
       "      <th></th>\n",
       "      <th>ponto</th>\n",
       "      <th>carregamento</th>\n",
       "      <th>desce</th>\n",
       "      <th>linha</th>\n",
       "      <th>sobe</th>\n",
       "      <th>trip_id</th>\n",
       "      <th>veiculo</th>\n",
       "      <th>vm</th>\n",
       "    </tr>\n",
       "  </thead>\n",
       "  <tbody>\n",
       "    <tr>\n",
       "      <th>0</th>\n",
       "      <td>100009577</td>\n",
       "      <td>2.772152</td>\n",
       "      <td>0.000000</td>\n",
       "      <td>1.075949</td>\n",
       "      <td>0.227848</td>\n",
       "      <td>1.101266</td>\n",
       "      <td>1.101266</td>\n",
       "      <td>6.308304</td>\n",
       "    </tr>\n",
       "    <tr>\n",
       "      <th>1</th>\n",
       "      <td>100722777</td>\n",
       "      <td>28.541176</td>\n",
       "      <td>4.429412</td>\n",
       "      <td>1.535294</td>\n",
       "      <td>4.488235</td>\n",
       "      <td>1.564706</td>\n",
       "      <td>1.564706</td>\n",
       "      <td>22.863109</td>\n",
       "    </tr>\n",
       "    <tr>\n",
       "      <th>2</th>\n",
       "      <td>100722778</td>\n",
       "      <td>36.715976</td>\n",
       "      <td>1.390533</td>\n",
       "      <td>1.834320</td>\n",
       "      <td>0.100592</td>\n",
       "      <td>2.041420</td>\n",
       "      <td>2.041420</td>\n",
       "      <td>16.061617</td>\n",
       "    </tr>\n",
       "    <tr>\n",
       "      <th>3</th>\n",
       "      <td>101214305</td>\n",
       "      <td>12.532258</td>\n",
       "      <td>3.967742</td>\n",
       "      <td>1.000000</td>\n",
       "      <td>1.661290</td>\n",
       "      <td>1.000000</td>\n",
       "      <td>1.000000</td>\n",
       "      <td>19.946498</td>\n",
       "    </tr>\n",
       "    <tr>\n",
       "      <th>4</th>\n",
       "      <td>101269104</td>\n",
       "      <td>125.568182</td>\n",
       "      <td>3.545455</td>\n",
       "      <td>4.568182</td>\n",
       "      <td>9.481818</td>\n",
       "      <td>5.277273</td>\n",
       "      <td>5.277273</td>\n",
       "      <td>38.246687</td>\n",
       "    </tr>\n",
       "    <tr>\n",
       "      <th>...</th>\n",
       "      <td>...</td>\n",
       "      <td>...</td>\n",
       "      <td>...</td>\n",
       "      <td>...</td>\n",
       "      <td>...</td>\n",
       "      <td>...</td>\n",
       "      <td>...</td>\n",
       "      <td>...</td>\n",
       "    </tr>\n",
       "    <tr>\n",
       "      <th>2855</th>\n",
       "      <td>99834780</td>\n",
       "      <td>13.016393</td>\n",
       "      <td>0.622951</td>\n",
       "      <td>1.000000</td>\n",
       "      <td>0.393443</td>\n",
       "      <td>1.065574</td>\n",
       "      <td>1.065574</td>\n",
       "      <td>19.519774</td>\n",
       "    </tr>\n",
       "    <tr>\n",
       "      <th>2856</th>\n",
       "      <td>99834781</td>\n",
       "      <td>13.032258</td>\n",
       "      <td>0.693548</td>\n",
       "      <td>1.000000</td>\n",
       "      <td>0.241935</td>\n",
       "      <td>1.048387</td>\n",
       "      <td>1.048387</td>\n",
       "      <td>23.135766</td>\n",
       "    </tr>\n",
       "    <tr>\n",
       "      <th>2857</th>\n",
       "      <td>99834782</td>\n",
       "      <td>5.172414</td>\n",
       "      <td>0.034483</td>\n",
       "      <td>1.000000</td>\n",
       "      <td>0.310345</td>\n",
       "      <td>1.103448</td>\n",
       "      <td>1.103448</td>\n",
       "      <td>17.801957</td>\n",
       "    </tr>\n",
       "    <tr>\n",
       "      <th>2858</th>\n",
       "      <td>99834783</td>\n",
       "      <td>6.915254</td>\n",
       "      <td>0.033898</td>\n",
       "      <td>1.000000</td>\n",
       "      <td>1.864407</td>\n",
       "      <td>1.084746</td>\n",
       "      <td>1.084746</td>\n",
       "      <td>24.599106</td>\n",
       "    </tr>\n",
       "    <tr>\n",
       "      <th>2859</th>\n",
       "      <td>99834784</td>\n",
       "      <td>13.269841</td>\n",
       "      <td>2.825397</td>\n",
       "      <td>1.000000</td>\n",
       "      <td>1.412698</td>\n",
       "      <td>1.031746</td>\n",
       "      <td>1.031746</td>\n",
       "      <td>14.669189</td>\n",
       "    </tr>\n",
       "  </tbody>\n",
       "</table>\n",
       "<p>2860 rows × 8 columns</p>\n",
       "</div>"
      ],
      "text/plain": [
       "          ponto  carregamento     desce     linha      sobe   trip_id  \\\n",
       "0     100009577      2.772152  0.000000  1.075949  0.227848  1.101266   \n",
       "1     100722777     28.541176  4.429412  1.535294  4.488235  1.564706   \n",
       "2     100722778     36.715976  1.390533  1.834320  0.100592  2.041420   \n",
       "3     101214305     12.532258  3.967742  1.000000  1.661290  1.000000   \n",
       "4     101269104    125.568182  3.545455  4.568182  9.481818  5.277273   \n",
       "...         ...           ...       ...       ...       ...       ...   \n",
       "2855   99834780     13.016393  0.622951  1.000000  0.393443  1.065574   \n",
       "2856   99834781     13.032258  0.693548  1.000000  0.241935  1.048387   \n",
       "2857   99834782      5.172414  0.034483  1.000000  0.310345  1.103448   \n",
       "2858   99834783      6.915254  0.033898  1.000000  1.864407  1.084746   \n",
       "2859   99834784     13.269841  2.825397  1.000000  1.412698  1.031746   \n",
       "\n",
       "       veiculo         vm  \n",
       "0     1.101266   6.308304  \n",
       "1     1.564706  22.863109  \n",
       "2     2.041420  16.061617  \n",
       "3     1.000000  19.946498  \n",
       "4     5.277273  38.246687  \n",
       "...        ...        ...  \n",
       "2855  1.065574  19.519774  \n",
       "2856  1.048387  23.135766  \n",
       "2857  1.103448  17.801957  \n",
       "2858  1.084746  24.599106  \n",
       "2859  1.031746  14.669189  \n",
       "\n",
       "[2860 rows x 8 columns]"
      ]
     },
     "execution_count": 61,
     "metadata": {},
     "output_type": "execute_result"
    }
   ],
   "source": [
    "df_features"
   ]
  },
  {
   "cell_type": "code",
   "execution_count": 99,
   "id": "b6b3986e-50ba-405e-b88c-78acf5f392f2",
   "metadata": {},
   "outputs": [],
   "source": [
    "re_nf = {'ponto': 'node', \n",
    "         'carregamento': 'loading', \n",
    "         'desce':'n-alighting', \n",
    "         'linha': 'n-routes', \n",
    "         'sobe': 'n-boarding', \n",
    "         'trip_id': 'n-trips', \n",
    "         'veiculo': 'n-vehicles',\n",
    "         'vm': 'average_speed'}"
   ]
  },
  {
   "cell_type": "code",
   "execution_count": 100,
   "id": "a31b5fbe-5871-42b4-952c-894a504ff6d4",
   "metadata": {},
   "outputs": [],
   "source": [
    "df_features_not_tempo = df_features.rename(re_nf, axis=1)"
   ]
  },
  {
   "cell_type": "code",
   "execution_count": 101,
   "id": "986495bb-105b-49a1-8a02-f7615d835e68",
   "metadata": {},
   "outputs": [],
   "source": [
    "df_features_not_tempo[re_nf.values()][:5].round(2).to_csv('node_features_not_time.csv', index=False)"
   ]
  },
  {
   "cell_type": "code",
   "execution_count": 62,
   "id": "7391db3f-6f35-4d05-950e-e148f8a8550b",
   "metadata": {
    "tags": []
   },
   "outputs": [],
   "source": [
    "df_features['target'] = 'sem_info'"
   ]
  },
  {
   "cell_type": "code",
   "execution_count": 63,
   "id": "df3f791d-7216-44f0-99b6-f560ac4b4c21",
   "metadata": {
    "tags": []
   },
   "outputs": [],
   "source": [
    "df_features['target'][df_features.query(\" vm == 0 \").index] = 'parado'\n",
    "df_features['target'][df_features.query(\" vm > 0 and vm <= 5 \").index] = 'congestionado'\n",
    "df_features['target'][df_features.query(\" vm > 5 and vm <= 10 \").index] = 'devagar'\n",
    "df_features['target'][df_features.query(\" vm > 10 and vm <= 40 \").index] = 'normal'\n",
    "df_features['target'][df_features.query(\" vm > 40  \").index] = 'livre'"
   ]
  },
  {
   "cell_type": "code",
   "execution_count": 64,
   "id": "616b7905-9cad-43f6-a211-011d4e68bdb8",
   "metadata": {
    "tags": []
   },
   "outputs": [
    {
     "data": {
      "text/plain": [
       "normal           2460\n",
       "livre             300\n",
       "devagar            82\n",
       "congestionado      17\n",
       "parado              1\n",
       "Name: target, dtype: int64"
      ]
     },
     "execution_count": 64,
     "metadata": {},
     "output_type": "execute_result"
    }
   ],
   "source": [
    "df_features['target'].value_counts(dropna=False)"
   ]
  },
  {
   "cell_type": "code",
   "execution_count": 65,
   "id": "a96c885e-254c-43f0-a8dd-a3423d495fef",
   "metadata": {
    "tags": []
   },
   "outputs": [],
   "source": [
    "df_arestas = df_day_vm.copy()"
   ]
  },
  {
   "cell_type": "code",
   "execution_count": 66,
   "id": "e8ce76d6-3f1b-4a16-ab33-0653a2ed07d5",
   "metadata": {
    "tags": []
   },
   "outputs": [],
   "source": [
    "df-"
   ]
  },
  {
   "cell_type": "code",
   "execution_count": 67,
   "id": "0ff7dbcd-0888-4c08-a385-eec276a711dd",
   "metadata": {
    "tags": []
   },
   "outputs": [
    {
     "name": "stderr",
     "output_type": "stream",
     "text": [
      "100% 22780/22780 [01:05<00:00, 347.81it/s]\n"
     ]
    }
   ],
   "source": [
    "dfs = []\n",
    "for trip_id, df_trip_id in tqdm(df_arestas.groupby('trip_id')):\n",
    "    \n",
    "    df_trip_id['dst']     = df_trip_id['src'].shift(-1)\n",
    "    df_trip_id['vm_edge'] = df_trip_id['vm'].shift(-1)\n",
    "    df_trip_id['loader'] = df_trip_id['carregamento'].shift(-1)\n",
    "    \n",
    "    df_tpi_fix = df_trip_id.dropna()\n",
    "    \n",
    "    dfs.append(df_tpi_fix[['src', 'dst', 'vm_edge', 'loader']])\n",
    "    "
   ]
  },
  {
   "cell_type": "code",
   "execution_count": 68,
   "id": "9f95f500-5da6-40eb-b23b-cc28db0f5899",
   "metadata": {
    "tags": []
   },
   "outputs": [
    {
     "data": {
      "text/html": [
       "<div>\n",
       "<style scoped>\n",
       "    .dataframe tbody tr th:only-of-type {\n",
       "        vertical-align: middle;\n",
       "    }\n",
       "\n",
       "    .dataframe tbody tr th {\n",
       "        vertical-align: top;\n",
       "    }\n",
       "\n",
       "    .dataframe thead th {\n",
       "        text-align: right;\n",
       "    }\n",
       "</style>\n",
       "<table border=\"1\" class=\"dataframe\">\n",
       "  <thead>\n",
       "    <tr style=\"text-align: right;\">\n",
       "      <th></th>\n",
       "      <th>src</th>\n",
       "      <th>dst</th>\n",
       "      <th>vm_edge</th>\n",
       "      <th>loader</th>\n",
       "    </tr>\n",
       "  </thead>\n",
       "  <tbody>\n",
       "    <tr>\n",
       "      <th>0</th>\n",
       "      <td>44782849</td>\n",
       "      <td>47567835</td>\n",
       "      <td>31.900722</td>\n",
       "      <td>31.0</td>\n",
       "    </tr>\n",
       "    <tr>\n",
       "      <th>1</th>\n",
       "      <td>47567835</td>\n",
       "      <td>44783952</td>\n",
       "      <td>45.717688</td>\n",
       "      <td>40.0</td>\n",
       "    </tr>\n",
       "    <tr>\n",
       "      <th>2</th>\n",
       "      <td>44783952</td>\n",
       "      <td>44784227</td>\n",
       "      <td>19.318384</td>\n",
       "      <td>38.0</td>\n",
       "    </tr>\n",
       "    <tr>\n",
       "      <th>3</th>\n",
       "      <td>44784227</td>\n",
       "      <td>44783495</td>\n",
       "      <td>32.261915</td>\n",
       "      <td>39.0</td>\n",
       "    </tr>\n",
       "    <tr>\n",
       "      <th>4</th>\n",
       "      <td>44783495</td>\n",
       "      <td>88229436</td>\n",
       "      <td>24.513996</td>\n",
       "      <td>62.0</td>\n",
       "    </tr>\n",
       "  </tbody>\n",
       "</table>\n",
       "</div>"
      ],
      "text/plain": [
       "        src       dst    vm_edge  loader\n",
       "0  44782849  47567835  31.900722    31.0\n",
       "1  47567835  44783952  45.717688    40.0\n",
       "2  44783952  44784227  19.318384    38.0\n",
       "3  44784227  44783495  32.261915    39.0\n",
       "4  44783495  88229436  24.513996    62.0"
      ]
     },
     "execution_count": 68,
     "metadata": {},
     "output_type": "execute_result"
    }
   ],
   "source": [
    "df_edges = pd.concat(dfs, ignore_index=True)\n",
    "df_edges.head()"
   ]
  },
  {
   "cell_type": "code",
   "execution_count": 69,
   "id": "38a7a76d-c37a-4e87-9540-42c17f54feb3",
   "metadata": {
    "tags": []
   },
   "outputs": [],
   "source": [
    "df_edges_unique = df_edges.pivot_table(index=['src', 'dst'], \n",
    "                                       values=['vm_edge', 'loader'], \n",
    "                                       aggfunc='mean').reset_index()"
   ]
  },
  {
   "cell_type": "code",
   "execution_count": 70,
   "id": "123d993f-8e66-4e32-b044-b6a562b5eaf9",
   "metadata": {
    "tags": []
   },
   "outputs": [
    {
     "data": {
      "text/html": [
       "<div>\n",
       "<style scoped>\n",
       "    .dataframe tbody tr th:only-of-type {\n",
       "        vertical-align: middle;\n",
       "    }\n",
       "\n",
       "    .dataframe tbody tr th {\n",
       "        vertical-align: top;\n",
       "    }\n",
       "\n",
       "    .dataframe thead th {\n",
       "        text-align: right;\n",
       "    }\n",
       "</style>\n",
       "<table border=\"1\" class=\"dataframe\">\n",
       "  <thead>\n",
       "    <tr style=\"text-align: right;\">\n",
       "      <th></th>\n",
       "      <th>src</th>\n",
       "      <th>dst</th>\n",
       "      <th>loader</th>\n",
       "      <th>vm_edge</th>\n",
       "    </tr>\n",
       "  </thead>\n",
       "  <tbody>\n",
       "    <tr>\n",
       "      <th>0</th>\n",
       "      <td>100009577</td>\n",
       "      <td>345936831</td>\n",
       "      <td>2.770115</td>\n",
       "      <td>29.946355</td>\n",
       "    </tr>\n",
       "    <tr>\n",
       "      <th>1</th>\n",
       "      <td>100722777</td>\n",
       "      <td>100722778</td>\n",
       "      <td>18.540541</td>\n",
       "      <td>15.494709</td>\n",
       "    </tr>\n",
       "    <tr>\n",
       "      <th>2</th>\n",
       "      <td>100722777</td>\n",
       "      <td>44782645</td>\n",
       "      <td>5.820513</td>\n",
       "      <td>10.865240</td>\n",
       "    </tr>\n",
       "    <tr>\n",
       "      <th>3</th>\n",
       "      <td>100722777</td>\n",
       "      <td>45833440</td>\n",
       "      <td>23.023810</td>\n",
       "      <td>16.153585</td>\n",
       "    </tr>\n",
       "    <tr>\n",
       "      <th>4</th>\n",
       "      <td>100722777</td>\n",
       "      <td>66771046</td>\n",
       "      <td>21.500000</td>\n",
       "      <td>14.545003</td>\n",
       "    </tr>\n",
       "  </tbody>\n",
       "</table>\n",
       "</div>"
      ],
      "text/plain": [
       "         src        dst     loader    vm_edge\n",
       "0  100009577  345936831   2.770115  29.946355\n",
       "1  100722777  100722778  18.540541  15.494709\n",
       "2  100722777   44782645   5.820513  10.865240\n",
       "3  100722777   45833440  23.023810  16.153585\n",
       "4  100722777   66771046  21.500000  14.545003"
      ]
     },
     "execution_count": 70,
     "metadata": {},
     "output_type": "execute_result"
    }
   ],
   "source": [
    "df_edges_unique.head()"
   ]
  },
  {
   "cell_type": "code",
   "execution_count": 71,
   "id": "fcd5058a-87f2-4f66-ad08-9948c1197c46",
   "metadata": {
    "tags": []
   },
   "outputs": [
    {
     "data": {
      "text/plain": [
       "(4458, 4)"
      ]
     },
     "execution_count": 71,
     "metadata": {},
     "output_type": "execute_result"
    }
   ],
   "source": [
    "df_edges_unique.shape"
   ]
  },
  {
   "cell_type": "code",
   "execution_count": 72,
   "id": "4e34efc5-65d5-4125-bcdc-3dd95aa77d18",
   "metadata": {
    "tags": []
   },
   "outputs": [
    {
     "data": {
      "text/plain": [
       "count    4458.000000\n",
       "mean       15.071712\n",
       "std         7.122518\n",
       "min         0.000000\n",
       "25%         9.900410\n",
       "50%        14.711382\n",
       "75%        19.787851\n",
       "max        64.000000\n",
       "Name: loader, dtype: float64"
      ]
     },
     "execution_count": 72,
     "metadata": {},
     "output_type": "execute_result"
    }
   ],
   "source": [
    "df_edges_unique.loader.describe()"
   ]
  },
  {
   "cell_type": "code",
   "execution_count": 87,
   "id": "c045a60c-c909-404e-9bd1-0f358efeafcb",
   "metadata": {},
   "outputs": [
    {
     "data": {
      "image/png": "[encoded data removed]",
      "text/plain": [
       "<Figure size 432x288 with 1 Axes>"
      ]
     },
     "metadata": {
      "needs_background": "light"
     },
     "output_type": "display_data"
    }
   ],
   "source": [
    "sns.histplot(df_edges_unique.loader.values)\n",
    "plt.show()"
   ]
  },
  {
   "cell_type": "code",
   "execution_count": 73,
   "id": "a7720898-a44d-461a-9d2e-ce25caedb07a",
   "metadata": {
    "tags": []
   },
   "outputs": [
    {
     "data": {
      "image/png": "[encoded data removed]",
      "text/plain": [
       "<Figure size 432x288 with 1 Axes>"
      ]
     },
     "metadata": {
      "needs_background": "light"
     },
     "output_type": "display_data"
    }
   ],
   "source": [
    "sns.histplot(df_edges_unique.vm_edge.values)\n",
    "plt.show()"
   ]
  },
  {
   "cell_type": "code",
   "execution_count": 74,
   "id": "ccaa173d-402b-47b0-9812-72cd2b0426d6",
   "metadata": {
    "tags": []
   },
   "outputs": [
    {
     "data": {
      "text/html": [
       "<div>\n",
       "<style scoped>\n",
       "    .dataframe tbody tr th:only-of-type {\n",
       "        vertical-align: middle;\n",
       "    }\n",
       "\n",
       "    .dataframe tbody tr th {\n",
       "        vertical-align: top;\n",
       "    }\n",
       "\n",
       "    .dataframe thead th {\n",
       "        text-align: right;\n",
       "    }\n",
       "</style>\n",
       "<table border=\"1\" class=\"dataframe\">\n",
       "  <thead>\n",
       "    <tr style=\"text-align: right;\">\n",
       "      <th></th>\n",
       "      <th>src</th>\n",
       "      <th>dst</th>\n",
       "      <th>loader</th>\n",
       "      <th>vm_edge</th>\n",
       "    </tr>\n",
       "  </thead>\n",
       "  <tbody>\n",
       "    <tr>\n",
       "      <th>1089</th>\n",
       "      <td>44164986</td>\n",
       "      <td>45833922</td>\n",
       "      <td>0.000000</td>\n",
       "      <td>0.0</td>\n",
       "    </tr>\n",
       "    <tr>\n",
       "      <th>1296</th>\n",
       "      <td>44675766</td>\n",
       "      <td>44165231</td>\n",
       "      <td>4.727273</td>\n",
       "      <td>0.0</td>\n",
       "    </tr>\n",
       "  </tbody>\n",
       "</table>\n",
       "</div>"
      ],
      "text/plain": [
       "           src       dst    loader  vm_edge\n",
       "1089  44164986  45833922  0.000000      0.0\n",
       "1296  44675766  44165231  4.727273      0.0"
      ]
     },
     "execution_count": 74,
     "metadata": {},
     "output_type": "execute_result"
    }
   ],
   "source": [
    "df_edges_unique.query(\"vm_edge <= 0  \")"
   ]
  },
  {
   "cell_type": "code",
   "execution_count": 75,
   "id": "1f85f49d-d82b-4fcc-9403-86fc653d1881",
   "metadata": {
    "tags": []
   },
   "outputs": [
    {
     "data": {
      "text/plain": [
       "((4458, 4), (708934, 4))"
      ]
     },
     "execution_count": 75,
     "metadata": {},
     "output_type": "execute_result"
    }
   ],
   "source": [
    "df_edges_unique.shape, df_edges.shape"
   ]
  },
  {
   "cell_type": "code",
   "execution_count": 76,
   "id": "19120ef3-fd07-4793-a681-272eae2af852",
   "metadata": {
    "tags": []
   },
   "outputs": [
    {
     "data": {
      "image/png": "[encoded data removed]",
      "text/plain": [
       "<Figure size 432x288 with 1 Axes>"
      ]
     },
     "metadata": {
      "needs_background": "light"
     },
     "output_type": "display_data"
    }
   ],
   "source": [
    "sns.boxplot(df_edges_unique.vm_edge.values)\n",
    "plt.show()"
   ]
  },
  {
   "cell_type": "code",
   "execution_count": 77,
   "id": "bb56c32a-e2f2-4fb8-af8e-c73b516c4f59",
   "metadata": {
    "tags": []
   },
   "outputs": [
    {
     "data": {
      "image/png": "[encoded data removed]",
      "text/plain": [
       "<Figure size 432x288 with 1 Axes>"
      ]
     },
     "metadata": {
      "needs_background": "light"
     },
     "output_type": "display_data"
    }
   ],
   "source": [
    "# normal\n",
    "sns.histplot(df_edges_unique.vm_edge.values)\n",
    "plt.axvline(np.mean(df_edges_unique.vm_edge.values), c='r')\n",
    "plt.axvline(np.median(df_edges_unique.vm_edge.values), c='g')\n",
    "plt.show()"
   ]
  },
  {
   "cell_type": "code",
   "execution_count": 88,
   "id": "784114ec-2019-4a90-ad66-e8bba9ecfc9e",
   "metadata": {
    "tags": []
   },
   "outputs": [
    {
     "data": {
      "image/png": "[encoded data removed]",
      "text/plain": [
       "<Figure size 432x288 with 1 Axes>"
      ]
     },
     "metadata": {
      "needs_background": "light"
     },
     "output_type": "display_data"
    }
   ],
   "source": [
    "values = df_edges_unique.vm_edge.values\n",
    "tresh_i  = np.mean(values) - np.std(values)\n",
    "tresh_ii = np.mean(values) + np.std(values)\n",
    "sns.histplot(df_edges_unique.vm_edge.values)\n",
    "plt.axvline(tresh_i, c='r')\n",
    "plt.axvline(tresh_ii, c='r')\n",
    "plt.show()"
   ]
  },
  {
   "cell_type": "code",
   "execution_count": 79,
   "id": "7b5d5b3e-a02c-4847-9b32-aa98f99abb89",
   "metadata": {
    "tags": []
   },
   "outputs": [
    {
     "data": {
      "text/plain": [
       "count    4458.000000\n",
       "mean       24.785758\n",
       "std        10.810643\n",
       "min         0.000000\n",
       "25%        16.785481\n",
       "50%        23.250201\n",
       "75%        31.701797\n",
       "max        76.885414\n",
       "Name: vm_edge, dtype: float64"
      ]
     },
     "execution_count": 79,
     "metadata": {},
     "output_type": "execute_result"
    }
   ],
   "source": [
    "df_edges_unique.vm_edge.describe()"
   ]
  },
  {
   "cell_type": "code",
   "execution_count": 80,
   "id": "eafc5805-3d58-42db-938d-b3e9e6357b57",
   "metadata": {
    "tags": []
   },
   "outputs": [],
   "source": [
    "# df_edges_unique['target'] = 'sem_classe'\n",
    "# df_edges_unique['target'][df_edges_unique.query(\" vm_edge == 0 \").index] = 'parado'\n",
    "# df_edges_unique['target'][df_edges_unique.query(\" vm_edge >= 0 and vm_edge <= 16 \").index] = 'devagar'\n",
    "# df_edges_unique['target'][df_edges_unique.query(\" vm_edge > 16 and vm_edge <= 25 \").index] = 'normal'\n",
    "# df_edges_unique['target'][df_edges_unique.query(\" vm_edge > 25 and vm_edge <= 31 \").index] = 'fludo'\n",
    "# df_edges_unique['target'][df_edges_unique.query(\" vm_edge > 31 \").index] = 'livre'"
   ]
  },
  {
   "cell_type": "code",
   "execution_count": 89,
   "id": "a6b52c41-419a-4c9a-97c1-7ea27158775c",
   "metadata": {},
   "outputs": [],
   "source": [
    "df_edges_unique['target'] = 'sem_classe'\n",
    "df_edges_unique['target'][df_edges_unique.query(f\" vm_edge  <= {tresh_i} \").index] = 'devagar'\n",
    "df_edges_unique['target'][df_edges_unique.query(f\" vm_edge > {tresh_i} and vm_edge <= {tresh_ii} \").index] = 'normal'\n",
    "df_edges_unique['target'][df_edges_unique.query(f\" vm_edge > {tresh_ii} \").index] = 'fluido'"
   ]
  },
  {
   "cell_type": "code",
   "execution_count": 90,
   "id": "84771fdb-7d42-49a6-bfd4-d4830ea5ae7b",
   "metadata": {
    "tags": []
   },
   "outputs": [
    {
     "data": {
      "text/plain": [
       "normal     2998\n",
       "fluido      781\n",
       "devagar     679\n",
       "Name: target, dtype: int64"
      ]
     },
     "execution_count": 90,
     "metadata": {},
     "output_type": "execute_result"
    }
   ],
   "source": [
    "df_edges_unique.target.value_counts(dropna=False)"
   ]
  },
  {
   "cell_type": "code",
   "execution_count": 91,
   "id": "7689c03e-72bf-4dde-9e37-361ed1c46d08",
   "metadata": {
    "tags": []
   },
   "outputs": [
    {
     "data": {
      "image/png": "[encoded data removed]",
      "text/plain": [
       "<Figure size 432x288 with 1 Axes>"
      ]
     },
     "metadata": {
      "needs_background": "light"
     },
     "output_type": "display_data"
    }
   ],
   "source": [
    "# normal\n",
    "sns.histplot(df_edges_unique.query(\" target == 'normal' \").vm_edge.values)\n",
    "plt.show()"
   ]
  },
  {
   "cell_type": "code",
   "execution_count": 83,
   "id": "52db5856-bf0f-42ea-9a22-547129508c34",
   "metadata": {},
   "outputs": [
    {
     "name": "stdout",
     "output_type": "stream",
     "text": [
      "<class 'pandas.core.frame.DataFrame'>\n",
      "RangeIndex: 4458 entries, 0 to 4457\n",
      "Data columns (total 5 columns):\n",
      " #   Column   Non-Null Count  Dtype  \n",
      "---  ------   --------------  -----  \n",
      " 0   src      4458 non-null   object \n",
      " 1   dst      4458 non-null   object \n",
      " 2   loader   4458 non-null   float64\n",
      " 3   vm_edge  4458 non-null   float64\n",
      " 4   target   4458 non-null   object \n",
      "dtypes: float64(2), object(3)\n",
      "memory usage: 174.3+ KB\n"
     ]
    }
   ],
   "source": [
    "df_edges_unique.info()"
   ]
  },
  {
   "cell_type": "code",
   "execution_count": 84,
   "id": "565a9dfc-fcc4-49d2-836b-01e4e65324f3",
   "metadata": {
    "tags": []
   },
   "outputs": [
    {
     "data": {
      "text/plain": [
       "(2860, 2859, 2859)"
      ]
     },
     "execution_count": 84,
     "metadata": {},
     "output_type": "execute_result"
    }
   ],
   "source": [
    "df_features.ponto.nunique(), df_edges_unique.src.nunique(), df_edges_unique.dst.nunique()"
   ]
  },
  {
   "cell_type": "code",
   "execution_count": 92,
   "id": "3472b08a-9d1b-402f-9d91-df76ab06a571",
   "metadata": {
    "tags": []
   },
   "outputs": [],
   "source": [
    "#df_features.to_parquet('df_features.parquet', index=False)\n",
    "df_edges_unique.to_parquet('df_edges.parquet', index=False)"
   ]
  },
  {
   "cell_type": "code",
   "execution_count": 93,
   "id": "29672e85-cbe4-4acd-a81c-5c86cbfaeff2",
   "metadata": {
    "tags": []
   },
   "outputs": [
    {
     "data": {
      "text/plain": [
       "normal     2998\n",
       "fluido      781\n",
       "devagar     679\n",
       "Name: target, dtype: int64"
      ]
     },
     "execution_count": 93,
     "metadata": {},
     "output_type": "execute_result"
    }
   ],
   "source": [
    "df_edges_unique.target.value_counts(dropna=False)"
   ]
  },
  {
   "cell_type": "code",
   "execution_count": null,
   "id": "b4a9856e-7166-4b3d-829e-34d3385b660c",
   "metadata": {},
   "outputs": [],
   "source": []
  }
 ],
 "metadata": {
  "kernelspec": {
   "display_name": "Python 3 (ipykernel)",
   "language": "python",
   "name": "python3"
  },
  "language_info": {
   "codemirror_mode": {
    "name": "ipython",
    "version": 3
   },
   "file_extension": ".py",
   "mimetype": "text/x-python",
   "name": "python",
   "nbconvert_exporter": "python",
   "pygments_lexer": "ipython3",
   "version": "3.7.13"
  }
 },
 "nbformat": 4,
 "nbformat_minor": 5
}
