{
 "cells": [
  {
   "cell_type": "code",
   "execution_count": 1,
   "id": "287ba1fc-4740-4cd1-a483-387f4469059d",
   "metadata": {
    "tags": []
   },
   "outputs": [],
   "source": [
    "import warnings\n",
    "import numpy as np\n",
    "import pandas as pd\n",
    "from tqdm import tqdm\n",
    "from torch_geometric.data import Data\n",
    "from torch_geometric.utils import to_undirected, train_test_split_edges\n",
    "from sklearn.preprocessing import LabelEncoder"
   ]
  },
  {
   "cell_type": "code",
   "execution_count": 2,
   "id": "f63c6feb-b536-4e82-a34d-7a99745e5679",
   "metadata": {
    "tags": []
   },
   "outputs": [],
   "source": [
    "import torch\n",
    "import torch.nn as nn\n",
    "import torch.nn.functional as F\n",
    "from torch.nn import Linear\n",
    "from torch import Tensor\n",
    "from torch_geometric.utils import to_networkx\n",
    "from torch_geometric.data import Data\n",
    "from torch_geometric.nn import GCNConv\n",
    "from collections import Counter"
   ]
  },
  {
   "cell_type": "code",
   "execution_count": 26,
   "id": "f2d33e5f-d862-47e2-ae46-b463a0cca7a3",
   "metadata": {
    "tags": []
   },
   "outputs": [],
   "source": [
    "# validartion\n",
    "import seaborn as sns\n",
    "import matplotlib.pyplot as plt\n",
    "from sklearn.metrics import confusion_matrix, matthews_corrcoef"
   ]
  },
  {
   "cell_type": "code",
   "execution_count": 3,
   "id": "de68c927-6228-417c-a97f-80a9c26bdae8",
   "metadata": {
    "tags": []
   },
   "outputs": [],
   "source": [
    "# set seed\n",
    "torch.manual_seed(42)\n",
    "np.random.seed(42)\n",
    "warnings.filterwarnings('ignore')"
   ]
  },
  {
   "cell_type": "code",
   "execution_count": 4,
   "id": "c817e451-bb3d-40d4-8c7a-10150009e9d4",
   "metadata": {
    "tags": []
   },
   "outputs": [],
   "source": [
    "def pre_processing(df_graph, \n",
    "                   df_features, \n",
    "                   col_features,\n",
    "                   col_target='severity'):\n",
    "    # create node\n",
    "    df_features['node'] = np.arange(0, df_features.shape[0])\n",
    "\n",
    "    # select graph with same node features\n",
    "    nodes_of_features = list(df_features.leg_pos.unique())\n",
    "    df_graph_subsample = df_graph.query(\" pos1 in @nodes_of_features and pos2 in @nodes_of_features \")\n",
    "    \n",
    "    # sync nodes\n",
    "    df_graph_subsample['src'] = pd.NA\n",
    "    df_graph_subsample['dst'] = pd.NA\n",
    "    for i in tqdm(range(df_features.shape[0])):\n",
    "        node_emb, node = df_features[['leg_pos', 'node']].values[i]\n",
    "        df_graph_subsample['src'][df_graph_subsample.query(f\" pos1 == '{node_emb}' \").index] = node\n",
    "        df_graph_subsample['dst'][df_graph_subsample.query(f\" pos2 == '{node_emb}' \").index] = node\n",
    "\n",
    "    print(df_graph_subsample.info())\n",
    "    # subsample graph\n",
    "    df_graph_subsample = df_graph_subsample.astype({'src': int, 'dst': int})\n",
    "    # \n",
    "    # define x features and target\n",
    "    #col_features = ['relSESA','consurf_old']\n",
    "    # \n",
    "    pos = df_features.leg_pos.values\n",
    "    x = torch.tensor(df_features[col_features].values,  dtype=torch.float)\n",
    "    #y = torch.tensor(df_features[col_target].values, dtype=torch.long)\n",
    "    # index of graph\n",
    "    _edge_index = torch.tensor(df_graph_subsample[['src', 'dst']].values, dtype=torch.long)\n",
    "    \n",
    "    # encoder target\n",
    "    encoder = LabelEncoder()\n",
    "    df_graph_subsample[col_target] = encoder.fit_transform(df_graph_subsample[col_target].values).astype(float)\n",
    "    \n",
    "    edge_labels = torch.tensor(df_graph_subsample[col_target].values, dtype=torch.long)\n",
    "    # weigths edges\n",
    "    edge_w = torch.tensor(df_graph_subsample['weight'].values, dtype=torch.float)\n",
    "\n",
    "    return x, edge_labels, _edge_index, edge_w, pos"
   ]
  },
  {
   "cell_type": "code",
   "execution_count": 5,
   "id": "d46d4201-40e0-49c1-9671-2b62511e57c8",
   "metadata": {
    "tags": []
   },
   "outputs": [
    {
     "data": {
      "text/html": [
       "<div>\n",
       "<style scoped>\n",
       "    .dataframe tbody tr th:only-of-type {\n",
       "        vertical-align: middle;\n",
       "    }\n",
       "\n",
       "    .dataframe tbody tr th {\n",
       "        vertical-align: top;\n",
       "    }\n",
       "\n",
       "    .dataframe thead th {\n",
       "        text-align: right;\n",
       "    }\n",
       "</style>\n",
       "<table border=\"1\" class=\"dataframe\">\n",
       "  <thead>\n",
       "    <tr style=\"text-align: right;\">\n",
       "      <th></th>\n",
       "      <th>leg_pos</th>\n",
       "      <th>carregamento</th>\n",
       "      <th>desce</th>\n",
       "      <th>linha</th>\n",
       "      <th>sobe</th>\n",
       "      <th>trip_id</th>\n",
       "      <th>veiculo</th>\n",
       "    </tr>\n",
       "  </thead>\n",
       "  <tbody>\n",
       "    <tr>\n",
       "      <th>0</th>\n",
       "      <td>100009577</td>\n",
       "      <td>0.946667</td>\n",
       "      <td>0.026667</td>\n",
       "      <td>1.080000</td>\n",
       "      <td>0.480000</td>\n",
       "      <td>1.106667</td>\n",
       "      <td>1.093333</td>\n",
       "    </tr>\n",
       "    <tr>\n",
       "      <th>1</th>\n",
       "      <td>100722777</td>\n",
       "      <td>22.069444</td>\n",
       "      <td>5.222222</td>\n",
       "      <td>1.666667</td>\n",
       "      <td>4.840278</td>\n",
       "      <td>1.750000</td>\n",
       "      <td>1.750000</td>\n",
       "    </tr>\n",
       "    <tr>\n",
       "      <th>2</th>\n",
       "      <td>100722778</td>\n",
       "      <td>21.402516</td>\n",
       "      <td>1.666667</td>\n",
       "      <td>1.773585</td>\n",
       "      <td>0.081761</td>\n",
       "      <td>2.056604</td>\n",
       "      <td>2.056604</td>\n",
       "    </tr>\n",
       "    <tr>\n",
       "      <th>3</th>\n",
       "      <td>101214305</td>\n",
       "      <td>7.982759</td>\n",
       "      <td>4.465517</td>\n",
       "      <td>1.000000</td>\n",
       "      <td>0.620690</td>\n",
       "      <td>1.000000</td>\n",
       "      <td>1.000000</td>\n",
       "    </tr>\n",
       "    <tr>\n",
       "      <th>4</th>\n",
       "      <td>101269104</td>\n",
       "      <td>77.882653</td>\n",
       "      <td>16.591837</td>\n",
       "      <td>4.540816</td>\n",
       "      <td>10.285714</td>\n",
       "      <td>5.520408</td>\n",
       "      <td>5.520408</td>\n",
       "    </tr>\n",
       "  </tbody>\n",
       "</table>\n",
       "</div>"
      ],
      "text/plain": [
       "     leg_pos  carregamento      desce     linha       sobe   trip_id   veiculo\n",
       "0  100009577      0.946667   0.026667  1.080000   0.480000  1.106667  1.093333\n",
       "1  100722777     22.069444   5.222222  1.666667   4.840278  1.750000  1.750000\n",
       "2  100722778     21.402516   1.666667  1.773585   0.081761  2.056604  2.056604\n",
       "3  101214305      7.982759   4.465517  1.000000   0.620690  1.000000  1.000000\n",
       "4  101269104     77.882653  16.591837  4.540816  10.285714  5.520408  5.520408"
      ]
     },
     "execution_count": 5,
     "metadata": {},
     "output_type": "execute_result"
    }
   ],
   "source": [
    "df_v = pd.read_parquet('df_features.parquet')\n",
    "df_e = pd.read_parquet('df_edges.parquet')\n",
    "\n",
    "df_v = df_v.drop(['vm', 'target'], axis=1)\n",
    "df_v = df_v.rename({'ponto': 'leg_pos'}, axis=1)\n",
    "df_v = df_v.astype({'leg_pos': str})\n",
    "df_e = df_e.drop(['vm_edge'], axis=1)\n",
    "df_v.head()"
   ]
  },
  {
   "cell_type": "code",
   "execution_count": 6,
   "id": "3e16a125-e667-4666-8d02-f5da96791127",
   "metadata": {
    "tags": []
   },
   "outputs": [],
   "source": [
    "f_selected = ['carregamento', 'desce', 'linha', 'sobe', 'trip_id', 'veiculo']"
   ]
  },
  {
   "cell_type": "code",
   "execution_count": 7,
   "id": "999a7e05-6e10-4908-9f5f-74842b80f1f7",
   "metadata": {
    "tags": []
   },
   "outputs": [
    {
     "data": {
      "text/html": [
       "<div>\n",
       "<style scoped>\n",
       "    .dataframe tbody tr th:only-of-type {\n",
       "        vertical-align: middle;\n",
       "    }\n",
       "\n",
       "    .dataframe tbody tr th {\n",
       "        vertical-align: top;\n",
       "    }\n",
       "\n",
       "    .dataframe thead th {\n",
       "        text-align: right;\n",
       "    }\n",
       "</style>\n",
       "<table border=\"1\" class=\"dataframe\">\n",
       "  <thead>\n",
       "    <tr style=\"text-align: right;\">\n",
       "      <th></th>\n",
       "      <th>pos1</th>\n",
       "      <th>pos2</th>\n",
       "      <th>weight</th>\n",
       "      <th>target</th>\n",
       "    </tr>\n",
       "  </thead>\n",
       "  <tbody>\n",
       "    <tr>\n",
       "      <th>0</th>\n",
       "      <td>100009577</td>\n",
       "      <td>345936831</td>\n",
       "      <td>1.136364</td>\n",
       "      <td>normal</td>\n",
       "    </tr>\n",
       "    <tr>\n",
       "      <th>1</th>\n",
       "      <td>100722777</td>\n",
       "      <td>100722778</td>\n",
       "      <td>11.437086</td>\n",
       "      <td>devagar</td>\n",
       "    </tr>\n",
       "    <tr>\n",
       "      <th>2</th>\n",
       "      <td>100722777</td>\n",
       "      <td>44782645</td>\n",
       "      <td>2.425000</td>\n",
       "      <td>devagar</td>\n",
       "    </tr>\n",
       "    <tr>\n",
       "      <th>3</th>\n",
       "      <td>100722777</td>\n",
       "      <td>45833440</td>\n",
       "      <td>14.268293</td>\n",
       "      <td>devagar</td>\n",
       "    </tr>\n",
       "    <tr>\n",
       "      <th>4</th>\n",
       "      <td>100722777</td>\n",
       "      <td>66771046</td>\n",
       "      <td>14.948718</td>\n",
       "      <td>devagar</td>\n",
       "    </tr>\n",
       "  </tbody>\n",
       "</table>\n",
       "</div>"
      ],
      "text/plain": [
       "        pos1       pos2     weight   target\n",
       "0  100009577  345936831   1.136364   normal\n",
       "1  100722777  100722778  11.437086  devagar\n",
       "2  100722777   44782645   2.425000  devagar\n",
       "3  100722777   45833440  14.268293  devagar\n",
       "4  100722777   66771046  14.948718  devagar"
      ]
     },
     "execution_count": 7,
     "metadata": {},
     "output_type": "execute_result"
    }
   ],
   "source": [
    "df_e.head()\n",
    "df_e = df_e.rename({'src': 'pos1', 'dst': 'pos2', 'loader': 'weight'}, axis=1)\n",
    "df_e = df_e.astype({'pos1': str, 'pos2': str})\n",
    "df_e.head()"
   ]
  },
  {
   "cell_type": "code",
   "execution_count": 8,
   "id": "a7f31111-4acb-46fb-a8d1-062757541a77",
   "metadata": {
    "tags": []
   },
   "outputs": [
    {
     "name": "stderr",
     "output_type": "stream",
     "text": [
      "100% 2833/2833 [00:10<00:00, 275.71it/s]"
     ]
    },
    {
     "name": "stdout",
     "output_type": "stream",
     "text": [
      "<class 'pandas.core.frame.DataFrame'>\n",
      "Int64Index: 4522 entries, 0 to 4523\n",
      "Data columns (total 6 columns):\n",
      " #   Column  Non-Null Count  Dtype  \n",
      "---  ------  --------------  -----  \n",
      " 0   pos1    4522 non-null   object \n",
      " 1   pos2    4522 non-null   object \n",
      " 2   weight  4522 non-null   float64\n",
      " 3   target  4522 non-null   object \n",
      " 4   src     4522 non-null   object \n",
      " 5   dst     4522 non-null   object \n",
      "dtypes: float64(1), object(5)\n",
      "memory usage: 376.3+ KB\n",
      "None\n"
     ]
    },
    {
     "name": "stderr",
     "output_type": "stream",
     "text": [
      "\n"
     ]
    }
   ],
   "source": [
    "xa, edge_labelsa, edge_indexa, edge_wa, posa =  pre_processing(df_e, \n",
    "                                                              df_v, \n",
    "                                                              f_selected,\n",
    "                                                              col_target='target')"
   ]
  },
  {
   "cell_type": "code",
   "execution_count": 9,
   "id": "b7e3399a-018e-4acc-af92-3b2ced8be24b",
   "metadata": {
    "tags": []
   },
   "outputs": [],
   "source": [
    "# Ensure the graph is undirected\n",
    "#edge_index = to_undirected(edge_indexa)"
   ]
  },
  {
   "cell_type": "code",
   "execution_count": 10,
   "id": "dc76d88c-cc42-446f-a5fd-287ff29d0368",
   "metadata": {
    "tags": []
   },
   "outputs": [
    {
     "data": {
      "text/plain": [
       "(torch.Size([4522]), torch.Size([4522, 2]))"
      ]
     },
     "execution_count": 10,
     "metadata": {},
     "output_type": "execute_result"
    }
   ],
   "source": [
    "edge_labelsa.shape, edge_indexa.shape"
   ]
  },
  {
   "cell_type": "code",
   "execution_count": 11,
   "id": "2f328e4e-1537-427f-87fb-b84e3b58f467",
   "metadata": {
    "tags": []
   },
   "outputs": [
    {
     "data": {
      "text/plain": [
       "torch.Size([4522])"
      ]
     },
     "execution_count": 11,
     "metadata": {},
     "output_type": "execute_result"
    }
   ],
   "source": [
    "edge_labelsa.shape"
   ]
  },
  {
   "cell_type": "code",
   "execution_count": 12,
   "id": "b74508bc-9d58-4ee8-84bf-4845c600404f",
   "metadata": {
    "tags": []
   },
   "outputs": [
    {
     "data": {
      "text/plain": [
       "torch.Size([4522, 4])"
      ]
     },
     "execution_count": 12,
     "metadata": {},
     "output_type": "execute_result"
    }
   ],
   "source": [
    "edge_labels_oh = torch.nn.functional.one_hot(edge_labelsa)\n",
    "edge_labels_oh.shape"
   ]
  },
  {
   "cell_type": "code",
   "execution_count": 13,
   "id": "bea57b10-1550-4fea-bb00-238adde9aad9",
   "metadata": {},
   "outputs": [
    {
     "data": {
      "text/plain": [
       "tensor([[0., 0., 0., 1.],\n",
       "        [0., 1., 0., 0.],\n",
       "        [0., 1., 0., 0.],\n",
       "        ...,\n",
       "        [0., 0., 0., 1.],\n",
       "        [0., 1., 0., 0.],\n",
       "        [0., 0., 0., 1.]])"
      ]
     },
     "execution_count": 13,
     "metadata": {},
     "output_type": "execute_result"
    }
   ],
   "source": [
    "edge_labels_oh = edge_labels_oh.float()\n",
    "edge_labels_oh"
   ]
  },
  {
   "cell_type": "code",
   "execution_count": 14,
   "id": "bb130036-5a2c-4d75-abe5-1a5cda80d56d",
   "metadata": {
    "tags": []
   },
   "outputs": [],
   "source": [
    "data = Data(x=xa, \n",
    "            edge_index=edge_indexa.t().contiguous())"
   ]
  },
  {
   "cell_type": "code",
   "execution_count": 15,
   "id": "892da032-249e-48d8-b774-ecf0941369b7",
   "metadata": {},
   "outputs": [
    {
     "data": {
      "text/plain": [
       "Data(x=[2833, 6], edge_index=[2, 4522])"
      ]
     },
     "execution_count": 15,
     "metadata": {},
     "output_type": "execute_result"
    }
   ],
   "source": [
    "data"
   ]
  },
  {
   "cell_type": "code",
   "execution_count": 16,
   "id": "bcb6c70d-9aa7-4f9f-ac5b-31d426888439",
   "metadata": {
    "tags": []
   },
   "outputs": [],
   "source": [
    "# Split edges into train and test sets\n",
    "data = train_test_split_edges(data, val_ratio=0.0, test_ratio=0.2)"
   ]
  },
  {
   "cell_type": "code",
   "execution_count": 17,
   "id": "9372e142-f357-449a-84cd-d5a151477bdd",
   "metadata": {
    "tags": []
   },
   "outputs": [
    {
     "data": {
      "text/plain": [
       "Data(x=[2833, 6], val_pos_edge_index=[2, 0], test_pos_edge_index=[2, 471], train_pos_edge_index=[2, 3770], train_neg_adj_mask=[2833, 2833], val_neg_edge_index=[2, 0], test_neg_edge_index=[2, 471])"
      ]
     },
     "execution_count": 17,
     "metadata": {},
     "output_type": "execute_result"
    }
   ],
   "source": [
    "data"
   ]
  },
  {
   "cell_type": "code",
   "execution_count": 18,
   "id": "0456a5be-0d5b-4c59-98bc-5dd058cb88c0",
   "metadata": {
    "tags": []
   },
   "outputs": [
    {
     "data": {
      "text/plain": [
       "torch.Tensor"
      ]
     },
     "execution_count": 18,
     "metadata": {},
     "output_type": "execute_result"
    }
   ],
   "source": [
    "type(data.x)"
   ]
  },
  {
   "cell_type": "code",
   "execution_count": 19,
   "id": "68e930f2-0ce8-41f7-97c4-a5cbe22f1443",
   "metadata": {
    "tags": []
   },
   "outputs": [],
   "source": [
    "# Extract train and test edge indices and labels\n",
    "train_edge_index = data.train_pos_edge_index\n",
    "test_edge_index = data.test_pos_edge_index\n",
    "\n",
    "# For simplicity, use the same labels for train and test (replace with actual labels if available)\n",
    "train_edge_labels = edge_labels_oh[:train_edge_index.size(1)]\n",
    "test_edge_labels = edge_labels_oh[:test_edge_index.size(1)]"
   ]
  },
  {
   "cell_type": "code",
   "execution_count": null,
   "id": "8c75c86d-7005-4ff5-95b6-19e7aaadb0bc",
   "metadata": {},
   "outputs": [],
   "source": []
  },
  {
   "cell_type": "code",
   "execution_count": 20,
   "id": "32f45cc8-5032-4cbd-93e7-7b85508f6f8d",
   "metadata": {
    "tags": []
   },
   "outputs": [],
   "source": [
    "class GCN(torch.nn.Module):\n",
    "    def __init__(self, in_channels, hidden_channels, out_channels):\n",
    "        super(GCN, self).__init__()\n",
    "        self.conv1 = GCNConv(in_channels, hidden_channels)\n",
    "        self.conv2 = GCNConv(hidden_channels, out_channels)\n",
    "\n",
    "    def forward(self, x, edge_index):\n",
    "        #x, edge_index = data.x, data.edge_index\n",
    "        #print(f\"\")\n",
    "        x = self.conv1(x, edge_index)\n",
    "        x = F.relu(x)\n",
    "        x = self.conv2(x, edge_index)\n",
    "        return x"
   ]
  },
  {
   "cell_type": "code",
   "execution_count": 21,
   "id": "4b98c093-d22e-445b-837d-b6b18f204bfa",
   "metadata": {
    "tags": []
   },
   "outputs": [],
   "source": [
    "def get_edge_features(node_embeddings, edge_index):\n",
    "    src, tgt = edge_index\n",
    "    edge_features = torch.cat((node_embeddings[src], node_embeddings[tgt]), dim=1)\n",
    "    return edge_features"
   ]
  },
  {
   "cell_type": "code",
   "execution_count": 22,
   "id": "829ea7a3-69cf-4504-b57a-3fa07dc4a591",
   "metadata": {
    "tags": []
   },
   "outputs": [],
   "source": [
    "class EdgeClassifier(torch.nn.Module):\n",
    "    def __init__(self, in_channels, hidden_channels, out_channels):\n",
    "        super(EdgeClassifier, self).__init__()\n",
    "        self.fc1 = torch.nn.Linear(in_channels, hidden_channels)\n",
    "        self.fc2 = torch.nn.Linear(hidden_channels, out_channels)\n",
    "\n",
    "    def forward(self, edge_features):\n",
    "        x = F.relu(self.fc1(edge_features))\n",
    "        x = self.fc2(x)\n",
    "        return x"
   ]
  },
  {
   "cell_type": "code",
   "execution_count": 23,
   "id": "c98cab69-5bda-4475-8bfe-ec68c54a7e86",
   "metadata": {
    "tags": []
   },
   "outputs": [],
   "source": [
    "# Hyperparameters\n",
    "in_channels = data.x.shape[1]\n",
    "hidden_channels = 16\n",
    "node_embedding_dim = 16\n",
    "edge_hidden_dim = 8\n",
    "num_edge_classes = edge_labels_oh.shape[1]  # Example: binary classification\n",
    "\n",
    "# Initialize models\n",
    "gcn = GCN(in_channels, hidden_channels, node_embedding_dim)\n",
    "edge_classifier = EdgeClassifier(2 * node_embedding_dim, edge_hidden_dim, num_edge_classes)\n",
    "\n",
    "# Optimizer\n",
    "optimizer = torch.optim.Adam(list(gcn.parameters()) + list(edge_classifier.parameters()), lr=0.01)"
   ]
  },
  {
   "cell_type": "code",
   "execution_count": 24,
   "id": "5212d209-b384-4f2a-8550-a31078dfdf64",
   "metadata": {
    "tags": []
   },
   "outputs": [
    {
     "name": "stderr",
     "output_type": "stream",
     "text": [
      "100% 500/500 [00:02<00:00, 180.01it/s]"
     ]
    },
    {
     "name": "stdout",
     "output_type": "stream",
     "text": [
      "Training completed with init loss 1.2169629335403442 and last loss: 0.9562596082687378.\n"
     ]
    },
    {
     "name": "stderr",
     "output_type": "stream",
     "text": [
      "\n"
     ]
    }
   ],
   "source": [
    "# Training loop\n",
    "scores = []\n",
    "for epoch in tqdm(range(500)):  # Number of epochs\n",
    "    \n",
    "    gcn.train()\n",
    "    edge_classifier.train()\n",
    "    optimizer.zero_grad()\n",
    "\n",
    "    # Forward pass through GCN to get node embeddings\n",
    "    node_embeddings = gcn(data.x, train_edge_index)\n",
    "\n",
    "    # Get edge features from node embeddings for training edges\n",
    "    train_edge_features = get_edge_features(node_embeddings, train_edge_index)\n",
    "\n",
    "    # Classify training edges\n",
    "    train_edge_predictions = edge_classifier(train_edge_features)\n",
    "    \n",
    "    # Compute loss\n",
    "    loss = F.cross_entropy(train_edge_predictions, train_edge_labels)\n",
    "\n",
    "    # Backward pass and optimization\n",
    "    loss.backward()\n",
    "    optimizer.step()\n",
    "    \n",
    "    scores.append(loss.item())\n",
    "\n",
    "    #print(f'Epoch {epoch+1}, Loss: {loss.item()}')\n",
    "\n",
    "print(f'Training completed with init loss {scores[0]} and last loss: {scores[-1]}.')"
   ]
  },
  {
   "cell_type": "markdown",
   "id": "835a1da3-bcc4-4f05-84ec-65fed8057bdb",
   "metadata": {},
   "source": [
    "## Test"
   ]
  },
  {
   "cell_type": "code",
   "execution_count": 27,
   "id": "b12410e2-3f7b-4202-b9de-d153197fc5d0",
   "metadata": {
    "tags": []
   },
   "outputs": [
    {
     "name": "stdout",
     "output_type": "stream",
     "text": [
      "Accuracy: 0.5329\n"
     ]
    }
   ],
   "source": [
    "gcn.eval()\n",
    "edge_classifier.eval()\n",
    "\n",
    "# Forward pass through GCN to get node embeddings\n",
    "node_embeddings = gcn(data.x, test_edge_index)\n",
    "\n",
    "# Get edge features from node embeddings for test edges\n",
    "test_edge_features = get_edge_features(node_embeddings, test_edge_index)\n",
    "\n",
    "# Classify test edges\n",
    "test_edge_predictions = edge_classifier(test_edge_features)\n",
    "\n",
    "y_true = test_edge_labels.argmax(dim=1)\n",
    "y_pred = test_edge_predictions.argmax(dim=1)\n",
    "\n",
    "# Example evaluation metric: accuracy\n",
    "correct = (y_pred == y_true).sum()\n",
    "accuracy = int(correct) / test_edge_labels.size(0)\n",
    "\n",
    "print(f'Accuracy: {accuracy:.4f}')"
   ]
  },
  {
   "cell_type": "code",
   "execution_count": 28,
   "id": "764197a1-681c-4f55-86b2-cad18f8e8577",
   "metadata": {
    "tags": []
   },
   "outputs": [
    {
     "name": "stdout",
     "output_type": "stream",
     "text": [
      "Confusion Matrix:\n",
      "[[  0   0   0   8]\n",
      " [  0  13   2 163]\n",
      " [  0   3   0  30]\n",
      " [  0  12   2 238]]\n",
      "MCC: 0.04154870758612794\n"
     ]
    }
   ],
   "source": [
    "# Compute confusion matrix\n",
    "conf_matrix = confusion_matrix(y_true, y_pred)\n",
    "print(\"Confusion Matrix:\")\n",
    "print(conf_matrix)\n",
    "\n",
    "# Compute MCC\n",
    "mcc = matthews_corrcoef(y_true, y_pred)\n",
    "print(\"MCC:\", mcc)"
   ]
  },
  {
   "cell_type": "code",
   "execution_count": 33,
   "id": "c93a55d0-f3f6-4aac-8d5d-323aa4602689",
   "metadata": {
    "tags": []
   },
   "outputs": [
    {
     "data": {
      "text/plain": [
       "Counter({3: 252, 1: 178, 2: 33, 0: 8})"
      ]
     },
     "execution_count": 33,
     "metadata": {},
     "output_type": "execute_result"
    }
   ],
   "source": [
    "Counter(y_true.numpy())"
   ]
  },
  {
   "cell_type": "code",
   "execution_count": 34,
   "id": "d6a8c14b-05d3-4419-b0e9-09a5d8ba71d0",
   "metadata": {
    "tags": []
   },
   "outputs": [
    {
     "data": {
      "image/png": "[encoded data removed]",
      "text/plain": [
       "<Figure size 576x432 with 2 Axes>"
      ]
     },
     "metadata": {
      "needs_background": "light"
     },
     "output_type": "display_data"
    }
   ],
   "source": [
    "# Create a heatmap plot of the confusion matrix\n",
    "plt.figure(figsize=(8, 6))\n",
    "sns.heatmap(conf_matrix, annot=True, \n",
    "            fmt='d', cmap='Blues', \n",
    "            xticklabels=['0', '1', '2', '3'], \n",
    "            yticklabels=['0', '1', '2', '3'])\n",
    "plt.xlabel('Predicted Labels')\n",
    "plt.ylabel('Actual Labels')\n",
    "plt.title('Confusion Matrix')\n",
    "plt.show()"
   ]
  },
  {
   "cell_type": "code",
   "execution_count": null,
   "id": "9ecd555a-b87c-43bf-afab-c6dcf30799d7",
   "metadata": {},
   "outputs": [],
   "source": []
  }
 ],
 "metadata": {
  "kernelspec": {
   "display_name": "Python 3 (ipykernel)",
   "language": "python",
   "name": "python3"
  },
  "language_info": {
   "codemirror_mode": {
    "name": "ipython",
    "version": 3
   },
   "file_extension": ".py",
   "mimetype": "text/x-python",
   "name": "python",
   "nbconvert_exporter": "python",
   "pygments_lexer": "ipython3",
   "version": "3.7.13"
  }
 },
 "nbformat": 4,
 "nbformat_minor": 5
}
