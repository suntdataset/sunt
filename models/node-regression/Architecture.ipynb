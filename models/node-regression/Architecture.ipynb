{
 "cells": [
  {
   "cell_type": "code",
   "execution_count": 4,
   "id": "7d7c3278-e484-46b6-8f9d-6b2bfd7f4053",
   "metadata": {},
   "outputs": [],
   "source": [
    "import models as mm"
   ]
  },
  {
   "cell_type": "code",
   "execution_count": 8,
   "id": "729ce989-7299-4e98-be12-668ac9b130b7",
   "metadata": {},
   "outputs": [],
   "source": [
    "model =  mm.LSTM(in_channels=36, \n",
    "                 hidden_channels=128, out_channels=12).to('cpu')"
   ]
  },
  {
   "cell_type": "code",
   "execution_count": 9,
   "id": "7427269c-300e-4c4e-8153-f089e35a980f",
   "metadata": {},
   "outputs": [
    {
     "data": {
      "text/plain": [
       "LSTM(\n",
       "  (lstm): LSTM(36, 128, batch_first=True)\n",
       "  (linear): Linear(in_features=128, out_features=12, bias=True)\n",
       ")"
      ]
     },
     "execution_count": 9,
     "metadata": {},
     "output_type": "execute_result"
    }
   ],
   "source": [
    "model"
   ]
  },
  {
   "cell_type": "code",
   "execution_count": 11,
   "id": "adbe1990-1652-40b8-bd65-17d48e170125",
   "metadata": {},
   "outputs": [],
   "source": [
    "model =  mm.GRU(in_channels=36, \n",
    "                hidden_channels=128, \n",
    "                out_channels=12).to('cpu')"
   ]
  },
  {
   "cell_type": "code",
   "execution_count": 12,
   "id": "e5bc0a0f-4e21-4066-81dd-1865c9ddf70b",
   "metadata": {},
   "outputs": [
    {
     "data": {
      "text/plain": [
       "GRU(\n",
       "  (gru): GRU(36, 128, batch_first=True)\n",
       "  (linear): Linear(in_features=128, out_features=12, bias=True)\n",
       ")"
      ]
     },
     "execution_count": 12,
     "metadata": {},
     "output_type": "execute_result"
    }
   ],
   "source": [
    "model"
   ]
  },
  {
   "cell_type": "code",
   "execution_count": null,
   "id": "ccaca7b1-1524-47fd-8c79-0c30e3116532",
   "metadata": {},
   "outputs": [],
   "source": []
  }
 ],
 "metadata": {
  "kernelspec": {
   "display_name": "Python 3 (ipykernel)",
   "language": "python",
   "name": "python3"
  },
  "language_info": {
   "codemirror_mode": {
    "name": "ipython",
    "version": 3
   },
   "file_extension": ".py",
   "mimetype": "text/x-python",
   "name": "python",
   "nbconvert_exporter": "python",
   "pygments_lexer": "ipython3",
   "version": "3.7.13"
  }
 },
 "nbformat": 4,
 "nbformat_minor": 5
}
