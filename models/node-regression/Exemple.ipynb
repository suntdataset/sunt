{
 "cells": [
  {
   "cell_type": "code",
   "execution_count": 1,
   "id": "06f59977-1031-4a8a-990e-f9d38f3102a8",
   "metadata": {
    "tags": []
   },
   "outputs": [],
   "source": [
    "# basic\n",
    "import os\n",
    "import numpy as np\n",
    "import pandas as pd\n",
    "from tqdm import tqdm\n",
    "# pre processing\n",
    "from sklearn import preprocessing as pre\n",
    "# NN\n",
    "import torch\n",
    "import torch.nn as nn\n",
    "from torch import Tensor\n",
    "import torch.nn.functional as F\n",
    "import torch.optim as optim\n",
    "from torch.nn import MSELoss\n",
    "from torch_geometric.nn import GCNConv\n",
    "# val and plot\n",
    "from torchmetrics.regression import R2Score\n",
    "from sklearn.metrics import r2_score\n",
    "from sklearn.metrics import mean_squared_error\n",
    "from sklearn.metrics import mean_absolute_percentage_error\n",
    "from sklearn.metrics import mean_absolute_error\n",
    "from loguru import logger as log\n",
    "from val import calculate_metrics\n",
    "# plot\n",
    "import matplotlib.pyplot as plt"
   ]
  },
  {
   "cell_type": "code",
   "execution_count": 27,
   "id": "ab8530d1-086d-41bd-b5fe-d711409b49db",
   "metadata": {
    "tags": []
   },
   "outputs": [],
   "source": [
    "SEED = 1345\n",
    "def seed_everything(seed):\n",
    "    os.environ['PYTHONHASHSEED'] = str(seed)\n",
    "    np.random.seed(seed)\n",
    "    torch.manual_seed(seed)\n",
    "    torch.cuda.manual_seed(seed)\n",
    "    torch.backends.cudnn.deterministic = True\n",
    "seed_everything(SEED)\n",
    "plt.style.use('seaborn-whitegrid')\n",
    "pd.set_option('display.float_format', '{:.16f}'.format)"
   ]
  },
  {
   "cell_type": "markdown",
   "id": "aa3cce06-525e-43ae-aa45-15adf8752ce2",
   "metadata": {},
   "source": [
    "## Data"
   ]
  },
  {
   "cell_type": "code",
   "execution_count": 3,
   "id": "2407958a-b8a8-46e3-90bc-7c8e508f724d",
   "metadata": {},
   "outputs": [],
   "source": [
    "from data import load_dataset\n",
    "from torch_geometric_temporal.signal import temporal_signal_split"
   ]
  },
  {
   "cell_type": "code",
   "execution_count": 4,
   "id": "5015a444-3222-4774-bf2c-5a62599cdf13",
   "metadata": {},
   "outputs": [],
   "source": [
    "train_dataset = load_dataset('../../data/graph_designer/train_test/dataset_train.pkl')"
   ]
  },
  {
   "cell_type": "code",
   "execution_count": 5,
   "id": "a116a062-65b8-46d3-9ad8-19e89ffc5d22",
   "metadata": {
    "tags": []
   },
   "outputs": [],
   "source": [
    "test_dataset = load_dataset('../../data/graph_designer/train_test/dataset_test.pkl')"
   ]
  },
  {
   "cell_type": "code",
   "execution_count": 6,
   "id": "b6a4cab6-64b2-41d5-8761-0158fbb442f6",
   "metadata": {
    "tags": []
   },
   "outputs": [],
   "source": [
    "df_nodes = pd.read_csv('../../data/graph_designer/train_test/df_nodes_selected.csv')\n",
    "nodes = list(df_nodes.tensor_idx.values)"
   ]
  },
  {
   "cell_type": "code",
   "execution_count": 7,
   "id": "cba223a1-1212-453b-a1e7-06663aefce72",
   "metadata": {
    "tags": []
   },
   "outputs": [
    {
     "data": {
      "text/html": [
       "<div>\n",
       "<style scoped>\n",
       "    .dataframe tbody tr th:only-of-type {\n",
       "        vertical-align: middle;\n",
       "    }\n",
       "\n",
       "    .dataframe tbody tr th {\n",
       "        vertical-align: top;\n",
       "    }\n",
       "\n",
       "    .dataframe thead th {\n",
       "        text-align: right;\n",
       "    }\n",
       "</style>\n",
       "<table border=\"1\" class=\"dataframe\">\n",
       "  <thead>\n",
       "    <tr style=\"text-align: right;\">\n",
       "      <th></th>\n",
       "      <th>time</th>\n",
       "      <th>day</th>\n",
       "      <th>partition</th>\n",
       "      <th>partition_nn</th>\n",
       "      <th>carregamento_node_694</th>\n",
       "      <th>carregamento_node_2772</th>\n",
       "      <th>carregamento_node_1203</th>\n",
       "      <th>carregamento_node_592</th>\n",
       "      <th>carregamento_node_561</th>\n",
       "    </tr>\n",
       "  </thead>\n",
       "  <tbody>\n",
       "    <tr>\n",
       "      <th>0</th>\n",
       "      <td>2024-03-01 05:00:00</td>\n",
       "      <td>1</td>\n",
       "      <td>train</td>\n",
       "      <td>train</td>\n",
       "      <td>12.166667</td>\n",
       "      <td>8.666667</td>\n",
       "      <td>0.000000</td>\n",
       "      <td>0.166667</td>\n",
       "      <td>20.166667</td>\n",
       "    </tr>\n",
       "    <tr>\n",
       "      <th>1</th>\n",
       "      <td>2024-03-01 05:05:00</td>\n",
       "      <td>1</td>\n",
       "      <td>train</td>\n",
       "      <td>train</td>\n",
       "      <td>26.583333</td>\n",
       "      <td>8.666667</td>\n",
       "      <td>0.000000</td>\n",
       "      <td>4.833333</td>\n",
       "      <td>32.833333</td>\n",
       "    </tr>\n",
       "    <tr>\n",
       "      <th>2</th>\n",
       "      <td>2024-03-01 05:10:00</td>\n",
       "      <td>1</td>\n",
       "      <td>train</td>\n",
       "      <td>train</td>\n",
       "      <td>48.833333</td>\n",
       "      <td>19.166667</td>\n",
       "      <td>0.000000</td>\n",
       "      <td>8.000000</td>\n",
       "      <td>45.916667</td>\n",
       "    </tr>\n",
       "    <tr>\n",
       "      <th>3</th>\n",
       "      <td>2024-03-01 05:15:00</td>\n",
       "      <td>1</td>\n",
       "      <td>train</td>\n",
       "      <td>train</td>\n",
       "      <td>76.333333</td>\n",
       "      <td>22.333333</td>\n",
       "      <td>3.916667</td>\n",
       "      <td>12.750000</td>\n",
       "      <td>67.500000</td>\n",
       "    </tr>\n",
       "    <tr>\n",
       "      <th>4</th>\n",
       "      <td>2024-03-01 05:20:00</td>\n",
       "      <td>1</td>\n",
       "      <td>train</td>\n",
       "      <td>train</td>\n",
       "      <td>97.250000</td>\n",
       "      <td>33.250000</td>\n",
       "      <td>12.916667</td>\n",
       "      <td>17.250000</td>\n",
       "      <td>97.833333</td>\n",
       "    </tr>\n",
       "  </tbody>\n",
       "</table>\n",
       "</div>"
      ],
      "text/plain": [
       "                  time  day partition partition_nn  carregamento_node_694  \\\n",
       "0  2024-03-01 05:00:00    1     train        train              12.166667   \n",
       "1  2024-03-01 05:05:00    1     train        train              26.583333   \n",
       "2  2024-03-01 05:10:00    1     train        train              48.833333   \n",
       "3  2024-03-01 05:15:00    1     train        train              76.333333   \n",
       "4  2024-03-01 05:20:00    1     train        train              97.250000   \n",
       "\n",
       "   carregamento_node_2772  carregamento_node_1203  carregamento_node_592  \\\n",
       "0                8.666667                0.000000               0.166667   \n",
       "1                8.666667                0.000000               4.833333   \n",
       "2               19.166667                0.000000               8.000000   \n",
       "3               22.333333                3.916667              12.750000   \n",
       "4               33.250000               12.916667              17.250000   \n",
       "\n",
       "   carregamento_node_561  \n",
       "0              20.166667  \n",
       "1              32.833333  \n",
       "2              45.916667  \n",
       "3              67.500000  \n",
       "4              97.833333  "
      ]
     },
     "execution_count": 7,
     "metadata": {},
     "output_type": "execute_result"
    }
   ],
   "source": [
    "df_nodes_loader = pd.read_csv('../../data/graph_designer/train_test/df_nodes_selected_loader.csv')\n",
    "df_nodes_loader.head()"
   ]
  },
  {
   "cell_type": "markdown",
   "id": "c822ddd8-84d6-44e5-aa2b-88fab62bcf48",
   "metadata": {},
   "source": [
    "## Model"
   ]
  },
  {
   "cell_type": "code",
   "execution_count": 8,
   "id": "cadc59c4-369c-4360-8c03-5d9eaab745d8",
   "metadata": {
    "tags": []
   },
   "outputs": [],
   "source": [
    "class GCN(torch.nn.Module):\n",
    "    def __init__(self, in_channels, hidden_channels, out_channels):\n",
    "        super().__init__()\n",
    "        self.conv1 = GCNConv(in_channels, hidden_channels)\n",
    "        self.linear = nn.Linear(hidden_channels, out_channels)\n",
    "\n",
    "    def forward(self, x: Tensor, edge_index: Tensor,  edge_weight: Tensor) -> Tensor:\n",
    "        # x: Node feature matrix of shape [num_nodes, in_channels]\n",
    "        # edge_index: Graph connectivity matrix of shape [2, num_edges]\n",
    "        #x = self.conv1(x, edge_index, edge_weight)\n",
    "        x = self.conv1(x, edge_index, edge_weight)\n",
    "        x =  F.relu(x)\n",
    "        x = self.linear(x) \n",
    "        \n",
    "        return x      "
   ]
  },
  {
   "cell_type": "code",
   "execution_count": 9,
   "id": "169c0dac-7ba9-46fa-9151-2fb800f01745",
   "metadata": {
    "tags": []
   },
   "outputs": [
    {
     "data": {
      "text/plain": [
       "device(type='cpu')"
      ]
     },
     "execution_count": 9,
     "metadata": {},
     "output_type": "execute_result"
    }
   ],
   "source": [
    "device = torch.device('cuda' if torch.cuda.is_available() else 'cpu')\n",
    "device"
   ]
  },
  {
   "cell_type": "code",
   "execution_count": 10,
   "id": "bcdcdd90-758a-4be7-88eb-b2e4aca6abda",
   "metadata": {
    "tags": []
   },
   "outputs": [],
   "source": [
    "# define model\n",
    "model =  GCN(in_channels=36,\n",
    "             hidden_channels=128,\n",
    "             out_channels=12).to(device)\n",
    "\n",
    "optimizer = optim.Adam(model.parameters(), lr=0.001)"
   ]
  },
  {
   "cell_type": "code",
   "execution_count": 11,
   "id": "966ea567-22a4-4137-a038-eca6f8d3d66b",
   "metadata": {
    "tags": []
   },
   "outputs": [
    {
     "name": "stdout",
     "output_type": "stream",
     "text": [
      "GCN(\n",
      "  (conv1): GCNConv(36, 128)\n",
      "  (linear): Linear(in_features=128, out_features=12, bias=True)\n",
      ")\n"
     ]
    }
   ],
   "source": [
    "print(model)"
   ]
  },
  {
   "cell_type": "code",
   "execution_count": 12,
   "id": "df89850d-1f72-4edd-8e3b-ffb141aac2f8",
   "metadata": {},
   "outputs": [
    {
     "name": "stderr",
     "output_type": "stream",
     "text": [
      "100% 100/100 [01:00<00:00,  1.65it/s]\n"
     ]
    }
   ],
   "source": [
    "number_epochs=100\n",
    "training_loss = []\n",
    "for epoch in tqdm(range(number_epochs)):\n",
    "    model.train()\n",
    "    cost = 0\n",
    "    for time, snapshot in enumerate(train_dataset): # faz o treino em cada bath temporal\n",
    "        snapshot.to(device)\n",
    "        #print(f\"snapshot.x: {snapshot.x.shape}\")\n",
    "        y_hat = model(snapshot.x, \n",
    "                      snapshot.edge_index, \n",
    "                      snapshot.edge_attr)\n",
    "        cost = cost + torch.mean((y_hat-snapshot.y)**2)\n",
    "\n",
    "    cost = cost / (time+1)\n",
    "    training_loss.append(cost.cpu().data.numpy())\n",
    "\n",
    "    cost.backward()\n",
    "    optimizer.step()\n",
    "    optimizer.zero_grad()"
   ]
  },
  {
   "cell_type": "code",
   "execution_count": 13,
   "id": "965f0953-ef0b-4ea7-9296-7fa87f624ee8",
   "metadata": {
    "tags": []
   },
   "outputs": [
    {
     "name": "stderr",
     "output_type": "stream",
     "text": [
      "\u001b[32m2024-05-31 20:42:10.721\u001b[0m | \u001b[1mINFO    \u001b[0m | \u001b[36m__main__\u001b[0m:\u001b[36m<module>\u001b[0m:\u001b[36m1\u001b[0m - \u001b[1mmin cost train MSE: 267.04400634765625\u001b[0m\n"
     ]
    },
    {
     "data": {
      "image/png": "[encoded data removed]",
      "text/plain": [
       "<Figure size 432x288 with 1 Axes>"
      ]
     },
     "metadata": {
      "needs_background": "light"
     },
     "output_type": "display_data"
    }
   ],
   "source": [
    "log.info(f\"min cost train MSE: {np.min(training_loss)}\")\n",
    "torch.save(model.state_dict(), f'../../outputs/weights/gcn.pth')\n",
    "\n",
    "plt.plot(training_loss, \n",
    "         label=f'Min loss: {min(training_loss):.5f}')# 276\n",
    "plt.title('Loss Graph')\n",
    "plt.xlabel('Epoch')\n",
    "plt.ylabel('MSE Loss')\n",
    "plt.axhline(y=0, color='black', linestyle='-', linewidth=1)\n",
    "plt.legend()\n",
    "plt.show()\n",
    "#plt.savefig(f'{root_folder}{model_name}_{num_timesteps_in}_pred_{num_timesteps_out}.png')"
   ]
  },
  {
   "cell_type": "markdown",
   "id": "91533141-5b57-4b08-8867-c2b1249b4033",
   "metadata": {},
   "source": [
    "### Test"
   ]
  },
  {
   "cell_type": "code",
   "execution_count": 14,
   "id": "9bef5573-00b5-4940-a9ef-ccd108c5a926",
   "metadata": {
    "tags": []
   },
   "outputs": [
    {
     "name": "stderr",
     "output_type": "stream",
     "text": [
      "33it [00:00, 197.79it/s]\n",
      "\u001b[32m2024-05-31 20:42:10.999\u001b[0m | \u001b[1mINFO    \u001b[0m | \u001b[36m__main__\u001b[0m:\u001b[36m<module>\u001b[0m:\u001b[36m33\u001b[0m - \u001b[1mMSE test: 324.8070\u001b[0m\n"
     ]
    }
   ],
   "source": [
    "scores_error = {'mae': [], 'mse': [], 'r2': [], 'mape': []}\n",
    "targets = []\n",
    "model.eval()\n",
    "cost, time = 0, 0\n",
    "\n",
    "dfs_pred = []\n",
    "\n",
    "for time, snapshot in tqdm(enumerate(test_dataset)):\n",
    "    snapshot.to('cpu')\n",
    "        \n",
    "    y_hat = model(snapshot.x, snapshot.edge_index, snapshot.edge_attr)\n",
    "    \n",
    "    cost = cost + torch.mean((y_hat-snapshot.y)**2)\n",
    "    y_true = snapshot.y.cpu().data.numpy()\n",
    "    y_pred = y_hat.cpu().data.numpy()\n",
    "    \n",
    "    scores_error['mse'].append(mean_squared_error(y_true[nodes,:], y_pred[nodes,:]))\n",
    "    scores_error['mae'].append(mean_absolute_error(y_true[nodes,:], y_pred[nodes,:]))\n",
    "    scores_error['r2'].append(r2_score(y_true[nodes,:], y_pred[nodes,:]))\n",
    "    scores_error['mape'].append(mean_absolute_percentage_error(y_true[nodes,:], y_pred[nodes,:]))\n",
    "    \n",
    "    targets.append({'true': y_true,\n",
    "                    'pred': y_pred})\n",
    "        \n",
    "    df_prediction = pd.DataFrame()\n",
    "    df_prediction['time'] = test_dataset.target_time[time]\n",
    "    for node in nodes:\n",
    "        df_prediction[f'y_pred_{node}'] = y_pred[node,:]\n",
    "    dfs_pred.append(df_prediction)\n",
    "                \n",
    "cost = cost / (time+1)\n",
    "cost = cost.item()\n",
    "log.info(\"MSE test: {:.4f}\".format(cost))"
   ]
  },
  {
   "cell_type": "code",
   "execution_count": 15,
   "id": "563964cd-a6e2-4c22-b004-ef11cc9c291e",
   "metadata": {
    "tags": []
   },
   "outputs": [
    {
     "data": {
      "text/plain": [
       "(5, 12)"
      ]
     },
     "execution_count": 15,
     "metadata": {},
     "output_type": "execute_result"
    }
   ],
   "source": [
    "targets[0]['pred'][nodes,:].shape"
   ]
  },
  {
   "cell_type": "code",
   "execution_count": 16,
   "id": "9f6dce8b-a5a9-4318-a3e4-e7711a3e0228",
   "metadata": {
    "tags": []
   },
   "outputs": [
    {
     "data": {
      "text/html": [
       "<div>\n",
       "<style scoped>\n",
       "    .dataframe tbody tr th:only-of-type {\n",
       "        vertical-align: middle;\n",
       "    }\n",
       "\n",
       "    .dataframe tbody tr th {\n",
       "        vertical-align: top;\n",
       "    }\n",
       "\n",
       "    .dataframe thead th {\n",
       "        text-align: right;\n",
       "    }\n",
       "</style>\n",
       "<table border=\"1\" class=\"dataframe\">\n",
       "  <thead>\n",
       "    <tr style=\"text-align: right;\">\n",
       "      <th></th>\n",
       "      <th>time</th>\n",
       "      <th>y_pred_694</th>\n",
       "      <th>y_pred_2772</th>\n",
       "      <th>y_pred_1203</th>\n",
       "      <th>y_pred_592</th>\n",
       "      <th>y_pred_561</th>\n",
       "    </tr>\n",
       "  </thead>\n",
       "  <tbody>\n",
       "    <tr>\n",
       "      <th>0</th>\n",
       "      <td>2024-03-07 12:00:00</td>\n",
       "      <td>122.412720</td>\n",
       "      <td>131.498856</td>\n",
       "      <td>44.956856</td>\n",
       "      <td>16.780514</td>\n",
       "      <td>67.678146</td>\n",
       "    </tr>\n",
       "    <tr>\n",
       "      <th>1</th>\n",
       "      <td>2024-03-07 12:05:00</td>\n",
       "      <td>128.593994</td>\n",
       "      <td>146.196350</td>\n",
       "      <td>48.644413</td>\n",
       "      <td>17.271357</td>\n",
       "      <td>71.701180</td>\n",
       "    </tr>\n",
       "    <tr>\n",
       "      <th>2</th>\n",
       "      <td>2024-03-07 12:10:00</td>\n",
       "      <td>131.322418</td>\n",
       "      <td>144.309464</td>\n",
       "      <td>49.258369</td>\n",
       "      <td>17.918629</td>\n",
       "      <td>71.466644</td>\n",
       "    </tr>\n",
       "    <tr>\n",
       "      <th>3</th>\n",
       "      <td>2024-03-07 12:15:00</td>\n",
       "      <td>120.942764</td>\n",
       "      <td>133.009598</td>\n",
       "      <td>45.223675</td>\n",
       "      <td>17.012665</td>\n",
       "      <td>68.587112</td>\n",
       "    </tr>\n",
       "    <tr>\n",
       "      <th>4</th>\n",
       "      <td>2024-03-07 12:20:00</td>\n",
       "      <td>131.805984</td>\n",
       "      <td>147.068390</td>\n",
       "      <td>50.770142</td>\n",
       "      <td>18.293886</td>\n",
       "      <td>72.370934</td>\n",
       "    </tr>\n",
       "  </tbody>\n",
       "</table>\n",
       "</div>"
      ],
      "text/plain": [
       "                 time  y_pred_694  y_pred_2772  y_pred_1203  y_pred_592  \\\n",
       "0 2024-03-07 12:00:00  122.412720   131.498856    44.956856   16.780514   \n",
       "1 2024-03-07 12:05:00  128.593994   146.196350    48.644413   17.271357   \n",
       "2 2024-03-07 12:10:00  131.322418   144.309464    49.258369   17.918629   \n",
       "3 2024-03-07 12:15:00  120.942764   133.009598    45.223675   17.012665   \n",
       "4 2024-03-07 12:20:00  131.805984   147.068390    50.770142   18.293886   \n",
       "\n",
       "   y_pred_561  \n",
       "0   67.678146  \n",
       "1   71.701180  \n",
       "2   71.466644  \n",
       "3   68.587112  \n",
       "4   72.370934  "
      ]
     },
     "execution_count": 16,
     "metadata": {},
     "output_type": "execute_result"
    }
   ],
   "source": [
    "df_forecasting = pd.concat(dfs_pred, ignore_index=True)\n",
    "df_forecasting.head()"
   ]
  },
  {
   "cell_type": "code",
   "execution_count": 17,
   "id": "dd164bb8-2b6f-41fc-8537-85cb6fd28987",
   "metadata": {
    "tags": []
   },
   "outputs": [],
   "source": [
    "df_nodes_loader['time'] = pd.to_datetime(df_nodes_loader['time'], format='%Y-%m-%d %H:%M:%S')"
   ]
  },
  {
   "cell_type": "code",
   "execution_count": 18,
   "id": "66324cb7-32df-49a6-817b-b0b30677c26d",
   "metadata": {
    "tags": []
   },
   "outputs": [],
   "source": [
    "## join with true dataset\n",
    "df_nodes_loader_join = df_nodes_loader.merge(df_forecasting, \n",
    "                                        on='time', \n",
    "                                        how='left')"
   ]
  },
  {
   "cell_type": "code",
   "execution_count": 19,
   "id": "417037a2-9337-4edd-b88f-265f1032bc8c",
   "metadata": {
    "tags": []
   },
   "outputs": [],
   "source": [
    "df_test_val = df_nodes_loader_join.query(\" partition == 'test' \")"
   ]
  },
  {
   "cell_type": "code",
   "execution_count": 20,
   "id": "b3e27586-703a-4cd3-b729-4f50da196e7d",
   "metadata": {
    "tags": []
   },
   "outputs": [
    {
     "data": {
      "text/html": [
       "<div>\n",
       "<style scoped>\n",
       "    .dataframe tbody tr th:only-of-type {\n",
       "        vertical-align: middle;\n",
       "    }\n",
       "\n",
       "    .dataframe tbody tr th {\n",
       "        vertical-align: top;\n",
       "    }\n",
       "\n",
       "    .dataframe thead th {\n",
       "        text-align: right;\n",
       "    }\n",
       "</style>\n",
       "<table border=\"1\" class=\"dataframe\">\n",
       "  <thead>\n",
       "    <tr style=\"text-align: right;\">\n",
       "      <th></th>\n",
       "      <th>time</th>\n",
       "      <th>day</th>\n",
       "      <th>partition</th>\n",
       "      <th>partition_nn</th>\n",
       "      <th>carregamento_node_694</th>\n",
       "      <th>carregamento_node_2772</th>\n",
       "      <th>carregamento_node_1203</th>\n",
       "      <th>carregamento_node_592</th>\n",
       "      <th>carregamento_node_561</th>\n",
       "      <th>y_pred_694</th>\n",
       "      <th>y_pred_2772</th>\n",
       "      <th>y_pred_1203</th>\n",
       "      <th>y_pred_592</th>\n",
       "      <th>y_pred_561</th>\n",
       "    </tr>\n",
       "  </thead>\n",
       "  <tbody>\n",
       "    <tr>\n",
       "      <th>1668</th>\n",
       "      <td>2024-03-08 00:00:00</td>\n",
       "      <td>8</td>\n",
       "      <td>test</td>\n",
       "      <td>test</td>\n",
       "      <td>26.666667</td>\n",
       "      <td>24.583333</td>\n",
       "      <td>0.25</td>\n",
       "      <td>2.5</td>\n",
       "      <td>17.583333</td>\n",
       "      <td>22.615602</td>\n",
       "      <td>25.116711</td>\n",
       "      <td>2.908926</td>\n",
       "      <td>1.914155</td>\n",
       "      <td>13.278063</td>\n",
       "    </tr>\n",
       "    <tr>\n",
       "      <th>1669</th>\n",
       "      <td>2024-03-08 00:05:00</td>\n",
       "      <td>8</td>\n",
       "      <td>test</td>\n",
       "      <td>test</td>\n",
       "      <td>24.416667</td>\n",
       "      <td>24.833333</td>\n",
       "      <td>0.50</td>\n",
       "      <td>2.5</td>\n",
       "      <td>11.416667</td>\n",
       "      <td>30.142242</td>\n",
       "      <td>34.864315</td>\n",
       "      <td>3.359843</td>\n",
       "      <td>2.415550</td>\n",
       "      <td>17.184984</td>\n",
       "    </tr>\n",
       "    <tr>\n",
       "      <th>1670</th>\n",
       "      <td>2024-03-08 00:10:00</td>\n",
       "      <td>8</td>\n",
       "      <td>test</td>\n",
       "      <td>test</td>\n",
       "      <td>18.000000</td>\n",
       "      <td>18.000000</td>\n",
       "      <td>0.50</td>\n",
       "      <td>1.5</td>\n",
       "      <td>11.166667</td>\n",
       "      <td>21.921837</td>\n",
       "      <td>17.518751</td>\n",
       "      <td>2.298645</td>\n",
       "      <td>1.942118</td>\n",
       "      <td>15.276021</td>\n",
       "    </tr>\n",
       "    <tr>\n",
       "      <th>1671</th>\n",
       "      <td>2024-03-08 00:15:00</td>\n",
       "      <td>8</td>\n",
       "      <td>test</td>\n",
       "      <td>test</td>\n",
       "      <td>18.250000</td>\n",
       "      <td>12.916667</td>\n",
       "      <td>0.50</td>\n",
       "      <td>1.5</td>\n",
       "      <td>9.333333</td>\n",
       "      <td>19.599541</td>\n",
       "      <td>16.416412</td>\n",
       "      <td>3.078542</td>\n",
       "      <td>2.600010</td>\n",
       "      <td>12.653323</td>\n",
       "    </tr>\n",
       "    <tr>\n",
       "      <th>1672</th>\n",
       "      <td>2024-03-08 00:20:00</td>\n",
       "      <td>8</td>\n",
       "      <td>test</td>\n",
       "      <td>test</td>\n",
       "      <td>15.416667</td>\n",
       "      <td>8.666667</td>\n",
       "      <td>0.50</td>\n",
       "      <td>1.5</td>\n",
       "      <td>9.250000</td>\n",
       "      <td>21.218191</td>\n",
       "      <td>16.612223</td>\n",
       "      <td>2.506094</td>\n",
       "      <td>2.229895</td>\n",
       "      <td>14.562609</td>\n",
       "    </tr>\n",
       "  </tbody>\n",
       "</table>\n",
       "</div>"
      ],
      "text/plain": [
       "                    time  day partition partition_nn  carregamento_node_694  \\\n",
       "1668 2024-03-08 00:00:00    8      test         test              26.666667   \n",
       "1669 2024-03-08 00:05:00    8      test         test              24.416667   \n",
       "1670 2024-03-08 00:10:00    8      test         test              18.000000   \n",
       "1671 2024-03-08 00:15:00    8      test         test              18.250000   \n",
       "1672 2024-03-08 00:20:00    8      test         test              15.416667   \n",
       "\n",
       "      carregamento_node_2772  carregamento_node_1203  carregamento_node_592  \\\n",
       "1668               24.583333                    0.25                    2.5   \n",
       "1669               24.833333                    0.50                    2.5   \n",
       "1670               18.000000                    0.50                    1.5   \n",
       "1671               12.916667                    0.50                    1.5   \n",
       "1672                8.666667                    0.50                    1.5   \n",
       "\n",
       "      carregamento_node_561  y_pred_694  y_pred_2772  y_pred_1203  y_pred_592  \\\n",
       "1668              17.583333   22.615602    25.116711     2.908926    1.914155   \n",
       "1669              11.416667   30.142242    34.864315     3.359843    2.415550   \n",
       "1670              11.166667   21.921837    17.518751     2.298645    1.942118   \n",
       "1671               9.333333   19.599541    16.416412     3.078542    2.600010   \n",
       "1672               9.250000   21.218191    16.612223     2.506094    2.229895   \n",
       "\n",
       "      y_pred_561  \n",
       "1668   13.278063  \n",
       "1669   17.184984  \n",
       "1670   15.276021  \n",
       "1671   12.653323  \n",
       "1672   14.562609  "
      ]
     },
     "execution_count": 20,
     "metadata": {},
     "output_type": "execute_result"
    }
   ],
   "source": [
    "df_test_val.head()"
   ]
  },
  {
   "cell_type": "code",
   "execution_count": 31,
   "id": "266548fb-ec6d-490a-bfa0-8947f5464f42",
   "metadata": {
    "tags": []
   },
   "outputs": [],
   "source": [
    "# save\n",
    "df_test_val.to_csv('../../outputs/forecasting/gcn_forecasting.csv', index=False)"
   ]
  },
  {
   "cell_type": "code",
   "execution_count": 21,
   "id": "9ac74274-b81a-4da4-8c88-17b7014141f8",
   "metadata": {
    "tags": []
   },
   "outputs": [
    {
     "data": {
      "image/png": "[encoded data removed]",
      "text/plain": [
       "<Figure size 1440x432 with 1 Axes>"
      ]
     },
     "metadata": {
      "needs_background": "light"
     },
     "output_type": "display_data"
    }
   ],
   "source": [
    "plt.figure(figsize=(20, 6))\n",
    "plt.plot(df_test_val.time, df_test_val.carregamento_node_694, label=f'True', color='blue')\n",
    "plt.plot(df_test_val.time, df_test_val.y_pred_694, label=f'Forecasting', color='orange')\n",
    "plt.xlabel('Time')\n",
    "plt.ylabel('Loader')\n",
    "plt.title('Time Series and Forecasting')\n",
    "plt.legend()\n",
    "plt.show()"
   ]
  },
  {
   "cell_type": "code",
   "execution_count": 23,
   "id": "edf770de-6618-4f72-8891-056da887d090",
   "metadata": {
    "tags": []
   },
   "outputs": [],
   "source": [
    "dfs_results = []\n",
    "for node in nodes:\n",
    "    res = calculate_metrics(df_test_val[f\"carregamento_node_{node}\"], df_test_val[f\"y_pred_{node}\"])\n",
    "    res['node'] = node\n",
    "    dfs_results.append(o)"
   ]
  },
  {
   "cell_type": "code",
   "execution_count": 28,
   "id": "018c7e24-b120-4d82-8947-3e5a1513afa3",
   "metadata": {
    "tags": []
   },
   "outputs": [
    {
     "data": {
      "text/html": [
       "<div>\n",
       "<style scoped>\n",
       "    .dataframe tbody tr th:only-of-type {\n",
       "        vertical-align: middle;\n",
       "    }\n",
       "\n",
       "    .dataframe tbody tr th {\n",
       "        vertical-align: top;\n",
       "    }\n",
       "\n",
       "    .dataframe thead th {\n",
       "        text-align: right;\n",
       "    }\n",
       "</style>\n",
       "<table border=\"1\" class=\"dataframe\">\n",
       "  <thead>\n",
       "    <tr style=\"text-align: right;\">\n",
       "      <th></th>\n",
       "      <th>mse</th>\n",
       "      <th>mae</th>\n",
       "      <th>rmse</th>\n",
       "      <th>mape</th>\n",
       "      <th>r2</th>\n",
       "      <th>node</th>\n",
       "    </tr>\n",
       "  </thead>\n",
       "  <tbody>\n",
       "    <tr>\n",
       "      <th>0</th>\n",
       "      <td>12913.2308760767446074</td>\n",
       "      <td>87.3092646977258084</td>\n",
       "      <td>113.6363976729143985</td>\n",
       "      <td>0.4465453035387485</td>\n",
       "      <td>0.5829101696393981</td>\n",
       "      <td>694</td>\n",
       "    </tr>\n",
       "    <tr>\n",
       "      <th>1</th>\n",
       "      <td>4202.5894843773303364</td>\n",
       "      <td>47.0010552519843685</td>\n",
       "      <td>64.8273822113567206</td>\n",
       "      <td>0.3277512097974237</td>\n",
       "      <td>0.7642278669107877</td>\n",
       "      <td>2772</td>\n",
       "    </tr>\n",
       "    <tr>\n",
       "      <th>2</th>\n",
       "      <td>248.4077557372305023</td>\n",
       "      <td>11.6299402045982845</td>\n",
       "      <td>15.7609566885145167</td>\n",
       "      <td>39303114703628.8984375000000000</td>\n",
       "      <td>0.8247200258805188</td>\n",
       "      <td>1203</td>\n",
       "    </tr>\n",
       "    <tr>\n",
       "      <th>3</th>\n",
       "      <td>197.9243493577143624</td>\n",
       "      <td>8.9642927777317780</td>\n",
       "      <td>14.0685588941339113</td>\n",
       "      <td>98997798865449.1562500000000000</td>\n",
       "      <td>0.3209499615241636</td>\n",
       "      <td>592</td>\n",
       "    </tr>\n",
       "    <tr>\n",
       "      <th>4</th>\n",
       "      <td>3650.7662428977655509</td>\n",
       "      <td>43.8448141305534875</td>\n",
       "      <td>60.4215710065351175</td>\n",
       "      <td>0.4656288944242000</td>\n",
       "      <td>0.7019470030872652</td>\n",
       "      <td>561</td>\n",
       "    </tr>\n",
       "  </tbody>\n",
       "</table>\n",
       "</div>"
      ],
      "text/plain": [
       "                     mse                 mae                 rmse  \\\n",
       "0 12913.2308760767446074 87.3092646977258084 113.6363976729143985   \n",
       "1  4202.5894843773303364 47.0010552519843685  64.8273822113567206   \n",
       "2   248.4077557372305023 11.6299402045982845  15.7609566885145167   \n",
       "3   197.9243493577143624  8.9642927777317780  14.0685588941339113   \n",
       "4  3650.7662428977655509 43.8448141305534875  60.4215710065351175   \n",
       "\n",
       "                             mape                 r2  node  \n",
       "0              0.4465453035387485 0.5829101696393981   694  \n",
       "1              0.3277512097974237 0.7642278669107877  2772  \n",
       "2 39303114703628.8984375000000000 0.8247200258805188  1203  \n",
       "3 98997798865449.1562500000000000 0.3209499615241636   592  \n",
       "4              0.4656288944242000 0.7019470030872652   561  "
      ]
     },
     "execution_count": 28,
     "metadata": {},
     "output_type": "execute_result"
    }
   ],
   "source": [
    "df_result = pd.DataFrame(dfs_results)\n",
    "df_result.head()"
   ]
  },
  {
   "cell_type": "code",
   "execution_count": 29,
   "id": "bf9b9011-13ce-4dbe-bdfb-2545382acc87",
   "metadata": {
    "tags": []
   },
   "outputs": [
    {
     "data": {
      "text/html": [
       "<div>\n",
       "<style scoped>\n",
       "    .dataframe tbody tr th:only-of-type {\n",
       "        vertical-align: middle;\n",
       "    }\n",
       "\n",
       "    .dataframe tbody tr th {\n",
       "        vertical-align: top;\n",
       "    }\n",
       "\n",
       "    .dataframe thead th {\n",
       "        text-align: right;\n",
       "    }\n",
       "</style>\n",
       "<table border=\"1\" class=\"dataframe\">\n",
       "  <thead>\n",
       "    <tr style=\"text-align: right;\">\n",
       "      <th></th>\n",
       "      <th>node</th>\n",
       "      <th>mae</th>\n",
       "      <th>mape</th>\n",
       "      <th>mse</th>\n",
       "      <th>r2</th>\n",
       "      <th>rmse</th>\n",
       "    </tr>\n",
       "  </thead>\n",
       "  <tbody>\n",
       "    <tr>\n",
       "      <th>0</th>\n",
       "      <td>561</td>\n",
       "      <td>43.8448141305534875</td>\n",
       "      <td>0.4656288944242000</td>\n",
       "      <td>3650.7662428977655509</td>\n",
       "      <td>0.7019470030872652</td>\n",
       "      <td>60.4215710065351175</td>\n",
       "    </tr>\n",
       "    <tr>\n",
       "      <th>1</th>\n",
       "      <td>592</td>\n",
       "      <td>8.9642927777317780</td>\n",
       "      <td>98997798865449.1562500000000000</td>\n",
       "      <td>197.9243493577143624</td>\n",
       "      <td>0.3209499615241636</td>\n",
       "      <td>14.0685588941339113</td>\n",
       "    </tr>\n",
       "    <tr>\n",
       "      <th>2</th>\n",
       "      <td>694</td>\n",
       "      <td>87.3092646977258084</td>\n",
       "      <td>0.4465453035387485</td>\n",
       "      <td>12913.2308760767446074</td>\n",
       "      <td>0.5829101696393981</td>\n",
       "      <td>113.6363976729143985</td>\n",
       "    </tr>\n",
       "    <tr>\n",
       "      <th>3</th>\n",
       "      <td>1203</td>\n",
       "      <td>11.6299402045982845</td>\n",
       "      <td>39303114703628.8984375000000000</td>\n",
       "      <td>248.4077557372305023</td>\n",
       "      <td>0.8247200258805188</td>\n",
       "      <td>15.7609566885145167</td>\n",
       "    </tr>\n",
       "    <tr>\n",
       "      <th>4</th>\n",
       "      <td>2772</td>\n",
       "      <td>47.0010552519843685</td>\n",
       "      <td>0.3277512097974237</td>\n",
       "      <td>4202.5894843773303364</td>\n",
       "      <td>0.7642278669107877</td>\n",
       "      <td>64.8273822113567206</td>\n",
       "    </tr>\n",
       "  </tbody>\n",
       "</table>\n",
       "</div>"
      ],
      "text/plain": [
       "   node                 mae                            mape  \\\n",
       "0   561 43.8448141305534875              0.4656288944242000   \n",
       "1   592  8.9642927777317780 98997798865449.1562500000000000   \n",
       "2   694 87.3092646977258084              0.4465453035387485   \n",
       "3  1203 11.6299402045982845 39303114703628.8984375000000000   \n",
       "4  2772 47.0010552519843685              0.3277512097974237   \n",
       "\n",
       "                     mse                 r2                 rmse  \n",
       "0  3650.7662428977655509 0.7019470030872652  60.4215710065351175  \n",
       "1   197.9243493577143624 0.3209499615241636  14.0685588941339113  \n",
       "2 12913.2308760767446074 0.5829101696393981 113.6363976729143985  \n",
       "3   248.4077557372305023 0.8247200258805188  15.7609566885145167  \n",
       "4  4202.5894843773303364 0.7642278669107877  64.8273822113567206  "
      ]
     },
     "execution_count": 29,
     "metadata": {},
     "output_type": "execute_result"
    }
   ],
   "source": [
    "df_result.pivot_table(index='node', aggfunc='mean').reset_index()"
   ]
  },
  {
   "cell_type": "code",
   "execution_count": 30,
   "id": "522c4158-1f05-4817-8b53-56d6309bb5b3",
   "metadata": {
    "tags": []
   },
   "outputs": [
    {
     "data": {
      "text/plain": [
       "mse              4242.5837416893573391\n",
       "mae                39.7498734125187383\n",
       "rmse               53.7429732946909340\n",
       "mape   27660182713815.8593750000000000\n",
       "r2                  0.6389510054084266\n",
       "node             1164.4000000000000909\n",
       "dtype: float64"
      ]
     },
     "execution_count": 30,
     "metadata": {},
     "output_type": "execute_result"
    }
   ],
   "source": [
    "df_result.mean()"
   ]
  },
  {
   "cell_type": "code",
   "execution_count": 32,
   "id": "a93476f9-bb68-449b-9984-e749141b22c4",
   "metadata": {
    "tags": []
   },
   "outputs": [],
   "source": [
    "df_result.to_csv('../../outputs/forecasting/gcn_metrics.csv', index=False)"
   ]
  }
 ],
 "metadata": {
  "kernelspec": {
   "display_name": "Python 3 (ipykernel)",
   "language": "python",
   "name": "python3"
  },
  "language_info": {
   "codemirror_mode": {
    "name": "ipython",
    "version": 3
   },
   "file_extension": ".py",
   "mimetype": "text/x-python",
   "name": "python",
   "nbconvert_exporter": "python",
   "pygments_lexer": "ipython3",
   "version": "3.7.13"
  }
 },
 "nbformat": 4,
 "nbformat_minor": 5
}
