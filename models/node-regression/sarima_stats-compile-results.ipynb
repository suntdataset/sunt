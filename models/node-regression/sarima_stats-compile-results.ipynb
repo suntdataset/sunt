{
 "cells": [
  {
   "cell_type": "code",
   "execution_count": 40,
   "id": "11583f9d-f748-4f17-bb63-e84d895ba5d1",
   "metadata": {
    "tags": []
   },
   "outputs": [],
   "source": [
    "import ast\n",
    "import time\n",
    "import pickle\n",
    "import warnings\n",
    "import numpy as np\n",
    "import pandas as pd\n",
    "from math import sqrt\n",
    "from multiprocessing import cpu_count\n",
    "from joblib import Parallel\n",
    "from joblib import delayed\n",
    "from warnings import catch_warnings\n",
    "from warnings import filterwarnings\n",
    "from statsmodels.tsa.statespace.sarimax import SARIMAX\n",
    "from sklearn.metrics import mean_squared_error, mean_absolute_error, mean_absolute_percentage_error, r2_score\n",
    "from tqdm import tqdm\n",
    "\n",
    "from datetime import timedelta \n",
    "from data import load_dataset\n",
    "from loguru import logger as log\n",
    "from val import calculate_metrics\n",
    "#\n",
    "import seaborn as sns\n",
    "import matplotlib.pyplot as plt"
   ]
  },
  {
   "cell_type": "code",
   "execution_count": 3,
   "id": "52f4dbcb-2b4a-480c-a376-4ee4433d4915",
   "metadata": {
    "tags": []
   },
   "outputs": [],
   "source": [
    "plt.style.use('seaborn-whitegrid')\n",
    "pd.set_option('display.float_format', '{:.16f}'.format)"
   ]
  },
  {
   "cell_type": "markdown",
   "id": "e9e3de70-dbbb-44ae-8245-5c2de0e12695",
   "metadata": {},
   "source": [
    "## Load data"
   ]
  },
  {
   "cell_type": "code",
   "execution_count": 4,
   "id": "48e77434-7936-4873-80e4-fdab757561cb",
   "metadata": {
    "tags": []
   },
   "outputs": [],
   "source": [
    "train_dataset = load_dataset('../../data/graph_designer/train_test/dataset_train.pkl')\n",
    "test_dataset = load_dataset('../../data/graph_designer/train_test/dataset_test.pkl')\n",
    "df_nodes = pd.read_csv('../../data/graph_designer/train_test/df_nodes_selected.csv')\n",
    "nodes = list(df_nodes.tensor_idx.values)\n",
    "df_nodes_loader = pd.read_csv('../../data/graph_designer/train_test/df_nodes_selected_loader.csv')\n",
    "df_nodes_loader['time'] = pd.to_datetime(df_nodes_loader['time'], format='%Y-%m-%d %H:%M:%S')"
   ]
  },
  {
   "cell_type": "code",
   "execution_count": 5,
   "id": "0337c6a6-7851-49fe-8a95-5d65f12aed50",
   "metadata": {
    "tags": []
   },
   "outputs": [],
   "source": [
    "# data train and test\n",
    "df_train = df_nodes_loader.query(\" partition == 'train' \").copy()\n",
    "df_test  = df_nodes_loader.query(\" partition != 'train' \").copy()"
   ]
  },
  {
   "cell_type": "code",
   "execution_count": 6,
   "id": "63b2bfe9-3da6-467b-9bab-738b7716de70",
   "metadata": {},
   "outputs": [
    {
     "data": {
      "text/html": [
       "<div>\n",
       "<style scoped>\n",
       "    .dataframe tbody tr th:only-of-type {\n",
       "        vertical-align: middle;\n",
       "    }\n",
       "\n",
       "    .dataframe tbody tr th {\n",
       "        vertical-align: top;\n",
       "    }\n",
       "\n",
       "    .dataframe thead th {\n",
       "        text-align: right;\n",
       "    }\n",
       "</style>\n",
       "<table border=\"1\" class=\"dataframe\">\n",
       "  <thead>\n",
       "    <tr style=\"text-align: right;\">\n",
       "      <th></th>\n",
       "      <th>time</th>\n",
       "      <th>day</th>\n",
       "      <th>partition</th>\n",
       "      <th>partition_nn</th>\n",
       "      <th>carregamento_node_694</th>\n",
       "      <th>carregamento_node_2772</th>\n",
       "      <th>carregamento_node_1203</th>\n",
       "      <th>carregamento_node_592</th>\n",
       "      <th>carregamento_node_561</th>\n",
       "    </tr>\n",
       "  </thead>\n",
       "  <tbody>\n",
       "    <tr>\n",
       "      <th>1668</th>\n",
       "      <td>2024-03-08 00:00:00</td>\n",
       "      <td>8</td>\n",
       "      <td>test</td>\n",
       "      <td>test</td>\n",
       "      <td>26.6666666666666679</td>\n",
       "      <td>24.5833333333333286</td>\n",
       "      <td>0.2500000000000000</td>\n",
       "      <td>2.5000000000000000</td>\n",
       "      <td>17.5833333333333321</td>\n",
       "    </tr>\n",
       "    <tr>\n",
       "      <th>1669</th>\n",
       "      <td>2024-03-08 00:05:00</td>\n",
       "      <td>8</td>\n",
       "      <td>test</td>\n",
       "      <td>test</td>\n",
       "      <td>24.4166666666666679</td>\n",
       "      <td>24.8333333333333286</td>\n",
       "      <td>0.5000000000000000</td>\n",
       "      <td>2.5000000000000000</td>\n",
       "      <td>11.4166666666666661</td>\n",
       "    </tr>\n",
       "    <tr>\n",
       "      <th>1670</th>\n",
       "      <td>2024-03-08 00:10:00</td>\n",
       "      <td>8</td>\n",
       "      <td>test</td>\n",
       "      <td>test</td>\n",
       "      <td>18.0000000000000000</td>\n",
       "      <td>18.0000000000000000</td>\n",
       "      <td>0.5000000000000000</td>\n",
       "      <td>1.5000000000000000</td>\n",
       "      <td>11.1666666666666661</td>\n",
       "    </tr>\n",
       "    <tr>\n",
       "      <th>1671</th>\n",
       "      <td>2024-03-08 00:15:00</td>\n",
       "      <td>8</td>\n",
       "      <td>test</td>\n",
       "      <td>test</td>\n",
       "      <td>18.2500000000000000</td>\n",
       "      <td>12.9166666666666661</td>\n",
       "      <td>0.5000000000000000</td>\n",
       "      <td>1.5000000000000000</td>\n",
       "      <td>9.3333333333333339</td>\n",
       "    </tr>\n",
       "    <tr>\n",
       "      <th>1672</th>\n",
       "      <td>2024-03-08 00:20:00</td>\n",
       "      <td>8</td>\n",
       "      <td>test</td>\n",
       "      <td>test</td>\n",
       "      <td>15.4166666666666661</td>\n",
       "      <td>8.6666666666666661</td>\n",
       "      <td>0.5000000000000000</td>\n",
       "      <td>1.5000000000000000</td>\n",
       "      <td>9.2500000000000000</td>\n",
       "    </tr>\n",
       "  </tbody>\n",
       "</table>\n",
       "</div>"
      ],
      "text/plain": [
       "                    time  day partition partition_nn  carregamento_node_694  \\\n",
       "1668 2024-03-08 00:00:00    8      test         test    26.6666666666666679   \n",
       "1669 2024-03-08 00:05:00    8      test         test    24.4166666666666679   \n",
       "1670 2024-03-08 00:10:00    8      test         test    18.0000000000000000   \n",
       "1671 2024-03-08 00:15:00    8      test         test    18.2500000000000000   \n",
       "1672 2024-03-08 00:20:00    8      test         test    15.4166666666666661   \n",
       "\n",
       "      carregamento_node_2772  carregamento_node_1203  carregamento_node_592  \\\n",
       "1668     24.5833333333333286      0.2500000000000000     2.5000000000000000   \n",
       "1669     24.8333333333333286      0.5000000000000000     2.5000000000000000   \n",
       "1670     18.0000000000000000      0.5000000000000000     1.5000000000000000   \n",
       "1671     12.9166666666666661      0.5000000000000000     1.5000000000000000   \n",
       "1672      8.6666666666666661      0.5000000000000000     1.5000000000000000   \n",
       "\n",
       "      carregamento_node_561  \n",
       "1668    17.5833333333333321  \n",
       "1669    11.4166666666666661  \n",
       "1670    11.1666666666666661  \n",
       "1671     9.3333333333333339  \n",
       "1672     9.2500000000000000  "
      ]
     },
     "execution_count": 6,
     "metadata": {},
     "output_type": "execute_result"
    }
   ],
   "source": [
    "df_test.head()"
   ]
  },
  {
   "cell_type": "code",
   "execution_count": 8,
   "id": "8ca2ff8a-dff1-426b-adb1-0e9b301b381e",
   "metadata": {
    "tags": []
   },
   "outputs": [],
   "source": [
    "def forecasting_sarima(fpath_model, node, ts_train):\n",
    "    # open params sarima\n",
    "    with open(fpath_model, 'rb') as f:\n",
    "        best_params = pickle.load(f)\n",
    "    # Extract parameters\n",
    "    order = best_params['order']\n",
    "    seasonal_order = best_params['seasonal_order']\n",
    "    trend = best_params['trend']\n",
    "    #\n",
    "    # Fit SARIMA model using the best parameters\n",
    "    #\n",
    "    model = SARIMAX(ts_train, \n",
    "                    order=order, \n",
    "                    seasonal_order=seasonal_order, \n",
    "                    trend=trend,\n",
    "                    enforce_stationarity=False, \n",
    "                    enforce_invertibility=False)\n",
    "    results = model.fit(disp=False)\n",
    "\n",
    "    # Print model summary\n",
    "    #print(results.summary())\n",
    "    #\n",
    "    # test\n",
    "    #\n",
    "    results = model.fit(disp=False)\n",
    "    # Step 4: Forecast Future Values\n",
    "    forecast_steps = df_test.shape[0]\n",
    "    # Get forecast\n",
    "    forecast = results.get_forecast(steps=forecast_steps)\n",
    "    #forecast.predicted_mean\n",
    "    return forecast.predicted_mean"
   ]
  },
  {
   "cell_type": "code",
   "execution_count": 13,
   "id": "00c2a605-1e73-4a04-9369-61a65f9e687d",
   "metadata": {},
   "outputs": [
    {
     "name": "stderr",
     "output_type": "stream",
     "text": [
      "100% 5/5 [00:07<00:00,  1.41s/it]\n"
     ]
    }
   ],
   "source": [
    "dfs_results = []\n",
    "for node in tqdm(nodes):\n",
    "    fpath_model =  f'../../outputs/regression/same_env/weights/sarima_stats_{node}.pth'\n",
    "    ts_train = df_train[f'carregamento_node_{node}'].values\n",
    "    y_pred_node = forecasting_sarima(fpath_model, node, ts_train)\n",
    "    \n",
    "    \n",
    "    df_test[f\"y_pred_{node}\"] = y_pred_node\n",
    "    res = calculate_metrics(df_test[f\"carregamento_node_{node}\"]+1, df_test[f\"y_pred_{node}\"]+1)\n",
    "    res['node'] = node\n",
    "    dfs_results.append(res)\n",
    "#df_result = pd.Data(dfs_results, ignore_index=True)"
   ]
  },
  {
   "cell_type": "code",
   "execution_count": null,
   "id": "2cdb9252-7cbe-498e-a9ab-6578072466db",
   "metadata": {},
   "outputs": [],
   "source": [
    "# save forecasting for each test node\n",
    "#df_test.to_csv('../../outputs/forecasting/sarima_forecasting.csv', index=False)"
   ]
  },
  {
   "cell_type": "code",
   "execution_count": 19,
   "id": "bceeef46-3639-458d-b21f-c336c64c6364",
   "metadata": {},
   "outputs": [
    {
     "data": {
      "text/html": [
       "<div>\n",
       "<style scoped>\n",
       "    .dataframe tbody tr th:only-of-type {\n",
       "        vertical-align: middle;\n",
       "    }\n",
       "\n",
       "    .dataframe tbody tr th {\n",
       "        vertical-align: top;\n",
       "    }\n",
       "\n",
       "    .dataframe thead th {\n",
       "        text-align: right;\n",
       "    }\n",
       "</style>\n",
       "<table border=\"1\" class=\"dataframe\">\n",
       "  <thead>\n",
       "    <tr style=\"text-align: right;\">\n",
       "      <th></th>\n",
       "      <th>mse</th>\n",
       "      <th>mae</th>\n",
       "      <th>rmse</th>\n",
       "      <th>mape</th>\n",
       "      <th>r2</th>\n",
       "      <th>node</th>\n",
       "    </tr>\n",
       "  </thead>\n",
       "  <tbody>\n",
       "    <tr>\n",
       "      <th>0</th>\n",
       "      <td>133063.4777414580457844</td>\n",
       "      <td>317.0928366425334275</td>\n",
       "      <td>364.7786695264102832</td>\n",
       "      <td>1.6627600390521986</td>\n",
       "      <td>-3.2978727702604296</td>\n",
       "      <td>694</td>\n",
       "    </tr>\n",
       "    <tr>\n",
       "      <th>1</th>\n",
       "      <td>81956.5567518341413233</td>\n",
       "      <td>250.7543404818018757</td>\n",
       "      <td>286.2805560142604691</td>\n",
       "      <td>1.3878227902032796</td>\n",
       "      <td>-3.5978966724821548</td>\n",
       "      <td>2772</td>\n",
       "    </tr>\n",
       "    <tr>\n",
       "      <th>2</th>\n",
       "      <td>4914.3543461284998557</td>\n",
       "      <td>58.9492530883333501</td>\n",
       "      <td>70.1024560634540137</td>\n",
       "      <td>1.2801263199636241</td>\n",
       "      <td>-2.4676369103167319</td>\n",
       "      <td>1203</td>\n",
       "    </tr>\n",
       "    <tr>\n",
       "      <th>3</th>\n",
       "      <td>723.7864864792466051</td>\n",
       "      <td>21.1872990137000237</td>\n",
       "      <td>26.9032802178330392</td>\n",
       "      <td>0.8076143487371511</td>\n",
       "      <td>-1.4832075643393621</td>\n",
       "      <td>592</td>\n",
       "    </tr>\n",
       "    <tr>\n",
       "      <th>4</th>\n",
       "      <td>50111.9948977254025522</td>\n",
       "      <td>196.6370185040741205</td>\n",
       "      <td>223.8570858778551269</td>\n",
       "      <td>1.8343761081578451</td>\n",
       "      <td>-3.0912042203741263</td>\n",
       "      <td>561</td>\n",
       "    </tr>\n",
       "  </tbody>\n",
       "</table>\n",
       "</div>"
      ],
      "text/plain": [
       "                      mse                  mae                 rmse  \\\n",
       "0 133063.4777414580457844 317.0928366425334275 364.7786695264102832   \n",
       "1  81956.5567518341413233 250.7543404818018757 286.2805560142604691   \n",
       "2   4914.3543461284998557  58.9492530883333501  70.1024560634540137   \n",
       "3    723.7864864792466051  21.1872990137000237  26.9032802178330392   \n",
       "4  50111.9948977254025522 196.6370185040741205 223.8570858778551269   \n",
       "\n",
       "                mape                  r2  node  \n",
       "0 1.6627600390521986 -3.2978727702604296   694  \n",
       "1 1.3878227902032796 -3.5978966724821548  2772  \n",
       "2 1.2801263199636241 -2.4676369103167319  1203  \n",
       "3 0.8076143487371511 -1.4832075643393621   592  \n",
       "4 1.8343761081578451 -3.0912042203741263   561  "
      ]
     },
     "execution_count": 19,
     "metadata": {},
     "output_type": "execute_result"
    }
   ],
   "source": [
    "df_result = pd.DataFrame(dfs_results)\n",
    "df_result.head()"
   ]
  },
  {
   "cell_type": "code",
   "execution_count": 21,
   "id": "ac5684d0-c778-4a19-b78f-760b3bd61fcf",
   "metadata": {
    "tags": []
   },
   "outputs": [
    {
     "data": {
      "text/plain": [
       "mse    54154.0340447250637226\n",
       "mae      168.9241495460885574\n",
       "rmse     194.3844095399626042\n",
       "mape       1.3945399212228196\n",
       "r2        -2.7875636275545608\n",
       "node    1164.4000000000000909\n",
       "dtype: float64"
      ]
     },
     "execution_count": 21,
     "metadata": {},
     "output_type": "execute_result"
    }
   ],
   "source": [
    "df_result.mean()"
   ]
  },
  {
   "cell_type": "code",
   "execution_count": 22,
   "id": "11028e65-4b83-448c-8b4e-8639a603c017",
   "metadata": {},
   "outputs": [
    {
     "data": {
      "text/plain": [
       "mse    55442.2133054518344579\n",
       "mae      125.8360023467700444\n",
       "rmse     143.0416695080718910\n",
       "mape       0.3946565350357860\n",
       "r2         0.8385926482040412\n",
       "node     935.2642941971001846\n",
       "dtype: float64"
      ]
     },
     "execution_count": 22,
     "metadata": {},
     "output_type": "execute_result"
    }
   ],
   "source": [
    "df_result.std()"
   ]
  },
  {
   "cell_type": "code",
   "execution_count": null,
   "id": "5217fdbd-f291-4924-83b6-6c328dfa8bd0",
   "metadata": {},
   "outputs": [],
   "source": [
    "#df_result.to_csv('../../outputs/forecasting/sarima_metrics.csv', index=False)"
   ]
  },
  {
   "cell_type": "code",
   "execution_count": 23,
   "id": "293ad10e-1c99-4b8d-8f3a-fe1bcdb4afdb",
   "metadata": {
    "tags": []
   },
   "outputs": [
    {
     "data": {
      "image/png": "[encoded data removed]",
      "text/plain": [
       "<Figure size 1440x432 with 1 Axes>"
      ]
     },
     "metadata": {
      "needs_background": "light"
     },
     "output_type": "display_data"
    }
   ],
   "source": [
    "node = nodes[4]\n",
    "plt.figure(figsize=(20, 6))\n",
    "plt.plot(df_test.time, df_test[f'carregamento_node_{node}'], label=f'True', color='blue')\n",
    "plt.plot(df_test.time, df_test[f'y_pred_{node}'], label=f'Forecasting', color='orange')\n",
    "plt.xlabel('Time')\n",
    "plt.ylabel('Loader')\n",
    "plt.title('Time Series and Forecasting')\n",
    "plt.legend()\n",
    "plt.show()"
   ]
  },
  {
   "cell_type": "code",
   "execution_count": 28,
   "id": "38d42d8c-689b-43d6-a047-a3b272ad16ea",
   "metadata": {},
   "outputs": [
    {
     "data": {
      "text/plain": [
       "694"
      ]
     },
     "execution_count": 28,
     "metadata": {},
     "output_type": "execute_result"
    }
   ],
   "source": [
    "node = nodes[0]\n",
    "node"
   ]
  },
  {
   "cell_type": "code",
   "execution_count": 36,
   "id": "a4beb028-a070-4ed1-9140-5f5028552ae9",
   "metadata": {},
   "outputs": [
    {
     "data": {
      "text/plain": [
       "count   252.0000000000000000\n",
       "mean    255.6448412698412653\n",
       "std     176.3055838148754049\n",
       "min       2.7500000000000000\n",
       "25%     136.5000000000000000\n",
       "50%     206.3749999999999716\n",
       "75%     373.5000000000000000\n",
       "max     665.9166666666666288\n",
       "Name: carregamento_node_694, dtype: float64"
      ]
     },
     "execution_count": 36,
     "metadata": {},
     "output_type": "execute_result"
    }
   ],
   "source": [
    "df_test[f\"carregamento_node_{node}\"].describe()"
   ]
  },
  {
   "cell_type": "code",
   "execution_count": 34,
   "id": "650081ec-ab5b-426e-9a18-ab05537a1d53",
   "metadata": {},
   "outputs": [],
   "source": [
    "true = df_test[f\"carregamento_node_{node}\"]+1\n",
    "pred = df_test[f\"y_pred_{node}\"]+1"
   ]
  },
  {
   "cell_type": "code",
   "execution_count": 35,
   "id": "92e21938-9a52-4451-9b18-0633d435888f",
   "metadata": {},
   "outputs": [
    {
     "data": {
      "text/plain": [
       "count   252.0000000000000000\n",
       "mean    256.6448412698412653\n",
       "std     176.3055838148754049\n",
       "min       3.7500000000000000\n",
       "25%     137.5000000000000000\n",
       "50%     207.3749999999999716\n",
       "75%     374.5000000000000000\n",
       "max     666.9166666666666288\n",
       "Name: carregamento_node_694, dtype: float64"
      ]
     },
     "execution_count": 35,
     "metadata": {},
     "output_type": "execute_result"
    }
   ],
   "source": [
    "true.describe()"
   ]
  },
  {
   "cell_type": "code",
   "execution_count": 29,
   "id": "b0c8fa84-3a07-4adc-9af2-07c515841797",
   "metadata": {},
   "outputs": [
    {
     "data": {
      "text/plain": [
       "1.6627600390521986"
      ]
     },
     "execution_count": 29,
     "metadata": {},
     "output_type": "execute_result"
    }
   ],
   "source": [
    "mean_absolute_percentage_error(true, df_test[f\"y_pred_{node}\"]+1)"
   ]
  },
  {
   "cell_type": "code",
   "execution_count": 31,
   "id": "e5be95bc-02a7-4f44-bcf2-e4d79b8ad6bb",
   "metadata": {},
   "outputs": [
    {
     "data": {
      "text/plain": [
       "1.7620100158955045"
      ]
     },
     "execution_count": 31,
     "metadata": {},
     "output_type": "execute_result"
    }
   ],
   "source": [
    "mean_absolute_percentage_error(df_test[f\"carregamento_node_{node}\"], df_test[f\"y_pred_{node}\"])"
   ]
  },
  {
   "cell_type": "code",
   "execution_count": null,
   "id": "ab1fc0ed-6867-420a-b62b-2407ca06c762",
   "metadata": {},
   "outputs": [],
   "source": []
  },
  {
   "cell_type": "code",
   "execution_count": 32,
   "id": "c9917a65-cce3-4860-8b68-8b5f131976ad",
   "metadata": {},
   "outputs": [
    {
     "data": {
      "text/html": [
       "<div>\n",
       "<style scoped>\n",
       "    .dataframe tbody tr th:only-of-type {\n",
       "        vertical-align: middle;\n",
       "    }\n",
       "\n",
       "    .dataframe tbody tr th {\n",
       "        vertical-align: top;\n",
       "    }\n",
       "\n",
       "    .dataframe thead th {\n",
       "        text-align: right;\n",
       "    }\n",
       "</style>\n",
       "<table border=\"1\" class=\"dataframe\">\n",
       "  <thead>\n",
       "    <tr style=\"text-align: right;\">\n",
       "      <th></th>\n",
       "      <th>time</th>\n",
       "      <th>day</th>\n",
       "      <th>partition</th>\n",
       "      <th>partition_nn</th>\n",
       "      <th>carregamento_node_694</th>\n",
       "      <th>carregamento_node_2772</th>\n",
       "      <th>carregamento_node_1203</th>\n",
       "      <th>carregamento_node_592</th>\n",
       "      <th>carregamento_node_561</th>\n",
       "      <th>y_pred_694</th>\n",
       "      <th>y_pred_2772</th>\n",
       "      <th>y_pred_1203</th>\n",
       "      <th>y_pred_592</th>\n",
       "      <th>y_pred_561</th>\n",
       "    </tr>\n",
       "  </thead>\n",
       "  <tbody>\n",
       "    <tr>\n",
       "      <th>1668</th>\n",
       "      <td>2024-03-08 00:00:00</td>\n",
       "      <td>8</td>\n",
       "      <td>test</td>\n",
       "      <td>test</td>\n",
       "      <td>26.6666666666666679</td>\n",
       "      <td>24.5833333333333286</td>\n",
       "      <td>0.2500000000000000</td>\n",
       "      <td>2.5000000000000000</td>\n",
       "      <td>17.5833333333333321</td>\n",
       "      <td>29.0516741360272199</td>\n",
       "      <td>20.6336298134296570</td>\n",
       "      <td>1.2867803850915061</td>\n",
       "      <td>2.5598856969190038</td>\n",
       "      <td>18.3432863443775780</td>\n",
       "    </tr>\n",
       "    <tr>\n",
       "      <th>1669</th>\n",
       "      <td>2024-03-08 00:05:00</td>\n",
       "      <td>8</td>\n",
       "      <td>test</td>\n",
       "      <td>test</td>\n",
       "      <td>24.4166666666666679</td>\n",
       "      <td>24.8333333333333286</td>\n",
       "      <td>0.5000000000000000</td>\n",
       "      <td>2.5000000000000000</td>\n",
       "      <td>11.4166666666666661</td>\n",
       "      <td>24.8656909387216452</td>\n",
       "      <td>13.5002330736817520</td>\n",
       "      <td>0.8358797052574840</td>\n",
       "      <td>2.7462310070068541</td>\n",
       "      <td>16.5644810493690962</td>\n",
       "    </tr>\n",
       "    <tr>\n",
       "      <th>1670</th>\n",
       "      <td>2024-03-08 00:10:00</td>\n",
       "      <td>8</td>\n",
       "      <td>test</td>\n",
       "      <td>test</td>\n",
       "      <td>18.0000000000000000</td>\n",
       "      <td>18.0000000000000000</td>\n",
       "      <td>0.5000000000000000</td>\n",
       "      <td>1.5000000000000000</td>\n",
       "      <td>11.1666666666666661</td>\n",
       "      <td>19.3296718260129339</td>\n",
       "      <td>8.2765953486444133</td>\n",
       "      <td>0.3372401196502116</td>\n",
       "      <td>2.8010722865670346</td>\n",
       "      <td>14.8479201754300938</td>\n",
       "    </tr>\n",
       "    <tr>\n",
       "      <th>1671</th>\n",
       "      <td>2024-03-08 00:15:00</td>\n",
       "      <td>8</td>\n",
       "      <td>test</td>\n",
       "      <td>test</td>\n",
       "      <td>18.2500000000000000</td>\n",
       "      <td>12.9166666666666661</td>\n",
       "      <td>0.5000000000000000</td>\n",
       "      <td>1.5000000000000000</td>\n",
       "      <td>9.3333333333333339</td>\n",
       "      <td>13.8548664766713987</td>\n",
       "      <td>4.3679471626652155</td>\n",
       "      <td>-0.2447653005561005</td>\n",
       "      <td>2.8489296683298435</td>\n",
       "      <td>13.2219809549728211</td>\n",
       "    </tr>\n",
       "    <tr>\n",
       "      <th>1672</th>\n",
       "      <td>2024-03-08 00:20:00</td>\n",
       "      <td>8</td>\n",
       "      <td>test</td>\n",
       "      <td>test</td>\n",
       "      <td>15.4166666666666661</td>\n",
       "      <td>8.6666666666666661</td>\n",
       "      <td>0.5000000000000000</td>\n",
       "      <td>1.5000000000000000</td>\n",
       "      <td>9.2500000000000000</td>\n",
       "      <td>8.7246672197079800</td>\n",
       "      <td>0.7705538193260542</td>\n",
       "      <td>-0.7665216927906037</td>\n",
       "      <td>2.8906925339587892</td>\n",
       "      <td>11.6809642145481156</td>\n",
       "    </tr>\n",
       "    <tr>\n",
       "      <th>...</th>\n",
       "      <td>...</td>\n",
       "      <td>...</td>\n",
       "      <td>...</td>\n",
       "      <td>...</td>\n",
       "      <td>...</td>\n",
       "      <td>...</td>\n",
       "      <td>...</td>\n",
       "      <td>...</td>\n",
       "      <td>...</td>\n",
       "      <td>...</td>\n",
       "      <td>...</td>\n",
       "      <td>...</td>\n",
       "      <td>...</td>\n",
       "      <td>...</td>\n",
       "    </tr>\n",
       "    <tr>\n",
       "      <th>1915</th>\n",
       "      <td>2024-03-09 00:35:00</td>\n",
       "      <td>9</td>\n",
       "      <td>test</td>\n",
       "      <td>test</td>\n",
       "      <td>9.3333333333333339</td>\n",
       "      <td>5.9166666666666670</td>\n",
       "      <td>0.4166666666666667</td>\n",
       "      <td>1.4166666666666667</td>\n",
       "      <td>5.0000000000000000</td>\n",
       "      <td>-67.6493185378033246</td>\n",
       "      <td>-28.5440108968872757</td>\n",
       "      <td>-5.2849304041169569</td>\n",
       "      <td>3.1768738988501273</td>\n",
       "      <td>-77.9139030857434989</td>\n",
       "    </tr>\n",
       "    <tr>\n",
       "      <th>1916</th>\n",
       "      <td>2024-03-09 00:40:00</td>\n",
       "      <td>9</td>\n",
       "      <td>test</td>\n",
       "      <td>test</td>\n",
       "      <td>4.4166666666666670</td>\n",
       "      <td>5.6666666666666670</td>\n",
       "      <td>0.4166666666666667</td>\n",
       "      <td>0.4166666666666667</td>\n",
       "      <td>3.5833333333333330</td>\n",
       "      <td>-67.6493191999109058</td>\n",
       "      <td>-28.4232957911349828</td>\n",
       "      <td>-5.2849304041183292</td>\n",
       "      <td>3.1768738988501273</td>\n",
       "      <td>-78.2244939211628605</td>\n",
       "    </tr>\n",
       "    <tr>\n",
       "      <th>1917</th>\n",
       "      <td>2024-03-09 00:45:00</td>\n",
       "      <td>9</td>\n",
       "      <td>test</td>\n",
       "      <td>test</td>\n",
       "      <td>4.0000000000000000</td>\n",
       "      <td>4.2500000000000000</td>\n",
       "      <td>0.4166666666666667</td>\n",
       "      <td>0.6666666666666666</td>\n",
       "      <td>3.0833333333333330</td>\n",
       "      <td>-67.6493198203427966</td>\n",
       "      <td>-28.3019891454801211</td>\n",
       "      <td>-5.2849304041195593</td>\n",
       "      <td>3.1768738988501273</td>\n",
       "      <td>-78.5352481225532415</td>\n",
       "    </tr>\n",
       "    <tr>\n",
       "      <th>1918</th>\n",
       "      <td>2024-03-09 00:50:00</td>\n",
       "      <td>9</td>\n",
       "      <td>test</td>\n",
       "      <td>test</td>\n",
       "      <td>3.5000000000000000</td>\n",
       "      <td>4.1666666666666670</td>\n",
       "      <td>0.4166666666666667</td>\n",
       "      <td>0.2500000000000000</td>\n",
       "      <td>2.7500000000000000</td>\n",
       "      <td>-67.6493204017222212</td>\n",
       "      <td>-28.1800909599562672</td>\n",
       "      <td>-5.2849304041206624</td>\n",
       "      <td>3.1768738988501273</td>\n",
       "      <td>-78.8461656905895154</td>\n",
       "    </tr>\n",
       "    <tr>\n",
       "      <th>1919</th>\n",
       "      <td>2024-03-09 00:55:00</td>\n",
       "      <td>9</td>\n",
       "      <td>test</td>\n",
       "      <td>test</td>\n",
       "      <td>3.5000000000000000</td>\n",
       "      <td>3.4166666666666665</td>\n",
       "      <td>0.0833333333333333</td>\n",
       "      <td>0.2500000000000000</td>\n",
       "      <td>2.5000000000000000</td>\n",
       "      <td>-67.6493209465073022</td>\n",
       "      <td>-28.0576012345943084</td>\n",
       "      <td>-5.2849304041216509</td>\n",
       "      <td>3.1768738988501273</td>\n",
       "      <td>-79.1572466259041931</td>\n",
       "    </tr>\n",
       "  </tbody>\n",
       "</table>\n",
       "<p>252 rows × 14 columns</p>\n",
       "</div>"
      ],
      "text/plain": [
       "                    time  day partition partition_nn  carregamento_node_694  \\\n",
       "1668 2024-03-08 00:00:00    8      test         test    26.6666666666666679   \n",
       "1669 2024-03-08 00:05:00    8      test         test    24.4166666666666679   \n",
       "1670 2024-03-08 00:10:00    8      test         test    18.0000000000000000   \n",
       "1671 2024-03-08 00:15:00    8      test         test    18.2500000000000000   \n",
       "1672 2024-03-08 00:20:00    8      test         test    15.4166666666666661   \n",
       "...                  ...  ...       ...          ...                    ...   \n",
       "1915 2024-03-09 00:35:00    9      test         test     9.3333333333333339   \n",
       "1916 2024-03-09 00:40:00    9      test         test     4.4166666666666670   \n",
       "1917 2024-03-09 00:45:00    9      test         test     4.0000000000000000   \n",
       "1918 2024-03-09 00:50:00    9      test         test     3.5000000000000000   \n",
       "1919 2024-03-09 00:55:00    9      test         test     3.5000000000000000   \n",
       "\n",
       "      carregamento_node_2772  carregamento_node_1203  carregamento_node_592  \\\n",
       "1668     24.5833333333333286      0.2500000000000000     2.5000000000000000   \n",
       "1669     24.8333333333333286      0.5000000000000000     2.5000000000000000   \n",
       "1670     18.0000000000000000      0.5000000000000000     1.5000000000000000   \n",
       "1671     12.9166666666666661      0.5000000000000000     1.5000000000000000   \n",
       "1672      8.6666666666666661      0.5000000000000000     1.5000000000000000   \n",
       "...                      ...                     ...                    ...   \n",
       "1915      5.9166666666666670      0.4166666666666667     1.4166666666666667   \n",
       "1916      5.6666666666666670      0.4166666666666667     0.4166666666666667   \n",
       "1917      4.2500000000000000      0.4166666666666667     0.6666666666666666   \n",
       "1918      4.1666666666666670      0.4166666666666667     0.2500000000000000   \n",
       "1919      3.4166666666666665      0.0833333333333333     0.2500000000000000   \n",
       "\n",
       "      carregamento_node_561           y_pred_694          y_pred_2772  \\\n",
       "1668    17.5833333333333321  29.0516741360272199  20.6336298134296570   \n",
       "1669    11.4166666666666661  24.8656909387216452  13.5002330736817520   \n",
       "1670    11.1666666666666661  19.3296718260129339   8.2765953486444133   \n",
       "1671     9.3333333333333339  13.8548664766713987   4.3679471626652155   \n",
       "1672     9.2500000000000000   8.7246672197079800   0.7705538193260542   \n",
       "...                     ...                  ...                  ...   \n",
       "1915     5.0000000000000000 -67.6493185378033246 -28.5440108968872757   \n",
       "1916     3.5833333333333330 -67.6493191999109058 -28.4232957911349828   \n",
       "1917     3.0833333333333330 -67.6493198203427966 -28.3019891454801211   \n",
       "1918     2.7500000000000000 -67.6493204017222212 -28.1800909599562672   \n",
       "1919     2.5000000000000000 -67.6493209465073022 -28.0576012345943084   \n",
       "\n",
       "             y_pred_1203         y_pred_592           y_pred_561  \n",
       "1668  1.2867803850915061 2.5598856969190038  18.3432863443775780  \n",
       "1669  0.8358797052574840 2.7462310070068541  16.5644810493690962  \n",
       "1670  0.3372401196502116 2.8010722865670346  14.8479201754300938  \n",
       "1671 -0.2447653005561005 2.8489296683298435  13.2219809549728211  \n",
       "1672 -0.7665216927906037 2.8906925339587892  11.6809642145481156  \n",
       "...                  ...                ...                  ...  \n",
       "1915 -5.2849304041169569 3.1768738988501273 -77.9139030857434989  \n",
       "1916 -5.2849304041183292 3.1768738988501273 -78.2244939211628605  \n",
       "1917 -5.2849304041195593 3.1768738988501273 -78.5352481225532415  \n",
       "1918 -5.2849304041206624 3.1768738988501273 -78.8461656905895154  \n",
       "1919 -5.2849304041216509 3.1768738988501273 -79.1572466259041931  \n",
       "\n",
       "[252 rows x 14 columns]"
      ]
     },
     "execution_count": 32,
     "metadata": {},
     "output_type": "execute_result"
    }
   ],
   "source": [
    "df_test"
   ]
  },
  {
   "cell_type": "code",
   "execution_count": 38,
   "id": "2b7a8786-61e0-4cd9-8bfe-7feb37ae693e",
   "metadata": {},
   "outputs": [],
   "source": [
    "def mean_absolute_percentage_error_np(y_true, y_pred):\n",
    "    y_true, y_pred = np.array(y_true), np.array(y_pred)\n",
    "    return np.mean(np.abs((y_true - y_pred) / y_true)) * 100"
   ]
  },
  {
   "cell_type": "code",
   "execution_count": 42,
   "id": "5258ca7c-7a76-451e-92a1-805091fcf012",
   "metadata": {},
   "outputs": [
    {
     "name": "stdout",
     "output_type": "stream",
     "text": [
      "node 694 - MAPE: 1.6627600390521986 MAPE np: 166.28\n",
      "node 2772 - MAPE: 1.3878227902032796 MAPE np: 138.78\n",
      "node 1203 - MAPE: 1.2801263199636241 MAPE np: 128.01\n",
      "node 592 - MAPE: 0.8076143487371511 MAPE np: 80.76\n",
      "node 561 - MAPE: 1.8343761081578451 MAPE np: 183.44\n"
     ]
    }
   ],
   "source": [
    "mapes = []\n",
    "for nd in nodes:\n",
    "    y_true = df_test[f'carregamento_node_{nd}']+1\n",
    "    y_pred = df_test[f'y_pred_{nd}']+1\n",
    "    mape       = mean_absolute_percentage_error(y_true, y_pred)\n",
    "    mape_stats = mean_absolute_percentage_error_np(y_true, y_pred)\n",
    "    print(f\"node {nd} - MAPE: {mape} MAPE np: {mape_stats:.2f}\")\n",
    "    mapes.append(mape)"
   ]
  },
  {
   "cell_type": "code",
   "execution_count": 43,
   "id": "30bd9b16-0598-4d83-9e8c-6c7aa6a10abd",
   "metadata": {},
   "outputs": [
    {
     "data": {
      "text/plain": [
       "\u001b[0;31mSignature:\u001b[0m\n",
       "\u001b[0mmean_absolute_percentage_error\u001b[0m\u001b[0;34m(\u001b[0m\u001b[0;34m\u001b[0m\n",
       "\u001b[0;34m\u001b[0m    \u001b[0my_true\u001b[0m\u001b[0;34m,\u001b[0m\u001b[0;34m\u001b[0m\n",
       "\u001b[0;34m\u001b[0m    \u001b[0my_pred\u001b[0m\u001b[0;34m,\u001b[0m\u001b[0;34m\u001b[0m\n",
       "\u001b[0;34m\u001b[0m    \u001b[0;34m*\u001b[0m\u001b[0;34m,\u001b[0m\u001b[0;34m\u001b[0m\n",
       "\u001b[0;34m\u001b[0m    \u001b[0msample_weight\u001b[0m\u001b[0;34m=\u001b[0m\u001b[0;32mNone\u001b[0m\u001b[0;34m,\u001b[0m\u001b[0;34m\u001b[0m\n",
       "\u001b[0;34m\u001b[0m    \u001b[0mmultioutput\u001b[0m\u001b[0;34m=\u001b[0m\u001b[0;34m'uniform_average'\u001b[0m\u001b[0;34m,\u001b[0m\u001b[0;34m\u001b[0m\n",
       "\u001b[0;34m\u001b[0m\u001b[0;34m)\u001b[0m\u001b[0;34m\u001b[0m\u001b[0;34m\u001b[0m\u001b[0m\n",
       "\u001b[0;31mDocstring:\u001b[0m\n",
       "Mean absolute percentage error (MAPE) regression loss.\n",
       "\n",
       "Note here that the output is not a percentage in the range [0, 100]\n",
       "and a value of 100 does not mean 100% but 1e2. Furthermore, the output\n",
       "can be arbitrarily high when `y_true` is small (which is specific to the\n",
       "metric) or when `abs(y_true - y_pred)` is large (which is common for most\n",
       "regression metrics). Read more in the\n",
       ":ref:`User Guide <mean_absolute_percentage_error>`.\n",
       "\n",
       ".. versionadded:: 0.24\n",
       "\n",
       "Parameters\n",
       "----------\n",
       "y_true : array-like of shape (n_samples,) or (n_samples, n_outputs)\n",
       "    Ground truth (correct) target values.\n",
       "\n",
       "y_pred : array-like of shape (n_samples,) or (n_samples, n_outputs)\n",
       "    Estimated target values.\n",
       "\n",
       "sample_weight : array-like of shape (n_samples,), default=None\n",
       "    Sample weights.\n",
       "\n",
       "multioutput : {'raw_values', 'uniform_average'} or array-like\n",
       "    Defines aggregating of multiple output values.\n",
       "    Array-like value defines weights used to average errors.\n",
       "    If input is list then the shape must be (n_outputs,).\n",
       "\n",
       "    'raw_values' :\n",
       "        Returns a full set of errors in case of multioutput input.\n",
       "\n",
       "    'uniform_average' :\n",
       "        Errors of all outputs are averaged with uniform weight.\n",
       "\n",
       "Returns\n",
       "-------\n",
       "loss : float or ndarray of floats\n",
       "    If multioutput is 'raw_values', then mean absolute percentage error\n",
       "    is returned for each output separately.\n",
       "    If multioutput is 'uniform_average' or an ndarray of weights, then the\n",
       "    weighted average of all output errors is returned.\n",
       "\n",
       "    MAPE output is non-negative floating point. The best value is 0.0.\n",
       "    But note that bad predictions can lead to arbitrarily large\n",
       "    MAPE values, especially if some `y_true` values are very close to zero.\n",
       "    Note that we return a large value instead of `inf` when `y_true` is zero.\n",
       "\n",
       "Examples\n",
       "--------\n",
       ">>> from sklearn.metrics import mean_absolute_percentage_error\n",
       ">>> y_true = [3, -0.5, 2, 7]\n",
       ">>> y_pred = [2.5, 0.0, 2, 8]\n",
       ">>> mean_absolute_percentage_error(y_true, y_pred)\n",
       "0.3273...\n",
       ">>> y_true = [[0.5, 1], [-1, 1], [7, -6]]\n",
       ">>> y_pred = [[0, 2], [-1, 2], [8, -5]]\n",
       ">>> mean_absolute_percentage_error(y_true, y_pred)\n",
       "0.5515...\n",
       ">>> mean_absolute_percentage_error(y_true, y_pred, multioutput=[0.3, 0.7])\n",
       "0.6198...\n",
       ">>> # the value when some element of the y_true is zero is arbitrarily high because\n",
       ">>> # of the division by epsilon\n",
       ">>> y_true = [1., 0., 2.4, 7.]\n",
       ">>> y_pred = [1.2, 0.1, 2.4, 8.]\n",
       ">>> mean_absolute_percentage_error(y_true, y_pred)\n",
       "112589990684262.48\n",
       "\u001b[0;31mFile:\u001b[0m      /opt/conda/lib/python3.7/site-packages/sklearn/metrics/_regression.py\n",
       "\u001b[0;31mType:\u001b[0m      function\n"
      ]
     },
     "metadata": {},
     "output_type": "display_data"
    }
   ],
   "source": [
    "?mean_absolute_percentage_error"
   ]
  },
  {
   "cell_type": "code",
   "execution_count": 52,
   "id": "3f1a6d13-d596-4ab2-a899-9ba8683022db",
   "metadata": {},
   "outputs": [
    {
     "data": {
      "text/plain": [
       "1.2000000000000002"
      ]
     },
     "execution_count": 52,
     "metadata": {},
     "output_type": "execute_result"
    }
   ],
   "source": [
    "abs(1 - 2.2) / 1"
   ]
  },
  {
   "cell_type": "code",
   "execution_count": null,
   "id": "abe18654-e9cf-426f-af86-f091fe1bc2a2",
   "metadata": {},
   "outputs": [],
   "source": []
  }
 ],
 "metadata": {
  "kernelspec": {
   "display_name": "Python 3 (ipykernel)",
   "language": "python",
   "name": "python3"
  },
  "language_info": {
   "codemirror_mode": {
    "name": "ipython",
    "version": 3
   },
   "file_extension": ".py",
   "mimetype": "text/x-python",
   "name": "python",
   "nbconvert_exporter": "python",
   "pygments_lexer": "ipython3",
   "version": "3.7.13"
  }
 },
 "nbformat": 4,
 "nbformat_minor": 5
}
