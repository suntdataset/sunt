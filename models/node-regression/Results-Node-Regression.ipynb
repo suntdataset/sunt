{
 "cells": [
  {
   "cell_type": "code",
   "execution_count": 1,
   "id": "0247c5da-d8fd-4fe4-b39a-907b1b8f43cf",
   "metadata": {
    "tags": []
   },
   "outputs": [],
   "source": [
    "# basic\n",
    "import os\n",
    "import numpy as np\n",
    "import pandas as pd\n",
    "from tqdm import tqdm\n",
    "# pre processing\n",
    "from sklearn import preprocessing as pre\n",
    "# NN\n",
    "import torch\n",
    "import torch.nn as nn\n",
    "from torch import Tensor\n",
    "import torch.nn.functional as F\n",
    "import torch.optim as optim\n",
    "from torch.nn import MSELoss\n",
    "from torch_geometric.nn import GCNConv\n",
    "# val and plot\n",
    "from torchmetrics.regression import R2Score\n",
    "from sklearn.metrics import r2_score\n",
    "from sklearn.metrics import mean_squared_error\n",
    "from sklearn.metrics import mean_absolute_percentage_error\n",
    "from sklearn.metrics import mean_absolute_error\n",
    "import statsmodels.api as sm\n",
    "from loguru import logger as log\n",
    "# ours libs\n",
    "from data import load_dataset\n",
    "from val import calculate_metrics\n",
    "# plot\n",
    "import matplotlib.pyplot as plt"
   ]
  },
  {
   "cell_type": "code",
   "execution_count": 2,
   "id": "f254b06e-a408-4a47-85be-5b283904a631",
   "metadata": {},
   "outputs": [],
   "source": [
    "plt.style.use('seaborn-whitegrid')\n",
    "#pd.set_option('display.float_format', '{:.16f}'.format)"
   ]
  },
  {
   "cell_type": "markdown",
   "id": "4931b785-9008-4baf-9907-34212ffbd46c",
   "metadata": {},
   "source": [
    "## Data"
   ]
  },
  {
   "cell_type": "code",
   "execution_count": 3,
   "id": "12d7938c-4bd9-4942-b8ca-3805412c8944",
   "metadata": {
    "tags": []
   },
   "outputs": [],
   "source": [
    "df_nodes = pd.read_csv('../../data/graph_designer/train_test/df_nodes_selected.csv')\n",
    "nodes = list(df_nodes.tensor_idx.values)"
   ]
  },
  {
   "cell_type": "markdown",
   "id": "3ac1f76f-5d44-4041-968c-8e9f2ed0a4d2",
   "metadata": {},
   "source": [
    "## Models"
   ]
  },
  {
   "cell_type": "code",
   "execution_count": 4,
   "id": "f1926a81-524b-4a5f-8b4d-95d9c6924bd9",
   "metadata": {
    "tags": []
   },
   "outputs": [],
   "source": [
    "models = ['lstm', 'gru', 'gcn', 'cheb', 'sage',  'gat', 'gconv_lstm', 'gconv_gru', 'tgcn', 'dcrnn', 'a3tgcn']"
   ]
  },
  {
   "cell_type": "code",
   "execution_count": 5,
   "id": "2ba564a6-fb2d-4165-bf90-b8d6b5cc8058",
   "metadata": {
    "tags": []
   },
   "outputs": [
    {
     "data": {
      "text/plain": [
       "'sage'"
      ]
     },
     "execution_count": 5,
     "metadata": {},
     "output_type": "execute_result"
    }
   ],
   "source": [
    "model = models[4]\n",
    "model"
   ]
  },
  {
   "cell_type": "code",
   "execution_count": 6,
   "id": "e2f9c04a-c992-45cb-8b9f-bc67a127a3d4",
   "metadata": {
    "tags": []
   },
   "outputs": [
    {
     "data": {
      "text/html": [
       "<div>\n",
       "<style scoped>\n",
       "    .dataframe tbody tr th:only-of-type {\n",
       "        vertical-align: middle;\n",
       "    }\n",
       "\n",
       "    .dataframe tbody tr th {\n",
       "        vertical-align: top;\n",
       "    }\n",
       "\n",
       "    .dataframe thead th {\n",
       "        text-align: right;\n",
       "    }\n",
       "</style>\n",
       "<table border=\"1\" class=\"dataframe\">\n",
       "  <thead>\n",
       "    <tr style=\"text-align: right;\">\n",
       "      <th></th>\n",
       "      <th>time</th>\n",
       "      <th>day</th>\n",
       "      <th>partition</th>\n",
       "      <th>partition_nn</th>\n",
       "      <th>carregamento_node_694</th>\n",
       "      <th>carregamento_node_2772</th>\n",
       "      <th>carregamento_node_1203</th>\n",
       "      <th>carregamento_node_592</th>\n",
       "      <th>carregamento_node_561</th>\n",
       "      <th>y_pred_694</th>\n",
       "      <th>y_pred_2772</th>\n",
       "      <th>y_pred_1203</th>\n",
       "      <th>y_pred_592</th>\n",
       "      <th>y_pred_561</th>\n",
       "    </tr>\n",
       "  </thead>\n",
       "  <tbody>\n",
       "    <tr>\n",
       "      <th>0</th>\n",
       "      <td>2024-03-08 00:00:00</td>\n",
       "      <td>8</td>\n",
       "      <td>test</td>\n",
       "      <td>test</td>\n",
       "      <td>26.666667</td>\n",
       "      <td>24.583333</td>\n",
       "      <td>0.25</td>\n",
       "      <td>2.5</td>\n",
       "      <td>17.583333</td>\n",
       "      <td>32.817673</td>\n",
       "      <td>29.880890</td>\n",
       "      <td>1.759834</td>\n",
       "      <td>2.806606</td>\n",
       "      <td>18.470778</td>\n",
       "    </tr>\n",
       "    <tr>\n",
       "      <th>1</th>\n",
       "      <td>2024-03-08 00:05:00</td>\n",
       "      <td>8</td>\n",
       "      <td>test</td>\n",
       "      <td>test</td>\n",
       "      <td>24.416667</td>\n",
       "      <td>24.833333</td>\n",
       "      <td>0.50</td>\n",
       "      <td>2.5</td>\n",
       "      <td>11.416667</td>\n",
       "      <td>30.313046</td>\n",
       "      <td>26.998234</td>\n",
       "      <td>1.552542</td>\n",
       "      <td>2.964595</td>\n",
       "      <td>17.572159</td>\n",
       "    </tr>\n",
       "    <tr>\n",
       "      <th>2</th>\n",
       "      <td>2024-03-08 00:10:00</td>\n",
       "      <td>8</td>\n",
       "      <td>test</td>\n",
       "      <td>test</td>\n",
       "      <td>18.000000</td>\n",
       "      <td>18.000000</td>\n",
       "      <td>0.50</td>\n",
       "      <td>1.5</td>\n",
       "      <td>11.166667</td>\n",
       "      <td>28.740140</td>\n",
       "      <td>25.475756</td>\n",
       "      <td>1.789780</td>\n",
       "      <td>3.126051</td>\n",
       "      <td>15.676132</td>\n",
       "    </tr>\n",
       "    <tr>\n",
       "      <th>3</th>\n",
       "      <td>2024-03-08 00:15:00</td>\n",
       "      <td>8</td>\n",
       "      <td>test</td>\n",
       "      <td>test</td>\n",
       "      <td>18.250000</td>\n",
       "      <td>12.916667</td>\n",
       "      <td>0.50</td>\n",
       "      <td>1.5</td>\n",
       "      <td>9.333333</td>\n",
       "      <td>28.442848</td>\n",
       "      <td>26.761976</td>\n",
       "      <td>1.037367</td>\n",
       "      <td>3.193348</td>\n",
       "      <td>14.765747</td>\n",
       "    </tr>\n",
       "    <tr>\n",
       "      <th>4</th>\n",
       "      <td>2024-03-08 00:20:00</td>\n",
       "      <td>8</td>\n",
       "      <td>test</td>\n",
       "      <td>test</td>\n",
       "      <td>15.416667</td>\n",
       "      <td>8.666667</td>\n",
       "      <td>0.50</td>\n",
       "      <td>1.5</td>\n",
       "      <td>9.250000</td>\n",
       "      <td>23.075804</td>\n",
       "      <td>20.293003</td>\n",
       "      <td>1.126486</td>\n",
       "      <td>3.490373</td>\n",
       "      <td>13.975140</td>\n",
       "    </tr>\n",
       "  </tbody>\n",
       "</table>\n",
       "</div>"
      ],
      "text/plain": [
       "                 time  day partition partition_nn  carregamento_node_694  \\\n",
       "0 2024-03-08 00:00:00    8      test         test              26.666667   \n",
       "1 2024-03-08 00:05:00    8      test         test              24.416667   \n",
       "2 2024-03-08 00:10:00    8      test         test              18.000000   \n",
       "3 2024-03-08 00:15:00    8      test         test              18.250000   \n",
       "4 2024-03-08 00:20:00    8      test         test              15.416667   \n",
       "\n",
       "   carregamento_node_2772  carregamento_node_1203  carregamento_node_592  \\\n",
       "0               24.583333                    0.25                    2.5   \n",
       "1               24.833333                    0.50                    2.5   \n",
       "2               18.000000                    0.50                    1.5   \n",
       "3               12.916667                    0.50                    1.5   \n",
       "4                8.666667                    0.50                    1.5   \n",
       "\n",
       "   carregamento_node_561  y_pred_694  y_pred_2772  y_pred_1203  y_pred_592  \\\n",
       "0              17.583333   32.817673    29.880890     1.759834    2.806606   \n",
       "1              11.416667   30.313046    26.998234     1.552542    2.964595   \n",
       "2              11.166667   28.740140    25.475756     1.789780    3.126051   \n",
       "3               9.333333   28.442848    26.761976     1.037367    3.193348   \n",
       "4               9.250000   23.075804    20.293003     1.126486    3.490373   \n",
       "\n",
       "   y_pred_561  \n",
       "0   18.470778  \n",
       "1   17.572159  \n",
       "2   15.676132  \n",
       "3   14.765747  \n",
       "4   13.975140  "
      ]
     },
     "execution_count": 6,
     "metadata": {},
     "output_type": "execute_result"
    }
   ],
   "source": [
    "df_test = pd.read_csv(f'../../outputs/regression/same_env/forecasting/{model}_forecasting.csv')\n",
    "df_test['time'] = pd.to_datetime(df_test['time'])\n",
    "df_test.head()"
   ]
  },
  {
   "cell_type": "code",
   "execution_count": 7,
   "id": "0fef2bf5-a871-40fb-9b1b-f7790a790043",
   "metadata": {
    "tags": []
   },
   "outputs": [
    {
     "data": {
      "text/html": [
       "<div>\n",
       "<style scoped>\n",
       "    .dataframe tbody tr th:only-of-type {\n",
       "        vertical-align: middle;\n",
       "    }\n",
       "\n",
       "    .dataframe tbody tr th {\n",
       "        vertical-align: top;\n",
       "    }\n",
       "\n",
       "    .dataframe thead th {\n",
       "        text-align: right;\n",
       "    }\n",
       "</style>\n",
       "<table border=\"1\" class=\"dataframe\">\n",
       "  <thead>\n",
       "    <tr style=\"text-align: right;\">\n",
       "      <th></th>\n",
       "      <th>mse</th>\n",
       "      <th>mae</th>\n",
       "      <th>rmse</th>\n",
       "      <th>mape</th>\n",
       "      <th>r2</th>\n",
       "      <th>node</th>\n",
       "    </tr>\n",
       "  </thead>\n",
       "  <tbody>\n",
       "    <tr>\n",
       "      <th>0</th>\n",
       "      <td>2608.901680</td>\n",
       "      <td>30.177615</td>\n",
       "      <td>51.077409</td>\n",
       "      <td>3.212106e-01</td>\n",
       "      <td>0.915734</td>\n",
       "      <td>694</td>\n",
       "    </tr>\n",
       "    <tr>\n",
       "      <th>1</th>\n",
       "      <td>2185.337552</td>\n",
       "      <td>30.576640</td>\n",
       "      <td>46.747594</td>\n",
       "      <td>3.210972e-01</td>\n",
       "      <td>0.877399</td>\n",
       "      <td>2772</td>\n",
       "    </tr>\n",
       "    <tr>\n",
       "      <th>2</th>\n",
       "      <td>148.183619</td>\n",
       "      <td>8.689405</td>\n",
       "      <td>12.173069</td>\n",
       "      <td>1.230708e+14</td>\n",
       "      <td>0.895440</td>\n",
       "      <td>1203</td>\n",
       "    </tr>\n",
       "    <tr>\n",
       "      <th>3</th>\n",
       "      <td>89.015810</td>\n",
       "      <td>5.932582</td>\n",
       "      <td>9.434819</td>\n",
       "      <td>1.789902e+14</td>\n",
       "      <td>0.694600</td>\n",
       "      <td>592</td>\n",
       "    </tr>\n",
       "    <tr>\n",
       "      <th>4</th>\n",
       "      <td>1265.806230</td>\n",
       "      <td>19.170319</td>\n",
       "      <td>35.578171</td>\n",
       "      <td>3.632712e-01</td>\n",
       "      <td>0.896658</td>\n",
       "      <td>561</td>\n",
       "    </tr>\n",
       "  </tbody>\n",
       "</table>\n",
       "</div>"
      ],
      "text/plain": [
       "           mse        mae       rmse          mape        r2  node\n",
       "0  2608.901680  30.177615  51.077409  3.212106e-01  0.915734   694\n",
       "1  2185.337552  30.576640  46.747594  3.210972e-01  0.877399  2772\n",
       "2   148.183619   8.689405  12.173069  1.230708e+14  0.895440  1203\n",
       "3    89.015810   5.932582   9.434819  1.789902e+14  0.694600   592\n",
       "4  1265.806230  19.170319  35.578171  3.632712e-01  0.896658   561"
      ]
     },
     "execution_count": 7,
     "metadata": {},
     "output_type": "execute_result"
    }
   ],
   "source": [
    "df_result = pd.read_csv(f'../../outputs/regression/same_env/forecasting/{model}_metrics.csv')\n",
    "df_result.head()"
   ]
  },
  {
   "cell_type": "code",
   "execution_count": 8,
   "id": "22df6908-db73-4bb6-914e-7d4ff0e7c479",
   "metadata": {
    "tags": []
   },
   "outputs": [
    {
     "data": {
      "image/png": "[encoded data removed]",
      "text/plain": [
       "<Figure size 1440x432 with 1 Axes>"
      ]
     },
     "metadata": {
      "needs_background": "light"
     },
     "output_type": "display_data"
    }
   ],
   "source": [
    "node = nodes[3]\n",
    "plt.figure(figsize=(20, 6))\n",
    "plt.plot(df_test.time, df_test[f\"carregamento_node_{node}\"], label=f'True', color='blue')\n",
    "plt.plot(df_test.time, df_test[f\"y_pred_{node}\"], label=f'Forecasting', color='orange')\n",
    "plt.xlabel('Time')\n",
    "plt.ylabel('Loader')\n",
    "plt.title(f'Time Series and Forecasting - {model} - {np.mean(df_result.mse.values):.2f}')\n",
    "plt.legend()\n",
    "plt.show()"
   ]
  },
  {
   "cell_type": "code",
   "execution_count": 9,
   "id": "ff5b214a-87f8-4650-98f9-b28f2f9955ab",
   "metadata": {},
   "outputs": [
    {
     "data": {
      "text/plain": [
       "1259.4489780587355"
      ]
     },
     "execution_count": 9,
     "metadata": {},
     "output_type": "execute_result"
    }
   ],
   "source": [
    "np.mean(df_result.mse)"
   ]
  },
  {
   "cell_type": "code",
   "execution_count": null,
   "id": "bb89b71d-3348-43ed-a643-c75f7c91ffff",
   "metadata": {},
   "outputs": [],
   "source": []
  },
  {
   "cell_type": "code",
   "execution_count": 10,
   "id": "a7ff277b-93b6-4441-a202-dfd8403ce1ec",
   "metadata": {
    "tags": []
   },
   "outputs": [
    {
     "name": "stdout",
     "output_type": "stream",
     "text": [
      "mse : 1259.4489780587355 +- 1027.925791230419\n",
      "mae : 18.90931219359239 +- 10.353852660535564\n",
      "rmse : 31.002212377399825 +- 17.271705351971825\n",
      "mape : 60412214053104.984 +- 76073329361844.98\n",
      "r2 : 0.855966027198656 +- 0.08159010825190324\n"
     ]
    }
   ],
   "source": [
    "scores = ['mse', 'mae', 'rmse', 'mape', 'r2']\n",
    "for mn in scores:\n",
    "    print(f\"{mn} : {np.mean(df_result[mn].values)} +- {np.std(df_result[mn].values)}\")\n",
    "    "
   ]
  },
  {
   "cell_type": "code",
   "execution_count": 11,
   "id": "61a4abe4-c115-4be8-8db8-c78b0e43c8e8",
   "metadata": {},
   "outputs": [
    {
     "data": {
      "text/plain": [
       "mse     1.149256e+03\n",
       "mae     1.157596e+01\n",
       "rmse    1.931035e+01\n",
       "mape    8.505257e+13\n",
       "r2      9.122051e-02\n",
       "node    9.352643e+02\n",
       "dtype: float64"
      ]
     },
     "execution_count": 11,
     "metadata": {},
     "output_type": "execute_result"
    }
   ],
   "source": [
    "df_result.std()"
   ]
  },
  {
   "cell_type": "code",
   "execution_count": 12,
   "id": "b8ffc4af-9332-4e07-8542-f6d2a3927a03",
   "metadata": {
    "tags": []
   },
   "outputs": [
    {
     "data": {
      "text/html": [
       "<div>\n",
       "<style scoped>\n",
       "    .dataframe tbody tr th:only-of-type {\n",
       "        vertical-align: middle;\n",
       "    }\n",
       "\n",
       "    .dataframe tbody tr th {\n",
       "        vertical-align: top;\n",
       "    }\n",
       "\n",
       "    .dataframe thead th {\n",
       "        text-align: right;\n",
       "    }\n",
       "</style>\n",
       "<table border=\"1\" class=\"dataframe\">\n",
       "  <thead>\n",
       "    <tr style=\"text-align: right;\">\n",
       "      <th></th>\n",
       "      <th>Epochs</th>\n",
       "      <th>loss</th>\n",
       "    </tr>\n",
       "  </thead>\n",
       "  <tbody>\n",
       "    <tr>\n",
       "      <th>0</th>\n",
       "      <td>1</td>\n",
       "      <td>1083.31710</td>\n",
       "    </tr>\n",
       "    <tr>\n",
       "      <th>1</th>\n",
       "      <td>2</td>\n",
       "      <td>977.99164</td>\n",
       "    </tr>\n",
       "    <tr>\n",
       "      <th>2</th>\n",
       "      <td>3</td>\n",
       "      <td>884.48270</td>\n",
       "    </tr>\n",
       "    <tr>\n",
       "      <th>3</th>\n",
       "      <td>4</td>\n",
       "      <td>801.32477</td>\n",
       "    </tr>\n",
       "    <tr>\n",
       "      <th>4</th>\n",
       "      <td>5</td>\n",
       "      <td>727.25730</td>\n",
       "    </tr>\n",
       "  </tbody>\n",
       "</table>\n",
       "</div>"
      ],
      "text/plain": [
       "   Epochs        loss\n",
       "0       1  1083.31710\n",
       "1       2   977.99164\n",
       "2       3   884.48270\n",
       "3       4   801.32477\n",
       "4       5   727.25730"
      ]
     },
     "execution_count": 12,
     "metadata": {},
     "output_type": "execute_result"
    }
   ],
   "source": [
    "df_scores = pd.read_csv(f'../../outputs/regression/same_env/train_loss/loss_{model}.csv')\n",
    "df_scores.head()"
   ]
  },
  {
   "cell_type": "code",
   "execution_count": 13,
   "id": "6546f45a-7553-4573-ae91-e22d4ab22bf2",
   "metadata": {
    "tags": []
   },
   "outputs": [
    {
     "data": {
      "text/plain": [
       "<AxesSubplot:>"
      ]
     },
     "execution_count": 13,
     "metadata": {},
     "output_type": "execute_result"
    },
    {
     "data": {
      "image/png": "[encoded data removed]",
      "text/plain": [
       "<Figure size 432x288 with 1 Axes>"
      ]
     },
     "metadata": {
      "needs_background": "light"
     },
     "output_type": "display_data"
    }
   ],
   "source": [
    "df_scores['loss'].plot()"
   ]
  },
  {
   "cell_type": "code",
   "execution_count": 14,
   "id": "75df317c-763c-41d6-9616-46ba041cc21a",
   "metadata": {},
   "outputs": [
    {
     "data": {
      "text/html": [
       "<div>\n",
       "<style scoped>\n",
       "    .dataframe tbody tr th:only-of-type {\n",
       "        vertical-align: middle;\n",
       "    }\n",
       "\n",
       "    .dataframe tbody tr th {\n",
       "        vertical-align: top;\n",
       "    }\n",
       "\n",
       "    .dataframe thead th {\n",
       "        text-align: right;\n",
       "    }\n",
       "</style>\n",
       "<table border=\"1\" class=\"dataframe\">\n",
       "  <thead>\n",
       "    <tr style=\"text-align: right;\">\n",
       "      <th></th>\n",
       "      <th>time</th>\n",
       "      <th>day</th>\n",
       "      <th>partition</th>\n",
       "      <th>partition_nn</th>\n",
       "      <th>carregamento_node_694</th>\n",
       "      <th>carregamento_node_2772</th>\n",
       "      <th>carregamento_node_1203</th>\n",
       "      <th>carregamento_node_592</th>\n",
       "      <th>carregamento_node_561</th>\n",
       "      <th>y_pred_694</th>\n",
       "      <th>y_pred_2772</th>\n",
       "      <th>y_pred_1203</th>\n",
       "      <th>y_pred_592</th>\n",
       "      <th>y_pred_561</th>\n",
       "    </tr>\n",
       "  </thead>\n",
       "  <tbody>\n",
       "    <tr>\n",
       "      <th>0</th>\n",
       "      <td>2024-03-08 00:00:00</td>\n",
       "      <td>8</td>\n",
       "      <td>test</td>\n",
       "      <td>test</td>\n",
       "      <td>26.666667</td>\n",
       "      <td>24.583333</td>\n",
       "      <td>0.25</td>\n",
       "      <td>2.5</td>\n",
       "      <td>17.583333</td>\n",
       "      <td>32.817673</td>\n",
       "      <td>29.880890</td>\n",
       "      <td>1.759834</td>\n",
       "      <td>2.806606</td>\n",
       "      <td>18.470778</td>\n",
       "    </tr>\n",
       "    <tr>\n",
       "      <th>1</th>\n",
       "      <td>2024-03-08 00:05:00</td>\n",
       "      <td>8</td>\n",
       "      <td>test</td>\n",
       "      <td>test</td>\n",
       "      <td>24.416667</td>\n",
       "      <td>24.833333</td>\n",
       "      <td>0.50</td>\n",
       "      <td>2.5</td>\n",
       "      <td>11.416667</td>\n",
       "      <td>30.313046</td>\n",
       "      <td>26.998234</td>\n",
       "      <td>1.552542</td>\n",
       "      <td>2.964595</td>\n",
       "      <td>17.572159</td>\n",
       "    </tr>\n",
       "    <tr>\n",
       "      <th>2</th>\n",
       "      <td>2024-03-08 00:10:00</td>\n",
       "      <td>8</td>\n",
       "      <td>test</td>\n",
       "      <td>test</td>\n",
       "      <td>18.000000</td>\n",
       "      <td>18.000000</td>\n",
       "      <td>0.50</td>\n",
       "      <td>1.5</td>\n",
       "      <td>11.166667</td>\n",
       "      <td>28.740140</td>\n",
       "      <td>25.475756</td>\n",
       "      <td>1.789780</td>\n",
       "      <td>3.126051</td>\n",
       "      <td>15.676132</td>\n",
       "    </tr>\n",
       "    <tr>\n",
       "      <th>3</th>\n",
       "      <td>2024-03-08 00:15:00</td>\n",
       "      <td>8</td>\n",
       "      <td>test</td>\n",
       "      <td>test</td>\n",
       "      <td>18.250000</td>\n",
       "      <td>12.916667</td>\n",
       "      <td>0.50</td>\n",
       "      <td>1.5</td>\n",
       "      <td>9.333333</td>\n",
       "      <td>28.442848</td>\n",
       "      <td>26.761976</td>\n",
       "      <td>1.037367</td>\n",
       "      <td>3.193348</td>\n",
       "      <td>14.765747</td>\n",
       "    </tr>\n",
       "    <tr>\n",
       "      <th>4</th>\n",
       "      <td>2024-03-08 00:20:00</td>\n",
       "      <td>8</td>\n",
       "      <td>test</td>\n",
       "      <td>test</td>\n",
       "      <td>15.416667</td>\n",
       "      <td>8.666667</td>\n",
       "      <td>0.50</td>\n",
       "      <td>1.5</td>\n",
       "      <td>9.250000</td>\n",
       "      <td>23.075804</td>\n",
       "      <td>20.293003</td>\n",
       "      <td>1.126486</td>\n",
       "      <td>3.490373</td>\n",
       "      <td>13.975140</td>\n",
       "    </tr>\n",
       "  </tbody>\n",
       "</table>\n",
       "</div>"
      ],
      "text/plain": [
       "                 time  day partition partition_nn  carregamento_node_694  \\\n",
       "0 2024-03-08 00:00:00    8      test         test              26.666667   \n",
       "1 2024-03-08 00:05:00    8      test         test              24.416667   \n",
       "2 2024-03-08 00:10:00    8      test         test              18.000000   \n",
       "3 2024-03-08 00:15:00    8      test         test              18.250000   \n",
       "4 2024-03-08 00:20:00    8      test         test              15.416667   \n",
       "\n",
       "   carregamento_node_2772  carregamento_node_1203  carregamento_node_592  \\\n",
       "0               24.583333                    0.25                    2.5   \n",
       "1               24.833333                    0.50                    2.5   \n",
       "2               18.000000                    0.50                    1.5   \n",
       "3               12.916667                    0.50                    1.5   \n",
       "4                8.666667                    0.50                    1.5   \n",
       "\n",
       "   carregamento_node_561  y_pred_694  y_pred_2772  y_pred_1203  y_pred_592  \\\n",
       "0              17.583333   32.817673    29.880890     1.759834    2.806606   \n",
       "1              11.416667   30.313046    26.998234     1.552542    2.964595   \n",
       "2              11.166667   28.740140    25.475756     1.789780    3.126051   \n",
       "3               9.333333   28.442848    26.761976     1.037367    3.193348   \n",
       "4               9.250000   23.075804    20.293003     1.126486    3.490373   \n",
       "\n",
       "   y_pred_561  \n",
       "0   18.470778  \n",
       "1   17.572159  \n",
       "2   15.676132  \n",
       "3   14.765747  \n",
       "4   13.975140  "
      ]
     },
     "execution_count": 14,
     "metadata": {},
     "output_type": "execute_result"
    }
   ],
   "source": [
    "df_test.head()"
   ]
  },
  {
   "cell_type": "code",
   "execution_count": null,
   "id": "cdb77474-a06c-4278-a22a-8c3d76375ed6",
   "metadata": {},
   "outputs": [],
   "source": []
  },
  {
   "cell_type": "code",
   "execution_count": 15,
   "id": "edea795b-5846-4e85-bd84-66d49ba21bf9",
   "metadata": {
    "tags": []
   },
   "outputs": [],
   "source": [
    "#labels_time = ['12AM', '3AM', '6AM', '9AM', '12PM', '3PM', '18PM', '21PM', '12AM'] "
   ]
  },
  {
   "cell_type": "code",
   "execution_count": 16,
   "id": "5b26beb7-a25a-49a5-8097-0c3ae8aa17b0",
   "metadata": {},
   "outputs": [],
   "source": [
    "# xlabels_pos = ['2024-03-08 00:00:00', \n",
    "#               '2024-03-08 03:00:00',\n",
    "#               '2024-03-08 06:00:00',\n",
    "#               '2024-03-08 09:00:00',\n",
    "#               '2024-03-08 12:00:00',\n",
    "#               '2024-03-08 15:00:00',\n",
    "#               '2024-03-08 18:00:00',\n",
    "#               '2024-03-08 21:00:00',\n",
    "#               '2024-03-09 00:00:00']"
   ]
  },
  {
   "cell_type": "code",
   "execution_count": 17,
   "id": "d5d87553-5d3f-4f1c-bc36-29c88d592ad9",
   "metadata": {},
   "outputs": [],
   "source": [
    "#pos_dt = pd.to_datetime(xlabels_pos)"
   ]
  },
  {
   "cell_type": "code",
   "execution_count": 18,
   "id": "b8052a3e-010c-4af6-9d7d-797f8a732a20",
   "metadata": {},
   "outputs": [],
   "source": [
    "# plt.figure(figsize=(20, 8))\n",
    "# plt.plot(df_test.time, df_test[f\"carregamento_node_{node}\"], label=f'Ground Truth', color='blue', linewidth=2.5)\n",
    "\n",
    "# for model in models:\n",
    "    \n",
    "#     df_result_model = pd.read_csv(f'../../outputs/regression/same_env/forecasting/{model}_forecasting.csv')\n",
    "#     plt.plot(df_test.time, df_result_model[f\"y_pred_{node}\"], \n",
    "#              label=f' {model.upper()}', linewidth=1.5)\n",
    "    \n",
    "# plt.xlabel('Time', fontsize=25)\n",
    "# plt.ylabel('Loader', fontsize=25)\n",
    "# #plt.title(f'Time Series and Forecasting - {model} - {np.mean(df_result.mse.values):.2f}')\n",
    "# plt.legend(fontsize=18)\n",
    "# plt.xticks(pos_dt, labels_time, fontsize=18)  # Increase x-tick font size\n",
    "# plt.yticks(fontsize=18)  # Increase x-tick font size\n",
    "# plt.savefig('forecasting_all_models.png', dpi=600, bbox_inches='tight')\n",
    "# plt.show()"
   ]
  },
  {
   "cell_type": "markdown",
   "id": "123ca544-ad45-4c5d-b541-7aab7559503d",
   "metadata": {},
   "source": [
    "## Fix MAPE"
   ]
  },
  {
   "cell_type": "code",
   "execution_count": 19,
   "id": "c49cb60b-432f-4c3f-aa8d-0a212023aa60",
   "metadata": {},
   "outputs": [
    {
     "data": {
      "text/plain": [
       "592"
      ]
     },
     "execution_count": 19,
     "metadata": {},
     "output_type": "execute_result"
    }
   ],
   "source": [
    "node = nodes[3]\n",
    "node"
   ]
  },
  {
   "cell_type": "code",
   "execution_count": 20,
   "id": "3df1a853-e003-4608-936f-0c1427d95208",
   "metadata": {
    "tags": []
   },
   "outputs": [
    {
     "data": {
      "text/html": [
       "<div>\n",
       "<style scoped>\n",
       "    .dataframe tbody tr th:only-of-type {\n",
       "        vertical-align: middle;\n",
       "    }\n",
       "\n",
       "    .dataframe tbody tr th {\n",
       "        vertical-align: top;\n",
       "    }\n",
       "\n",
       "    .dataframe thead th {\n",
       "        text-align: right;\n",
       "    }\n",
       "</style>\n",
       "<table border=\"1\" class=\"dataframe\">\n",
       "  <thead>\n",
       "    <tr style=\"text-align: right;\">\n",
       "      <th></th>\n",
       "      <th>time</th>\n",
       "      <th>day</th>\n",
       "      <th>partition</th>\n",
       "      <th>partition_nn</th>\n",
       "      <th>carregamento_node_694</th>\n",
       "      <th>carregamento_node_2772</th>\n",
       "      <th>carregamento_node_1203</th>\n",
       "      <th>carregamento_node_592</th>\n",
       "      <th>carregamento_node_561</th>\n",
       "      <th>y_pred_694</th>\n",
       "      <th>y_pred_2772</th>\n",
       "      <th>y_pred_1203</th>\n",
       "      <th>y_pred_592</th>\n",
       "      <th>y_pred_561</th>\n",
       "    </tr>\n",
       "  </thead>\n",
       "  <tbody>\n",
       "    <tr>\n",
       "      <th>0</th>\n",
       "      <td>2024-03-08 00:00:00</td>\n",
       "      <td>8</td>\n",
       "      <td>test</td>\n",
       "      <td>test</td>\n",
       "      <td>26.666667</td>\n",
       "      <td>24.583333</td>\n",
       "      <td>0.25</td>\n",
       "      <td>2.5</td>\n",
       "      <td>17.583333</td>\n",
       "      <td>32.817673</td>\n",
       "      <td>29.880890</td>\n",
       "      <td>1.759834</td>\n",
       "      <td>2.806606</td>\n",
       "      <td>18.470778</td>\n",
       "    </tr>\n",
       "    <tr>\n",
       "      <th>1</th>\n",
       "      <td>2024-03-08 00:05:00</td>\n",
       "      <td>8</td>\n",
       "      <td>test</td>\n",
       "      <td>test</td>\n",
       "      <td>24.416667</td>\n",
       "      <td>24.833333</td>\n",
       "      <td>0.50</td>\n",
       "      <td>2.5</td>\n",
       "      <td>11.416667</td>\n",
       "      <td>30.313046</td>\n",
       "      <td>26.998234</td>\n",
       "      <td>1.552542</td>\n",
       "      <td>2.964595</td>\n",
       "      <td>17.572159</td>\n",
       "    </tr>\n",
       "    <tr>\n",
       "      <th>2</th>\n",
       "      <td>2024-03-08 00:10:00</td>\n",
       "      <td>8</td>\n",
       "      <td>test</td>\n",
       "      <td>test</td>\n",
       "      <td>18.000000</td>\n",
       "      <td>18.000000</td>\n",
       "      <td>0.50</td>\n",
       "      <td>1.5</td>\n",
       "      <td>11.166667</td>\n",
       "      <td>28.740140</td>\n",
       "      <td>25.475756</td>\n",
       "      <td>1.789780</td>\n",
       "      <td>3.126051</td>\n",
       "      <td>15.676132</td>\n",
       "    </tr>\n",
       "    <tr>\n",
       "      <th>3</th>\n",
       "      <td>2024-03-08 00:15:00</td>\n",
       "      <td>8</td>\n",
       "      <td>test</td>\n",
       "      <td>test</td>\n",
       "      <td>18.250000</td>\n",
       "      <td>12.916667</td>\n",
       "      <td>0.50</td>\n",
       "      <td>1.5</td>\n",
       "      <td>9.333333</td>\n",
       "      <td>28.442848</td>\n",
       "      <td>26.761976</td>\n",
       "      <td>1.037367</td>\n",
       "      <td>3.193348</td>\n",
       "      <td>14.765747</td>\n",
       "    </tr>\n",
       "    <tr>\n",
       "      <th>4</th>\n",
       "      <td>2024-03-08 00:20:00</td>\n",
       "      <td>8</td>\n",
       "      <td>test</td>\n",
       "      <td>test</td>\n",
       "      <td>15.416667</td>\n",
       "      <td>8.666667</td>\n",
       "      <td>0.50</td>\n",
       "      <td>1.5</td>\n",
       "      <td>9.250000</td>\n",
       "      <td>23.075804</td>\n",
       "      <td>20.293003</td>\n",
       "      <td>1.126486</td>\n",
       "      <td>3.490373</td>\n",
       "      <td>13.975140</td>\n",
       "    </tr>\n",
       "  </tbody>\n",
       "</table>\n",
       "</div>"
      ],
      "text/plain": [
       "                 time  day partition partition_nn  carregamento_node_694  \\\n",
       "0 2024-03-08 00:00:00    8      test         test              26.666667   \n",
       "1 2024-03-08 00:05:00    8      test         test              24.416667   \n",
       "2 2024-03-08 00:10:00    8      test         test              18.000000   \n",
       "3 2024-03-08 00:15:00    8      test         test              18.250000   \n",
       "4 2024-03-08 00:20:00    8      test         test              15.416667   \n",
       "\n",
       "   carregamento_node_2772  carregamento_node_1203  carregamento_node_592  \\\n",
       "0               24.583333                    0.25                    2.5   \n",
       "1               24.833333                    0.50                    2.5   \n",
       "2               18.000000                    0.50                    1.5   \n",
       "3               12.916667                    0.50                    1.5   \n",
       "4                8.666667                    0.50                    1.5   \n",
       "\n",
       "   carregamento_node_561  y_pred_694  y_pred_2772  y_pred_1203  y_pred_592  \\\n",
       "0              17.583333   32.817673    29.880890     1.759834    2.806606   \n",
       "1              11.416667   30.313046    26.998234     1.552542    2.964595   \n",
       "2              11.166667   28.740140    25.475756     1.789780    3.126051   \n",
       "3               9.333333   28.442848    26.761976     1.037367    3.193348   \n",
       "4               9.250000   23.075804    20.293003     1.126486    3.490373   \n",
       "\n",
       "   y_pred_561  \n",
       "0   18.470778  \n",
       "1   17.572159  \n",
       "2   15.676132  \n",
       "3   14.765747  \n",
       "4   13.975140  "
      ]
     },
     "execution_count": 20,
     "metadata": {},
     "output_type": "execute_result"
    }
   ],
   "source": [
    "df_test.head()"
   ]
  },
  {
   "cell_type": "code",
   "execution_count": 21,
   "id": "9a727f06-9e45-48cc-8abd-d17de274af9d",
   "metadata": {
    "tags": []
   },
   "outputs": [
    {
     "data": {
      "image/png": "[encoded data removed]",
      "text/plain": [
       "<Figure size 432x288 with 1 Axes>"
      ]
     },
     "metadata": {
      "needs_background": "light"
     },
     "output_type": "display_data"
    }
   ],
   "source": [
    "plt.plot(df_test[f'carregamento_node_{node}'])\n",
    "plt.plot(df_test[f'y_pred_{node}'])\n",
    "plt.show()"
   ]
  },
  {
   "cell_type": "code",
   "execution_count": 22,
   "id": "7d07b425-ab70-4f58-88c5-9b4ff453f210",
   "metadata": {},
   "outputs": [],
   "source": [
    "def mean_absolute_percentage_error_np(y_true, y_pred):\n",
    "    y_true, y_pred = np.array(y_true), np.array(y_pred)\n",
    "    return np.mean(np.abs((y_true - y_pred) / y_true)) * 100"
   ]
  },
  {
   "cell_type": "code",
   "execution_count": 24,
   "id": "99801a40-baea-4816-8d88-ef790dee2d9d",
   "metadata": {},
   "outputs": [
    {
     "name": "stdout",
     "output_type": "stream",
     "text": [
      "node 592 - MAPE: 0.28685632295546576 MAPE np: 28.69\n",
      "node 592 - MAPE: 0.28897393924773074 MAPE np: 28.90\n",
      "node 592 - MAPE: 0.33012745198685317 MAPE np: 33.01\n",
      "node 592 - MAPE: 0.42775373468840466 MAPE np: 42.78\n",
      "node 592 - MAPE: 0.3058586860634061 MAPE np: 30.59\n"
     ]
    }
   ],
   "source": [
    "mapes = []\n",
    "for nd in nodes:\n",
    "    y_true = df_test[f'carregamento_node_{nd}']+1\n",
    "    y_pred = df_test[f'y_pred_{nd}']+1\n",
    "    mape       = mean_absolute_percentage_error(y_true, y_pred)\n",
    "    mape_stats = mean_absolute_percentage_error_np(y_true, y_pred)\n",
    "    print(f\"node {node} - MAPE: {mape} MAPE np: {mape_stats:.2f}\")\n",
    "    mapes.append(mape)"
   ]
  },
  {
   "cell_type": "code",
   "execution_count": null,
   "id": "ad7f3b7a-2937-4752-ba3c-393af3f23a5b",
   "metadata": {},
   "outputs": [],
   "source": [
    "dir(sm.tools.eval_measures)"
   ]
  },
  {
   "cell_type": "code",
   "execution_count": null,
   "id": "84abaf1e-4cf2-45bb-a51f-a4456ddd21c7",
   "metadata": {},
   "outputs": [],
   "source": [
    "sum(np.array(mapes)) / len(mapes)"
   ]
  },
  {
   "cell_type": "code",
   "execution_count": null,
   "id": "cdfa8d6d-182a-4afc-a2b2-467c4dfb0022",
   "metadata": {},
   "outputs": [],
   "source": [
    "np.array(mapes).mean() , np.array(mapes).std() "
   ]
  },
  {
   "cell_type": "code",
   "execution_count": null,
   "id": "cd76565d-17e6-4fec-9be1-d6e0820a41e1",
   "metadata": {},
   "outputs": [],
   "source": [
    "model"
   ]
  },
  {
   "cell_type": "code",
   "execution_count": null,
   "id": "e8e0ea65-ec98-4fe1-9701-47f5d0459f7e",
   "metadata": {},
   "outputs": [],
   "source": []
  }
 ],
 "metadata": {
  "kernelspec": {
   "display_name": "Python 3 (ipykernel)",
   "language": "python",
   "name": "python3"
  },
  "language_info": {
   "codemirror_mode": {
    "name": "ipython",
    "version": 3
   },
   "file_extension": ".py",
   "mimetype": "text/x-python",
   "name": "python",
   "nbconvert_exporter": "python",
   "pygments_lexer": "ipython3",
   "version": "3.7.13"
  }
 },
 "nbformat": 4,
 "nbformat_minor": 5
}
