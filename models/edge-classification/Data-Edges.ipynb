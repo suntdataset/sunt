{
 "cells": [
  {
   "cell_type": "code",
   "execution_count": 1,
   "id": "c88ee0e3-0218-4fef-8810-2b151d133871",
   "metadata": {
    "tags": []
   },
   "outputs": [],
   "source": [
    "import os\n",
    "import torch\n",
    "import warnings\n",
    "import numpy as np\n",
    "import pandas as pd\n",
    "import networkx as nx\n",
    "from datetime import datetime\n",
    "from datetime import timedelta\n",
    "from collections import Counter\n",
    "from tqdm import tqdm\n",
    "# data\n",
    "from torch_geometric.data import Data\n",
    "from data import pre_processing\n",
    "from sklearn.model_selection import KFold\n",
    "#from models import GNNEdgeClassifier, GCNEdgeClassifier\n",
    "# plot\n",
    "import matplotlib.pyplot as plt\n",
    "import seaborn as sns\n",
    "# val\n",
    "from sklearn.metrics import confusion_matrix, matthews_corrcoef"
   ]
  },
  {
   "cell_type": "code",
   "execution_count": 2,
   "id": "715fc20b-057e-411d-95a9-a9ede8b3b147",
   "metadata": {
    "tags": []
   },
   "outputs": [],
   "source": [
    "# set seed\n",
    "torch.manual_seed(42)\n",
    "np.random.seed(42)\n",
    "warnings.filterwarnings('ignore')"
   ]
  },
  {
   "cell_type": "markdown",
   "id": "8ad493d9-1b23-4db0-aed4-95620b8f02ae",
   "metadata": {},
   "source": [
    "## Data\n",
    "\n",
    " - Features\n",
    " - Edges"
   ]
  },
  {
   "cell_type": "code",
   "execution_count": 3,
   "id": "aad43e44-90a9-44f1-a102-2eadc6424167",
   "metadata": {
    "tags": []
   },
   "outputs": [
    {
     "data": {
      "text/html": [
       "<div>\n",
       "<style scoped>\n",
       "    .dataframe tbody tr th:only-of-type {\n",
       "        vertical-align: middle;\n",
       "    }\n",
       "\n",
       "    .dataframe tbody tr th {\n",
       "        vertical-align: top;\n",
       "    }\n",
       "\n",
       "    .dataframe thead th {\n",
       "        text-align: right;\n",
       "    }\n",
       "</style>\n",
       "<table border=\"1\" class=\"dataframe\">\n",
       "  <thead>\n",
       "    <tr style=\"text-align: right;\">\n",
       "      <th></th>\n",
       "      <th>src</th>\n",
       "      <th>dst</th>\n",
       "      <th>loader</th>\n",
       "      <th>vm_edge</th>\n",
       "      <th>target</th>\n",
       "    </tr>\n",
       "  </thead>\n",
       "  <tbody>\n",
       "    <tr>\n",
       "      <th>0</th>\n",
       "      <td>100009577</td>\n",
       "      <td>345936831</td>\n",
       "      <td>2.770115</td>\n",
       "      <td>29.946355</td>\n",
       "      <td>normal</td>\n",
       "    </tr>\n",
       "    <tr>\n",
       "      <th>1</th>\n",
       "      <td>100722777</td>\n",
       "      <td>100722778</td>\n",
       "      <td>18.540541</td>\n",
       "      <td>15.494709</td>\n",
       "      <td>normal</td>\n",
       "    </tr>\n",
       "    <tr>\n",
       "      <th>2</th>\n",
       "      <td>100722777</td>\n",
       "      <td>44782645</td>\n",
       "      <td>5.820513</td>\n",
       "      <td>10.865240</td>\n",
       "      <td>devagar</td>\n",
       "    </tr>\n",
       "    <tr>\n",
       "      <th>3</th>\n",
       "      <td>100722777</td>\n",
       "      <td>45833440</td>\n",
       "      <td>23.023810</td>\n",
       "      <td>16.153585</td>\n",
       "      <td>normal</td>\n",
       "    </tr>\n",
       "    <tr>\n",
       "      <th>4</th>\n",
       "      <td>100722777</td>\n",
       "      <td>66771046</td>\n",
       "      <td>21.500000</td>\n",
       "      <td>14.545003</td>\n",
       "      <td>normal</td>\n",
       "    </tr>\n",
       "  </tbody>\n",
       "</table>\n",
       "</div>"
      ],
      "text/plain": [
       "         src        dst     loader    vm_edge   target\n",
       "0  100009577  345936831   2.770115  29.946355   normal\n",
       "1  100722777  100722778  18.540541  15.494709   normal\n",
       "2  100722777   44782645   5.820513  10.865240  devagar\n",
       "3  100722777   45833440  23.023810  16.153585   normal\n",
       "4  100722777   66771046  21.500000  14.545003   normal"
      ]
     },
     "execution_count": 3,
     "metadata": {},
     "output_type": "execute_result"
    }
   ],
   "source": [
    "df_edges_features = pd.read_parquet('../../data_design/df_edges.parquet')\n",
    "df_edges_features.head()"
   ]
  },
  {
   "cell_type": "code",
   "execution_count": 4,
   "id": "e034c005-4b62-4918-b33c-e5997030e24d",
   "metadata": {
    "tags": []
   },
   "outputs": [
    {
     "name": "stdout",
     "output_type": "stream",
     "text": [
      "<class 'pandas.core.frame.DataFrame'>\n",
      "RangeIndex: 4458 entries, 0 to 4457\n",
      "Data columns (total 5 columns):\n",
      " #   Column   Non-Null Count  Dtype  \n",
      "---  ------   --------------  -----  \n",
      " 0   src      4458 non-null   object \n",
      " 1   dst      4458 non-null   object \n",
      " 2   loader   4458 non-null   float64\n",
      " 3   vm_edge  4458 non-null   float64\n",
      " 4   target   4458 non-null   object \n",
      "dtypes: float64(2), object(3)\n",
      "memory usage: 174.3+ KB\n"
     ]
    }
   ],
   "source": [
    "df_edges_features.info()"
   ]
  },
  {
   "cell_type": "code",
   "execution_count": 5,
   "id": "f4588557-d6f6-40e3-8355-4b7fbcd74218",
   "metadata": {
    "tags": []
   },
   "outputs": [
    {
     "data": {
      "text/plain": [
       "Index(['src', 'dst', 'loader', 'vm_edge', 'target'], dtype='object')"
      ]
     },
     "execution_count": 5,
     "metadata": {},
     "output_type": "execute_result"
    }
   ],
   "source": [
    "df_edges_features.columns"
   ]
  },
  {
   "cell_type": "code",
   "execution_count": 6,
   "id": "8c1d5e16-fd72-4fe2-adb7-8eafefede226",
   "metadata": {
    "tags": []
   },
   "outputs": [
    {
     "data": {
      "text/html": [
       "<div>\n",
       "<style scoped>\n",
       "    .dataframe tbody tr th:only-of-type {\n",
       "        vertical-align: middle;\n",
       "    }\n",
       "\n",
       "    .dataframe tbody tr th {\n",
       "        vertical-align: top;\n",
       "    }\n",
       "\n",
       "    .dataframe thead th {\n",
       "        text-align: right;\n",
       "    }\n",
       "</style>\n",
       "<table border=\"1\" class=\"dataframe\">\n",
       "  <thead>\n",
       "    <tr style=\"text-align: right;\">\n",
       "      <th></th>\n",
       "      <th>src</th>\n",
       "      <th>dst</th>\n",
       "      <th>distance</th>\n",
       "      <th>src_lat</th>\n",
       "      <th>dst_lat</th>\n",
       "      <th>src_lon</th>\n",
       "      <th>dst_lon</th>\n",
       "    </tr>\n",
       "  </thead>\n",
       "  <tbody>\n",
       "    <tr>\n",
       "      <th>0</th>\n",
       "      <td>100009577</td>\n",
       "      <td>345936831</td>\n",
       "      <td>0.254</td>\n",
       "      <td>-12.901954</td>\n",
       "      <td>-12.902051</td>\n",
       "      <td>-38.419582</td>\n",
       "      <td>-38.417114</td>\n",
       "    </tr>\n",
       "    <tr>\n",
       "      <th>1</th>\n",
       "      <td>100722777</td>\n",
       "      <td>100722778</td>\n",
       "      <td>0.362</td>\n",
       "      <td>-12.899299</td>\n",
       "      <td>-12.896647</td>\n",
       "      <td>-38.407673</td>\n",
       "      <td>-38.408215</td>\n",
       "    </tr>\n",
       "    <tr>\n",
       "      <th>2</th>\n",
       "      <td>100722777</td>\n",
       "      <td>44782645</td>\n",
       "      <td>1.062</td>\n",
       "      <td>-12.899299</td>\n",
       "      <td>-12.899458</td>\n",
       "      <td>-38.407673</td>\n",
       "      <td>-38.412964</td>\n",
       "    </tr>\n",
       "    <tr>\n",
       "      <th>3</th>\n",
       "      <td>100722777</td>\n",
       "      <td>45833440</td>\n",
       "      <td>0.417</td>\n",
       "      <td>-12.899299</td>\n",
       "      <td>-12.896741</td>\n",
       "      <td>-38.407673</td>\n",
       "      <td>-38.408672</td>\n",
       "    </tr>\n",
       "    <tr>\n",
       "      <th>4</th>\n",
       "      <td>100722777</td>\n",
       "      <td>66771046</td>\n",
       "      <td>0.934</td>\n",
       "      <td>-12.899299</td>\n",
       "      <td>-12.896790</td>\n",
       "      <td>-38.407673</td>\n",
       "      <td>-38.412540</td>\n",
       "    </tr>\n",
       "  </tbody>\n",
       "</table>\n",
       "</div>"
      ],
      "text/plain": [
       "         src        dst  distance    src_lat    dst_lat    src_lon    dst_lon\n",
       "0  100009577  345936831     0.254 -12.901954 -12.902051 -38.419582 -38.417114\n",
       "1  100722777  100722778     0.362 -12.899299 -12.896647 -38.407673 -38.408215\n",
       "2  100722777   44782645     1.062 -12.899299 -12.899458 -38.407673 -38.412964\n",
       "3  100722777   45833440     0.417 -12.899299 -12.896741 -38.407673 -38.408672\n",
       "4  100722777   66771046     0.934 -12.899299 -12.896790 -38.407673 -38.412540"
      ]
     },
     "execution_count": 6,
     "metadata": {},
     "output_type": "execute_result"
    }
   ],
   "source": [
    "df_edges = pd.read_parquet('../../data/graph_designer/graph_gtfs_fev_2024.parquet')\n",
    "df_edges.head()"
   ]
  },
  {
   "cell_type": "code",
   "execution_count": 7,
   "id": "7bf7fdfc-16b3-4c6b-b517-f49b7d178adf",
   "metadata": {
    "tags": []
   },
   "outputs": [
    {
     "data": {
      "text/html": [
       "<div>\n",
       "<style scoped>\n",
       "    .dataframe tbody tr th:only-of-type {\n",
       "        vertical-align: middle;\n",
       "    }\n",
       "\n",
       "    .dataframe tbody tr th {\n",
       "        vertical-align: top;\n",
       "    }\n",
       "\n",
       "    .dataframe thead th {\n",
       "        text-align: right;\n",
       "    }\n",
       "</style>\n",
       "<table border=\"1\" class=\"dataframe\">\n",
       "  <thead>\n",
       "    <tr style=\"text-align: right;\">\n",
       "      <th></th>\n",
       "      <th>ponto</th>\n",
       "      <th>carregamento</th>\n",
       "      <th>desce</th>\n",
       "      <th>linha</th>\n",
       "      <th>sobe</th>\n",
       "      <th>trip_id</th>\n",
       "      <th>veiculo</th>\n",
       "      <th>vm</th>\n",
       "      <th>target</th>\n",
       "    </tr>\n",
       "  </thead>\n",
       "  <tbody>\n",
       "    <tr>\n",
       "      <th>0</th>\n",
       "      <td>100009577</td>\n",
       "      <td>0.946667</td>\n",
       "      <td>0.026667</td>\n",
       "      <td>1.080000</td>\n",
       "      <td>0.480000</td>\n",
       "      <td>1.106667</td>\n",
       "      <td>1.093333</td>\n",
       "      <td>8.275914</td>\n",
       "      <td>devagar</td>\n",
       "    </tr>\n",
       "    <tr>\n",
       "      <th>1</th>\n",
       "      <td>100722777</td>\n",
       "      <td>22.069444</td>\n",
       "      <td>5.222222</td>\n",
       "      <td>1.666667</td>\n",
       "      <td>4.840278</td>\n",
       "      <td>1.750000</td>\n",
       "      <td>1.750000</td>\n",
       "      <td>20.951829</td>\n",
       "      <td>normal</td>\n",
       "    </tr>\n",
       "    <tr>\n",
       "      <th>2</th>\n",
       "      <td>100722778</td>\n",
       "      <td>21.402516</td>\n",
       "      <td>1.666667</td>\n",
       "      <td>1.773585</td>\n",
       "      <td>0.081761</td>\n",
       "      <td>2.056604</td>\n",
       "      <td>2.056604</td>\n",
       "      <td>13.930104</td>\n",
       "      <td>normal</td>\n",
       "    </tr>\n",
       "    <tr>\n",
       "      <th>3</th>\n",
       "      <td>101214305</td>\n",
       "      <td>7.982759</td>\n",
       "      <td>4.465517</td>\n",
       "      <td>1.000000</td>\n",
       "      <td>0.620690</td>\n",
       "      <td>1.000000</td>\n",
       "      <td>1.000000</td>\n",
       "      <td>17.759792</td>\n",
       "      <td>normal</td>\n",
       "    </tr>\n",
       "    <tr>\n",
       "      <th>4</th>\n",
       "      <td>101269104</td>\n",
       "      <td>77.882653</td>\n",
       "      <td>16.591837</td>\n",
       "      <td>4.540816</td>\n",
       "      <td>10.285714</td>\n",
       "      <td>5.520408</td>\n",
       "      <td>5.520408</td>\n",
       "      <td>36.548041</td>\n",
       "      <td>normal</td>\n",
       "    </tr>\n",
       "  </tbody>\n",
       "</table>\n",
       "</div>"
      ],
      "text/plain": [
       "       ponto  carregamento      desce     linha       sobe   trip_id  \\\n",
       "0  100009577      0.946667   0.026667  1.080000   0.480000  1.106667   \n",
       "1  100722777     22.069444   5.222222  1.666667   4.840278  1.750000   \n",
       "2  100722778     21.402516   1.666667  1.773585   0.081761  2.056604   \n",
       "3  101214305      7.982759   4.465517  1.000000   0.620690  1.000000   \n",
       "4  101269104     77.882653  16.591837  4.540816  10.285714  5.520408   \n",
       "\n",
       "    veiculo         vm   target  \n",
       "0  1.093333   8.275914  devagar  \n",
       "1  1.750000  20.951829   normal  \n",
       "2  2.056604  13.930104   normal  \n",
       "3  1.000000  17.759792   normal  \n",
       "4  5.520408  36.548041   normal  "
      ]
     },
     "execution_count": 7,
     "metadata": {},
     "output_type": "execute_result"
    }
   ],
   "source": [
    "df_node_features = pd.read_parquet('../../data/raw/df_features.parquet')\n",
    "df_node_features.head()"
   ]
  },
  {
   "cell_type": "code",
   "execution_count": 8,
   "id": "7520fcf5-20da-4ec7-b612-d84b833f0502",
   "metadata": {
    "tags": []
   },
   "outputs": [],
   "source": [
    "#df_edges_join = df_edges_features.merge(df_edges, on=['src', 'dst'], how='left')\n",
    "df_edges_join = df_edges.merge(df_edges_features, on=['src', 'dst'], how='left')"
   ]
  },
  {
   "cell_type": "code",
   "execution_count": 9,
   "id": "088e18e7-6436-49ff-8ccf-ebd9827ca89f",
   "metadata": {},
   "outputs": [
    {
     "data": {
      "text/plain": [
       "((4458, 5), (4526, 7), (4526, 10))"
      ]
     },
     "execution_count": 9,
     "metadata": {},
     "output_type": "execute_result"
    }
   ],
   "source": [
    "df_edges_features.shape, df_edges.shape, df_edges_join.shape"
   ]
  },
  {
   "cell_type": "code",
   "execution_count": 10,
   "id": "a0ea43f1-70ba-4fec-9eef-7ea75ec31fc5",
   "metadata": {},
   "outputs": [
    {
     "name": "stdout",
     "output_type": "stream",
     "text": [
      "<class 'pandas.core.frame.DataFrame'>\n",
      "Int64Index: 4526 entries, 0 to 4525\n",
      "Data columns (total 10 columns):\n",
      " #   Column    Non-Null Count  Dtype  \n",
      "---  ------    --------------  -----  \n",
      " 0   src       4526 non-null   object \n",
      " 1   dst       4526 non-null   object \n",
      " 2   distance  4526 non-null   float64\n",
      " 3   src_lat   4526 non-null   float64\n",
      " 4   dst_lat   4526 non-null   float64\n",
      " 5   src_lon   4526 non-null   float64\n",
      " 6   dst_lon   4526 non-null   float64\n",
      " 7   loader    4445 non-null   float64\n",
      " 8   vm_edge   4445 non-null   float64\n",
      " 9   target    4445 non-null   object \n",
      "dtypes: float64(7), object(3)\n",
      "memory usage: 389.0+ KB\n"
     ]
    }
   ],
   "source": [
    "df_edges_join.info()"
   ]
  },
  {
   "cell_type": "code",
   "execution_count": 11,
   "id": "ec9e3fa4-76df-408f-8a1c-fcd62ecfb04b",
   "metadata": {
    "tags": []
   },
   "outputs": [
    {
     "data": {
      "text/plain": [
       "((4458, 5), (4526, 7), (4526, 10))"
      ]
     },
     "execution_count": 11,
     "metadata": {},
     "output_type": "execute_result"
    }
   ],
   "source": [
    "df_edges_features.shape, df_edges.shape, df_edges_join.shape"
   ]
  },
  {
   "cell_type": "code",
   "execution_count": 12,
   "id": "d7eb2aa2-5a80-41ad-b32b-537a4ec03dbd",
   "metadata": {
    "tags": []
   },
   "outputs": [],
   "source": [
    "df_edges_join = df_edges_join[df_edges_join.target.notna()]"
   ]
  },
  {
   "cell_type": "code",
   "execution_count": 13,
   "id": "451eca8f-6da1-4571-b67d-a820f055f197",
   "metadata": {
    "tags": []
   },
   "outputs": [
    {
     "data": {
      "text/html": [
       "<div>\n",
       "<style scoped>\n",
       "    .dataframe tbody tr th:only-of-type {\n",
       "        vertical-align: middle;\n",
       "    }\n",
       "\n",
       "    .dataframe tbody tr th {\n",
       "        vertical-align: top;\n",
       "    }\n",
       "\n",
       "    .dataframe thead th {\n",
       "        text-align: right;\n",
       "    }\n",
       "</style>\n",
       "<table border=\"1\" class=\"dataframe\">\n",
       "  <thead>\n",
       "    <tr style=\"text-align: right;\">\n",
       "      <th></th>\n",
       "      <th>src</th>\n",
       "      <th>dst</th>\n",
       "      <th>distance</th>\n",
       "      <th>src_lat</th>\n",
       "      <th>dst_lat</th>\n",
       "      <th>src_lon</th>\n",
       "      <th>dst_lon</th>\n",
       "      <th>loader</th>\n",
       "      <th>vm_edge</th>\n",
       "      <th>target</th>\n",
       "    </tr>\n",
       "  </thead>\n",
       "  <tbody>\n",
       "    <tr>\n",
       "      <th>0</th>\n",
       "      <td>100009577</td>\n",
       "      <td>345936831</td>\n",
       "      <td>0.254</td>\n",
       "      <td>-12.901954</td>\n",
       "      <td>-12.902051</td>\n",
       "      <td>-38.419582</td>\n",
       "      <td>-38.417114</td>\n",
       "      <td>2.770115</td>\n",
       "      <td>29.946355</td>\n",
       "      <td>normal</td>\n",
       "    </tr>\n",
       "    <tr>\n",
       "      <th>1</th>\n",
       "      <td>100722777</td>\n",
       "      <td>100722778</td>\n",
       "      <td>0.362</td>\n",
       "      <td>-12.899299</td>\n",
       "      <td>-12.896647</td>\n",
       "      <td>-38.407673</td>\n",
       "      <td>-38.408215</td>\n",
       "      <td>18.540541</td>\n",
       "      <td>15.494709</td>\n",
       "      <td>normal</td>\n",
       "    </tr>\n",
       "    <tr>\n",
       "      <th>2</th>\n",
       "      <td>100722777</td>\n",
       "      <td>44782645</td>\n",
       "      <td>1.062</td>\n",
       "      <td>-12.899299</td>\n",
       "      <td>-12.899458</td>\n",
       "      <td>-38.407673</td>\n",
       "      <td>-38.412964</td>\n",
       "      <td>5.820513</td>\n",
       "      <td>10.865240</td>\n",
       "      <td>devagar</td>\n",
       "    </tr>\n",
       "    <tr>\n",
       "      <th>3</th>\n",
       "      <td>100722777</td>\n",
       "      <td>45833440</td>\n",
       "      <td>0.417</td>\n",
       "      <td>-12.899299</td>\n",
       "      <td>-12.896741</td>\n",
       "      <td>-38.407673</td>\n",
       "      <td>-38.408672</td>\n",
       "      <td>23.023810</td>\n",
       "      <td>16.153585</td>\n",
       "      <td>normal</td>\n",
       "    </tr>\n",
       "    <tr>\n",
       "      <th>4</th>\n",
       "      <td>100722777</td>\n",
       "      <td>66771046</td>\n",
       "      <td>0.934</td>\n",
       "      <td>-12.899299</td>\n",
       "      <td>-12.896790</td>\n",
       "      <td>-38.407673</td>\n",
       "      <td>-38.412540</td>\n",
       "      <td>21.500000</td>\n",
       "      <td>14.545003</td>\n",
       "      <td>normal</td>\n",
       "    </tr>\n",
       "  </tbody>\n",
       "</table>\n",
       "</div>"
      ],
      "text/plain": [
       "         src        dst  distance    src_lat    dst_lat    src_lon    dst_lon  \\\n",
       "0  100009577  345936831     0.254 -12.901954 -12.902051 -38.419582 -38.417114   \n",
       "1  100722777  100722778     0.362 -12.899299 -12.896647 -38.407673 -38.408215   \n",
       "2  100722777   44782645     1.062 -12.899299 -12.899458 -38.407673 -38.412964   \n",
       "3  100722777   45833440     0.417 -12.899299 -12.896741 -38.407673 -38.408672   \n",
       "4  100722777   66771046     0.934 -12.899299 -12.896790 -38.407673 -38.412540   \n",
       "\n",
       "      loader    vm_edge   target  \n",
       "0   2.770115  29.946355   normal  \n",
       "1  18.540541  15.494709   normal  \n",
       "2   5.820513  10.865240  devagar  \n",
       "3  23.023810  16.153585   normal  \n",
       "4  21.500000  14.545003   normal  "
      ]
     },
     "execution_count": 13,
     "metadata": {},
     "output_type": "execute_result"
    }
   ],
   "source": [
    "df_edges_features = df_edges_join.copy()\n",
    "df_edges_features.head()"
   ]
  },
  {
   "cell_type": "code",
   "execution_count": 14,
   "id": "7ef9a7e0-8f5c-4d0c-b52a-ecd0b2ef5ad4",
   "metadata": {
    "tags": []
   },
   "outputs": [
    {
     "name": "stdout",
     "output_type": "stream",
     "text": [
      "<class 'pandas.core.frame.DataFrame'>\n",
      "Int64Index: 4445 entries, 0 to 4525\n",
      "Data columns (total 10 columns):\n",
      " #   Column    Non-Null Count  Dtype  \n",
      "---  ------    --------------  -----  \n",
      " 0   src       4445 non-null   object \n",
      " 1   dst       4445 non-null   object \n",
      " 2   distance  4445 non-null   float64\n",
      " 3   src_lat   4445 non-null   float64\n",
      " 4   dst_lat   4445 non-null   float64\n",
      " 5   src_lon   4445 non-null   float64\n",
      " 6   dst_lon   4445 non-null   float64\n",
      " 7   loader    4445 non-null   float64\n",
      " 8   vm_edge   4445 non-null   float64\n",
      " 9   target    4445 non-null   object \n",
      "dtypes: float64(7), object(3)\n",
      "memory usage: 382.0+ KB\n"
     ]
    }
   ],
   "source": [
    "df_edges_features.info()"
   ]
  },
  {
   "cell_type": "code",
   "execution_count": 15,
   "id": "8e6fa57d-8a41-4cc8-a7c5-69a995b073c5",
   "metadata": {
    "tags": []
   },
   "outputs": [
    {
     "data": {
      "text/plain": [
       "(0, 10)"
      ]
     },
     "execution_count": 15,
     "metadata": {},
     "output_type": "execute_result"
    }
   ],
   "source": [
    "df_edges_features[df_edges_features.distance.isna()].shape"
   ]
  },
  {
   "cell_type": "code",
   "execution_count": 16,
   "id": "711d1a48-3628-4f92-ba0c-6fa2c2a3adcc",
   "metadata": {
    "tags": []
   },
   "outputs": [
    {
     "data": {
      "text/plain": [
       "normal     2991\n",
       "fluido      779\n",
       "devagar     675\n",
       "Name: target, dtype: int64"
      ]
     },
     "execution_count": 16,
     "metadata": {},
     "output_type": "execute_result"
    }
   ],
   "source": [
    "df_edges_features.target.value_counts(dropna=False)"
   ]
  },
  {
   "cell_type": "code",
   "execution_count": 17,
   "id": "a6d9aeb8-32c2-4f2f-b8af-e63705184b3b",
   "metadata": {
    "tags": []
   },
   "outputs": [
    {
     "data": {
      "text/plain": [
       "((4445, 10), (2833, 9))"
      ]
     },
     "execution_count": 17,
     "metadata": {},
     "output_type": "execute_result"
    }
   ],
   "source": [
    "df_edges_features.shape, df_node_features.shape"
   ]
  },
  {
   "cell_type": "markdown",
   "id": "d4bb3857-ed7f-4ca7-b369-eb0372b9ade9",
   "metadata": {},
   "source": [
    "### Pre-processing"
   ]
  },
  {
   "cell_type": "code",
   "execution_count": 18,
   "id": "f4ed76f0-d6e9-499b-a5b3-822014485833",
   "metadata": {
    "tags": []
   },
   "outputs": [
    {
     "data": {
      "text/html": [
       "<div>\n",
       "<style scoped>\n",
       "    .dataframe tbody tr th:only-of-type {\n",
       "        vertical-align: middle;\n",
       "    }\n",
       "\n",
       "    .dataframe tbody tr th {\n",
       "        vertical-align: top;\n",
       "    }\n",
       "\n",
       "    .dataframe thead th {\n",
       "        text-align: right;\n",
       "    }\n",
       "</style>\n",
       "<table border=\"1\" class=\"dataframe\">\n",
       "  <thead>\n",
       "    <tr style=\"text-align: right;\">\n",
       "      <th></th>\n",
       "      <th>src</th>\n",
       "      <th>dst</th>\n",
       "      <th>distance</th>\n",
       "      <th>src_lat</th>\n",
       "      <th>dst_lat</th>\n",
       "      <th>src_lon</th>\n",
       "      <th>dst_lon</th>\n",
       "      <th>loader</th>\n",
       "      <th>target</th>\n",
       "    </tr>\n",
       "  </thead>\n",
       "  <tbody>\n",
       "    <tr>\n",
       "      <th>0</th>\n",
       "      <td>100009577</td>\n",
       "      <td>345936831</td>\n",
       "      <td>0.254</td>\n",
       "      <td>-12.901954</td>\n",
       "      <td>-12.902051</td>\n",
       "      <td>-38.419582</td>\n",
       "      <td>-38.417114</td>\n",
       "      <td>2.770115</td>\n",
       "      <td>normal</td>\n",
       "    </tr>\n",
       "    <tr>\n",
       "      <th>1</th>\n",
       "      <td>100722777</td>\n",
       "      <td>100722778</td>\n",
       "      <td>0.362</td>\n",
       "      <td>-12.899299</td>\n",
       "      <td>-12.896647</td>\n",
       "      <td>-38.407673</td>\n",
       "      <td>-38.408215</td>\n",
       "      <td>18.540541</td>\n",
       "      <td>normal</td>\n",
       "    </tr>\n",
       "    <tr>\n",
       "      <th>2</th>\n",
       "      <td>100722777</td>\n",
       "      <td>44782645</td>\n",
       "      <td>1.062</td>\n",
       "      <td>-12.899299</td>\n",
       "      <td>-12.899458</td>\n",
       "      <td>-38.407673</td>\n",
       "      <td>-38.412964</td>\n",
       "      <td>5.820513</td>\n",
       "      <td>devagar</td>\n",
       "    </tr>\n",
       "    <tr>\n",
       "      <th>3</th>\n",
       "      <td>100722777</td>\n",
       "      <td>45833440</td>\n",
       "      <td>0.417</td>\n",
       "      <td>-12.899299</td>\n",
       "      <td>-12.896741</td>\n",
       "      <td>-38.407673</td>\n",
       "      <td>-38.408672</td>\n",
       "      <td>23.023810</td>\n",
       "      <td>normal</td>\n",
       "    </tr>\n",
       "    <tr>\n",
       "      <th>4</th>\n",
       "      <td>100722777</td>\n",
       "      <td>66771046</td>\n",
       "      <td>0.934</td>\n",
       "      <td>-12.899299</td>\n",
       "      <td>-12.896790</td>\n",
       "      <td>-38.407673</td>\n",
       "      <td>-38.412540</td>\n",
       "      <td>21.500000</td>\n",
       "      <td>normal</td>\n",
       "    </tr>\n",
       "  </tbody>\n",
       "</table>\n",
       "</div>"
      ],
      "text/plain": [
       "         src        dst  distance    src_lat    dst_lat    src_lon    dst_lon  \\\n",
       "0  100009577  345936831     0.254 -12.901954 -12.902051 -38.419582 -38.417114   \n",
       "1  100722777  100722778     0.362 -12.899299 -12.896647 -38.407673 -38.408215   \n",
       "2  100722777   44782645     1.062 -12.899299 -12.899458 -38.407673 -38.412964   \n",
       "3  100722777   45833440     0.417 -12.899299 -12.896741 -38.407673 -38.408672   \n",
       "4  100722777   66771046     0.934 -12.899299 -12.896790 -38.407673 -38.412540   \n",
       "\n",
       "      loader   target  \n",
       "0   2.770115   normal  \n",
       "1  18.540541   normal  \n",
       "2   5.820513  devagar  \n",
       "3  23.023810   normal  \n",
       "4  21.500000   normal  "
      ]
     },
     "execution_count": 18,
     "metadata": {},
     "output_type": "execute_result"
    }
   ],
   "source": [
    "df_node_features = df_node_features.drop(['vm', 'target'], axis=1)\n",
    "df_node_features = df_node_features.rename({'ponto': 'leg_pos'}, axis=1)\n",
    "df_node_features = df_node_features.astype({'leg_pos': str})\n",
    "\n",
    "df_edges_features = df_edges_features.drop(['vm_edge'], axis=1)\n",
    "df_edges_features.head()"
   ]
  },
  {
   "cell_type": "code",
   "execution_count": 19,
   "id": "2d34ba8e-601d-4a2a-99dc-44a0958e965c",
   "metadata": {
    "tags": []
   },
   "outputs": [
    {
     "data": {
      "text/html": [
       "<div>\n",
       "<style scoped>\n",
       "    .dataframe tbody tr th:only-of-type {\n",
       "        vertical-align: middle;\n",
       "    }\n",
       "\n",
       "    .dataframe tbody tr th {\n",
       "        vertical-align: top;\n",
       "    }\n",
       "\n",
       "    .dataframe thead th {\n",
       "        text-align: right;\n",
       "    }\n",
       "</style>\n",
       "<table border=\"1\" class=\"dataframe\">\n",
       "  <thead>\n",
       "    <tr style=\"text-align: right;\">\n",
       "      <th></th>\n",
       "      <th>leg_pos</th>\n",
       "      <th>carregamento</th>\n",
       "      <th>desce</th>\n",
       "      <th>linha</th>\n",
       "      <th>sobe</th>\n",
       "      <th>trip_id</th>\n",
       "      <th>veiculo</th>\n",
       "    </tr>\n",
       "  </thead>\n",
       "  <tbody>\n",
       "    <tr>\n",
       "      <th>0</th>\n",
       "      <td>100009577</td>\n",
       "      <td>0.946667</td>\n",
       "      <td>0.026667</td>\n",
       "      <td>1.080000</td>\n",
       "      <td>0.480000</td>\n",
       "      <td>1.106667</td>\n",
       "      <td>1.093333</td>\n",
       "    </tr>\n",
       "    <tr>\n",
       "      <th>1</th>\n",
       "      <td>100722777</td>\n",
       "      <td>22.069444</td>\n",
       "      <td>5.222222</td>\n",
       "      <td>1.666667</td>\n",
       "      <td>4.840278</td>\n",
       "      <td>1.750000</td>\n",
       "      <td>1.750000</td>\n",
       "    </tr>\n",
       "    <tr>\n",
       "      <th>2</th>\n",
       "      <td>100722778</td>\n",
       "      <td>21.402516</td>\n",
       "      <td>1.666667</td>\n",
       "      <td>1.773585</td>\n",
       "      <td>0.081761</td>\n",
       "      <td>2.056604</td>\n",
       "      <td>2.056604</td>\n",
       "    </tr>\n",
       "    <tr>\n",
       "      <th>3</th>\n",
       "      <td>101214305</td>\n",
       "      <td>7.982759</td>\n",
       "      <td>4.465517</td>\n",
       "      <td>1.000000</td>\n",
       "      <td>0.620690</td>\n",
       "      <td>1.000000</td>\n",
       "      <td>1.000000</td>\n",
       "    </tr>\n",
       "    <tr>\n",
       "      <th>4</th>\n",
       "      <td>101269104</td>\n",
       "      <td>77.882653</td>\n",
       "      <td>16.591837</td>\n",
       "      <td>4.540816</td>\n",
       "      <td>10.285714</td>\n",
       "      <td>5.520408</td>\n",
       "      <td>5.520408</td>\n",
       "    </tr>\n",
       "  </tbody>\n",
       "</table>\n",
       "</div>"
      ],
      "text/plain": [
       "     leg_pos  carregamento      desce     linha       sobe   trip_id   veiculo\n",
       "0  100009577      0.946667   0.026667  1.080000   0.480000  1.106667  1.093333\n",
       "1  100722777     22.069444   5.222222  1.666667   4.840278  1.750000  1.750000\n",
       "2  100722778     21.402516   1.666667  1.773585   0.081761  2.056604  2.056604\n",
       "3  101214305      7.982759   4.465517  1.000000   0.620690  1.000000  1.000000\n",
       "4  101269104     77.882653  16.591837  4.540816  10.285714  5.520408  5.520408"
      ]
     },
     "execution_count": 19,
     "metadata": {},
     "output_type": "execute_result"
    }
   ],
   "source": [
    "df_node_features.head()"
   ]
  },
  {
   "cell_type": "code",
   "execution_count": 20,
   "id": "b0dbdf3d-5789-40cd-bfd4-fe7d3d40afa8",
   "metadata": {
    "tags": []
   },
   "outputs": [],
   "source": [
    "# columns to select as features\n",
    "features_cols = ['carregamento', 'desce', 'linha', 'sobe', 'trip_id', 'veiculo']"
   ]
  },
  {
   "cell_type": "code",
   "execution_count": 21,
   "id": "c9afb6a2-abe0-46bc-a47f-ffae655c5798",
   "metadata": {
    "tags": []
   },
   "outputs": [
    {
     "data": {
      "text/html": [
       "<div>\n",
       "<style scoped>\n",
       "    .dataframe tbody tr th:only-of-type {\n",
       "        vertical-align: middle;\n",
       "    }\n",
       "\n",
       "    .dataframe tbody tr th {\n",
       "        vertical-align: top;\n",
       "    }\n",
       "\n",
       "    .dataframe thead th {\n",
       "        text-align: right;\n",
       "    }\n",
       "</style>\n",
       "<table border=\"1\" class=\"dataframe\">\n",
       "  <thead>\n",
       "    <tr style=\"text-align: right;\">\n",
       "      <th></th>\n",
       "      <th>pos1</th>\n",
       "      <th>pos2</th>\n",
       "      <th>weight</th>\n",
       "      <th>src_lat</th>\n",
       "      <th>dst_lat</th>\n",
       "      <th>src_lon</th>\n",
       "      <th>dst_lon</th>\n",
       "      <th>loader</th>\n",
       "      <th>target</th>\n",
       "    </tr>\n",
       "  </thead>\n",
       "  <tbody>\n",
       "    <tr>\n",
       "      <th>0</th>\n",
       "      <td>100009577</td>\n",
       "      <td>345936831</td>\n",
       "      <td>0.254</td>\n",
       "      <td>-12.901954</td>\n",
       "      <td>-12.902051</td>\n",
       "      <td>-38.419582</td>\n",
       "      <td>-38.417114</td>\n",
       "      <td>2.770115</td>\n",
       "      <td>normal</td>\n",
       "    </tr>\n",
       "    <tr>\n",
       "      <th>1</th>\n",
       "      <td>100722777</td>\n",
       "      <td>100722778</td>\n",
       "      <td>0.362</td>\n",
       "      <td>-12.899299</td>\n",
       "      <td>-12.896647</td>\n",
       "      <td>-38.407673</td>\n",
       "      <td>-38.408215</td>\n",
       "      <td>18.540541</td>\n",
       "      <td>normal</td>\n",
       "    </tr>\n",
       "    <tr>\n",
       "      <th>2</th>\n",
       "      <td>100722777</td>\n",
       "      <td>44782645</td>\n",
       "      <td>1.062</td>\n",
       "      <td>-12.899299</td>\n",
       "      <td>-12.899458</td>\n",
       "      <td>-38.407673</td>\n",
       "      <td>-38.412964</td>\n",
       "      <td>5.820513</td>\n",
       "      <td>devagar</td>\n",
       "    </tr>\n",
       "    <tr>\n",
       "      <th>3</th>\n",
       "      <td>100722777</td>\n",
       "      <td>45833440</td>\n",
       "      <td>0.417</td>\n",
       "      <td>-12.899299</td>\n",
       "      <td>-12.896741</td>\n",
       "      <td>-38.407673</td>\n",
       "      <td>-38.408672</td>\n",
       "      <td>23.023810</td>\n",
       "      <td>normal</td>\n",
       "    </tr>\n",
       "    <tr>\n",
       "      <th>4</th>\n",
       "      <td>100722777</td>\n",
       "      <td>66771046</td>\n",
       "      <td>0.934</td>\n",
       "      <td>-12.899299</td>\n",
       "      <td>-12.896790</td>\n",
       "      <td>-38.407673</td>\n",
       "      <td>-38.412540</td>\n",
       "      <td>21.500000</td>\n",
       "      <td>normal</td>\n",
       "    </tr>\n",
       "  </tbody>\n",
       "</table>\n",
       "</div>"
      ],
      "text/plain": [
       "        pos1       pos2  weight    src_lat    dst_lat    src_lon    dst_lon  \\\n",
       "0  100009577  345936831   0.254 -12.901954 -12.902051 -38.419582 -38.417114   \n",
       "1  100722777  100722778   0.362 -12.899299 -12.896647 -38.407673 -38.408215   \n",
       "2  100722777   44782645   1.062 -12.899299 -12.899458 -38.407673 -38.412964   \n",
       "3  100722777   45833440   0.417 -12.899299 -12.896741 -38.407673 -38.408672   \n",
       "4  100722777   66771046   0.934 -12.899299 -12.896790 -38.407673 -38.412540   \n",
       "\n",
       "      loader   target  \n",
       "0   2.770115   normal  \n",
       "1  18.540541   normal  \n",
       "2   5.820513  devagar  \n",
       "3  23.023810   normal  \n",
       "4  21.500000   normal  "
      ]
     },
     "execution_count": 21,
     "metadata": {},
     "output_type": "execute_result"
    }
   ],
   "source": [
    "df_edges_features = df_edges_features.rename({'src': 'pos1', 'dst': 'pos2', 'distance': 'weight'}, axis=1)\n",
    "df_edges_features = df_edges_features.astype({'pos1': str, 'pos2': str})\n",
    "df_edges_features.head()"
   ]
  },
  {
   "cell_type": "code",
   "execution_count": 22,
   "id": "8e35a9aa-d54e-4a2f-9eb9-ba1341ae0f82",
   "metadata": {
    "tags": []
   },
   "outputs": [
    {
     "name": "stderr",
     "output_type": "stream",
     "text": [
      "100% 2833/2833 [00:10<00:00, 266.38it/s]\n"
     ]
    }
   ],
   "source": [
    "x, edge_labels, edge_index, edge_weights, pos =  pre_processing(df_edges_features, \n",
    "                                                          df_node_features, \n",
    "                                                          features_cols,\n",
    "                                                          col_target='target', \n",
    "                                                          col_edges=['weight'])"
   ]
  },
  {
   "cell_type": "markdown",
   "id": "eaa9f13e-0ecf-437c-835f-73dd068de5a8",
   "metadata": {},
   "source": [
    "### One hot encoding"
   ]
  },
  {
   "cell_type": "code",
   "execution_count": 23,
   "id": "69bdd996-ab9c-4b8e-af79-45df0bef4fdb",
   "metadata": {
    "tags": []
   },
   "outputs": [
    {
     "data": {
      "text/plain": [
       "torch.Size([4341, 3])"
      ]
     },
     "execution_count": 23,
     "metadata": {},
     "output_type": "execute_result"
    }
   ],
   "source": [
    "edge_labels_ohe = torch.nn.functional.one_hot(edge_labels).float()\n",
    "edge_labels_ohe.shape"
   ]
  },
  {
   "cell_type": "code",
   "execution_count": 24,
   "id": "c3818d8c-6632-4fe0-b0ab-9c8cdf73aeee",
   "metadata": {
    "tags": []
   },
   "outputs": [
    {
     "data": {
      "text/plain": [
       "(torch.Size([4341, 3]), torch.Size([4341]))"
      ]
     },
     "execution_count": 24,
     "metadata": {},
     "output_type": "execute_result"
    }
   ],
   "source": [
    "edge_labels_ohe.shape, edge_labels.shape"
   ]
  },
  {
   "cell_type": "code",
   "execution_count": 25,
   "id": "38ec4d19-20b5-4e0c-ac53-7b0d8c3c9ea2",
   "metadata": {
    "tags": []
   },
   "outputs": [],
   "source": [
    "edge_labels = edge_labels_ohe.float()"
   ]
  },
  {
   "cell_type": "markdown",
   "id": "9232af76-1f3a-4ec6-8cd1-18490f04d916",
   "metadata": {},
   "source": [
    "## Create K fold and save data"
   ]
  },
  {
   "cell_type": "code",
   "execution_count": 26,
   "id": "12d54305-dddd-491e-ab71-0ae219b8f833",
   "metadata": {
    "tags": []
   },
   "outputs": [
    {
     "data": {
      "text/plain": [
       "(torch.Size([4341, 2]), torch.Size([4341, 3]), torch.Size([4341, 1]))"
      ]
     },
     "execution_count": 26,
     "metadata": {},
     "output_type": "execute_result"
    }
   ],
   "source": [
    "# Shape: [num_edges, 2], [num_edges], [num_edges]\n",
    "edge_index.shape, edge_labels.shape, edge_weights.shape  "
   ]
  },
  {
   "cell_type": "code",
   "execution_count": 27,
   "id": "35925ebe-dfa5-4249-b62b-9316d1be5de6",
   "metadata": {
    "tags": []
   },
   "outputs": [
    {
     "data": {
      "text/plain": [
       "(4341, 2)"
      ]
     },
     "execution_count": 27,
     "metadata": {},
     "output_type": "execute_result"
    }
   ],
   "source": [
    "edge_index_np = edge_index.numpy()  \n",
    "edge_labels_np = edge_labels.numpy()  \n",
    "edge_weights_np = edge_weights.numpy() \n",
    "edge_index_np.shape"
   ]
  },
  {
   "cell_type": "code",
   "execution_count": 28,
   "id": "8bdd971f-9f72-4789-b18b-1e63d3b17f8f",
   "metadata": {
    "collapsed": true,
    "jupyter": {
     "outputs_hidden": true
    },
    "tags": []
   },
   "outputs": [
    {
     "name": "stdout",
     "output_type": "stream",
     "text": [
      "Fold 1\n",
      "Train data: Data(x=[2833, 6], edge_index=[2, 3906], edge_attr=[3906, 1], edge_label=[3906, 3])\n",
      "Test data: Data(x=[2833, 6], edge_index=[2, 435], edge_attr=[435, 1], edge_label=[435, 3])\n",
      "\n",
      "Number os class: tensor([2, 2, 2, 2, 2, 2, 2, 1, 0, 2, 2, 2, 2, 2, 2, 2, 1, 1, 1, 1, 0, 2, 0, 2,\n",
      "        2, 2, 2, 2, 2, 0, 2, 2, 2, 2, 0, 2, 2, 2, 2, 2, 2, 2, 2, 2, 2, 2, 0, 2,\n",
      "        2, 2, 2, 2, 2, 2, 2, 1, 2, 1, 2, 2, 2, 2, 0, 0, 2, 1, 2, 2, 0, 2, 2, 2,\n",
      "        2, 2, 2, 2, 2, 2, 2, 1, 2, 0, 2, 0, 2, 1, 1, 2, 1, 0, 2, 2, 2, 2, 2, 2,\n",
      "        2, 2, 2, 2, 2, 1, 2, 1, 0, 2, 1, 2, 2, 1, 2, 2, 2, 2, 2, 2, 0, 1, 2, 0,\n",
      "        2, 2, 1, 1, 2, 2, 1, 0, 2, 2, 0, 2, 2, 2, 2, 2, 2, 2, 2, 0, 2, 1, 2, 1,\n",
      "        2, 2, 1, 2, 1, 2, 2, 2, 1, 2, 2, 1, 1, 2, 2, 2, 2, 2, 2, 0, 2, 1, 2, 2,\n",
      "        2, 2, 2, 1, 2, 1, 2, 2, 0, 2, 2, 0, 2, 1, 2, 2, 0, 2, 2, 2, 2, 2, 2, 2,\n",
      "        2, 1, 0, 2, 0, 2, 2, 0, 2, 2, 2, 0, 2, 2, 2, 2, 0, 1, 0, 2, 2, 2, 2, 1,\n",
      "        2, 2, 2, 2, 1, 2, 2, 2, 1, 2, 1, 2, 2, 1, 2, 0, 2, 2, 2, 1, 0, 2, 0, 2,\n",
      "        0, 0, 1, 2, 2, 2, 2, 1, 2, 2, 2, 2, 2, 0, 2, 0, 0, 2, 2, 0, 1, 2, 1, 2,\n",
      "        2, 2, 2, 2, 1, 1, 2, 2, 1, 2, 2, 2, 0, 2, 0, 0, 0, 1, 1, 1, 0, 2, 2, 2,\n",
      "        1, 2, 2, 2, 2, 2, 2, 2, 2, 2, 2, 2, 1, 2, 0, 2, 2, 2, 0, 1, 2, 1, 2, 2,\n",
      "        2, 2, 2, 0, 0, 2, 2, 2, 0, 2, 2, 2, 1, 1, 0, 2, 2, 2, 0, 2, 0, 2, 2, 0,\n",
      "        2, 1, 2, 1, 2, 2, 1, 2, 0, 2, 2, 0, 2, 2, 2, 2, 1, 2, 2, 0, 0, 2, 2, 2,\n",
      "        2, 1, 2, 1, 1, 2, 2, 2, 2, 1, 2, 1, 0, 2, 2, 0, 2, 2, 2, 2, 2, 2, 1, 2,\n",
      "        2, 1, 2, 1, 2, 2, 2, 0, 0, 2, 2, 2, 2, 1, 2, 1, 2, 2, 1, 2, 2, 2, 0, 2,\n",
      "        1, 2, 2, 2, 2, 1, 2, 1, 2, 2, 2, 2, 1, 1, 0, 2, 2, 1, 2, 0, 1, 0, 0, 0,\n",
      "        0, 2, 2])\n",
      "\n",
      "Fold 2\n",
      "Train data: Data(x=[2833, 6], edge_index=[2, 3907], edge_attr=[3907, 1], edge_label=[3907, 3])\n",
      "Test data: Data(x=[2833, 6], edge_index=[2, 434], edge_attr=[434, 1], edge_label=[434, 3])\n",
      "\n",
      "Number os class: tensor([2, 0, 2, 2, 2, 1, 2, 2, 2, 2, 1, 1, 2, 0, 2, 2, 2, 2, 2, 1, 2, 0, 2, 2,\n",
      "        1, 2, 0, 0, 2, 2, 2, 2, 0, 2, 2, 2, 2, 2, 2, 2, 2, 2, 2, 1, 2, 2, 2, 2,\n",
      "        2, 2, 2, 1, 0, 2, 2, 2, 2, 2, 2, 1, 1, 2, 2, 2, 1, 2, 2, 0, 2, 2, 2, 2,\n",
      "        2, 2, 0, 2, 1, 2, 2, 1, 2, 2, 2, 1, 0, 2, 2, 2, 2, 2, 2, 1, 2, 2, 2, 2,\n",
      "        2, 2, 2, 2, 2, 0, 1, 2, 2, 2, 2, 2, 2, 0, 1, 0, 2, 2, 2, 2, 2, 2, 2, 1,\n",
      "        2, 2, 2, 2, 2, 2, 2, 2, 2, 1, 1, 2, 0, 2, 2, 2, 2, 2, 2, 1, 2, 2, 1, 2,\n",
      "        2, 2, 2, 2, 2, 2, 2, 2, 1, 2, 1, 2, 2, 2, 2, 2, 1, 2, 2, 1, 1, 1, 2, 1,\n",
      "        2, 2, 0, 2, 2, 1, 1, 1, 2, 1, 2, 2, 1, 2, 2, 2, 2, 2, 2, 2, 2, 2, 1, 1,\n",
      "        2, 2, 2, 0, 2, 2, 2, 2, 2, 2, 2, 0, 2, 0, 2, 2, 2, 2, 2, 2, 1, 2, 0, 2,\n",
      "        2, 2, 2, 2, 1, 2, 2, 2, 2, 2, 2, 1, 2, 0, 2, 2, 2, 2, 2, 2, 0, 0, 2, 1,\n",
      "        0, 2, 1, 1, 2, 2, 2, 1, 2, 1, 2, 2, 2, 2, 0, 2, 1, 2, 2, 2, 2, 2, 0, 2,\n",
      "        2, 2, 0, 1, 2, 1, 0, 0, 2, 2, 2, 2, 2, 2, 2, 2, 0, 2, 1, 0, 0, 2, 1, 0,\n",
      "        1, 2, 2, 0, 1, 2, 1, 1, 1, 1, 2, 2, 1, 1, 2, 1, 1, 2, 2, 2, 2, 2, 2, 2,\n",
      "        2, 1, 2, 2, 0, 2, 2, 2, 2, 2, 2, 2, 2, 2, 2, 2, 2, 2, 0, 2, 1, 2, 2, 2,\n",
      "        2, 2, 2, 1, 0, 2, 2, 0, 2, 2, 2, 2, 2, 2, 2, 1, 0, 2, 2, 2, 1, 1, 1, 0,\n",
      "        2, 2, 0, 2, 2, 2, 2, 2, 2, 2, 2, 2, 2, 2, 0, 0, 2, 2, 2, 1, 2, 2, 2, 1,\n",
      "        2, 1, 2, 0, 1, 1, 2, 0, 2, 2, 1, 2, 2, 2, 2, 2, 2, 2, 2, 2, 2, 0, 2, 1,\n",
      "        2, 1, 0, 2, 2, 2, 2, 2, 0, 2, 1, 0, 1, 2, 1, 0, 2, 2, 0, 2, 2, 2, 1, 1,\n",
      "        2, 2])\n",
      "\n",
      "Fold 3\n",
      "Train data: Data(x=[2833, 6], edge_index=[2, 3907], edge_attr=[3907, 1], edge_label=[3907, 3])\n",
      "Test data: Data(x=[2833, 6], edge_index=[2, 434], edge_attr=[434, 1], edge_label=[434, 3])\n",
      "\n",
      "Number os class: tensor([2, 2, 2, 0, 2, 1, 2, 2, 1, 2, 0, 2, 2, 1, 1, 2, 2, 1, 2, 0, 0, 2, 2, 2,\n",
      "        2, 1, 2, 0, 0, 0, 0, 2, 2, 2, 2, 2, 2, 0, 2, 2, 0, 0, 2, 1, 0, 2, 2, 2,\n",
      "        2, 2, 2, 2, 1, 0, 2, 0, 1, 0, 2, 2, 2, 2, 2, 0, 2, 2, 2, 2, 2, 2, 0, 2,\n",
      "        2, 2, 1, 2, 2, 2, 0, 2, 2, 2, 1, 0, 1, 2, 0, 0, 0, 2, 1, 1, 2, 1, 2, 2,\n",
      "        2, 0, 2, 1, 2, 2, 0, 1, 2, 2, 2, 1, 2, 2, 1, 1, 2, 0, 2, 1, 1, 2, 2, 2,\n",
      "        2, 0, 2, 2, 0, 2, 2, 0, 2, 2, 2, 2, 2, 2, 0, 2, 0, 2, 1, 0, 2, 2, 2, 2,\n",
      "        2, 1, 1, 2, 1, 2, 2, 2, 2, 2, 2, 2, 2, 2, 0, 2, 1, 2, 2, 1, 2, 0, 0, 2,\n",
      "        2, 0, 2, 2, 2, 2, 2, 2, 2, 2, 2, 2, 0, 2, 2, 1, 2, 2, 2, 2, 2, 2, 2, 2,\n",
      "        2, 2, 2, 2, 1, 2, 2, 1, 2, 2, 2, 2, 0, 2, 1, 2, 0, 2, 2, 2, 2, 1, 2, 2,\n",
      "        2, 2, 2, 2, 2, 2, 2, 2, 1, 0, 2, 2, 2, 2, 2, 2, 2, 2, 2, 2, 2, 2, 2, 2,\n",
      "        2, 2, 0, 1, 2, 2, 2, 2, 2, 2, 0, 2, 2, 1, 2, 2, 2, 0, 2, 2, 2, 2, 2, 2,\n",
      "        0, 2, 1, 2, 2, 1, 2, 2, 0, 2, 2, 2, 1, 2, 2, 0, 2, 2, 0, 1, 1, 2, 2, 0,\n",
      "        2, 2, 2, 2, 0, 2, 2, 2, 2, 2, 1, 2, 2, 2, 2, 2, 2, 2, 1, 2, 1, 2, 0, 1,\n",
      "        1, 1, 1, 2, 0, 2, 0, 2, 0, 1, 1, 2, 2, 2, 2, 2, 2, 1, 2, 2, 2, 0, 2, 0,\n",
      "        2, 2, 1, 2, 2, 2, 2, 2, 1, 2, 2, 2, 2, 2, 2, 1, 2, 2, 0, 0, 2, 2, 2, 2,\n",
      "        1, 2, 2, 2, 1, 2, 0, 2, 0, 0, 0, 2, 2, 2, 1, 0, 2, 2, 2, 2, 2, 0, 2, 0,\n",
      "        2, 2, 2, 1, 2, 1, 1, 1, 2, 2, 1, 2, 1, 2, 2, 0, 0, 2, 2, 2, 2, 2, 2, 1,\n",
      "        2, 2, 0, 2, 2, 1, 2, 2, 2, 2, 2, 1, 1, 1, 1, 2, 2, 1, 1, 1, 2, 2, 1, 2,\n",
      "        1, 2])\n",
      "\n",
      "Fold 4\n",
      "Train data: Data(x=[2833, 6], edge_index=[2, 3907], edge_attr=[3907, 1], edge_label=[3907, 3])\n",
      "Test data: Data(x=[2833, 6], edge_index=[2, 434], edge_attr=[434, 1], edge_label=[434, 3])\n",
      "\n",
      "Number os class: tensor([1, 2, 2, 2, 2, 2, 1, 0, 2, 2, 2, 1, 2, 0, 2, 2, 1, 0, 2, 2, 2, 2, 2, 2,\n",
      "        2, 2, 2, 2, 2, 2, 2, 2, 2, 2, 2, 2, 2, 2, 2, 2, 2, 0, 2, 0, 2, 2, 1, 1,\n",
      "        2, 2, 0, 2, 0, 0, 1, 2, 2, 2, 2, 0, 0, 2, 2, 1, 1, 2, 2, 2, 1, 2, 2, 2,\n",
      "        2, 2, 2, 1, 1, 2, 2, 2, 1, 2, 1, 1, 2, 2, 1, 1, 2, 1, 2, 1, 1, 2, 2, 0,\n",
      "        2, 2, 1, 2, 2, 2, 1, 2, 2, 0, 0, 2, 1, 2, 1, 2, 1, 2, 2, 2, 0, 2, 0, 2,\n",
      "        2, 2, 2, 1, 0, 0, 2, 0, 2, 2, 2, 0, 2, 2, 0, 0, 2, 2, 2, 0, 2, 0, 2, 1,\n",
      "        2, 2, 2, 1, 2, 0, 2, 2, 2, 0, 1, 2, 1, 2, 2, 2, 2, 2, 1, 2, 0, 2, 2, 1,\n",
      "        1, 2, 2, 2, 1, 2, 2, 2, 2, 2, 2, 2, 2, 1, 1, 2, 0, 0, 0, 2, 2, 0, 0, 0,\n",
      "        2, 2, 2, 2, 0, 2, 2, 2, 2, 2, 2, 2, 0, 2, 1, 2, 2, 2, 2, 2, 2, 2, 0, 2,\n",
      "        2, 2, 0, 2, 0, 1, 2, 2, 1, 2, 2, 2, 1, 2, 1, 2, 2, 1, 1, 0, 2, 2, 1, 2,\n",
      "        2, 2, 2, 1, 2, 2, 0, 1, 0, 2, 1, 1, 2, 1, 2, 0, 2, 1, 1, 2, 2, 0, 2, 2,\n",
      "        2, 1, 2, 0, 0, 2, 0, 2, 1, 1, 2, 1, 2, 2, 0, 2, 2, 2, 0, 0, 2, 2, 0, 2,\n",
      "        0, 2, 1, 2, 0, 2, 2, 2, 2, 2, 0, 2, 2, 2, 2, 2, 2, 2, 2, 2, 0, 2, 2, 2,\n",
      "        2, 1, 2, 1, 1, 0, 2, 1, 2, 2, 2, 2, 2, 2, 2, 2, 2, 2, 2, 2, 2, 0, 0, 2,\n",
      "        2, 2, 1, 2, 2, 2, 2, 2, 1, 2, 2, 2, 2, 0, 2, 2, 1, 2, 2, 2, 0, 2, 1, 2,\n",
      "        2, 2, 2, 2, 2, 2, 2, 2, 0, 0, 2, 1, 2, 2, 1, 2, 1, 2, 2, 1, 2, 2, 2, 2,\n",
      "        2, 2, 2, 2, 2, 2, 2, 2, 2, 2, 2, 2, 2, 2, 2, 2, 2, 2, 2, 2, 2, 2, 1, 1,\n",
      "        2, 1, 2, 0, 2, 0, 1, 1, 2, 2, 2, 1, 1, 0, 2, 2, 1, 2, 2, 1, 2, 2, 2, 2,\n",
      "        2, 2])\n",
      "\n",
      "Fold 5\n",
      "Train data: Data(x=[2833, 6], edge_index=[2, 3907], edge_attr=[3907, 1], edge_label=[3907, 3])\n",
      "Test data: Data(x=[2833, 6], edge_index=[2, 434], edge_attr=[434, 1], edge_label=[434, 3])\n",
      "\n",
      "Number os class: tensor([1, 2, 2, 2, 1, 2, 1, 2, 1, 2, 2, 2, 0, 2, 2, 2, 2, 2, 2, 1, 2, 1, 2, 2,\n",
      "        2, 2, 1, 2, 1, 2, 0, 2, 2, 2, 2, 2, 2, 2, 2, 2, 2, 2, 1, 0, 0, 2, 2, 2,\n",
      "        2, 2, 1, 1, 2, 2, 1, 2, 2, 0, 1, 2, 2, 2, 1, 1, 1, 1, 2, 2, 2, 2, 2, 2,\n",
      "        2, 2, 0, 0, 2, 1, 2, 2, 0, 2, 2, 1, 2, 2, 2, 2, 2, 2, 1, 1, 2, 1, 2, 2,\n",
      "        2, 2, 1, 2, 2, 1, 2, 2, 2, 2, 0, 2, 2, 0, 0, 2, 2, 2, 2, 0, 2, 2, 0, 2,\n",
      "        2, 2, 1, 2, 2, 2, 2, 2, 0, 2, 2, 2, 2, 2, 0, 1, 2, 2, 1, 2, 1, 2, 1, 1,\n",
      "        2, 1, 0, 2, 2, 2, 2, 2, 2, 2, 2, 2, 2, 2, 0, 0, 2, 2, 2, 2, 2, 2, 2, 1,\n",
      "        0, 2, 0, 2, 0, 2, 2, 1, 2, 2, 1, 2, 2, 2, 2, 2, 0, 1, 2, 1, 2, 1, 2, 0,\n",
      "        2, 0, 2, 2, 2, 1, 1, 2, 2, 2, 1, 2, 2, 0, 2, 1, 2, 2, 0, 2, 1, 2, 2, 2,\n",
      "        2, 2, 2, 2, 0, 2, 1, 0, 2, 2, 2, 2, 1, 1, 1, 0, 2, 2, 2, 2, 1, 1, 0, 1,\n",
      "        2, 2, 2, 2, 2, 2, 2, 1, 2, 0, 2, 2, 2, 2, 2, 2, 2, 2, 2, 2, 2, 2, 2, 2,\n",
      "        2, 2, 2, 2, 2, 2, 0, 0, 2, 2, 0, 2, 2, 2, 1, 2, 0, 2, 2, 0, 2, 2, 2, 1,\n",
      "        2, 2, 2, 2, 2, 2, 0, 2, 1, 1, 2, 2, 0, 2, 2, 2, 0, 2, 1, 2, 1, 1, 1, 2,\n",
      "        0, 2, 0, 1, 2, 0, 2, 2, 2, 0, 2, 2, 2, 1, 2, 2, 2, 2, 2, 2, 1, 0, 2, 2,\n",
      "        2, 2, 2, 1, 0, 2, 0, 1, 1, 0, 1, 1, 2, 2, 2, 0, 0, 2, 2, 2, 2, 2, 2, 2,\n",
      "        0, 0, 0, 0, 2, 2, 2, 2, 2, 0, 2, 1, 0, 0, 0, 2, 2, 1, 2, 2, 2, 2, 1, 2,\n",
      "        2, 2, 2, 2, 0, 1, 2, 2, 1, 2, 0, 1, 2, 0, 2, 2, 1, 0, 1, 0, 1, 1, 2, 0,\n",
      "        2, 1, 2, 1, 2, 2, 0, 2, 1, 2, 2, 0, 1, 2, 2, 2, 2, 2, 0, 1, 2, 2, 2, 1,\n",
      "        2, 2])\n",
      "\n",
      "Fold 6\n",
      "Train data: Data(x=[2833, 6], edge_index=[2, 3907], edge_attr=[3907, 1], edge_label=[3907, 3])\n",
      "Test data: Data(x=[2833, 6], edge_index=[2, 434], edge_attr=[434, 1], edge_label=[434, 3])\n",
      "\n",
      "Number os class: tensor([2, 2, 2, 2, 2, 0, 2, 2, 2, 1, 2, 2, 1, 0, 2, 1, 0, 0, 0, 0, 0, 2, 0, 2,\n",
      "        2, 0, 0, 2, 2, 2, 1, 2, 0, 2, 2, 0, 0, 2, 2, 2, 1, 2, 1, 1, 2, 2, 1, 2,\n",
      "        0, 2, 2, 2, 1, 2, 2, 0, 2, 1, 2, 2, 2, 2, 1, 1, 2, 2, 2, 1, 0, 1, 1, 2,\n",
      "        2, 1, 1, 2, 2, 1, 2, 1, 2, 0, 0, 0, 0, 2, 2, 2, 2, 2, 2, 2, 2, 1, 1, 2,\n",
      "        2, 2, 2, 2, 2, 1, 2, 2, 0, 2, 2, 2, 2, 2, 2, 2, 2, 2, 2, 2, 2, 1, 2, 2,\n",
      "        0, 0, 2, 2, 1, 2, 2, 2, 2, 0, 0, 0, 2, 2, 2, 2, 1, 1, 2, 2, 2, 0, 1, 2,\n",
      "        1, 1, 2, 2, 2, 2, 2, 2, 2, 1, 2, 2, 2, 2, 1, 2, 1, 2, 2, 2, 2, 2, 2, 0,\n",
      "        2, 2, 2, 2, 2, 0, 0, 0, 2, 0, 2, 2, 2, 1, 2, 2, 1, 2, 2, 2, 2, 1, 2, 2,\n",
      "        2, 1, 0, 2, 2, 2, 1, 1, 2, 1, 2, 2, 0, 2, 2, 2, 1, 2, 2, 2, 2, 2, 2, 2,\n",
      "        2, 2, 2, 2, 1, 1, 2, 0, 2, 1, 2, 2, 2, 1, 0, 2, 1, 0, 0, 2, 2, 1, 0, 2,\n",
      "        2, 2, 1, 2, 2, 2, 2, 2, 0, 2, 2, 2, 2, 2, 2, 2, 2, 0, 2, 2, 1, 0, 2, 1,\n",
      "        2, 2, 2, 2, 2, 2, 0, 2, 0, 2, 2, 1, 2, 2, 1, 0, 2, 2, 2, 0, 2, 2, 2, 2,\n",
      "        2, 2, 2, 2, 2, 2, 1, 2, 1, 2, 1, 2, 2, 2, 0, 2, 1, 2, 1, 1, 2, 2, 0, 2,\n",
      "        2, 1, 1, 0, 2, 0, 2, 1, 2, 0, 2, 2, 0, 1, 2, 2, 2, 2, 2, 2, 2, 2, 2, 2,\n",
      "        2, 2, 2, 0, 2, 2, 1, 2, 0, 0, 2, 2, 0, 2, 2, 2, 2, 1, 1, 2, 0, 2, 2, 2,\n",
      "        2, 0, 2, 2, 2, 2, 2, 2, 2, 0, 0, 2, 2, 2, 0, 2, 2, 2, 2, 2, 1, 0, 2, 2,\n",
      "        0, 2, 2, 0, 1, 2, 2, 2, 1, 2, 2, 2, 2, 2, 1, 2, 2, 1, 1, 0, 2, 1, 0, 1,\n",
      "        2, 1, 2, 1, 2, 2, 0, 0, 1, 1, 1, 1, 2, 2, 1, 2, 2, 1, 1, 1, 2, 2, 2, 2,\n",
      "        1, 2])\n",
      "\n",
      "Fold 7\n",
      "Train data: Data(x=[2833, 6], edge_index=[2, 3907], edge_attr=[3907, 1], edge_label=[3907, 3])\n",
      "Test data: Data(x=[2833, 6], edge_index=[2, 434], edge_attr=[434, 1], edge_label=[434, 3])\n",
      "\n",
      "Number os class: tensor([0, 2, 2, 2, 2, 2, 2, 2, 2, 0, 2, 1, 2, 2, 0, 2, 1, 2, 2, 2, 2, 2, 2, 2,\n",
      "        2, 2, 2, 2, 2, 0, 0, 0, 0, 2, 2, 2, 2, 2, 2, 2, 1, 2, 2, 2, 2, 2, 2, 0,\n",
      "        1, 2, 1, 2, 2, 2, 2, 0, 2, 2, 0, 0, 2, 2, 2, 2, 2, 1, 2, 2, 0, 2, 1, 2,\n",
      "        2, 2, 2, 2, 1, 2, 2, 2, 1, 2, 2, 2, 2, 2, 2, 2, 2, 2, 1, 2, 2, 2, 1, 2,\n",
      "        2, 0, 2, 0, 2, 2, 1, 2, 2, 2, 1, 2, 0, 2, 2, 2, 2, 2, 2, 0, 2, 1, 2, 2,\n",
      "        0, 2, 2, 2, 2, 1, 2, 2, 2, 1, 2, 2, 0, 2, 0, 2, 2, 0, 2, 2, 1, 2, 1, 1,\n",
      "        2, 2, 2, 1, 0, 2, 2, 2, 2, 2, 1, 2, 2, 1, 2, 2, 0, 2, 2, 2, 2, 2, 2, 1,\n",
      "        2, 2, 2, 0, 1, 2, 2, 2, 2, 2, 0, 2, 1, 2, 2, 0, 1, 2, 1, 2, 1, 0, 2, 0,\n",
      "        2, 2, 2, 2, 1, 2, 0, 2, 2, 2, 2, 2, 1, 1, 2, 1, 0, 2, 2, 2, 2, 2, 2, 2,\n",
      "        2, 1, 1, 2, 1, 0, 2, 0, 2, 2, 2, 0, 2, 2, 2, 2, 2, 0, 1, 1, 0, 2, 2, 2,\n",
      "        1, 2, 2, 0, 2, 2, 2, 2, 2, 0, 2, 2, 0, 2, 2, 2, 2, 2, 1, 2, 2, 2, 2, 0,\n",
      "        2, 1, 0, 0, 2, 2, 2, 2, 2, 2, 1, 2, 2, 2, 0, 1, 0, 1, 0, 2, 0, 2, 2, 2,\n",
      "        0, 2, 2, 1, 2, 2, 2, 2, 1, 2, 1, 0, 2, 2, 2, 1, 2, 2, 2, 2, 2, 2, 2, 1,\n",
      "        1, 2, 2, 2, 2, 2, 2, 1, 0, 2, 2, 2, 2, 0, 2, 2, 2, 1, 2, 2, 2, 2, 2, 2,\n",
      "        2, 2, 2, 2, 2, 2, 2, 2, 2, 2, 2, 2, 0, 2, 1, 2, 2, 2, 2, 1, 2, 2, 2, 2,\n",
      "        2, 2, 2, 1, 0, 2, 2, 2, 2, 0, 2, 2, 0, 0, 2, 0, 2, 2, 1, 2, 2, 2, 1, 1,\n",
      "        2, 0, 2, 2, 2, 2, 2, 1, 1, 2, 1, 1, 2, 2, 2, 2, 2, 2, 2, 2, 2, 2, 2, 1,\n",
      "        2, 1, 0, 0, 2, 2, 0, 2, 2, 2, 1, 2, 2, 1, 2, 2, 2, 2, 2, 2, 0, 1, 1, 2,\n",
      "        1, 1])\n",
      "\n",
      "Fold 8\n",
      "Train data: Data(x=[2833, 6], edge_index=[2, 3907], edge_attr=[3907, 1], edge_label=[3907, 3])\n",
      "Test data: Data(x=[2833, 6], edge_index=[2, 434], edge_attr=[434, 1], edge_label=[434, 3])\n",
      "\n",
      "Number os class: tensor([2, 2, 1, 2, 2, 1, 0, 2, 2, 1, 2, 2, 0, 2, 2, 2, 2, 2, 2, 0, 2, 1, 2, 0,\n",
      "        1, 2, 2, 0, 2, 2, 2, 0, 2, 1, 0, 0, 2, 2, 2, 0, 2, 1, 0, 2, 2, 2, 2, 2,\n",
      "        2, 1, 1, 1, 2, 2, 1, 2, 1, 1, 2, 2, 2, 0, 2, 2, 2, 2, 1, 2, 0, 1, 0, 1,\n",
      "        2, 2, 2, 1, 1, 2, 2, 2, 2, 2, 2, 2, 2, 2, 0, 2, 2, 2, 1, 1, 1, 0, 2, 1,\n",
      "        1, 2, 2, 2, 2, 0, 2, 2, 2, 2, 2, 2, 2, 2, 1, 2, 1, 1, 0, 0, 2, 0, 2, 2,\n",
      "        2, 2, 2, 2, 0, 2, 2, 2, 1, 0, 2, 2, 2, 2, 2, 2, 0, 0, 2, 0, 2, 2, 2, 2,\n",
      "        2, 2, 1, 0, 2, 0, 0, 2, 2, 1, 2, 2, 0, 0, 2, 2, 2, 2, 2, 2, 2, 0, 2, 1,\n",
      "        2, 0, 1, 2, 2, 2, 2, 2, 1, 2, 2, 2, 2, 2, 2, 2, 1, 2, 2, 2, 1, 2, 2, 2,\n",
      "        2, 2, 1, 2, 2, 2, 2, 0, 0, 2, 1, 2, 2, 2, 2, 2, 2, 2, 1, 1, 1, 0, 2, 2,\n",
      "        2, 0, 2, 0, 2, 0, 1, 2, 2, 2, 2, 0, 2, 2, 2, 1, 2, 0, 2, 2, 2, 2, 0, 2,\n",
      "        2, 2, 2, 2, 2, 1, 0, 2, 2, 2, 2, 2, 2, 1, 0, 2, 2, 0, 2, 2, 2, 1, 2, 2,\n",
      "        2, 0, 2, 1, 2, 2, 2, 1, 2, 2, 0, 2, 2, 0, 2, 2, 1, 0, 2, 1, 2, 0, 0, 2,\n",
      "        2, 2, 2, 2, 0, 2, 2, 2, 2, 2, 1, 2, 2, 0, 2, 0, 1, 2, 1, 0, 2, 2, 2, 2,\n",
      "        2, 0, 2, 0, 2, 2, 2, 2, 0, 0, 2, 2, 2, 2, 0, 0, 2, 2, 1, 2, 2, 2, 2, 2,\n",
      "        2, 2, 2, 2, 2, 2, 2, 0, 1, 2, 0, 2, 2, 0, 2, 2, 2, 2, 2, 0, 2, 2, 2, 2,\n",
      "        2, 2, 2, 0, 2, 2, 2, 2, 1, 2, 2, 2, 2, 2, 2, 2, 2, 2, 2, 0, 1, 0, 1, 1,\n",
      "        1, 0, 2, 2, 0, 2, 2, 1, 2, 0, 0, 0, 2, 0, 1, 0, 2, 2, 2, 0, 2, 2, 1, 2,\n",
      "        1, 2, 2, 2, 0, 1, 2, 0, 1, 2, 0, 2, 2, 2, 2, 2, 1, 1, 0, 0, 1, 2, 2, 2,\n",
      "        2, 0])\n",
      "\n",
      "Fold 9\n",
      "Train data: Data(x=[2833, 6], edge_index=[2, 3907], edge_attr=[3907, 1], edge_label=[3907, 3])\n",
      "Test data: Data(x=[2833, 6], edge_index=[2, 434], edge_attr=[434, 1], edge_label=[434, 3])\n",
      "\n",
      "Number os class: tensor([2, 2, 2, 2, 2, 2, 2, 2, 0, 1, 1, 2, 2, 2, 1, 0, 0, 2, 2, 2, 0, 2, 2, 0,\n",
      "        2, 2, 2, 2, 2, 2, 2, 2, 2, 2, 1, 2, 0, 2, 2, 0, 2, 1, 2, 2, 2, 2, 2, 2,\n",
      "        0, 0, 2, 2, 2, 2, 2, 2, 1, 1, 0, 2, 0, 2, 2, 0, 2, 2, 2, 1, 2, 2, 2, 1,\n",
      "        2, 1, 0, 2, 2, 2, 2, 1, 1, 1, 2, 2, 1, 2, 0, 2, 2, 1, 2, 2, 2, 2, 0, 0,\n",
      "        2, 2, 2, 2, 0, 0, 0, 2, 0, 2, 2, 2, 0, 0, 2, 2, 0, 2, 2, 2, 2, 0, 0, 2,\n",
      "        2, 2, 2, 2, 2, 2, 1, 0, 1, 0, 2, 1, 0, 2, 1, 2, 1, 2, 0, 2, 2, 2, 2, 1,\n",
      "        2, 2, 2, 0, 2, 2, 0, 2, 0, 2, 0, 2, 2, 2, 2, 2, 2, 2, 1, 0, 2, 0, 0, 2,\n",
      "        2, 2, 2, 2, 2, 2, 2, 1, 2, 0, 0, 2, 2, 2, 2, 2, 2, 0, 2, 2, 2, 1, 1, 1,\n",
      "        2, 2, 2, 2, 1, 1, 1, 2, 2, 0, 0, 2, 2, 2, 0, 2, 2, 2, 1, 0, 2, 2, 2, 1,\n",
      "        2, 2, 1, 2, 2, 2, 2, 2, 0, 2, 2, 2, 2, 0, 2, 0, 2, 2, 0, 2, 2, 2, 2, 1,\n",
      "        2, 2, 2, 2, 2, 2, 0, 2, 0, 0, 2, 1, 2, 1, 2, 2, 1, 2, 1, 2, 1, 2, 0, 0,\n",
      "        2, 2, 2, 1, 2, 0, 2, 2, 2, 1, 2, 1, 0, 2, 0, 0, 2, 1, 2, 1, 2, 2, 2, 1,\n",
      "        2, 2, 1, 0, 0, 2, 2, 2, 2, 2, 2, 0, 2, 2, 2, 1, 2, 2, 0, 2, 2, 1, 2, 1,\n",
      "        0, 2, 2, 2, 2, 2, 0, 2, 2, 0, 2, 2, 2, 2, 2, 2, 2, 1, 2, 1, 2, 2, 0, 2,\n",
      "        2, 2, 2, 1, 2, 0, 2, 2, 0, 1, 0, 2, 2, 2, 2, 2, 0, 2, 2, 2, 0, 2, 2, 2,\n",
      "        2, 2, 2, 0, 2, 2, 0, 2, 0, 2, 2, 1, 2, 0, 2, 2, 2, 2, 2, 2, 0, 2, 2, 2,\n",
      "        0, 2, 2, 0, 2, 2, 1, 1, 2, 0, 1, 2, 2, 2, 2, 2, 2, 2, 1, 2, 2, 2, 1, 1,\n",
      "        2, 2, 2, 2, 1, 2, 2, 2, 1, 0, 2, 0, 1, 1, 2, 1, 2, 2, 1, 1, 2, 0, 2, 2,\n",
      "        1, 2])\n",
      "\n",
      "Fold 10\n",
      "Train data: Data(x=[2833, 6], edge_index=[2, 3907], edge_attr=[3907, 1], edge_label=[3907, 3])\n",
      "Test data: Data(x=[2833, 6], edge_index=[2, 434], edge_attr=[434, 1], edge_label=[434, 3])\n",
      "\n",
      "Number os class: tensor([2, 2, 2, 2, 2, 2, 2, 1, 1, 2, 1, 1, 2, 2, 0, 2, 2, 0, 2, 0, 2, 2, 2, 2,\n",
      "        2, 2, 1, 1, 2, 0, 2, 0, 2, 2, 0, 2, 2, 2, 1, 2, 2, 2, 2, 0, 0, 2, 2, 2,\n",
      "        2, 2, 2, 2, 1, 0, 2, 2, 2, 2, 0, 2, 2, 2, 2, 0, 1, 2, 1, 1, 2, 0, 2, 2,\n",
      "        2, 1, 1, 2, 1, 2, 2, 0, 0, 2, 1, 2, 2, 2, 2, 2, 2, 2, 2, 2, 2, 1, 2, 2,\n",
      "        2, 2, 0, 2, 2, 1, 2, 2, 2, 2, 2, 2, 2, 2, 1, 2, 2, 2, 2, 2, 2, 2, 2, 1,\n",
      "        2, 2, 2, 2, 2, 1, 2, 2, 2, 2, 2, 2, 0, 2, 2, 1, 0, 1, 0, 2, 1, 2, 2, 2,\n",
      "        2, 2, 2, 2, 0, 2, 1, 2, 2, 1, 2, 2, 2, 2, 2, 1, 2, 1, 2, 0, 2, 2, 2, 2,\n",
      "        2, 2, 2, 2, 2, 2, 0, 2, 2, 2, 1, 2, 1, 2, 0, 2, 2, 1, 1, 1, 2, 2, 0, 0,\n",
      "        2, 0, 2, 2, 2, 2, 2, 0, 0, 2, 2, 2, 2, 2, 1, 0, 2, 1, 2, 2, 0, 2, 2, 2,\n",
      "        2, 2, 2, 0, 2, 0, 0, 0, 2, 1, 1, 2, 2, 1, 1, 1, 1, 2, 2, 2, 2, 0, 0, 2,\n",
      "        2, 2, 2, 2, 0, 2, 2, 0, 2, 2, 1, 1, 2, 2, 0, 2, 1, 0, 1, 2, 2, 2, 2, 2,\n",
      "        2, 2, 0, 2, 2, 2, 2, 2, 2, 2, 2, 1, 2, 2, 2, 1, 2, 2, 2, 2, 2, 2, 0, 1,\n",
      "        2, 2, 2, 2, 2, 0, 2, 2, 0, 2, 2, 2, 1, 2, 1, 2, 2, 2, 2, 2, 2, 0, 2, 2,\n",
      "        2, 1, 1, 0, 0, 0, 1, 1, 1, 2, 1, 2, 2, 2, 2, 2, 1, 2, 2, 2, 1, 2, 2, 2,\n",
      "        2, 2, 2, 1, 2, 2, 2, 2, 2, 2, 2, 0, 2, 2, 1, 2, 1, 2, 2, 2, 2, 0, 2, 2,\n",
      "        1, 1, 1, 2, 2, 2, 2, 2, 2, 2, 2, 1, 2, 2, 2, 2, 2, 0, 2, 2, 2, 2, 2, 2,\n",
      "        0, 2, 2, 2, 1, 1, 2, 2, 1, 2, 2, 2, 2, 0, 0, 2, 0, 1, 1, 2, 1, 1, 0, 1,\n",
      "        0, 0, 2, 2, 0, 2, 2, 1, 1, 2, 2, 2, 1, 2, 1, 2, 2, 0, 2, 2, 2, 2, 1, 2,\n",
      "        1, 2])\n",
      "\n"
     ]
    }
   ],
   "source": [
    "kf = KFold(n_splits=10, shuffle=True, random_state=42)\n",
    "\n",
    "for fold, (train_idx, test_idx) in enumerate(kf.split(edge_index_np)):\n",
    "    fold_idx = fold + 1\n",
    "    print(f\"Fold {fold_idx}\")\n",
    "    \n",
    "\n",
    "    # Split the data\n",
    "    X_train, X_test = edge_index_np[train_idx], edge_index_np[test_idx]\n",
    "    y_train, y_test = edge_labels_np[train_idx], edge_labels_np[test_idx]\n",
    "    w_train, w_test = edge_weights_np[train_idx], edge_weights_np[test_idx]\n",
    "\n",
    "    # Convert back to PyTorch tensors\n",
    "    X_train = torch.tensor(X_train, dtype=torch.long).t()  # Transpose back to shape [2, num_train_edges]\n",
    "    X_test = torch.tensor(X_test, dtype=torch.long).t()  # Transpose back to shape [2, num_test_edges]\n",
    "\n",
    "    y_train = torch.tensor(y_train, dtype=torch.long)  # Shape: [num_train_edges]\n",
    "    y_test = torch.tensor(y_test, dtype=torch.long)  # Shape: [num_test_edges]\n",
    "\n",
    "    w_train = torch.tensor(w_train, dtype=torch.float)  # Shape: [num_train_edges]\n",
    "    w_test = torch.tensor(w_test, dtype=torch.float)  # Shape: [num_test_edges]\n",
    "\n",
    "    # Create Data objects\n",
    "    train_data = Data(\n",
    "        x=x,\n",
    "        edge_index=X_train,\n",
    "        edge_label=y_train.float(),\n",
    "        edge_attr=w_train\n",
    "    )\n",
    "\n",
    "    test_data = Data(\n",
    "        x=x,\n",
    "        edge_index=X_test,\n",
    "        edge_label=y_test.float(),\n",
    "        edge_attr=w_test\n",
    "    )\n",
    "    \n",
    "    # save\n",
    "    torch.save(train_data, f'../../data/graph_designer/train_test_edge_classification/train_data_{fold_idx}.pt')\n",
    "    torch.save(test_data, f'../../data/graph_designer/train_test_edge_classification/test_data_{fold_idx}.pt')\n",
    "    \n",
    "    # Print out the fold results (or store them for later analysis)\n",
    "    print(f\"Train data: {train_data}\")\n",
    "    print(f\"Test data: {test_data}\")\n",
    "    print()"
   ]
  },
  {
   "cell_type": "code",
   "execution_count": 29,
   "id": "c3d19886-5ac3-425f-aa17-22721d7b8b57",
   "metadata": {},
   "outputs": [
    {
     "data": {
      "text/plain": [
       "tensor([[0., 0., 1.],\n",
       "        [0., 0., 1.],\n",
       "        [1., 0., 0.],\n",
       "        ...,\n",
       "        [0., 0., 1.],\n",
       "        [0., 0., 1.],\n",
       "        [0., 0., 1.]])"
      ]
     },
     "execution_count": 29,
     "metadata": {},
     "output_type": "execute_result"
    }
   ],
   "source": [
    "train_data.edge_label"
   ]
  },
  {
   "cell_type": "code",
   "execution_count": 33,
   "id": "561e7e63-164d-407f-99ff-35d7cf47b9ab",
   "metadata": {},
   "outputs": [
    {
     "data": {
      "text/plain": [
       "Counter({2: 297, 1: 78, 0: 59})"
      ]
     },
     "execution_count": 33,
     "metadata": {},
     "output_type": "execute_result"
    }
   ],
   "source": [
    "Counter(test_data.edge_label.argmax(dim=1).numpy())"
   ]
  },
  {
   "cell_type": "code",
   "execution_count": null,
   "id": "50fce289-949d-4894-b456-89034f392e98",
   "metadata": {},
   "outputs": [],
   "source": []
  }
 ],
 "metadata": {
  "kernelspec": {
   "display_name": "Python 3 (ipykernel)",
   "language": "python",
   "name": "python3"
  },
  "language_info": {
   "codemirror_mode": {
    "name": "ipython",
    "version": 3
   },
   "file_extension": ".py",
   "mimetype": "text/x-python",
   "name": "python",
   "nbconvert_exporter": "python",
   "pygments_lexer": "ipython3",
   "version": "3.7.13"
  }
 },
 "nbformat": 4,
 "nbformat_minor": 5
}
