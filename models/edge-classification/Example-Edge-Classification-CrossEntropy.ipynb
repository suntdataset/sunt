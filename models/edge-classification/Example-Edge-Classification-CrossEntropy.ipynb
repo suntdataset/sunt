{
 "cells": [
  {
   "cell_type": "code",
   "execution_count": 1,
   "id": "80a0b853-0786-4389-b9c0-10e020466c65",
   "metadata": {},
   "outputs": [],
   "source": [
    "import torch\n",
    "from collections import Counter\n",
    "# model\n",
    "from models import GCNEdgeClassifier, ChebEdgeClassifier\n",
    "# val\n",
    "from sklearn.metrics import accuracy_score, precision_score, recall_score, f1_score\n",
    "from sklearn.metrics import confusion_matrix, matthews_corrcoef\n",
    "# plot\n",
    "import seaborn as sns\n",
    "import matplotlib.pyplot as plt\n",
    "# \n",
    "from torch import nn"
   ]
  },
  {
   "cell_type": "code",
   "execution_count": 2,
   "id": "7c555a38-1c81-458a-902e-1f99bbec1400",
   "metadata": {
    "tags": []
   },
   "outputs": [],
   "source": [
    "plt.style.use('seaborn-whitegrid')"
   ]
  },
  {
   "cell_type": "markdown",
   "id": "934db843-40ba-4c6b-8dcc-836d9d880f58",
   "metadata": {},
   "source": [
    "## Data"
   ]
  },
  {
   "cell_type": "code",
   "execution_count": 3,
   "id": "681f5652-1836-4a38-9998-108e1ab84013",
   "metadata": {
    "tags": []
   },
   "outputs": [],
   "source": [
    "fold_idx = 2"
   ]
  },
  {
   "cell_type": "code",
   "execution_count": 4,
   "id": "000a0764-e022-4a6a-b73f-88b84f066bd3",
   "metadata": {
    "tags": []
   },
   "outputs": [
    {
     "data": {
      "text/plain": [
       "Data(x=[2812, 7], edge_index=[2, 3784], edge_attr=[3784, 1], edge_label=[3784, 2])"
      ]
     },
     "execution_count": 4,
     "metadata": {},
     "output_type": "execute_result"
    }
   ],
   "source": [
    "train_data = torch.load(f'../../data/graph_designer/train_test_edge_classification_days/train_data_{fold_idx}.pt')\n",
    "test_data  = torch.load(f'../../data/graph_designer/train_test_edge_classification_days/test_data_{fold_idx}.pt')\n",
    "train_data "
   ]
  },
  {
   "cell_type": "code",
   "execution_count": 5,
   "id": "cd891a73-cd19-48b0-9fdd-400913bc49b3",
   "metadata": {
    "tags": []
   },
   "outputs": [
    {
     "data": {
      "text/plain": [
       "Data(x=[2812, 7], edge_index=[2, 421], edge_attr=[421, 1], edge_label=[421, 2])"
      ]
     },
     "execution_count": 5,
     "metadata": {},
     "output_type": "execute_result"
    }
   ],
   "source": [
    "test_data"
   ]
  },
  {
   "cell_type": "code",
   "execution_count": 6,
   "id": "6fb44333-e810-4909-9e2c-dd2c40809060",
   "metadata": {},
   "outputs": [
    {
     "data": {
      "text/plain": [
       "Counter({0: 1839, 1: 1945})"
      ]
     },
     "execution_count": 6,
     "metadata": {},
     "output_type": "execute_result"
    }
   ],
   "source": [
    "# 0: alto, 1: baixo\n",
    "Counter(train_data.edge_label.argmax(dim=1).numpy())"
   ]
  },
  {
   "cell_type": "code",
   "execution_count": 7,
   "id": "94c6995f-3822-4ff3-95bd-5a37188d7fe7",
   "metadata": {
    "tags": []
   },
   "outputs": [
    {
     "data": {
      "text/plain": [
       "Counter({1: 210, 0: 211})"
      ]
     },
     "execution_count": 7,
     "metadata": {},
     "output_type": "execute_result"
    }
   ],
   "source": [
    "# 0: alto, 1: baixo\n",
    "Counter(test_data.edge_label.argmax(dim=1).numpy())"
   ]
  },
  {
   "cell_type": "code",
   "execution_count": 8,
   "id": "bc6990e1-71b1-4668-9fbc-e030c37a4c80",
   "metadata": {},
   "outputs": [],
   "source": [
    "#train_data.edge_label = train_data.edge_label.argmax(dim=1).view(-1)\n",
    "#test_data.edge_label = test_data.edge_label.argmax(dim=1)"
   ]
  },
  {
   "cell_type": "code",
   "execution_count": 9,
   "id": "f14cb8bd-b6e1-453f-b895-81d8dc4d95bc",
   "metadata": {},
   "outputs": [
    {
     "data": {
      "text/plain": [
       "torch.Size([3784, 2])"
      ]
     },
     "execution_count": 9,
     "metadata": {},
     "output_type": "execute_result"
    }
   ],
   "source": [
    "train_data.edge_label.shape"
   ]
  },
  {
   "cell_type": "code",
   "execution_count": 10,
   "id": "1d90c241-2820-426a-b31b-7b4cc5876d04",
   "metadata": {},
   "outputs": [],
   "source": [
    "#train_data.edge_label"
   ]
  },
  {
   "cell_type": "code",
   "execution_count": 11,
   "id": "8ee72d89-fcc6-4d0c-8902-8d9a6e7326d3",
   "metadata": {},
   "outputs": [],
   "source": [
    "#train_data.edge_label.resize(train_data.edge_label.size(), 1)"
   ]
  },
  {
   "cell_type": "markdown",
   "id": "6eba8879-54cc-4ab2-8053-924916027de3",
   "metadata": {},
   "source": [
    "## Model"
   ]
  },
  {
   "cell_type": "code",
   "execution_count": 12,
   "id": "d5c3c8c9-4071-4707-826f-b02eaa6a230e",
   "metadata": {
    "tags": []
   },
   "outputs": [
    {
     "data": {
      "text/plain": [
       "ChebEdgeClassifier(\n",
       "  (conv1): ChebConv(7, 64, K=3, normalization=sym)\n",
       "  (conv2): ChebConv(64, 64, K=3, normalization=sym)\n",
       "  (classifier): Linear(in_features=128, out_features=2, bias=True)\n",
       ")"
      ]
     },
     "execution_count": 12,
     "metadata": {},
     "output_type": "execute_result"
    }
   ],
   "source": [
    "device = torch.device('cuda' if torch.cuda.is_available() else 'cpu')\n",
    "#model = GCNEdgeClassifier(train_data.num_features, 64, train_data.edge_label.shape[1]).to(device)\n",
    "model = ChebEdgeClassifier(train_data.num_features, 64, train_data.edge_label.shape[1]).to(device)\n",
    "optimizer = torch.optim.Adam(model.parameters(), lr=0.001)\n",
    "criterion = torch.nn.CrossEntropyLoss()\n",
    "#criterion = torch.nn.BCELoss()\n",
    "#m = nn.Sigmoid()\n",
    "model"
   ]
  },
  {
   "cell_type": "code",
   "execution_count": 13,
   "id": "2ed114d3-2787-4f4a-b2e5-6a0c54e16f36",
   "metadata": {
    "tags": []
   },
   "outputs": [
    {
     "data": {
      "text/plain": [
       "tensor(6.0866)"
      ]
     },
     "execution_count": 13,
     "metadata": {},
     "output_type": "execute_result"
    }
   ],
   "source": [
    "train_data.edge_attr.max()"
   ]
  },
  {
   "cell_type": "code",
   "execution_count": 14,
   "id": "5636f638-1762-4eff-89f5-08089c735567",
   "metadata": {
    "tags": []
   },
   "outputs": [],
   "source": [
    "def train():\n",
    "    model.train()\n",
    "    optimizer.zero_grad()\n",
    "    out = model(train_data.x.to(device), \n",
    "                train_data.edge_index.to(device),\n",
    "                train_data.edge_attr.to(device))\n",
    "    \n",
    "    #x_sig = m(out.view(-1))\n",
    "    \n",
    "    loss = criterion(out, train_data.edge_label.to(device))\n",
    "    \n",
    "    loss.backward()\n",
    "    optimizer.step()\n",
    "    return loss.item()"
   ]
  },
  {
   "cell_type": "code",
   "execution_count": 15,
   "id": "a14e8c5e-74c7-4618-bb10-522bad81dc26",
   "metadata": {
    "tags": []
   },
   "outputs": [],
   "source": [
    "def test(data, tresh=0.3):\n",
    "    model.eval()\n",
    "    with torch.no_grad():\n",
    "        out = model(data.x.to(device), \n",
    "                    data.edge_index.to(device),\n",
    "                    data.edge_attr.to(device))\n",
    "        \n",
    "        pred = out.argmax(dim=1)\n",
    "        true = data.edge_label.to(device).argmax(dim=1)\n",
    "        \n",
    "        # pred = [0 if x < tresh else 1 for x in x_sig]\n",
    "        # true = data.edge_label.to(device).cpu().numpy()#.argmax(dim=1)\n",
    "        \n",
    "        return true, pred "
   ]
  },
  {
   "cell_type": "code",
   "execution_count": 16,
   "id": "5f1887c3-f92a-4f92-9d53-f6774df913ad",
   "metadata": {},
   "outputs": [
    {
     "data": {
      "text/plain": [
       "tensor([1., 0., 0.,  ..., 1., 0., 1.])"
      ]
     },
     "execution_count": 16,
     "metadata": {},
     "output_type": "execute_result"
    }
   ],
   "source": [
    "train_data.edge_label.to(device).flatten()"
   ]
  },
  {
   "cell_type": "markdown",
   "id": "6c7bb831-9b94-4d01-aa70-fa9e8a74213a",
   "metadata": {
    "tags": []
   },
   "source": [
    "### Train"
   ]
  },
  {
   "cell_type": "code",
   "execution_count": 17,
   "id": "cd907715-80e3-4419-84db-3068f33e1357",
   "metadata": {
    "tags": []
   },
   "outputs": [],
   "source": [
    "loss_scores = [train() for _ in range(100)]"
   ]
  },
  {
   "cell_type": "code",
   "execution_count": 18,
   "id": "d8b67d64-6024-493b-a173-051fa8e55ec2",
   "metadata": {
    "tags": []
   },
   "outputs": [
    {
     "data": {
      "image/png": "[encoded data removed]",
      "text/plain": [
       "<Figure size 432x288 with 1 Axes>"
      ]
     },
     "metadata": {
      "needs_background": "light"
     },
     "output_type": "display_data"
    }
   ],
   "source": [
    "plt.plot(loss_scores)\n",
    "plt.show()"
   ]
  },
  {
   "cell_type": "markdown",
   "id": "97cd807d-c622-4b96-9af6-a65d6fd6d858",
   "metadata": {},
   "source": [
    "### Test"
   ]
  },
  {
   "cell_type": "code",
   "execution_count": 19,
   "id": "acd04616-0bfd-469c-98b9-37ddb24dbaf0",
   "metadata": {
    "tags": []
   },
   "outputs": [],
   "source": [
    "y_true, y_pred = test(test_data, 0.5555)"
   ]
  },
  {
   "cell_type": "markdown",
   "id": "d02a4990-6d65-4016-afb8-a2fdf37b4a23",
   "metadata": {},
   "source": [
    "### Validation"
   ]
  },
  {
   "cell_type": "code",
   "execution_count": 20,
   "id": "aa996df7-ec45-481f-ad9f-d3115d657be1",
   "metadata": {
    "tags": []
   },
   "outputs": [
    {
     "name": "stdout",
     "output_type": "stream",
     "text": [
      "Confusion Matrix:\n",
      "[[ 74 137]\n",
      " [ 58 152]]\n",
      "MCC: 0.0803138244384553\n"
     ]
    }
   ],
   "source": [
    "# Compute confusion matrix\n",
    "conf_matrix = confusion_matrix(y_true, y_pred)\n",
    "print(\"Confusion Matrix:\")\n",
    "print(conf_matrix)\n",
    "\n",
    "# Compute MCC\n",
    "mcc = matthews_corrcoef(y_true, y_pred)\n",
    "print(\"MCC:\", mcc)"
   ]
  },
  {
   "cell_type": "code",
   "execution_count": 21,
   "id": "45b4f34f-98b7-4a51-8aab-be0e891db303",
   "metadata": {
    "tags": []
   },
   "outputs": [
    {
     "data": {
      "text/plain": [
       "(0.5368171021377672,\n",
       " 0.5259515570934256,\n",
       " 0.7238095238095238,\n",
       " 0.6092184368737474)"
      ]
     },
     "execution_count": 21,
     "metadata": {},
     "output_type": "execute_result"
    }
   ],
   "source": [
    "accuracy = accuracy_score(y_true, y_pred) \n",
    "prec     = precision_score(y_true, y_pred, average='binary')\n",
    "rec      = recall_score(y_true, y_pred, average='binary')\n",
    "f1       = f1_score(y_true, y_pred, average='binary')\n",
    "\n",
    "accuracy, prec, rec, f1"
   ]
  },
  {
   "cell_type": "code",
   "execution_count": 22,
   "id": "e3b67ffa-4fc1-493c-9b1a-a6f21077ba00",
   "metadata": {
    "tags": []
   },
   "outputs": [
    {
     "name": "stdout",
     "output_type": "stream",
     "text": [
      "Classes:  Counter({0: 211, 1: 210})\n"
     ]
    },
    {
     "data": {
      "image/png": "[encoded data removed]",
      "text/plain": [
       "<Figure size 576x432 with 2 Axes>"
      ]
     },
     "metadata": {
      "needs_background": "light"
     },
     "output_type": "display_data"
    }
   ],
   "source": [
    "# Create a heatmap plot of the confusion matrix\n",
    "keys = Counter(y_true.numpy())\n",
    "#keys = Counter(y_true)\n",
    "print(f\"Classes:  {keys}\")\n",
    "plt.figure(figsize=(8, 6))\n",
    "sns.heatmap(conf_matrix, annot=True, \n",
    "            fmt='d', cmap='Blues', \n",
    "            xticklabels=sorted(keys.keys()), \n",
    "            yticklabels=sorted(keys.keys()))\n",
    "plt.xlabel('Predicted Labels')\n",
    "plt.ylabel('Actual Labels')\n",
    "plt.title('Confusion Matrix')\n",
    "plt.show()"
   ]
  },
  {
   "cell_type": "code",
   "execution_count": null,
   "id": "520dac1b-97ab-462d-ae9e-5245315f4f2b",
   "metadata": {},
   "outputs": [],
   "source": []
  },
  {
   "cell_type": "code",
   "execution_count": null,
   "id": "fcaa9b89-9ae9-4392-b639-18e8c3671f4c",
   "metadata": {},
   "outputs": [],
   "source": []
  },
  {
   "cell_type": "code",
   "execution_count": null,
   "id": "a871e411-001a-4e31-8c18-765078270ecd",
   "metadata": {},
   "outputs": [],
   "source": []
  }
 ],
 "metadata": {
  "kernelspec": {
   "display_name": "Python 3 (ipykernel)",
   "language": "python",
   "name": "python3"
  },
  "language_info": {
   "codemirror_mode": {
    "name": "ipython",
    "version": 3
   },
   "file_extension": ".py",
   "mimetype": "text/x-python",
   "name": "python",
   "nbconvert_exporter": "python",
   "pygments_lexer": "ipython3",
   "version": "3.7.13"
  }
 },
 "nbformat": 4,
 "nbformat_minor": 5
}
