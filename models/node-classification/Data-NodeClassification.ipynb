{
 "cells": [
  {
   "cell_type": "code",
   "execution_count": 1,
   "id": "22d0b174-11ab-4180-bae5-798b2399015c",
   "metadata": {
    "tags": []
   },
   "outputs": [],
   "source": [
    "import os\n",
    "import torch\n",
    "import warnings\n",
    "import numpy as np\n",
    "import pandas as pd"
   ]
  },
  {
   "cell_type": "code",
   "execution_count": 2,
   "id": "d2963b9d-f909-40a6-8fd5-f446582c56e8",
   "metadata": {
    "tags": []
   },
   "outputs": [],
   "source": [
    "# plot\n",
    "import matplotlib.pyplot as plt\n",
    "import seaborn as sns"
   ]
  },
  {
   "cell_type": "code",
   "execution_count": 3,
   "id": "185f3d70-10e6-4cc6-afce-fff2d250faa1",
   "metadata": {
    "tags": []
   },
   "outputs": [],
   "source": [
    "from data import pre_processing\n",
    "from torch_geometric.data import Data\n",
    "from sklearn.model_selection import KFold"
   ]
  },
  {
   "cell_type": "code",
   "execution_count": 4,
   "id": "23dac037-50ff-44fa-975b-2edc3454ba8f",
   "metadata": {
    "tags": []
   },
   "outputs": [],
   "source": [
    "# set seed\n",
    "torch.manual_seed(42)\n",
    "np.random.seed(42)\n",
    "warnings.filterwarnings('ignore')\n",
    "#plt.style.use('seaborn-darkgrid')\n",
    "plt.style.use('seaborn-whitegrid')"
   ]
  },
  {
   "cell_type": "markdown",
   "id": "41ab896f-1d78-48f5-9f94-8df3e17b80a3",
   "metadata": {},
   "source": [
    "## Data"
   ]
  },
  {
   "cell_type": "markdown",
   "id": "70b35d3d-ce08-4116-b292-f77dfc30e2e8",
   "metadata": {},
   "source": [
    "### Edge Features"
   ]
  },
  {
   "cell_type": "code",
   "execution_count": 5,
   "id": "5bfb4ce3-b586-490e-836c-fb7fe0aa3f1b",
   "metadata": {
    "tags": []
   },
   "outputs": [],
   "source": [
    "# df_edges_features = pd.read_parquet('../../data/raw/df_edges.parquet')\n",
    "# df_edges_features.head()"
   ]
  },
  {
   "cell_type": "code",
   "execution_count": 6,
   "id": "93e91f4a-10e5-4699-bc8a-10fa5f3a4213",
   "metadata": {
    "tags": []
   },
   "outputs": [
    {
     "data": {
      "text/html": [
       "<div>\n",
       "<style scoped>\n",
       "    .dataframe tbody tr th:only-of-type {\n",
       "        vertical-align: middle;\n",
       "    }\n",
       "\n",
       "    .dataframe tbody tr th {\n",
       "        vertical-align: top;\n",
       "    }\n",
       "\n",
       "    .dataframe thead th {\n",
       "        text-align: right;\n",
       "    }\n",
       "</style>\n",
       "<table border=\"1\" class=\"dataframe\">\n",
       "  <thead>\n",
       "    <tr style=\"text-align: right;\">\n",
       "      <th></th>\n",
       "      <th>src</th>\n",
       "      <th>dst</th>\n",
       "      <th>distance</th>\n",
       "      <th>src_lat</th>\n",
       "      <th>dst_lat</th>\n",
       "      <th>src_lon</th>\n",
       "      <th>dst_lon</th>\n",
       "    </tr>\n",
       "  </thead>\n",
       "  <tbody>\n",
       "    <tr>\n",
       "      <th>0</th>\n",
       "      <td>100009577</td>\n",
       "      <td>345936831</td>\n",
       "      <td>0.254</td>\n",
       "      <td>-12.901954</td>\n",
       "      <td>-12.902051</td>\n",
       "      <td>-38.419582</td>\n",
       "      <td>-38.417114</td>\n",
       "    </tr>\n",
       "    <tr>\n",
       "      <th>1</th>\n",
       "      <td>100722777</td>\n",
       "      <td>100722778</td>\n",
       "      <td>0.362</td>\n",
       "      <td>-12.899299</td>\n",
       "      <td>-12.896647</td>\n",
       "      <td>-38.407673</td>\n",
       "      <td>-38.408215</td>\n",
       "    </tr>\n",
       "    <tr>\n",
       "      <th>2</th>\n",
       "      <td>100722777</td>\n",
       "      <td>44782645</td>\n",
       "      <td>1.062</td>\n",
       "      <td>-12.899299</td>\n",
       "      <td>-12.899458</td>\n",
       "      <td>-38.407673</td>\n",
       "      <td>-38.412964</td>\n",
       "    </tr>\n",
       "    <tr>\n",
       "      <th>3</th>\n",
       "      <td>100722777</td>\n",
       "      <td>45833440</td>\n",
       "      <td>0.417</td>\n",
       "      <td>-12.899299</td>\n",
       "      <td>-12.896741</td>\n",
       "      <td>-38.407673</td>\n",
       "      <td>-38.408672</td>\n",
       "    </tr>\n",
       "    <tr>\n",
       "      <th>4</th>\n",
       "      <td>100722777</td>\n",
       "      <td>66771046</td>\n",
       "      <td>0.934</td>\n",
       "      <td>-12.899299</td>\n",
       "      <td>-12.896790</td>\n",
       "      <td>-38.407673</td>\n",
       "      <td>-38.412540</td>\n",
       "    </tr>\n",
       "  </tbody>\n",
       "</table>\n",
       "</div>"
      ],
      "text/plain": [
       "         src        dst  distance    src_lat    dst_lat    src_lon    dst_lon\n",
       "0  100009577  345936831     0.254 -12.901954 -12.902051 -38.419582 -38.417114\n",
       "1  100722777  100722778     0.362 -12.899299 -12.896647 -38.407673 -38.408215\n",
       "2  100722777   44782645     1.062 -12.899299 -12.899458 -38.407673 -38.412964\n",
       "3  100722777   45833440     0.417 -12.899299 -12.896741 -38.407673 -38.408672\n",
       "4  100722777   66771046     0.934 -12.899299 -12.896790 -38.407673 -38.412540"
      ]
     },
     "execution_count": 6,
     "metadata": {},
     "output_type": "execute_result"
    }
   ],
   "source": [
    "df_edges_features = pd.read_parquet('../../data/graph_designer/graph_gtfs_fev_2024.parquet')\n",
    "df_edges_features.head()"
   ]
  },
  {
   "cell_type": "markdown",
   "id": "62261cf3-a9d5-4f10-a154-5630d1032854",
   "metadata": {},
   "source": [
    "### Node Features"
   ]
  },
  {
   "cell_type": "code",
   "execution_count": 7,
   "id": "a4fcc5b1-0e44-45ad-88a8-01b152225f72",
   "metadata": {
    "tags": []
   },
   "outputs": [
    {
     "data": {
      "text/html": [
       "<div>\n",
       "<style scoped>\n",
       "    .dataframe tbody tr th:only-of-type {\n",
       "        vertical-align: middle;\n",
       "    }\n",
       "\n",
       "    .dataframe tbody tr th {\n",
       "        vertical-align: top;\n",
       "    }\n",
       "\n",
       "    .dataframe thead th {\n",
       "        text-align: right;\n",
       "    }\n",
       "</style>\n",
       "<table border=\"1\" class=\"dataframe\">\n",
       "  <thead>\n",
       "    <tr style=\"text-align: right;\">\n",
       "      <th></th>\n",
       "      <th>ponto</th>\n",
       "      <th>carregamento</th>\n",
       "      <th>desce</th>\n",
       "      <th>linha</th>\n",
       "      <th>sobe</th>\n",
       "      <th>trip_id</th>\n",
       "      <th>veiculo</th>\n",
       "      <th>vm</th>\n",
       "      <th>target</th>\n",
       "    </tr>\n",
       "  </thead>\n",
       "  <tbody>\n",
       "    <tr>\n",
       "      <th>0</th>\n",
       "      <td>100009577</td>\n",
       "      <td>0.946667</td>\n",
       "      <td>0.026667</td>\n",
       "      <td>1.080000</td>\n",
       "      <td>0.480000</td>\n",
       "      <td>1.106667</td>\n",
       "      <td>1.093333</td>\n",
       "      <td>8.275914</td>\n",
       "      <td>devagar</td>\n",
       "    </tr>\n",
       "    <tr>\n",
       "      <th>1</th>\n",
       "      <td>100722777</td>\n",
       "      <td>22.069444</td>\n",
       "      <td>5.222222</td>\n",
       "      <td>1.666667</td>\n",
       "      <td>4.840278</td>\n",
       "      <td>1.750000</td>\n",
       "      <td>1.750000</td>\n",
       "      <td>20.951829</td>\n",
       "      <td>normal</td>\n",
       "    </tr>\n",
       "    <tr>\n",
       "      <th>2</th>\n",
       "      <td>100722778</td>\n",
       "      <td>21.402516</td>\n",
       "      <td>1.666667</td>\n",
       "      <td>1.773585</td>\n",
       "      <td>0.081761</td>\n",
       "      <td>2.056604</td>\n",
       "      <td>2.056604</td>\n",
       "      <td>13.930104</td>\n",
       "      <td>normal</td>\n",
       "    </tr>\n",
       "    <tr>\n",
       "      <th>3</th>\n",
       "      <td>101214305</td>\n",
       "      <td>7.982759</td>\n",
       "      <td>4.465517</td>\n",
       "      <td>1.000000</td>\n",
       "      <td>0.620690</td>\n",
       "      <td>1.000000</td>\n",
       "      <td>1.000000</td>\n",
       "      <td>17.759792</td>\n",
       "      <td>normal</td>\n",
       "    </tr>\n",
       "    <tr>\n",
       "      <th>4</th>\n",
       "      <td>101269104</td>\n",
       "      <td>77.882653</td>\n",
       "      <td>16.591837</td>\n",
       "      <td>4.540816</td>\n",
       "      <td>10.285714</td>\n",
       "      <td>5.520408</td>\n",
       "      <td>5.520408</td>\n",
       "      <td>36.548041</td>\n",
       "      <td>normal</td>\n",
       "    </tr>\n",
       "  </tbody>\n",
       "</table>\n",
       "</div>"
      ],
      "text/plain": [
       "       ponto  carregamento      desce     linha       sobe   trip_id  \\\n",
       "0  100009577      0.946667   0.026667  1.080000   0.480000  1.106667   \n",
       "1  100722777     22.069444   5.222222  1.666667   4.840278  1.750000   \n",
       "2  100722778     21.402516   1.666667  1.773585   0.081761  2.056604   \n",
       "3  101214305      7.982759   4.465517  1.000000   0.620690  1.000000   \n",
       "4  101269104     77.882653  16.591837  4.540816  10.285714  5.520408   \n",
       "\n",
       "    veiculo         vm   target  \n",
       "0  1.093333   8.275914  devagar  \n",
       "1  1.750000  20.951829   normal  \n",
       "2  2.056604  13.930104   normal  \n",
       "3  1.000000  17.759792   normal  \n",
       "4  5.520408  36.548041   normal  "
      ]
     },
     "execution_count": 7,
     "metadata": {},
     "output_type": "execute_result"
    }
   ],
   "source": [
    "df_node_features = pd.read_parquet('../../data/raw/df_features.parquet')\n",
    "df_node_features.head()"
   ]
  },
  {
   "cell_type": "code",
   "execution_count": 8,
   "id": "235aa96f-61d4-4cda-b535-20067548dbc1",
   "metadata": {},
   "outputs": [
    {
     "data": {
      "text/html": [
       "<div>\n",
       "<style scoped>\n",
       "    .dataframe tbody tr th:only-of-type {\n",
       "        vertical-align: middle;\n",
       "    }\n",
       "\n",
       "    .dataframe tbody tr th {\n",
       "        vertical-align: top;\n",
       "    }\n",
       "\n",
       "    .dataframe thead th {\n",
       "        text-align: right;\n",
       "    }\n",
       "</style>\n",
       "<table border=\"1\" class=\"dataframe\">\n",
       "  <thead>\n",
       "    <tr style=\"text-align: right;\">\n",
       "      <th></th>\n",
       "      <th>ponto</th>\n",
       "      <th>carregamento</th>\n",
       "      <th>desce</th>\n",
       "      <th>linha</th>\n",
       "      <th>sobe</th>\n",
       "      <th>trip_id</th>\n",
       "      <th>veiculo</th>\n",
       "      <th>vm</th>\n",
       "      <th>target</th>\n",
       "    </tr>\n",
       "  </thead>\n",
       "  <tbody>\n",
       "    <tr>\n",
       "      <th>0</th>\n",
       "      <td>100009577</td>\n",
       "      <td>0.946667</td>\n",
       "      <td>0.026667</td>\n",
       "      <td>1.080000</td>\n",
       "      <td>0.480000</td>\n",
       "      <td>1.106667</td>\n",
       "      <td>1.093333</td>\n",
       "      <td>8.275914</td>\n",
       "      <td>devagar</td>\n",
       "    </tr>\n",
       "    <tr>\n",
       "      <th>1</th>\n",
       "      <td>100722777</td>\n",
       "      <td>22.069444</td>\n",
       "      <td>5.222222</td>\n",
       "      <td>1.666667</td>\n",
       "      <td>4.840278</td>\n",
       "      <td>1.750000</td>\n",
       "      <td>1.750000</td>\n",
       "      <td>20.951829</td>\n",
       "      <td>normal</td>\n",
       "    </tr>\n",
       "    <tr>\n",
       "      <th>2</th>\n",
       "      <td>100722778</td>\n",
       "      <td>21.402516</td>\n",
       "      <td>1.666667</td>\n",
       "      <td>1.773585</td>\n",
       "      <td>0.081761</td>\n",
       "      <td>2.056604</td>\n",
       "      <td>2.056604</td>\n",
       "      <td>13.930104</td>\n",
       "      <td>normal</td>\n",
       "    </tr>\n",
       "    <tr>\n",
       "      <th>3</th>\n",
       "      <td>101214305</td>\n",
       "      <td>7.982759</td>\n",
       "      <td>4.465517</td>\n",
       "      <td>1.000000</td>\n",
       "      <td>0.620690</td>\n",
       "      <td>1.000000</td>\n",
       "      <td>1.000000</td>\n",
       "      <td>17.759792</td>\n",
       "      <td>normal</td>\n",
       "    </tr>\n",
       "    <tr>\n",
       "      <th>4</th>\n",
       "      <td>101269104</td>\n",
       "      <td>77.882653</td>\n",
       "      <td>16.591837</td>\n",
       "      <td>4.540816</td>\n",
       "      <td>10.285714</td>\n",
       "      <td>5.520408</td>\n",
       "      <td>5.520408</td>\n",
       "      <td>36.548041</td>\n",
       "      <td>normal</td>\n",
       "    </tr>\n",
       "  </tbody>\n",
       "</table>\n",
       "</div>"
      ],
      "text/plain": [
       "       ponto  carregamento      desce     linha       sobe   trip_id  \\\n",
       "0  100009577      0.946667   0.026667  1.080000   0.480000  1.106667   \n",
       "1  100722777     22.069444   5.222222  1.666667   4.840278  1.750000   \n",
       "2  100722778     21.402516   1.666667  1.773585   0.081761  2.056604   \n",
       "3  101214305      7.982759   4.465517  1.000000   0.620690  1.000000   \n",
       "4  101269104     77.882653  16.591837  4.540816  10.285714  5.520408   \n",
       "\n",
       "    veiculo         vm   target  \n",
       "0  1.093333   8.275914  devagar  \n",
       "1  1.750000  20.951829   normal  \n",
       "2  2.056604  13.930104   normal  \n",
       "3  1.000000  17.759792   normal  \n",
       "4  5.520408  36.548041   normal  "
      ]
     },
     "execution_count": 8,
     "metadata": {},
     "output_type": "execute_result"
    }
   ],
   "source": [
    "df_node_features = pd.read_parquet('../../data/raw/df_features.parquet')\n",
    "df_node_features.head()"
   ]
  },
  {
   "cell_type": "code",
   "execution_count": 9,
   "id": "fad6e6e3-0e3f-4564-a3c8-9053bd010643",
   "metadata": {},
   "outputs": [
    {
     "data": {
      "text/plain": [
       "<AxesSubplot:ylabel='Count'>"
      ]
     },
     "execution_count": 9,
     "metadata": {},
     "output_type": "execute_result"
    },
    {
     "data": {
      "image/png": "[encoded data removed]",
      "text/plain": [
       "<Figure size 432x288 with 1 Axes>"
      ]
     },
     "metadata": {
      "needs_background": "light"
     },
     "output_type": "display_data"
    }
   ],
   "source": [
    "sns.histplot(df_node_features.carregamento.values)"
   ]
  },
  {
   "cell_type": "code",
   "execution_count": 10,
   "id": "10ffdbe3-070b-4853-97a3-394da006e4f8",
   "metadata": {},
   "outputs": [],
   "source": [
    "# Função para remover outliers\n",
    "def remove_outliers(df, column):\n",
    "    Q1 = df[column].quantile(0.25)\n",
    "    Q3 = df[column].quantile(0.75)\n",
    "    IQR = Q3 - Q1\n",
    "    lower_bound = Q1 - 1.5 * IQR\n",
    "    upper_bound = Q3 + 1.5 * IQR\n",
    "    filtered_df = df[(df[column] >= lower_bound) & (df[column] <= upper_bound)]\n",
    "    return filtered_df"
   ]
  },
  {
   "cell_type": "code",
   "execution_count": 12,
   "id": "d44141da-71bb-434e-a817-9968e6eb1086",
   "metadata": {},
   "outputs": [],
   "source": [
    "# mudar a cor do box para pastel\n",
    "# sns.boxplot(df_node_features.carregamento.values, \n",
    "#             color='',\n",
    "#             showfliers = False)"
   ]
  },
  {
   "cell_type": "code",
   "execution_count": 13,
   "id": "1e52ab59-cddd-46c8-a107-9969ef93c3c4",
   "metadata": {
    "tags": []
   },
   "outputs": [
    {
     "data": {
      "text/plain": [
       "count    2833.000000\n",
       "mean       20.003774\n",
       "std        19.774341\n",
       "min         0.000000\n",
       "25%         7.129252\n",
       "50%        13.945946\n",
       "75%        26.725610\n",
       "max       246.583333\n",
       "Name: carregamento, dtype: float64"
      ]
     },
     "execution_count": 13,
     "metadata": {},
     "output_type": "execute_result"
    }
   ],
   "source": [
    "df_node_features.carregamento.describe()"
   ]
  },
  {
   "cell_type": "markdown",
   "id": "539814e1-81a0-4315-a7fc-e9c677eae62b",
   "metadata": {
    "tags": []
   },
   "source": [
    "### Target"
   ]
  },
  {
   "cell_type": "code",
   "execution_count": 14,
   "id": "48a29521-185c-4154-90d4-5879d51dc628",
   "metadata": {
    "tags": []
   },
   "outputs": [],
   "source": [
    "df_node_features['ocupation'] = 'maximo'\n",
    "df_node_features['ocupation'][df_node_features.query(\" carregamento < 7 \").index] = 'baixa'\n",
    "df_node_features['ocupation'][df_node_features.query(\" carregamento >= 7 and carregamento < 13 \").index]  = 'medio'\n",
    "df_node_features['ocupation'][df_node_features.query(\" carregamento >= 13 and carregamento < 26 \").index]  = 'alto'"
   ]
  },
  {
   "cell_type": "code",
   "execution_count": null,
   "id": "955cdff0-c7ea-4dbc-9983-0c3480a73ad7",
   "metadata": {
    "tags": []
   },
   "outputs": [],
   "source": [
    "df_node_features['ocupation'].value_counts(dropna=False)"
   ]
  },
  {
   "cell_type": "markdown",
   "id": "74c68f70-0a2f-4639-89ce-5602de34c8c2",
   "metadata": {},
   "source": [
    "### Pre-processing"
   ]
  },
  {
   "cell_type": "code",
   "execution_count": null,
   "id": "9c66a32a-3d4e-4ffb-8bbe-c4b0d1042a43",
   "metadata": {
    "tags": []
   },
   "outputs": [],
   "source": [
    "df_node_features = df_node_features.drop(['target'], axis=1)\n",
    "df_node_features = df_node_features.rename({'ponto': 'leg_pos'}, axis=1)\n",
    "df_node_features = df_node_features.astype({'leg_pos': str})\n",
    "\n",
    "#df_edges_features = df_edges_features.drop(['vm_edge'], axis=1)\n",
    "df_edges_features.head()"
   ]
  },
  {
   "cell_type": "code",
   "execution_count": null,
   "id": "20f4d643-04d0-46cf-be85-410b1ac17289",
   "metadata": {
    "tags": []
   },
   "outputs": [],
   "source": [
    "# columns to select as features\n",
    "features_cols = ['vm', 'desce', 'linha', 'sobe', 'trip_id', 'veiculo', 'ocupation']"
   ]
  },
  {
   "cell_type": "code",
   "execution_count": null,
   "id": "3de02000-516c-48fb-a3f4-f50358b4b6b9",
   "metadata": {},
   "outputs": [],
   "source": [
    "df_edges_features = df_edges_features.rename({'src': 'pos1', 'dst': 'pos2', 'distance': 'weight'}, axis=1)\n",
    "df_edges_features = df_edges_features.astype({'pos1': str, 'pos2': str})\n",
    "df_edges_features.head()"
   ]
  },
  {
   "cell_type": "code",
   "execution_count": null,
   "id": "77a5f4a7-0706-448b-923d-a3f02f0ee1a1",
   "metadata": {
    "tags": []
   },
   "outputs": [],
   "source": [
    "df_node_features.head()"
   ]
  },
  {
   "cell_type": "code",
   "execution_count": null,
   "id": "02e1435c-b7d5-4449-a24c-6df312e02cfe",
   "metadata": {},
   "outputs": [],
   "source": [
    "df_node_features.ocupation.value_counts(dropna=False)"
   ]
  },
  {
   "cell_type": "code",
   "execution_count": null,
   "id": "7bcac5a6-7191-4a62-894e-4d0668bca2e6",
   "metadata": {
    "tags": []
   },
   "outputs": [],
   "source": [
    "x, y, edge_index, edge_weights, pos =  pre_processing(df_edges_features, \n",
    "                                                                df_node_features, \n",
    "                                                                features_cols,\n",
    "                                                                col_target='ocupation')"
   ]
  },
  {
   "cell_type": "code",
   "execution_count": null,
   "id": "7e899c86-8360-4ab3-9760-66783e293221",
   "metadata": {
    "tags": []
   },
   "outputs": [],
   "source": [
    "y_ohe = torch.nn.functional.one_hot(y).float()\n",
    "y_ohe.shape"
   ]
  },
  {
   "cell_type": "code",
   "execution_count": null,
   "id": "aedde066-ba42-4aaa-a1f2-3f07d5b7565f",
   "metadata": {
    "tags": []
   },
   "outputs": [],
   "source": [
    "x.shape, y.shape, edge_index.shape, edge_weights.shape, y_ohe.shape"
   ]
  },
  {
   "cell_type": "code",
   "execution_count": null,
   "id": "8e9df4ec-e44e-4553-bae7-3dda53a14a2b",
   "metadata": {
    "tags": []
   },
   "outputs": [],
   "source": [
    "sns.boxplot(edge_weights.numpy())"
   ]
  },
  {
   "cell_type": "markdown",
   "id": "fad40fb7-daf7-4d43-96c3-f071016ac629",
   "metadata": {},
   "source": [
    "## Create K Fold"
   ]
  },
  {
   "cell_type": "code",
   "execution_count": null,
   "id": "df7fee5b-8b4e-4b3d-8002-be367247c78c",
   "metadata": {
    "tags": []
   },
   "outputs": [],
   "source": [
    "folder = '../../data/graph_designer/train_test_node_classification/'"
   ]
  },
  {
   "cell_type": "code",
   "execution_count": null,
   "id": "d1cd92be-6907-4807-aae0-b7b7083acb90",
   "metadata": {
    "tags": []
   },
   "outputs": [],
   "source": [
    "kf = KFold(n_splits=10, shuffle=True, random_state=42)\n",
    "\n",
    "for fold, (train_idx, test_idx) in enumerate(kf.split(x)):\n",
    "    fold_idx = fold + 1\n",
    "    print(f\"Fold {fold_idx}\")\n",
    "\n",
    "    # Create Data objects\n",
    "    data = Data(\n",
    "        x=x,\n",
    "        y=y_ohe,\n",
    "        edge_index=edge_index.t(),\n",
    "        edge_attr=edge_weights\n",
    "    )\n",
    "\n",
    "    \n",
    "    data['train_mask'] = train_idx\n",
    "    data['test_mask'] = test_idx\n",
    "    \n",
    "    # save\n",
    "    torch.save(data, f'{folder}data_{fold_idx}.pt')\n",
    "\n",
    "    # Print out the fold results (or store them for later analysis)\n",
    "    print(f\"Train data: {data}\")"
   ]
  },
  {
   "cell_type": "code",
   "execution_count": null,
   "id": "44fa6487-2bc7-48c5-a321-3682f931cfc7",
   "metadata": {},
   "outputs": [],
   "source": []
  }
 ],
 "metadata": {
  "kernelspec": {
   "display_name": "Python 3 (ipykernel)",
   "language": "python",
   "name": "python3"
  },
  "language_info": {
   "codemirror_mode": {
    "name": "ipython",
    "version": 3
   },
   "file_extension": ".py",
   "mimetype": "text/x-python",
   "name": "python",
   "nbconvert_exporter": "python",
   "pygments_lexer": "ipython3",
   "version": "3.7.13"
  }
 },
 "nbformat": 4,
 "nbformat_minor": 5
}
