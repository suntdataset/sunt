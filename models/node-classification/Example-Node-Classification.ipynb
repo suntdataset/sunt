{
 "cells": [
  {
   "cell_type": "code",
   "execution_count": 1,
   "id": "53225fd3-3489-4480-af16-4e1f254e8a43",
   "metadata": {
    "tags": []
   },
   "outputs": [],
   "source": [
    "import torch\n",
    "from collections import Counter\n",
    "# model\n",
    "import models as mm\n",
    "# val\n",
    "from sklearn.metrics import accuracy_score, precision_score, recall_score, f1_score\n",
    "from sklearn.metrics import confusion_matrix, matthews_corrcoef\n",
    "# plot\n",
    "import seaborn as sns\n",
    "import matplotlib.pyplot as plt"
   ]
  },
  {
   "cell_type": "code",
   "execution_count": 18,
   "id": "c12cb1ca-a055-48ef-87d3-23aac7c408e1",
   "metadata": {},
   "outputs": [],
   "source": [
    "from torch_geometric.nn import summary as summary_gnn"
   ]
  },
  {
   "cell_type": "code",
   "execution_count": 2,
   "id": "513e3d3d-736f-4a61-be7d-4c6b9cdeaf66",
   "metadata": {
    "tags": []
   },
   "outputs": [],
   "source": [
    "plt.style.use('seaborn-whitegrid')"
   ]
  },
  {
   "cell_type": "markdown",
   "id": "7d8593fe-cf1b-47f6-9331-a0e99d3bbd3a",
   "metadata": {},
   "source": [
    "## Data"
   ]
  },
  {
   "cell_type": "code",
   "execution_count": 3,
   "id": "de136a21-b679-4954-a962-06848106e3a2",
   "metadata": {
    "tags": []
   },
   "outputs": [],
   "source": [
    "fold_idx = 1"
   ]
  },
  {
   "cell_type": "code",
   "execution_count": 20,
   "id": "97951ad9-335e-49b8-ad28-d535ffb9ad8f",
   "metadata": {
    "tags": []
   },
   "outputs": [
    {
     "data": {
      "text/plain": [
       "Data(x=[2810, 5], edge_index=[2, 4418], edge_attr=[4418, 1], y=[2810, 1], train_mask=[2529], test_mask=[281])"
      ]
     },
     "execution_count": 20,
     "metadata": {},
     "output_type": "execute_result"
    }
   ],
   "source": [
    "#data = torch.load(f'../../data/graph_designer/train_test_node_classification/data_{fold_idx}.pt')\n",
    "data = torch.load(f'../../data/graph_designer/train_test_node_classification_days/data_{fold_idx}.pt')\n",
    "data "
   ]
  },
  {
   "cell_type": "markdown",
   "id": "4bc62d8b-2434-4c51-a748-2b90a04e656e",
   "metadata": {},
   "source": [
    "## Model"
   ]
  },
  {
   "cell_type": "code",
   "execution_count": 21,
   "id": "23dc3525-57d6-4b0c-b649-3c0d3f861046",
   "metadata": {
    "tags": []
   },
   "outputs": [
    {
     "data": {
      "text/plain": [
       "(5, torch.Size([4418, 1]), tensor([0.2540]))"
      ]
     },
     "execution_count": 21,
     "metadata": {},
     "output_type": "execute_result"
    }
   ],
   "source": [
    "data.num_features, data.edge_attr.shape, data.edge_attr[0]"
   ]
  },
  {
   "cell_type": "code",
   "execution_count": 22,
   "id": "cfe09373-f3f6-4ed7-bd0a-221701e6540c",
   "metadata": {
    "tags": []
   },
   "outputs": [
    {
     "data": {
      "text/plain": [
       "GCN(\n",
       "  (conv1): GCNConv(5, 64)\n",
       "  (linear): Linear(in_features=64, out_features=1, bias=True)\n",
       ")"
      ]
     },
     "execution_count": 22,
     "metadata": {},
     "output_type": "execute_result"
    }
   ],
   "source": [
    "device = torch.device('cuda' if torch.cuda.is_available() else 'cpu')\n",
    "model = mm.GCN(data.num_features, \n",
    "               64, \n",
    "               data.y.shape[1]).to(device)\n",
    "\n",
    "optimizer = torch.optim.Adam(model.parameters(), lr=0.01)\n",
    "criterion = torch.nn.CrossEntropyLoss()\n",
    "model"
   ]
  },
  {
   "cell_type": "code",
   "execution_count": null,
   "id": "66c5c49f-2c1c-489c-9437-ae3f96c67fc0",
   "metadata": {},
   "outputs": [],
   "source": []
  },
  {
   "cell_type": "code",
   "execution_count": 23,
   "id": "a5113dba-ae9f-4071-b66e-d20ebd777c1f",
   "metadata": {},
   "outputs": [
    {
     "name": "stdout",
     "output_type": "stream",
     "text": [
      "+------------------+---------------------------------+----------------+----------+\n",
      "| Layer            | Input Shape                     | Output Shape   |   #Param |\n",
      "|------------------+---------------------------------+----------------+----------|\n",
      "| GCN              | [2810, 5], [2, 4418], [4418, 1] | [2810, 1]      |      449 |\n",
      "| ├─(conv1)GCNConv | [2810, 5], [2, 4418], [4418, 1] | [2810, 64]     |      384 |\n",
      "| ├─(linear)Linear | [2810, 64]                      | [2810, 1]      |       65 |\n",
      "+------------------+---------------------------------+----------------+----------+\n"
     ]
    }
   ],
   "source": [
    "print(summary_gnn(model, data.x, data.edge_index, data.edge_attr))"
   ]
  },
  {
   "cell_type": "code",
   "execution_count": 7,
   "id": "293c68d2-6db8-4e88-a4c2-80e7b95739d9",
   "metadata": {
    "tags": []
   },
   "outputs": [],
   "source": [
    "def train(data):\n",
    "    model.train()\n",
    "    optimizer.zero_grad()\n",
    "    out = model(data.x.to(device), \n",
    "                data.edge_index.to(device),\n",
    "                data.edge_attr.to(device))\n",
    "    loss = criterion(out[data.train_mask], data.y[data.train_mask].to(device)) \n",
    "    #loss = criterion(out, train_data.edge_label.to(device))\n",
    "    loss.backward()\n",
    "    optimizer.step()\n",
    "    return loss.item()"
   ]
  },
  {
   "cell_type": "code",
   "execution_count": 8,
   "id": "fb80c6b7-c86e-470e-8fe4-8f3736450a1e",
   "metadata": {
    "tags": []
   },
   "outputs": [],
   "source": [
    "def test(data):\n",
    "    model.eval()\n",
    "    with torch.no_grad():\n",
    "        out = model(data.x.to(device), \n",
    "                    data.edge_index.to(device),\n",
    "                    data.edge_attr.to(device))\n",
    "        #print(f\"out: {out.shape}\")\n",
    "        pred = out[data.test_mask].argmax(dim=1)\n",
    "        true = data.y[data.test_mask].to(device).argmax(dim=1)\n",
    "        return pred, true"
   ]
  },
  {
   "cell_type": "code",
   "execution_count": 9,
   "id": "e3093871-1bcc-4ac7-9e4c-00aaa8e9f17f",
   "metadata": {
    "tags": []
   },
   "outputs": [],
   "source": [
    "loss_scores = [train(data) for _ in range(100)]"
   ]
  },
  {
   "cell_type": "code",
   "execution_count": 10,
   "id": "978c42f1-a21a-459d-b4f8-f23c92ee2c8e",
   "metadata": {
    "tags": []
   },
   "outputs": [
    {
     "data": {
      "image/png": "[encoded data removed]",
      "text/plain": [
       "<Figure size 432x288 with 1 Axes>"
      ]
     },
     "metadata": {
      "needs_background": "light"
     },
     "output_type": "display_data"
    }
   ],
   "source": [
    "plt.plot(loss_scores)\n",
    "plt.show()"
   ]
  },
  {
   "cell_type": "code",
   "execution_count": 11,
   "id": "8b07a354-a0ad-4c18-bb36-eb832f0413e7",
   "metadata": {
    "tags": []
   },
   "outputs": [],
   "source": [
    "y_true, y_pred = test(data)"
   ]
  },
  {
   "cell_type": "code",
   "execution_count": 12,
   "id": "30024c30-e465-4237-a0bc-5fab453a2596",
   "metadata": {
    "tags": []
   },
   "outputs": [
    {
     "name": "stdout",
     "output_type": "stream",
     "text": [
      "Confusion Matrix:\n",
      "[[204  25]\n",
      " [  0  53]]\n",
      "MCC: 0.7780150103944392\n"
     ]
    }
   ],
   "source": [
    "# Compute confusion matrix\n",
    "conf_matrix = confusion_matrix(y_true, y_pred)\n",
    "print(\"Confusion Matrix:\")\n",
    "print(conf_matrix)\n",
    "\n",
    "# Compute MCC\n",
    "mcc = matthews_corrcoef(y_true, y_pred)\n",
    "print(\"MCC:\", mcc)"
   ]
  },
  {
   "cell_type": "code",
   "execution_count": 13,
   "id": "928fd7c9-914d-4709-b3b0-6362f8aae03d",
   "metadata": {},
   "outputs": [
    {
     "data": {
      "text/plain": [
       "array([204,  25,   0,  53])"
      ]
     },
     "execution_count": 13,
     "metadata": {},
     "output_type": "execute_result"
    }
   ],
   "source": [
    "# tn, fp, fn, tp\n",
    "conf_matrix.ravel()"
   ]
  },
  {
   "cell_type": "code",
   "execution_count": 14,
   "id": "c33a5ca7-b436-4959-ac78-996e0f98c572",
   "metadata": {},
   "outputs": [],
   "source": [
    "# TN FP\n",
    "# FN TP"
   ]
  },
  {
   "cell_type": "code",
   "execution_count": 15,
   "id": "c0897d76-4ceb-4dbd-8cc4-15cf0db6a2a9",
   "metadata": {
    "tags": []
   },
   "outputs": [
    {
     "data": {
      "text/plain": [
       "(0.9113475177304965, 0.6794871794871795, 1.0, 0.8091603053435115)"
      ]
     },
     "execution_count": 15,
     "metadata": {},
     "output_type": "execute_result"
    }
   ],
   "source": [
    "accuracy = accuracy_score(y_true, y_pred) \n",
    "prec     = precision_score(y_true, y_pred, average='binary')\n",
    "rec      = recall_score(y_true, y_pred, average='binary')\n",
    "f1       = f1_score(y_true, y_pred, average='binary')\n",
    "\n",
    "accuracy, prec, rec, f1"
   ]
  },
  {
   "cell_type": "code",
   "execution_count": 16,
   "id": "6d3bef9b-aa5c-46c4-bb5e-e44f2464db4f",
   "metadata": {
    "tags": []
   },
   "outputs": [
    {
     "data": {
      "text/plain": [
       "'\\n(0.7852112676056338,\\n 0.7873526347480926,\\n 0.7890330045061503,\\n 0.7859242853346569)\\n'"
      ]
     },
     "execution_count": 16,
     "metadata": {},
     "output_type": "execute_result"
    }
   ],
   "source": [
    "'''\n",
    "(0.7852112676056338,\n",
    " 0.7873526347480926,\n",
    " 0.7890330045061503,\n",
    " 0.7859242853346569)\n",
    "'''"
   ]
  },
  {
   "cell_type": "code",
   "execution_count": 17,
   "id": "877795aa-63c4-4a1a-99b6-fa5c1e6f9356",
   "metadata": {
    "tags": []
   },
   "outputs": [
    {
     "data": {
      "image/png": "[encoded data removed]",
      "text/plain": [
       "<Figure size 576x432 with 2 Axes>"
      ]
     },
     "metadata": {
      "needs_background": "light"
     },
     "output_type": "display_data"
    }
   ],
   "source": [
    "# Create a heatmap plot of the confusion matrix\n",
    "keys = Counter(y_true.numpy())\n",
    "plt.figure(figsize=(8, 6))\n",
    "sns.heatmap(conf_matrix, annot=True, \n",
    "            fmt='d', cmap='Blues', \n",
    "            xticklabels=sorted(keys.keys()), \n",
    "            yticklabels=sorted(keys.keys()))\n",
    "\n",
    "plt.xlabel('Predicted Labels')\n",
    "plt.ylabel('Actual Labels')\n",
    "plt.title('Confusion Matrix')\n",
    "plt.show()"
   ]
  },
  {
   "cell_type": "code",
   "execution_count": null,
   "id": "dad666ef-a3e8-4c99-83b8-8c6d780f6232",
   "metadata": {},
   "outputs": [],
   "source": []
  }
 ],
 "metadata": {
  "kernelspec": {
   "display_name": "Python 3 (ipykernel)",
   "language": "python",
   "name": "python3"
  },
  "language_info": {
   "codemirror_mode": {
    "name": "ipython",
    "version": 3
   },
   "file_extension": ".py",
   "mimetype": "text/x-python",
   "name": "python",
   "nbconvert_exporter": "python",
   "pygments_lexer": "ipython3",
   "version": "3.7.13"
  }
 },
 "nbformat": 4,
 "nbformat_minor": 5
}
