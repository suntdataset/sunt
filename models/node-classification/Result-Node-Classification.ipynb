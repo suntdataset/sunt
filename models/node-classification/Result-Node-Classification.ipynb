{
 "cells": [
  {
   "cell_type": "code",
   "execution_count": 1,
   "id": "365011b6-401f-454a-9dfd-4a24e6048651",
   "metadata": {
    "tags": []
   },
   "outputs": [],
   "source": [
    "# basic\n",
    "import os\n",
    "import numpy as np\n",
    "import pandas as pd\n",
    "from tqdm import tqdm\n",
    "from sklearn import metrics\n",
    "from sklearn.metrics import roc_curve, auc\n",
    "# plot\n",
    "import seaborn as sns\n",
    "import matplotlib.pyplot as plt"
   ]
  },
  {
   "cell_type": "code",
   "execution_count": 2,
   "id": "b0b43e51-361c-4ee3-9c45-31855d3a04b5",
   "metadata": {
    "tags": []
   },
   "outputs": [],
   "source": [
    "sns.set_style(\"whitegrid\")\n",
    "sns.axes_style(\"whitegrid\")\n",
    "plt.style.use('seaborn-whitegrid')\n",
    "pd.set_option('display.float_format', '{:.2f}'.format)"
   ]
  },
  {
   "cell_type": "code",
   "execution_count": 3,
   "id": "acbeb40c-5b7a-4141-913e-ba5fc5d2cc99",
   "metadata": {
    "tags": []
   },
   "outputs": [
    {
     "data": {
      "text/html": [
       "<div>\n",
       "<style scoped>\n",
       "    .dataframe tbody tr th:only-of-type {\n",
       "        vertical-align: middle;\n",
       "    }\n",
       "\n",
       "    .dataframe tbody tr th {\n",
       "        vertical-align: top;\n",
       "    }\n",
       "\n",
       "    .dataframe thead th {\n",
       "        text-align: right;\n",
       "    }\n",
       "</style>\n",
       "<table border=\"1\" class=\"dataframe\">\n",
       "  <thead>\n",
       "    <tr style=\"text-align: right;\">\n",
       "      <th></th>\n",
       "      <th>model</th>\n",
       "      <th>accuracy</th>\n",
       "      <th>mcc</th>\n",
       "      <th>precision</th>\n",
       "      <th>recall</th>\n",
       "      <th>tn</th>\n",
       "      <th>fp</th>\n",
       "      <th>fn</th>\n",
       "      <th>tp</th>\n",
       "      <th>f1</th>\n",
       "      <th>fold</th>\n",
       "      <th>model_name</th>\n",
       "    </tr>\n",
       "  </thead>\n",
       "  <tbody>\n",
       "    <tr>\n",
       "      <th>0</th>\n",
       "      <td>gat_1</td>\n",
       "      <td>0.89</td>\n",
       "      <td>0.77</td>\n",
       "      <td>0.87</td>\n",
       "      <td>0.86</td>\n",
       "      <td>149</td>\n",
       "      <td>15</td>\n",
       "      <td>16</td>\n",
       "      <td>101</td>\n",
       "      <td>0.87</td>\n",
       "      <td>1</td>\n",
       "      <td>gat</td>\n",
       "    </tr>\n",
       "    <tr>\n",
       "      <th>1</th>\n",
       "      <td>cheb_1</td>\n",
       "      <td>1.00</td>\n",
       "      <td>1.00</td>\n",
       "      <td>1.00</td>\n",
       "      <td>1.00</td>\n",
       "      <td>164</td>\n",
       "      <td>0</td>\n",
       "      <td>0</td>\n",
       "      <td>117</td>\n",
       "      <td>1.00</td>\n",
       "      <td>1</td>\n",
       "      <td>cheb</td>\n",
       "    </tr>\n",
       "    <tr>\n",
       "      <th>2</th>\n",
       "      <td>gcn_1</td>\n",
       "      <td>0.93</td>\n",
       "      <td>0.85</td>\n",
       "      <td>0.87</td>\n",
       "      <td>0.97</td>\n",
       "      <td>147</td>\n",
       "      <td>17</td>\n",
       "      <td>4</td>\n",
       "      <td>113</td>\n",
       "      <td>0.91</td>\n",
       "      <td>1</td>\n",
       "      <td>gcn</td>\n",
       "    </tr>\n",
       "    <tr>\n",
       "      <th>3</th>\n",
       "      <td>sage_1</td>\n",
       "      <td>0.94</td>\n",
       "      <td>0.88</td>\n",
       "      <td>0.98</td>\n",
       "      <td>0.88</td>\n",
       "      <td>162</td>\n",
       "      <td>2</td>\n",
       "      <td>14</td>\n",
       "      <td>103</td>\n",
       "      <td>0.93</td>\n",
       "      <td>1</td>\n",
       "      <td>sage</td>\n",
       "    </tr>\n",
       "    <tr>\n",
       "      <th>4</th>\n",
       "      <td>gat_2</td>\n",
       "      <td>0.87</td>\n",
       "      <td>0.75</td>\n",
       "      <td>0.76</td>\n",
       "      <td>0.95</td>\n",
       "      <td>145</td>\n",
       "      <td>31</td>\n",
       "      <td>5</td>\n",
       "      <td>100</td>\n",
       "      <td>0.85</td>\n",
       "      <td>2</td>\n",
       "      <td>gat</td>\n",
       "    </tr>\n",
       "  </tbody>\n",
       "</table>\n",
       "</div>"
      ],
      "text/plain": [
       "    model  accuracy  mcc  precision  recall   tn  fp  fn   tp   f1  fold  \\\n",
       "0   gat_1      0.89 0.77       0.87    0.86  149  15  16  101 0.87     1   \n",
       "1  cheb_1      1.00 1.00       1.00    1.00  164   0   0  117 1.00     1   \n",
       "2   gcn_1      0.93 0.85       0.87    0.97  147  17   4  113 0.91     1   \n",
       "3  sage_1      0.94 0.88       0.98    0.88  162   2  14  103 0.93     1   \n",
       "4   gat_2      0.87 0.75       0.76    0.95  145  31   5  100 0.85     2   \n",
       "\n",
       "  model_name  \n",
       "0        gat  \n",
       "1       cheb  \n",
       "2        gcn  \n",
       "3       sage  \n",
       "4        gat  "
      ]
     },
     "execution_count": 3,
     "metadata": {},
     "output_type": "execute_result"
    }
   ],
   "source": [
    "#df = pd.read_csv('../../outputs/classification/node/metrics/cross_validation.csv')\n",
    "df = pd.read_csv('../../outputs/classification/node/exp_ii/metrics/cross_validation.csv')\n",
    "df['model_name'] = df['model'].apply(lambda x: x.split('_')[0])\n",
    "df.head()"
   ]
  },
  {
   "cell_type": "code",
   "execution_count": 4,
   "id": "458a53ec-7340-4c4b-b678-0724ede1ef58",
   "metadata": {
    "tags": []
   },
   "outputs": [
    {
     "data": {
      "text/html": [
       "<div>\n",
       "<style scoped>\n",
       "    .dataframe tbody tr th:only-of-type {\n",
       "        vertical-align: middle;\n",
       "    }\n",
       "\n",
       "    .dataframe tbody tr th {\n",
       "        vertical-align: top;\n",
       "    }\n",
       "\n",
       "    .dataframe thead th {\n",
       "        text-align: right;\n",
       "    }\n",
       "</style>\n",
       "<table border=\"1\" class=\"dataframe\">\n",
       "  <thead>\n",
       "    <tr style=\"text-align: right;\">\n",
       "      <th></th>\n",
       "      <th>model_name</th>\n",
       "      <th>accuracy</th>\n",
       "      <th>f1</th>\n",
       "      <th>mcc</th>\n",
       "      <th>precision</th>\n",
       "      <th>recall</th>\n",
       "    </tr>\n",
       "  </thead>\n",
       "  <tbody>\n",
       "    <tr>\n",
       "      <th>0</th>\n",
       "      <td>cheb</td>\n",
       "      <td>1.00</td>\n",
       "      <td>0.99</td>\n",
       "      <td>0.99</td>\n",
       "      <td>1.00</td>\n",
       "      <td>0.99</td>\n",
       "    </tr>\n",
       "    <tr>\n",
       "      <th>1</th>\n",
       "      <td>gat</td>\n",
       "      <td>0.90</td>\n",
       "      <td>0.88</td>\n",
       "      <td>0.80</td>\n",
       "      <td>0.87</td>\n",
       "      <td>0.90</td>\n",
       "    </tr>\n",
       "    <tr>\n",
       "      <th>2</th>\n",
       "      <td>gcn</td>\n",
       "      <td>0.95</td>\n",
       "      <td>0.94</td>\n",
       "      <td>0.90</td>\n",
       "      <td>0.95</td>\n",
       "      <td>0.93</td>\n",
       "    </tr>\n",
       "    <tr>\n",
       "      <th>3</th>\n",
       "      <td>sage</td>\n",
       "      <td>0.94</td>\n",
       "      <td>0.92</td>\n",
       "      <td>0.88</td>\n",
       "      <td>0.94</td>\n",
       "      <td>0.92</td>\n",
       "    </tr>\n",
       "  </tbody>\n",
       "</table>\n",
       "</div>"
      ],
      "text/plain": [
       "  model_name  accuracy   f1  mcc  precision  recall\n",
       "0       cheb      1.00 0.99 0.99       1.00    0.99\n",
       "1        gat      0.90 0.88 0.80       0.87    0.90\n",
       "2        gcn      0.95 0.94 0.90       0.95    0.93\n",
       "3       sage      0.94 0.92 0.88       0.94    0.92"
      ]
     },
     "execution_count": 4,
     "metadata": {},
     "output_type": "execute_result"
    }
   ],
   "source": [
    "# mean\n",
    "df.pivot_table(index='model_name', \n",
    "               values=['accuracy', 'mcc', 'precision', 'recall', 'f1'],\n",
    "               aggfunc='mean').reset_index().round(2)"
   ]
  },
  {
   "cell_type": "code",
   "execution_count": 5,
   "id": "58681ed5-aedc-437b-9d58-c11c0a09ef3e",
   "metadata": {
    "tags": []
   },
   "outputs": [
    {
     "data": {
      "text/html": [
       "<div>\n",
       "<style scoped>\n",
       "    .dataframe tbody tr th:only-of-type {\n",
       "        vertical-align: middle;\n",
       "    }\n",
       "\n",
       "    .dataframe tbody tr th {\n",
       "        vertical-align: top;\n",
       "    }\n",
       "\n",
       "    .dataframe thead th {\n",
       "        text-align: right;\n",
       "    }\n",
       "</style>\n",
       "<table border=\"1\" class=\"dataframe\">\n",
       "  <thead>\n",
       "    <tr style=\"text-align: right;\">\n",
       "      <th></th>\n",
       "      <th>model_name</th>\n",
       "      <th>accuracy</th>\n",
       "      <th>f1</th>\n",
       "      <th>mcc</th>\n",
       "      <th>precision</th>\n",
       "      <th>recall</th>\n",
       "    </tr>\n",
       "  </thead>\n",
       "  <tbody>\n",
       "    <tr>\n",
       "      <th>0</th>\n",
       "      <td>cheb</td>\n",
       "      <td>0.01</td>\n",
       "      <td>0.01</td>\n",
       "      <td>0.02</td>\n",
       "      <td>0.00</td>\n",
       "      <td>0.02</td>\n",
       "    </tr>\n",
       "    <tr>\n",
       "      <th>1</th>\n",
       "      <td>gat</td>\n",
       "      <td>0.02</td>\n",
       "      <td>0.03</td>\n",
       "      <td>0.04</td>\n",
       "      <td>0.05</td>\n",
       "      <td>0.04</td>\n",
       "    </tr>\n",
       "    <tr>\n",
       "      <th>2</th>\n",
       "      <td>gcn</td>\n",
       "      <td>0.01</td>\n",
       "      <td>0.02</td>\n",
       "      <td>0.03</td>\n",
       "      <td>0.04</td>\n",
       "      <td>0.03</td>\n",
       "    </tr>\n",
       "    <tr>\n",
       "      <th>3</th>\n",
       "      <td>sage</td>\n",
       "      <td>0.03</td>\n",
       "      <td>0.03</td>\n",
       "      <td>0.05</td>\n",
       "      <td>0.07</td>\n",
       "      <td>0.06</td>\n",
       "    </tr>\n",
       "  </tbody>\n",
       "</table>\n",
       "</div>"
      ],
      "text/plain": [
       "  model_name  accuracy   f1  mcc  precision  recall\n",
       "0       cheb      0.01 0.01 0.02       0.00    0.02\n",
       "1        gat      0.02 0.03 0.04       0.05    0.04\n",
       "2        gcn      0.01 0.02 0.03       0.04    0.03\n",
       "3       sage      0.03 0.03 0.05       0.07    0.06"
      ]
     },
     "execution_count": 5,
     "metadata": {},
     "output_type": "execute_result"
    }
   ],
   "source": [
    "# std\n",
    "df.pivot_table(index='model_name', \n",
    "               values=['accuracy', 'mcc', 'precision', 'recall', 'f1'],\n",
    "               aggfunc='std').reset_index().round(2)"
   ]
  },
  {
   "cell_type": "code",
   "execution_count": 6,
   "id": "5e197ba0-d9d2-42e6-863d-5e7933540d4d",
   "metadata": {},
   "outputs": [],
   "source": [
    "df.pivot_table(index='model_name', \n",
    "               values=['accuracy', 'mcc', 'precision', 'recall', 'f1'],\n",
    "               aggfunc='mean').reset_index().round(2).to_csv('mean_bc_node.csv', index=False)"
   ]
  },
  {
   "cell_type": "code",
   "execution_count": 7,
   "id": "11f1ec9e-a1dc-418f-9cca-8e23a65b9af5",
   "metadata": {},
   "outputs": [
    {
     "data": {
      "text/html": [
       "<div>\n",
       "<style scoped>\n",
       "    .dataframe tbody tr th:only-of-type {\n",
       "        vertical-align: middle;\n",
       "    }\n",
       "\n",
       "    .dataframe tbody tr th {\n",
       "        vertical-align: top;\n",
       "    }\n",
       "\n",
       "    .dataframe thead th {\n",
       "        text-align: right;\n",
       "    }\n",
       "</style>\n",
       "<table border=\"1\" class=\"dataframe\">\n",
       "  <thead>\n",
       "    <tr style=\"text-align: right;\">\n",
       "      <th></th>\n",
       "      <th>model</th>\n",
       "      <th>accuracy</th>\n",
       "      <th>mcc</th>\n",
       "      <th>precision</th>\n",
       "      <th>recall</th>\n",
       "      <th>tn</th>\n",
       "      <th>fp</th>\n",
       "      <th>fn</th>\n",
       "      <th>tp</th>\n",
       "      <th>f1</th>\n",
       "      <th>fold</th>\n",
       "      <th>model_name</th>\n",
       "    </tr>\n",
       "  </thead>\n",
       "  <tbody>\n",
       "    <tr>\n",
       "      <th>2</th>\n",
       "      <td>gcn_1</td>\n",
       "      <td>0.93</td>\n",
       "      <td>0.85</td>\n",
       "      <td>0.87</td>\n",
       "      <td>0.97</td>\n",
       "      <td>147</td>\n",
       "      <td>17</td>\n",
       "      <td>4</td>\n",
       "      <td>113</td>\n",
       "      <td>0.91</td>\n",
       "      <td>1</td>\n",
       "      <td>gcn</td>\n",
       "    </tr>\n",
       "  </tbody>\n",
       "</table>\n",
       "</div>"
      ],
      "text/plain": [
       "   model  accuracy  mcc  precision  recall   tn  fp  fn   tp   f1  fold  \\\n",
       "2  gcn_1      0.93 0.85       0.87    0.97  147  17   4  113 0.91     1   \n",
       "\n",
       "  model_name  \n",
       "2        gcn  "
      ]
     },
     "execution_count": 7,
     "metadata": {},
     "output_type": "execute_result"
    }
   ],
   "source": [
    "df_model = df.query(f\" model_name == 'gcn' and fold == 1 \")\n",
    "df_model.head()"
   ]
  },
  {
   "cell_type": "code",
   "execution_count": 8,
   "id": "870533ea-a7bc-4e63-b3b5-41dd5ae54d9c",
   "metadata": {},
   "outputs": [
    {
     "data": {
      "text/html": [
       "<div>\n",
       "<style scoped>\n",
       "    .dataframe tbody tr th:only-of-type {\n",
       "        vertical-align: middle;\n",
       "    }\n",
       "\n",
       "    .dataframe tbody tr th {\n",
       "        vertical-align: top;\n",
       "    }\n",
       "\n",
       "    .dataframe thead th {\n",
       "        text-align: right;\n",
       "    }\n",
       "</style>\n",
       "<table border=\"1\" class=\"dataframe\">\n",
       "  <thead>\n",
       "    <tr style=\"text-align: right;\">\n",
       "      <th></th>\n",
       "      <th>model_name</th>\n",
       "      <th>accuracy</th>\n",
       "      <th>f1</th>\n",
       "      <th>mcc</th>\n",
       "      <th>precision</th>\n",
       "      <th>recall</th>\n",
       "    </tr>\n",
       "  </thead>\n",
       "  <tbody>\n",
       "    <tr>\n",
       "      <th>0</th>\n",
       "      <td>cheb</td>\n",
       "      <td>1.00</td>\n",
       "      <td>0.99</td>\n",
       "      <td>0.99</td>\n",
       "      <td>1.00</td>\n",
       "      <td>0.99</td>\n",
       "    </tr>\n",
       "    <tr>\n",
       "      <th>1</th>\n",
       "      <td>gat</td>\n",
       "      <td>0.90</td>\n",
       "      <td>0.88</td>\n",
       "      <td>0.80</td>\n",
       "      <td>0.87</td>\n",
       "      <td>0.90</td>\n",
       "    </tr>\n",
       "    <tr>\n",
       "      <th>2</th>\n",
       "      <td>gcn</td>\n",
       "      <td>0.95</td>\n",
       "      <td>0.94</td>\n",
       "      <td>0.90</td>\n",
       "      <td>0.95</td>\n",
       "      <td>0.93</td>\n",
       "    </tr>\n",
       "    <tr>\n",
       "      <th>3</th>\n",
       "      <td>sage</td>\n",
       "      <td>0.94</td>\n",
       "      <td>0.92</td>\n",
       "      <td>0.88</td>\n",
       "      <td>0.94</td>\n",
       "      <td>0.92</td>\n",
       "    </tr>\n",
       "  </tbody>\n",
       "</table>\n",
       "</div>"
      ],
      "text/plain": [
       "  model_name  accuracy   f1  mcc  precision  recall\n",
       "0       cheb      1.00 0.99 0.99       1.00    0.99\n",
       "1        gat      0.90 0.88 0.80       0.87    0.90\n",
       "2        gcn      0.95 0.94 0.90       0.95    0.93\n",
       "3       sage      0.94 0.92 0.88       0.94    0.92"
      ]
     },
     "execution_count": 8,
     "metadata": {},
     "output_type": "execute_result"
    }
   ],
   "source": [
    "df.pivot_table(index='model_name', \n",
    "               values=['accuracy', 'mcc', 'precision', 'recall', 'f1'],\n",
    "               aggfunc='mean').reset_index().round(2)"
   ]
  },
  {
   "cell_type": "code",
   "execution_count": 9,
   "id": "4de0967f-aa68-4912-af61-31dc44948e78",
   "metadata": {},
   "outputs": [],
   "source": [
    "df.pivot_table(index='model_name', \n",
    "               values=['accuracy', 'mcc', 'precision', 'recall', 'f1'],\n",
    "               aggfunc='mean').reset_index().round(2).to_csv('best_result_bn_nc.csv', index=False)"
   ]
  },
  {
   "cell_type": "code",
   "execution_count": 10,
   "id": "b55d23c1-eb2e-4611-9764-ee3e55d0e1a9",
   "metadata": {},
   "outputs": [
    {
     "data": {
      "text/html": [
       "<div>\n",
       "<style scoped>\n",
       "    .dataframe tbody tr th:only-of-type {\n",
       "        vertical-align: middle;\n",
       "    }\n",
       "\n",
       "    .dataframe tbody tr th {\n",
       "        vertical-align: top;\n",
       "    }\n",
       "\n",
       "    .dataframe thead th {\n",
       "        text-align: right;\n",
       "    }\n",
       "</style>\n",
       "<table border=\"1\" class=\"dataframe\">\n",
       "  <thead>\n",
       "    <tr style=\"text-align: right;\">\n",
       "      <th></th>\n",
       "      <th>model_name</th>\n",
       "      <th>fn</th>\n",
       "      <th>fp</th>\n",
       "      <th>tn</th>\n",
       "      <th>tp</th>\n",
       "    </tr>\n",
       "  </thead>\n",
       "  <tbody>\n",
       "    <tr>\n",
       "      <th>0</th>\n",
       "      <td>cheb</td>\n",
       "      <td>12</td>\n",
       "      <td>0</td>\n",
       "      <td>1689</td>\n",
       "      <td>1109</td>\n",
       "    </tr>\n",
       "    <tr>\n",
       "      <th>1</th>\n",
       "      <td>gat</td>\n",
       "      <td>114</td>\n",
       "      <td>159</td>\n",
       "      <td>1530</td>\n",
       "      <td>1007</td>\n",
       "    </tr>\n",
       "    <tr>\n",
       "      <th>2</th>\n",
       "      <td>gcn</td>\n",
       "      <td>83</td>\n",
       "      <td>52</td>\n",
       "      <td>1637</td>\n",
       "      <td>1038</td>\n",
       "    </tr>\n",
       "    <tr>\n",
       "      <th>3</th>\n",
       "      <td>sage</td>\n",
       "      <td>95</td>\n",
       "      <td>73</td>\n",
       "      <td>1616</td>\n",
       "      <td>1026</td>\n",
       "    </tr>\n",
       "  </tbody>\n",
       "</table>\n",
       "</div>"
      ],
      "text/plain": [
       "  model_name   fn   fp    tn    tp\n",
       "0       cheb   12    0  1689  1109\n",
       "1        gat  114  159  1530  1007\n",
       "2        gcn   83   52  1637  1038\n",
       "3       sage   95   73  1616  1026"
      ]
     },
     "execution_count": 10,
     "metadata": {},
     "output_type": "execute_result"
    }
   ],
   "source": [
    "df_model_cm = df.pivot_table(index=['model_name'], values=['tn', 'fp', 'fn', 'tp'], aggfunc='sum').reset_index()\n",
    "df_model_cm"
   ]
  },
  {
   "cell_type": "code",
   "execution_count": 11,
   "id": "687b653d-f2e0-468e-95ca-97021a9508a0",
   "metadata": {},
   "outputs": [],
   "source": [
    "def calculate_precision_recall(tn, fp, fn, tp):\n",
    "    # Calculate precision\n",
    "    precision = tp / (tp + fp) if (tp + fp) > 0 else 0\n",
    "    \n",
    "    # Calculate recall\n",
    "    recall = tp / (tp + fn) if (tp + fn) > 0 else 0\n",
    "    \n",
    "    return precision, recall"
   ]
  },
  {
   "cell_type": "code",
   "execution_count": null,
   "id": "597fa373-ddf5-400b-8b95-3def8cee482c",
   "metadata": {},
   "outputs": [],
   "source": []
  },
  {
   "cell_type": "code",
   "execution_count": 12,
   "id": "3b40fc5a-dbd4-4965-8bef-3639d718112b",
   "metadata": {},
   "outputs": [
    {
     "data": {
      "text/plain": [
       "(1689, 0, 12, 1109)"
      ]
     },
     "execution_count": 12,
     "metadata": {},
     "output_type": "execute_result"
    }
   ],
   "source": [
    "tna, fpa, fna, tpa = df_model_cm[['tn', 'fp', 'fn', 'tp']].iloc[0]\n",
    "tna, fpa, fna, tpa"
   ]
  },
  {
   "cell_type": "code",
   "execution_count": 13,
   "id": "c3a7738c-50b3-4218-a1fa-b71728326254",
   "metadata": {},
   "outputs": [
    {
     "data": {
      "text/plain": [
       "(1.0, 0.9892952720785013)"
      ]
     },
     "execution_count": 13,
     "metadata": {},
     "output_type": "execute_result"
    }
   ],
   "source": [
    "calculate_precision_recall(tna, fpa, fna, tpa)"
   ]
  },
  {
   "cell_type": "code",
   "execution_count": 14,
   "id": "e44eedc6-9911-4868-bd45-7c7a2f3e88e3",
   "metadata": {},
   "outputs": [],
   "source": [
    "# TN FP\n",
    "# FN TP"
   ]
  },
  {
   "cell_type": "code",
   "execution_count": 15,
   "id": "5b16ae83-a7e0-4753-9598-65d89c12147d",
   "metadata": {},
   "outputs": [],
   "source": [
    "idx=3\n",
    "cm = df_model_cm[['tn', 'fp', 'fn', 'tp']].iloc[idx].to_numpy().reshape(2,2)\n",
    "name = df_model_cm.model_name.iloc[idx]"
   ]
  },
  {
   "cell_type": "code",
   "execution_count": 16,
   "id": "2b155b35-14d8-46e4-809a-80cce5edfeba",
   "metadata": {},
   "outputs": [
    {
     "data": {
      "image/png": "[encoded data removed]",
      "text/plain": [
       "<Figure size 576x432 with 1 Axes>"
      ]
     },
     "metadata": {
      "needs_background": "light"
     },
     "output_type": "display_data"
    }
   ],
   "source": [
    "plt.figure(figsize=(8, 6))\n",
    "sns.heatmap(cm, \n",
    "            annot=True, \n",
    "            fmt='d', \n",
    "            cmap='Greys', \n",
    "            xticklabels=['Low', 'High'],\n",
    "            yticklabels=['Low', 'High'],\n",
    "            cbar=False, \n",
    "            annot_kws={\"size\": 18})\n",
    "\n",
    "plt.xlabel('Predicted', fontsize=18)\n",
    "plt.ylabel('Ground truth', fontsize=18)\n",
    "plt.xticks(fontsize=16)\n",
    "plt.yticks(fontsize=16)\n",
    "#plt.savefig(f'cm_nd_{name}.png', dpi=600, bbox_inches='tight')\n",
    "plt.show()"
   ]
  },
  {
   "cell_type": "code",
   "execution_count": 17,
   "id": "4d8f9fe7-0703-4a12-9d08-bce6c8468711",
   "metadata": {},
   "outputs": [
    {
     "name": "stdout",
     "output_type": "stream",
     "text": [
      "torch_geometric==2.3.1\n",
      "torch_geometric_temporal==0.54.0\n"
     ]
    }
   ],
   "source": [
    "import torch_geometric\n",
    "import torch_geometric_temporal\n",
    "\n",
    "print(f\"torch_geometric=={torch_geometric.__version__}\")\n",
    "print(f\"torch_geometric_temporal=={torch_geometric_temporal.__version__}\")\n"
   ]
  },
  {
   "cell_type": "code",
   "execution_count": null,
   "id": "7b399d4c-9ec9-44b4-ac46-6093d85a4477",
   "metadata": {},
   "outputs": [],
   "source": []
  }
 ],
 "metadata": {
  "kernelspec": {
   "display_name": "Python 3 (ipykernel)",
   "language": "python",
   "name": "python3"
  },
  "language_info": {
   "codemirror_mode": {
    "name": "ipython",
    "version": 3
   },
   "file_extension": ".py",
   "mimetype": "text/x-python",
   "name": "python",
   "nbconvert_exporter": "python",
   "pygments_lexer": "ipython3",
   "version": "3.7.13"
  }
 },
 "nbformat": 4,
 "nbformat_minor": 5
}
