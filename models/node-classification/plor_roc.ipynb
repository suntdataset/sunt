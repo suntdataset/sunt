{
 "cells": [
  {
   "cell_type": "code",
   "execution_count": 1,
   "id": "36992e9b-f446-4939-94ba-9ab02ca42234",
   "metadata": {},
   "outputs": [],
   "source": [
    "# basic\n",
    "import os\n",
    "import warnings\n",
    "import numpy as np\n",
    "import pandas as pd\n",
    "from tqdm import tqdm\n",
    "from sklearn import metrics\n",
    "from sklearn.metrics import roc_curve, auc\n",
    "# plot\n",
    "import seaborn as sns\n",
    "import matplotlib.pyplot as plt"
   ]
  },
  {
   "cell_type": "code",
   "execution_count": 2,
   "id": "ab3a0c09-ee50-4bcc-a105-66eaea1ee780",
   "metadata": {},
   "outputs": [],
   "source": [
    "warnings.filterwarnings('ignore')\n",
    "sns.set_style(\"whitegrid\")\n",
    "sns.axes_style(\"whitegrid\")\n",
    "plt.style.use('seaborn-whitegrid')\n",
    "pd.set_option('display.float_format', '{:.2f}'.format)"
   ]
  },
  {
   "cell_type": "code",
   "execution_count": 3,
   "id": "8c8c6380-ff4a-4bd7-88b9-0a182e8b242f",
   "metadata": {},
   "outputs": [
    {
     "data": {
      "text/html": [
       "<div>\n",
       "<style scoped>\n",
       "    .dataframe tbody tr th:only-of-type {\n",
       "        vertical-align: middle;\n",
       "    }\n",
       "\n",
       "    .dataframe tbody tr th {\n",
       "        vertical-align: top;\n",
       "    }\n",
       "\n",
       "    .dataframe thead th {\n",
       "        text-align: right;\n",
       "    }\n",
       "</style>\n",
       "<table border=\"1\" class=\"dataframe\">\n",
       "  <thead>\n",
       "    <tr style=\"text-align: right;\">\n",
       "      <th></th>\n",
       "      <th>y_true</th>\n",
       "      <th>y_pred</th>\n",
       "      <th>prob</th>\n",
       "    </tr>\n",
       "  </thead>\n",
       "  <tbody>\n",
       "    <tr>\n",
       "      <th>0</th>\n",
       "      <td>1.00</td>\n",
       "      <td>1</td>\n",
       "      <td>0.93</td>\n",
       "    </tr>\n",
       "    <tr>\n",
       "      <th>1</th>\n",
       "      <td>1.00</td>\n",
       "      <td>1</td>\n",
       "      <td>0.78</td>\n",
       "    </tr>\n",
       "    <tr>\n",
       "      <th>2</th>\n",
       "      <td>0.00</td>\n",
       "      <td>0</td>\n",
       "      <td>0.13</td>\n",
       "    </tr>\n",
       "    <tr>\n",
       "      <th>3</th>\n",
       "      <td>1.00</td>\n",
       "      <td>1</td>\n",
       "      <td>0.95</td>\n",
       "    </tr>\n",
       "    <tr>\n",
       "      <th>4</th>\n",
       "      <td>0.00</td>\n",
       "      <td>0</td>\n",
       "      <td>0.17</td>\n",
       "    </tr>\n",
       "    <tr>\n",
       "      <th>...</th>\n",
       "      <td>...</td>\n",
       "      <td>...</td>\n",
       "      <td>...</td>\n",
       "    </tr>\n",
       "    <tr>\n",
       "      <th>276</th>\n",
       "      <td>0.00</td>\n",
       "      <td>0</td>\n",
       "      <td>0.25</td>\n",
       "    </tr>\n",
       "    <tr>\n",
       "      <th>277</th>\n",
       "      <td>0.00</td>\n",
       "      <td>0</td>\n",
       "      <td>0.13</td>\n",
       "    </tr>\n",
       "    <tr>\n",
       "      <th>278</th>\n",
       "      <td>0.00</td>\n",
       "      <td>0</td>\n",
       "      <td>0.16</td>\n",
       "    </tr>\n",
       "    <tr>\n",
       "      <th>279</th>\n",
       "      <td>0.00</td>\n",
       "      <td>0</td>\n",
       "      <td>0.08</td>\n",
       "    </tr>\n",
       "    <tr>\n",
       "      <th>280</th>\n",
       "      <td>0.00</td>\n",
       "      <td>0</td>\n",
       "      <td>0.12</td>\n",
       "    </tr>\n",
       "  </tbody>\n",
       "</table>\n",
       "<p>281 rows × 3 columns</p>\n",
       "</div>"
      ],
      "text/plain": [
       "     y_true  y_pred  prob\n",
       "0      1.00       1  0.93\n",
       "1      1.00       1  0.78\n",
       "2      0.00       0  0.13\n",
       "3      1.00       1  0.95\n",
       "4      0.00       0  0.17\n",
       "..      ...     ...   ...\n",
       "276    0.00       0  0.25\n",
       "277    0.00       0  0.13\n",
       "278    0.00       0  0.16\n",
       "279    0.00       0  0.08\n",
       "280    0.00       0  0.12\n",
       "\n",
       "[281 rows x 3 columns]"
      ]
     },
     "execution_count": 3,
     "metadata": {},
     "output_type": "execute_result"
    }
   ],
   "source": [
    "df_sample = pd.read_csv(f'../../outputs/classification/node/exp_ii/inferences/gcn_2_predictions.csv')\n",
    "df_sample"
   ]
  },
  {
   "cell_type": "code",
   "execution_count": 4,
   "id": "1c1baa3d-2108-4358-94c8-136ab3f286b8",
   "metadata": {},
   "outputs": [
    {
     "data": {
      "text/plain": [
       "0    175\n",
       "1    106\n",
       "Name: y_pred, dtype: int64"
      ]
     },
     "execution_count": 4,
     "metadata": {},
     "output_type": "execute_result"
    }
   ],
   "source": [
    "df_sample.y_pred.value_counts(dropna=False)"
   ]
  },
  {
   "cell_type": "code",
   "execution_count": 5,
   "id": "43e7b3a2-0514-4d02-8e47-c0722a92a1e5",
   "metadata": {},
   "outputs": [],
   "source": [
    "def roc_model(model):\n",
    "    mean_fpr = np.linspace(0, 1, 100)\n",
    "    tprs = []\n",
    "    aucs = []\n",
    "    for i in range(1, 11):\n",
    "        df = pd.read_csv(f'../../outputs/classification/node/exp_ii/inferences/{model}_{i}_predictions.csv')\n",
    "        fpr, tpr, _ = metrics.roc_curve(df.y_true, df.prob, pos_label=1)\n",
    "        \n",
    "        interp_tpr = np.interp(mean_fpr, fpr, tpr)\n",
    "        interp_tpr[0] = 0.0\n",
    "        tprs.append(interp_tpr)\n",
    "        aucs.append(auc(fpr, tpr))\n",
    "    \n",
    "    mean_tpr = np.mean(tprs, axis=0)\n",
    "    mean_tpr[-1] = 1.0\n",
    "    mean_auc = auc(mean_fpr, mean_tpr)\n",
    "    std_auc = np.std(aucs)\n",
    "    \n",
    "    return mean_auc, std_auc, mean_fpr, mean_tpr"
   ]
  },
  {
   "cell_type": "code",
   "execution_count": 6,
   "id": "c02b8484-5ec7-4059-9d3d-81f4e09bc2a5",
   "metadata": {},
   "outputs": [],
   "source": [
    "models = ['gcn', 'cheb', 'sage', 'gat']\n",
    "\n",
    "name_models = {'gcn': 'GCN', \n",
    "               'cheb':'CHEB',\n",
    "               'sage':'SAGE',\n",
    "               'gat':'GAT'}\n",
    "\n",
    "color_models = {'gcn': '#9A86A4', \n",
    "                'cheb':'#E2C2B9',\n",
    "                'sage':'#555555',\n",
    "                'gat':'#A1CAE2'}"
   ]
  },
  {
   "cell_type": "code",
   "execution_count": 7,
   "id": "2927c96d-94fa-47cd-a0b3-cf22bf1639a4",
   "metadata": {},
   "outputs": [
    {
     "data": {
      "image/png": "[encoded data removed]",
      "text/plain": [
       "<Figure size 720x504 with 1 Axes>"
      ]
     },
     "metadata": {
      "needs_background": "light"
     },
     "output_type": "display_data"
    }
   ],
   "source": [
    " fig, ax = plt.subplots(figsize=(10,7))\n",
    "for model in models:\n",
    "        mean_auca, std_auca, mean_fpra, mean_tpra = roc_model(model)\n",
    "        ax.plot(\n",
    "            mean_fpra,\n",
    "            mean_tpra,\n",
    "            '--',\n",
    "            label=r\"Mean ROC (%0.25s AUC = %0.2f $\\pm$ %0.2f)\" % (name_models[model], mean_auca, std_auca),\n",
    "            lw=3,\n",
    "            alpha=0.8,\n",
    "            color=color_models[model]\n",
    "        )\n",
    "\n",
    "#ax.plot([0, 1], [0, 1], linestyle=\"-\", lw=3, color=\"r\", alpha=0.8)\n",
    "plt.xlabel(\"False Positive Rate\", fontsize=16)\n",
    "plt.ylabel(\"True Positive Rate\", fontsize=16)\n",
    "plt.xticks(fontsize=18)\n",
    "plt.yticks(fontsize=18)\n",
    "ax.legend(fontsize=18)\n",
    "ax.legend(loc=\"best\", fontsize=14)\n",
    "\n",
    "plt.savefig(f'node_clasification_roc.png', dpi=300, bbox_inches='tight')\n",
    "plt.show()"
   ]
  },
  {
   "cell_type": "code",
   "execution_count": null,
   "id": "427da9b1-7f3a-419b-ad5f-aa88ec1ba25f",
   "metadata": {},
   "outputs": [],
   "source": [
    "\n"
   ]
  },
  {
   "cell_type": "code",
   "execution_count": null,
   "id": "9533ba57-cc8e-41bc-9f04-48fb04f48484",
   "metadata": {},
   "outputs": [],
   "source": []
  }
 ],
 "metadata": {
  "kernelspec": {
   "display_name": "Python 3 (ipykernel)",
   "language": "python",
   "name": "python3"
  },
  "language_info": {
   "codemirror_mode": {
    "name": "ipython",
    "version": 3
   },
   "file_extension": ".py",
   "mimetype": "text/x-python",
   "name": "python",
   "nbconvert_exporter": "python",
   "pygments_lexer": "ipython3",
   "version": "3.7.13"
  }
 },
 "nbformat": 4,
 "nbformat_minor": 5
}
